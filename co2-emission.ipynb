{
 "cells": [
  {
   "cell_type": "markdown",
   "id": "2fb907de",
   "metadata": {},
   "source": [
    "# Prediction of CO2 emission by country using IBM Watson"
   ]
  },
  {
   "cell_type": "markdown",
   "id": "64f7097c",
   "metadata": {},
   "source": [
    "                                                    - by Siddhant Gupta (19BCE10399)\n",
    "\n",
    "                                                         Jyoti Kasera (19BCE10326)\n",
    "     \n",
    "                                                         Sakshi Goel (19BCE10396)\n",
    "     \n",
    "                                                         Shivangi Singh (19BAI10097)"
   ]
  },
  {
   "cell_type": "code",
   "execution_count": 22,
   "id": "ec8ce118",
   "metadata": {},
   "outputs": [],
   "source": [
    "import pandas as pd\n",
    "import numpy as np\n",
    "import random\n",
    "import matplotlib.pyplot as plt\n",
    "from collections import Counter as c #returns counts\n",
    "import seaborn as sns #for data visualisation\n",
    "from sklearn.model_selection import train_test_split #for splitting data\n",
    "from sklearn.metrics import accuracy_score #model performance\n",
    "import pickle #to convert to byte stream\n",
    "from sklearn.ensemble import RandomForestRegressor #regression ML algo\n",
    "from sklearn.preprocessing import LabelEncoder "
   ]
  },
  {
   "cell_type": "code",
   "execution_count": 4,
   "id": "5067902f",
   "metadata": {},
   "outputs": [
    {
     "data": {
      "text/plain": [
       "(5656458, 6)"
      ]
     },
     "execution_count": 4,
     "metadata": {},
     "output_type": "execute_result"
    }
   ],
   "source": [
    "data = pd.read_csv('Indicators.csv')\n",
    "data.shape"
   ]
  },
  {
   "cell_type": "code",
   "execution_count": 5,
   "id": "3bcc4679",
   "metadata": {},
   "outputs": [
    {
     "data": {
      "text/html": [
       "<div>\n",
       "<style scoped>\n",
       "    .dataframe tbody tr th:only-of-type {\n",
       "        vertical-align: middle;\n",
       "    }\n",
       "\n",
       "    .dataframe tbody tr th {\n",
       "        vertical-align: top;\n",
       "    }\n",
       "\n",
       "    .dataframe thead th {\n",
       "        text-align: right;\n",
       "    }\n",
       "</style>\n",
       "<table border=\"1\" class=\"dataframe\">\n",
       "  <thead>\n",
       "    <tr style=\"text-align: right;\">\n",
       "      <th></th>\n",
       "      <th>CountryName</th>\n",
       "      <th>CountryCode</th>\n",
       "      <th>IndicatorName</th>\n",
       "      <th>IndicatorCode</th>\n",
       "      <th>Year</th>\n",
       "      <th>Value</th>\n",
       "    </tr>\n",
       "  </thead>\n",
       "  <tbody>\n",
       "    <tr>\n",
       "      <th>0</th>\n",
       "      <td>Arab World</td>\n",
       "      <td>ARB</td>\n",
       "      <td>Adolescent fertility rate (births per 1,000 wo...</td>\n",
       "      <td>SP.ADO.TFRT</td>\n",
       "      <td>1960</td>\n",
       "      <td>1.335609e+02</td>\n",
       "    </tr>\n",
       "    <tr>\n",
       "      <th>1</th>\n",
       "      <td>Arab World</td>\n",
       "      <td>ARB</td>\n",
       "      <td>Age dependency ratio (% of working-age populat...</td>\n",
       "      <td>SP.POP.DPND</td>\n",
       "      <td>1960</td>\n",
       "      <td>8.779760e+01</td>\n",
       "    </tr>\n",
       "    <tr>\n",
       "      <th>2</th>\n",
       "      <td>Arab World</td>\n",
       "      <td>ARB</td>\n",
       "      <td>Age dependency ratio, old (% of working-age po...</td>\n",
       "      <td>SP.POP.DPND.OL</td>\n",
       "      <td>1960</td>\n",
       "      <td>6.634579e+00</td>\n",
       "    </tr>\n",
       "    <tr>\n",
       "      <th>3</th>\n",
       "      <td>Arab World</td>\n",
       "      <td>ARB</td>\n",
       "      <td>Age dependency ratio, young (% of working-age ...</td>\n",
       "      <td>SP.POP.DPND.YG</td>\n",
       "      <td>1960</td>\n",
       "      <td>8.102333e+01</td>\n",
       "    </tr>\n",
       "    <tr>\n",
       "      <th>4</th>\n",
       "      <td>Arab World</td>\n",
       "      <td>ARB</td>\n",
       "      <td>Arms exports (SIPRI trend indicator values)</td>\n",
       "      <td>MS.MIL.XPRT.KD</td>\n",
       "      <td>1960</td>\n",
       "      <td>3.000000e+06</td>\n",
       "    </tr>\n",
       "    <tr>\n",
       "      <th>5</th>\n",
       "      <td>Arab World</td>\n",
       "      <td>ARB</td>\n",
       "      <td>Arms imports (SIPRI trend indicator values)</td>\n",
       "      <td>MS.MIL.MPRT.KD</td>\n",
       "      <td>1960</td>\n",
       "      <td>5.380000e+08</td>\n",
       "    </tr>\n",
       "    <tr>\n",
       "      <th>6</th>\n",
       "      <td>Arab World</td>\n",
       "      <td>ARB</td>\n",
       "      <td>Birth rate, crude (per 1,000 people)</td>\n",
       "      <td>SP.DYN.CBRT.IN</td>\n",
       "      <td>1960</td>\n",
       "      <td>4.769789e+01</td>\n",
       "    </tr>\n",
       "    <tr>\n",
       "      <th>7</th>\n",
       "      <td>Arab World</td>\n",
       "      <td>ARB</td>\n",
       "      <td>CO2 emissions (kt)</td>\n",
       "      <td>EN.ATM.CO2E.KT</td>\n",
       "      <td>1960</td>\n",
       "      <td>5.956399e+04</td>\n",
       "    </tr>\n",
       "    <tr>\n",
       "      <th>8</th>\n",
       "      <td>Arab World</td>\n",
       "      <td>ARB</td>\n",
       "      <td>CO2 emissions (metric tons per capita)</td>\n",
       "      <td>EN.ATM.CO2E.PC</td>\n",
       "      <td>1960</td>\n",
       "      <td>6.439635e-01</td>\n",
       "    </tr>\n",
       "    <tr>\n",
       "      <th>9</th>\n",
       "      <td>Arab World</td>\n",
       "      <td>ARB</td>\n",
       "      <td>CO2 emissions from gaseous fuel consumption (%...</td>\n",
       "      <td>EN.ATM.CO2E.GF.ZS</td>\n",
       "      <td>1960</td>\n",
       "      <td>5.041292e+00</td>\n",
       "    </tr>\n",
       "  </tbody>\n",
       "</table>\n",
       "</div>"
      ],
      "text/plain": [
       "  CountryName CountryCode                                      IndicatorName  \\\n",
       "0  Arab World         ARB  Adolescent fertility rate (births per 1,000 wo...   \n",
       "1  Arab World         ARB  Age dependency ratio (% of working-age populat...   \n",
       "2  Arab World         ARB  Age dependency ratio, old (% of working-age po...   \n",
       "3  Arab World         ARB  Age dependency ratio, young (% of working-age ...   \n",
       "4  Arab World         ARB        Arms exports (SIPRI trend indicator values)   \n",
       "5  Arab World         ARB        Arms imports (SIPRI trend indicator values)   \n",
       "6  Arab World         ARB               Birth rate, crude (per 1,000 people)   \n",
       "7  Arab World         ARB                                 CO2 emissions (kt)   \n",
       "8  Arab World         ARB             CO2 emissions (metric tons per capita)   \n",
       "9  Arab World         ARB  CO2 emissions from gaseous fuel consumption (%...   \n",
       "\n",
       "       IndicatorCode  Year         Value  \n",
       "0        SP.ADO.TFRT  1960  1.335609e+02  \n",
       "1        SP.POP.DPND  1960  8.779760e+01  \n",
       "2     SP.POP.DPND.OL  1960  6.634579e+00  \n",
       "3     SP.POP.DPND.YG  1960  8.102333e+01  \n",
       "4     MS.MIL.XPRT.KD  1960  3.000000e+06  \n",
       "5     MS.MIL.MPRT.KD  1960  5.380000e+08  \n",
       "6     SP.DYN.CBRT.IN  1960  4.769789e+01  \n",
       "7     EN.ATM.CO2E.KT  1960  5.956399e+04  \n",
       "8     EN.ATM.CO2E.PC  1960  6.439635e-01  \n",
       "9  EN.ATM.CO2E.GF.ZS  1960  5.041292e+00  "
      ]
     },
     "execution_count": 5,
     "metadata": {},
     "output_type": "execute_result"
    }
   ],
   "source": [
    "data.head(10)"
   ]
  },
  {
   "cell_type": "code",
   "execution_count": 6,
   "id": "c741ad1c",
   "metadata": {},
   "outputs": [
    {
     "data": {
      "text/html": [
       "<div>\n",
       "<style scoped>\n",
       "    .dataframe tbody tr th:only-of-type {\n",
       "        vertical-align: middle;\n",
       "    }\n",
       "\n",
       "    .dataframe tbody tr th {\n",
       "        vertical-align: top;\n",
       "    }\n",
       "\n",
       "    .dataframe thead th {\n",
       "        text-align: right;\n",
       "    }\n",
       "</style>\n",
       "<table border=\"1\" class=\"dataframe\">\n",
       "  <thead>\n",
       "    <tr style=\"text-align: right;\">\n",
       "      <th></th>\n",
       "      <th>CountryName</th>\n",
       "      <th>CountryCode</th>\n",
       "      <th>IndicatorName</th>\n",
       "      <th>IndicatorCode</th>\n",
       "      <th>Year</th>\n",
       "      <th>Value</th>\n",
       "    </tr>\n",
       "  </thead>\n",
       "  <tbody>\n",
       "    <tr>\n",
       "      <th>5656453</th>\n",
       "      <td>Zimbabwe</td>\n",
       "      <td>ZWE</td>\n",
       "      <td>Time required to register property (days)</td>\n",
       "      <td>IC.PRP.DURS</td>\n",
       "      <td>2015</td>\n",
       "      <td>36.0</td>\n",
       "    </tr>\n",
       "    <tr>\n",
       "      <th>5656454</th>\n",
       "      <td>Zimbabwe</td>\n",
       "      <td>ZWE</td>\n",
       "      <td>Time required to start a business (days)</td>\n",
       "      <td>IC.REG.DURS</td>\n",
       "      <td>2015</td>\n",
       "      <td>90.0</td>\n",
       "    </tr>\n",
       "    <tr>\n",
       "      <th>5656455</th>\n",
       "      <td>Zimbabwe</td>\n",
       "      <td>ZWE</td>\n",
       "      <td>Time to prepare and pay taxes (hours)</td>\n",
       "      <td>IC.TAX.DURS</td>\n",
       "      <td>2015</td>\n",
       "      <td>242.0</td>\n",
       "    </tr>\n",
       "    <tr>\n",
       "      <th>5656456</th>\n",
       "      <td>Zimbabwe</td>\n",
       "      <td>ZWE</td>\n",
       "      <td>Time to resolve insolvency (years)</td>\n",
       "      <td>IC.ISV.DURS</td>\n",
       "      <td>2015</td>\n",
       "      <td>3.3</td>\n",
       "    </tr>\n",
       "    <tr>\n",
       "      <th>5656457</th>\n",
       "      <td>Zimbabwe</td>\n",
       "      <td>ZWE</td>\n",
       "      <td>Total tax rate (% of commercial profits)</td>\n",
       "      <td>IC.TAX.TOTL.CP.ZS</td>\n",
       "      <td>2015</td>\n",
       "      <td>32.8</td>\n",
       "    </tr>\n",
       "  </tbody>\n",
       "</table>\n",
       "</div>"
      ],
      "text/plain": [
       "        CountryName CountryCode                              IndicatorName  \\\n",
       "5656453    Zimbabwe         ZWE  Time required to register property (days)   \n",
       "5656454    Zimbabwe         ZWE   Time required to start a business (days)   \n",
       "5656455    Zimbabwe         ZWE      Time to prepare and pay taxes (hours)   \n",
       "5656456    Zimbabwe         ZWE         Time to resolve insolvency (years)   \n",
       "5656457    Zimbabwe         ZWE   Total tax rate (% of commercial profits)   \n",
       "\n",
       "             IndicatorCode  Year  Value  \n",
       "5656453        IC.PRP.DURS  2015   36.0  \n",
       "5656454        IC.REG.DURS  2015   90.0  \n",
       "5656455        IC.TAX.DURS  2015  242.0  \n",
       "5656456        IC.ISV.DURS  2015    3.3  \n",
       "5656457  IC.TAX.TOTL.CP.ZS  2015   32.8  "
      ]
     },
     "execution_count": 6,
     "metadata": {},
     "output_type": "execute_result"
    }
   ],
   "source": [
    "data.tail()"
   ]
  },
  {
   "cell_type": "code",
   "execution_count": 7,
   "id": "c1e47357",
   "metadata": {},
   "outputs": [
    {
     "name": "stderr",
     "output_type": "stream",
     "text": [
      "C:\\Users\\hp\\anaconda3\\lib\\site-packages\\seaborn\\_decorators.py:36: FutureWarning: Pass the following variable as a keyword arg: x. From version 0.12, the only valid positional argument will be `data`, and passing other arguments without an explicit keyword will result in an error or misinterpretation.\n",
      "  warnings.warn(\n"
     ]
    },
    {
     "data": {
      "text/plain": [
       "<AxesSubplot:xlabel='Year'>"
      ]
     },
     "execution_count": 7,
     "metadata": {},
     "output_type": "execute_result"
    },
    {
     "data": {
      "image/png": "[encoded data removed]",
      "text/plain": [
       "<Figure size 432x288 with 1 Axes>"
      ]
     },
     "metadata": {
      "needs_background": "light"
     },
     "output_type": "display_data"
    }
   ],
   "source": [
    "sns.boxplot(data['Year'])"
   ]
  },
  {
   "cell_type": "code",
   "execution_count": 8,
   "id": "6c8a64c2",
   "metadata": {},
   "outputs": [
    {
     "name": "stderr",
     "output_type": "stream",
     "text": [
      "C:\\Users\\hp\\anaconda3\\lib\\site-packages\\seaborn\\_decorators.py:36: FutureWarning: Pass the following variable as a keyword arg: x. From version 0.12, the only valid positional argument will be `data`, and passing other arguments without an explicit keyword will result in an error or misinterpretation.\n",
      "  warnings.warn(\n"
     ]
    },
    {
     "data": {
      "text/plain": [
       "<AxesSubplot:xlabel='Value'>"
      ]
     },
     "execution_count": 8,
     "metadata": {},
     "output_type": "execute_result"
    },
    {
     "data": {
      "image/png": "[encoded data removed]",
      "text/plain": [
       "<Figure size 432x288 with 1 Axes>"
      ]
     },
     "metadata": {
      "needs_background": "light"
     },
     "output_type": "display_data"
    }
   ],
   "source": [
    "sns.boxplot(data['Value'])"
   ]
  },
  {
   "cell_type": "code",
   "execution_count": 9,
   "id": "ed55fbb1",
   "metadata": {},
   "outputs": [
    {
     "name": "stdout",
     "output_type": "stream",
     "text": [
      "0              134.0\n",
      "1               88.0\n",
      "2                7.0\n",
      "3               81.0\n",
      "4          3000000.0\n",
      "             ...    \n",
      "5656453         36.0\n",
      "5656454         90.0\n",
      "5656455        242.0\n",
      "5656456          3.0\n",
      "5656457         33.0\n",
      "Name: Value, Length: 5656458, dtype: float64\n"
     ]
    }
   ],
   "source": [
    "print(round(data['Value']))"
   ]
  },
  {
   "cell_type": "code",
   "execution_count": 10,
   "id": "8b4f29aa",
   "metadata": {},
   "outputs": [
    {
     "data": {
      "text/plain": [
       "247"
      ]
     },
     "execution_count": 10,
     "metadata": {},
     "output_type": "execute_result"
    }
   ],
   "source": [
    "countries = data['CountryName'].unique().tolist()\n",
    "len(countries)"
   ]
  },
  {
   "cell_type": "code",
   "execution_count": 11,
   "id": "54a99288",
   "metadata": {},
   "outputs": [
    {
     "data": {
      "text/plain": [
       "247"
      ]
     },
     "execution_count": 11,
     "metadata": {},
     "output_type": "execute_result"
    }
   ],
   "source": [
    "countryCodes = data['CountryCode'].unique().tolist()\n",
    "len(countryCodes)"
   ]
  },
  {
   "cell_type": "code",
   "execution_count": 12,
   "id": "9a4a7b0c",
   "metadata": {},
   "outputs": [
    {
     "data": {
      "text/plain": [
       "1344"
      ]
     },
     "execution_count": 12,
     "metadata": {},
     "output_type": "execute_result"
    }
   ],
   "source": [
    "indicators = data['IndicatorName'].unique().tolist()\n",
    "len(indicators)"
   ]
  },
  {
   "cell_type": "code",
   "execution_count": 13,
   "id": "3e3816f7",
   "metadata": {},
   "outputs": [
    {
     "data": {
      "text/plain": [
       "Population, total                                                                              13484\n",
       "Population growth (annual %)                                                                   13442\n",
       "Rural population (% of total population)                                                       13415\n",
       "Urban population (% of total)                                                                  13415\n",
       "Urban population                                                                               13374\n",
       "                                                                                               ...  \n",
       "Present value of external debt (% of exports of goods, services and primary income)               69\n",
       "Benefits incidence in poorest quintile (%) - All Labor Market                                     67\n",
       "Adequacy of unemployment benefits and ALMP (% of total welfare of beneficiary households)         67\n",
       "Survey mean consumption or income per capita, total population (2005 PPP $ per day)                8\n",
       "Survey mean consumption or income per capita, bottom 40% of population (2005 PPP $ per day)        8\n",
       "Name: IndicatorName, Length: 1344, dtype: int64"
      ]
     },
     "execution_count": 13,
     "metadata": {},
     "output_type": "execute_result"
    }
   ],
   "source": [
    "data['IndicatorName'].value_counts()"
   ]
  },
  {
   "cell_type": "code",
   "execution_count": 14,
   "id": "5933bb98",
   "metadata": {},
   "outputs": [
    {
     "data": {
      "text/plain": [
       "56"
      ]
     },
     "execution_count": 14,
     "metadata": {},
     "output_type": "execute_result"
    }
   ],
   "source": [
    "years = data['Year'].unique().tolist()\n",
    "len(years)"
   ]
  },
  {
   "cell_type": "code",
   "execution_count": 15,
   "id": "3b61db90",
   "metadata": {},
   "outputs": [
    {
     "name": "stdout",
     "output_type": "stream",
     "text": [
      "1960  to  2015\n"
     ]
    }
   ],
   "source": [
    "print(min(years),\" to \", max(years))"
   ]
  },
  {
   "cell_type": "code",
   "execution_count": 16,
   "id": "8b8f7993",
   "metadata": {},
   "outputs": [
    {
     "data": {
      "text/html": [
       "<div>\n",
       "<style scoped>\n",
       "    .dataframe tbody tr th:only-of-type {\n",
       "        vertical-align: middle;\n",
       "    }\n",
       "\n",
       "    .dataframe tbody tr th {\n",
       "        vertical-align: top;\n",
       "    }\n",
       "\n",
       "    .dataframe thead th {\n",
       "        text-align: right;\n",
       "    }\n",
       "</style>\n",
       "<table border=\"1\" class=\"dataframe\">\n",
       "  <thead>\n",
       "    <tr style=\"text-align: right;\">\n",
       "      <th></th>\n",
       "      <th>CountryName</th>\n",
       "      <th>CountryCode</th>\n",
       "      <th>IndicatorName</th>\n",
       "      <th>IndicatorCode</th>\n",
       "      <th>Year</th>\n",
       "      <th>Value</th>\n",
       "    </tr>\n",
       "  </thead>\n",
       "  <tbody>\n",
       "    <tr>\n",
       "      <th>22232</th>\n",
       "      <td>United States</td>\n",
       "      <td>USA</td>\n",
       "      <td>CO2 emissions (metric tons per capita)</td>\n",
       "      <td>EN.ATM.CO2E.PC</td>\n",
       "      <td>1960</td>\n",
       "      <td>15.999779</td>\n",
       "    </tr>\n",
       "    <tr>\n",
       "      <th>48708</th>\n",
       "      <td>United States</td>\n",
       "      <td>USA</td>\n",
       "      <td>CO2 emissions (metric tons per capita)</td>\n",
       "      <td>EN.ATM.CO2E.PC</td>\n",
       "      <td>1961</td>\n",
       "      <td>15.681256</td>\n",
       "    </tr>\n",
       "    <tr>\n",
       "      <th>77087</th>\n",
       "      <td>United States</td>\n",
       "      <td>USA</td>\n",
       "      <td>CO2 emissions (metric tons per capita)</td>\n",
       "      <td>EN.ATM.CO2E.PC</td>\n",
       "      <td>1962</td>\n",
       "      <td>16.013937</td>\n",
       "    </tr>\n",
       "    <tr>\n",
       "      <th>105704</th>\n",
       "      <td>United States</td>\n",
       "      <td>USA</td>\n",
       "      <td>CO2 emissions (metric tons per capita)</td>\n",
       "      <td>EN.ATM.CO2E.PC</td>\n",
       "      <td>1963</td>\n",
       "      <td>16.482762</td>\n",
       "    </tr>\n",
       "    <tr>\n",
       "      <th>134742</th>\n",
       "      <td>United States</td>\n",
       "      <td>USA</td>\n",
       "      <td>CO2 emissions (metric tons per capita)</td>\n",
       "      <td>EN.ATM.CO2E.PC</td>\n",
       "      <td>1964</td>\n",
       "      <td>16.968119</td>\n",
       "    </tr>\n",
       "  </tbody>\n",
       "</table>\n",
       "</div>"
      ],
      "text/plain": [
       "          CountryName CountryCode                           IndicatorName  \\\n",
       "22232   United States         USA  CO2 emissions (metric tons per capita)   \n",
       "48708   United States         USA  CO2 emissions (metric tons per capita)   \n",
       "77087   United States         USA  CO2 emissions (metric tons per capita)   \n",
       "105704  United States         USA  CO2 emissions (metric tons per capita)   \n",
       "134742  United States         USA  CO2 emissions (metric tons per capita)   \n",
       "\n",
       "         IndicatorCode  Year      Value  \n",
       "22232   EN.ATM.CO2E.PC  1960  15.999779  \n",
       "48708   EN.ATM.CO2E.PC  1961  15.681256  \n",
       "77087   EN.ATM.CO2E.PC  1962  16.013937  \n",
       "105704  EN.ATM.CO2E.PC  1963  16.482762  \n",
       "134742  EN.ATM.CO2E.PC  1964  16.968119  "
      ]
     },
     "execution_count": 16,
     "metadata": {},
     "output_type": "execute_result"
    }
   ],
   "source": [
    "#select CO2 emissions for the Barbados\n",
    "hist_indicator = 'CO2 emissions \\(metric'\n",
    "hist_country = 'USA'\n",
    "\n",
    "mask1 = data['IndicatorName'].str.contains(hist_indicator)\n",
    "mask2 = data['CountryCode'].str.contains(hist_country)\n",
    "\n",
    "#stage is just those indicators matching the ARB for the country code and CO2 emissions over time\n",
    "stage  = data[mask1 & mask2]\n",
    "stage.head()"
   ]
  },
  {
   "cell_type": "code",
   "execution_count": 17,
   "id": "5fc65864",
   "metadata": {},
   "outputs": [
    {
     "data": {
      "text/plain": [
       "(52, 6)"
      ]
     },
     "execution_count": 17,
     "metadata": {},
     "output_type": "execute_result"
    }
   ],
   "source": [
    "stage.shape"
   ]
  },
  {
   "cell_type": "code",
   "execution_count": 18,
   "id": "3b40732c",
   "metadata": {},
   "outputs": [
    {
     "data": {
      "image/png": "[encoded data removed]",
      "text/plain": [
       "<Figure size 432x288 with 1 Axes>"
      ]
     },
     "metadata": {
      "needs_background": "light"
     },
     "output_type": "display_data"
    }
   ],
   "source": [
    "# get the years\n",
    "years = stage['Year'].values\n",
    "# get the values \n",
    "\n",
    "co2 = stage['Value'].values\n",
    "\n",
    "# create\n",
    "plt.bar(years,co2)\n",
    "plt.show()"
   ]
  },
  {
   "cell_type": "code",
   "execution_count": 19,
   "id": "4d5f887b",
   "metadata": {},
   "outputs": [
    {
     "data": {
      "image/png": "[encoded data removed]",
      "text/plain": [
       "<Figure size 432x288 with 1 Axes>"
      ]
     },
     "metadata": {
      "needs_background": "light"
     },
     "output_type": "display_data"
    }
   ],
   "source": [
    "# switch to a line plot\n",
    "plt.plot(stage['Year'].values, stage['Value'].values)\n",
    "\n",
    "# Label the axes\n",
    "plt.xlabel('Year')\n",
    "plt.ylabel(stage['IndicatorName'].iloc[0])\n",
    "\n",
    "#label the figure\n",
    "plt.title('CO2 Emissions in USA')\n",
    "\n",
    "# to make more honest, start they y axis at 0\n",
    "plt.axis([1959, 2011,0,25])\n",
    "#plt.plot(stage['Year'].values, stage['Value'].values)\n",
    "\n",
    "plt.show()"
   ]
  },
  {
   "cell_type": "code",
   "execution_count": 20,
   "id": "17c8dd2c",
   "metadata": {},
   "outputs": [],
   "source": [
    "# If we want to just include those within one standard deviation fo the mean, we could do the following\n",
    "# lower = stage['Value'].mean() - stage['Value'].std()\n",
    "# upper = stage['Value'].mean() + stage['Value'].std()\n",
    "# hist_data = [x for x in stage[:10000]['Value'] if x>lower and x<upper ]\n",
    "\n",
    "# Otherwise, let's look at all the data\n",
    "hist_data = stage['Value'].values"
   ]
  },
  {
   "cell_type": "code",
   "execution_count": 21,
   "id": "4ab9cf75",
   "metadata": {},
   "outputs": [
    {
     "name": "stdout",
     "output_type": "stream",
     "text": [
      "52\n"
     ]
    }
   ],
   "source": [
    "print(len(hist_data))"
   ]
  },
  {
   "cell_type": "code",
   "execution_count": 54,
   "id": "5356786b",
   "metadata": {},
   "outputs": [
    {
     "data": {
      "image/png": "[encoded data removed]",
      "text/plain": [
       "<Figure size 432x288 with 1 Axes>"
      ]
     },
     "metadata": {
      "needs_background": "light"
     },
     "output_type": "display_data"
    }
   ],
   "source": [
    "# the histogram of the data\n",
    "plt.hist(hist_data, 10, density=False, facecolor='green')\n",
    "\n",
    "plt.xlabel(stage['IndicatorName'].iloc[0])\n",
    "plt.ylabel('# of Years')\n",
    "plt.title('Histogram Example')\n",
    "\n",
    "plt.grid(True)\n",
    "\n",
    "plt.show()"
   ]
  },
  {
   "cell_type": "code",
   "execution_count": 55,
   "id": "31e39817",
   "metadata": {},
   "outputs": [
    {
     "data": {
      "text/html": [
       "<div>\n",
       "<style scoped>\n",
       "    .dataframe tbody tr th:only-of-type {\n",
       "        vertical-align: middle;\n",
       "    }\n",
       "\n",
       "    .dataframe tbody tr th {\n",
       "        vertical-align: top;\n",
       "    }\n",
       "\n",
       "    .dataframe thead th {\n",
       "        text-align: right;\n",
       "    }\n",
       "</style>\n",
       "<table border=\"1\" class=\"dataframe\">\n",
       "  <thead>\n",
       "    <tr style=\"text-align: right;\">\n",
       "      <th></th>\n",
       "      <th>CountryName</th>\n",
       "      <th>CountryCode</th>\n",
       "      <th>IndicatorName</th>\n",
       "      <th>IndicatorCode</th>\n",
       "      <th>Year</th>\n",
       "      <th>Value</th>\n",
       "    </tr>\n",
       "  </thead>\n",
       "  <tbody>\n",
       "    <tr>\n",
       "      <th>5026275</th>\n",
       "      <td>Arab World</td>\n",
       "      <td>ARB</td>\n",
       "      <td>CO2 emissions (metric tons per capita)</td>\n",
       "      <td>EN.ATM.CO2E.PC</td>\n",
       "      <td>2011</td>\n",
       "      <td>4.724500</td>\n",
       "    </tr>\n",
       "    <tr>\n",
       "      <th>5026788</th>\n",
       "      <td>Caribbean small states</td>\n",
       "      <td>CSS</td>\n",
       "      <td>CO2 emissions (metric tons per capita)</td>\n",
       "      <td>EN.ATM.CO2E.PC</td>\n",
       "      <td>2011</td>\n",
       "      <td>9.692960</td>\n",
       "    </tr>\n",
       "    <tr>\n",
       "      <th>5027295</th>\n",
       "      <td>Central Europe and the Baltics</td>\n",
       "      <td>CEB</td>\n",
       "      <td>CO2 emissions (metric tons per capita)</td>\n",
       "      <td>EN.ATM.CO2E.PC</td>\n",
       "      <td>2011</td>\n",
       "      <td>6.911131</td>\n",
       "    </tr>\n",
       "    <tr>\n",
       "      <th>5027870</th>\n",
       "      <td>East Asia &amp; Pacific (all income levels)</td>\n",
       "      <td>EAS</td>\n",
       "      <td>CO2 emissions (metric tons per capita)</td>\n",
       "      <td>EN.ATM.CO2E.PC</td>\n",
       "      <td>2011</td>\n",
       "      <td>5.859548</td>\n",
       "    </tr>\n",
       "    <tr>\n",
       "      <th>5028456</th>\n",
       "      <td>East Asia &amp; Pacific (developing only)</td>\n",
       "      <td>EAP</td>\n",
       "      <td>CO2 emissions (metric tons per capita)</td>\n",
       "      <td>EN.ATM.CO2E.PC</td>\n",
       "      <td>2011</td>\n",
       "      <td>5.302499</td>\n",
       "    </tr>\n",
       "  </tbody>\n",
       "</table>\n",
       "</div>"
      ],
      "text/plain": [
       "                                     CountryName CountryCode  \\\n",
       "5026275                               Arab World         ARB   \n",
       "5026788                   Caribbean small states         CSS   \n",
       "5027295           Central Europe and the Baltics         CEB   \n",
       "5027870  East Asia & Pacific (all income levels)         EAS   \n",
       "5028456    East Asia & Pacific (developing only)         EAP   \n",
       "\n",
       "                                  IndicatorName   IndicatorCode  Year  \\\n",
       "5026275  CO2 emissions (metric tons per capita)  EN.ATM.CO2E.PC  2011   \n",
       "5026788  CO2 emissions (metric tons per capita)  EN.ATM.CO2E.PC  2011   \n",
       "5027295  CO2 emissions (metric tons per capita)  EN.ATM.CO2E.PC  2011   \n",
       "5027870  CO2 emissions (metric tons per capita)  EN.ATM.CO2E.PC  2011   \n",
       "5028456  CO2 emissions (metric tons per capita)  EN.ATM.CO2E.PC  2011   \n",
       "\n",
       "            Value  \n",
       "5026275  4.724500  \n",
       "5026788  9.692960  \n",
       "5027295  6.911131  \n",
       "5027870  5.859548  \n",
       "5028456  5.302499  "
      ]
     },
     "execution_count": 55,
     "metadata": {},
     "output_type": "execute_result"
    }
   ],
   "source": [
    "# select CO2 emissions for all countries in 2011\n",
    "hist_indicator = 'CO2 emissions \\(metric'\n",
    "hist_year = 2011\n",
    "\n",
    "mask1 = data['IndicatorName'].str.contains(hist_indicator) \n",
    "mask2 = data['Year'].isin([hist_year])\n",
    "\n",
    "# apply our mask\n",
    "co2_2011 = data[mask1 & mask2]\n",
    "co2_2011.head()"
   ]
  },
  {
   "cell_type": "code",
   "execution_count": 56,
   "id": "4c469204",
   "metadata": {},
   "outputs": [
    {
     "name": "stdout",
     "output_type": "stream",
     "text": [
      "232\n"
     ]
    }
   ],
   "source": [
    "print(len(co2_2011))"
   ]
  },
  {
   "cell_type": "code",
   "execution_count": 58,
   "id": "f08a6744",
   "metadata": {},
   "outputs": [
    {
     "data": {
      "image/png": "[encoded data removed]",
      "text/plain": [
       "<Figure size 432x288 with 1 Axes>"
      ]
     },
     "metadata": {
      "needs_background": "light"
     },
     "output_type": "display_data"
    }
   ],
   "source": [
    "# let's plot a histogram of the emmissions per capita by country\n",
    "\n",
    "# subplots returns a touple with the figure, axis attributes.\n",
    "fig, ax = plt.subplots()\n",
    "\n",
    "ax.annotate(\"USA\",\n",
    "            xy=(18, 5), xycoords='data',\n",
    "            xytext=(18, 30), textcoords='data',\n",
    "            arrowprops=dict(arrowstyle=\"->\",\n",
    "                            connectionstyle=\"arc3\"),\n",
    "            )\n",
    "\n",
    "plt.hist(co2_2011['Value'], 10, density=False, facecolor='green')\n",
    "\n",
    "plt.xlabel(stage['IndicatorName'].iloc[0])\n",
    "plt.ylabel('# of Countries')\n",
    "plt.title('Histogram of CO2 Emissions Per Capita')\n",
    "\n",
    "#plt.axis([10, 22, 0, 14])\n",
    "plt.grid(True)\n",
    "\n",
    "plt.show()"
   ]
  },
  {
   "cell_type": "markdown",
   "id": "89db5978",
   "metadata": {},
   "source": [
    "So the USA, at ~18 CO2 emissions (metric tons per capital) \n",
    "is quite high among all countries.\n",
    "An interesting next step, which we'll save for you, would be to explore\n",
    "how this relates to other industrialized nations and \n",
    "to look at the outliers with those values in the 40s!"
   ]
  },
  {
   "cell_type": "markdown",
   "id": "d639a74e",
   "metadata": {},
   "source": [
    "## Relationship between GDP and CO2 Emissions in USA"
   ]
  },
  {
   "cell_type": "code",
   "execution_count": 62,
   "id": "a0535d59",
   "metadata": {},
   "outputs": [],
   "source": [
    "# select GDP Per capita emissions for the United States\n",
    "hist_indicator = 'GDP per capita \\(constant 2005'\n",
    "hist_country = 'USA'\n",
    "\n",
    "mask1 = data['IndicatorName'].str.contains(hist_indicator) \n",
    "mask2 = data['CountryCode'].str.contains(hist_country)\n",
    "\n",
    "# stage is just those indicators matching the USA for country code and CO2 emissions over time.\n",
    "gdp_stage = data[mask1 & mask2]\n",
    "\n",
    "#plot gdp_stage vs stage\n"
   ]
  },
  {
   "cell_type": "code",
   "execution_count": 63,
   "id": "86005484",
   "metadata": {},
   "outputs": [
    {
     "data": {
      "text/html": [
       "<div>\n",
       "<style scoped>\n",
       "    .dataframe tbody tr th:only-of-type {\n",
       "        vertical-align: middle;\n",
       "    }\n",
       "\n",
       "    .dataframe tbody tr th {\n",
       "        vertical-align: top;\n",
       "    }\n",
       "\n",
       "    .dataframe thead th {\n",
       "        text-align: right;\n",
       "    }\n",
       "</style>\n",
       "<table border=\"1\" class=\"dataframe\">\n",
       "  <thead>\n",
       "    <tr style=\"text-align: right;\">\n",
       "      <th></th>\n",
       "      <th>CountryName</th>\n",
       "      <th>CountryCode</th>\n",
       "      <th>IndicatorName</th>\n",
       "      <th>IndicatorCode</th>\n",
       "      <th>Year</th>\n",
       "      <th>Value</th>\n",
       "    </tr>\n",
       "  </thead>\n",
       "  <tbody>\n",
       "    <tr>\n",
       "      <th>22282</th>\n",
       "      <td>United States</td>\n",
       "      <td>USA</td>\n",
       "      <td>GDP per capita (constant 2005 US$)</td>\n",
       "      <td>NY.GDP.PCAP.KD</td>\n",
       "      <td>1960</td>\n",
       "      <td>15482.707760</td>\n",
       "    </tr>\n",
       "    <tr>\n",
       "      <th>48759</th>\n",
       "      <td>United States</td>\n",
       "      <td>USA</td>\n",
       "      <td>GDP per capita (constant 2005 US$)</td>\n",
       "      <td>NY.GDP.PCAP.KD</td>\n",
       "      <td>1961</td>\n",
       "      <td>15578.409657</td>\n",
       "    </tr>\n",
       "    <tr>\n",
       "      <th>77142</th>\n",
       "      <td>United States</td>\n",
       "      <td>USA</td>\n",
       "      <td>GDP per capita (constant 2005 US$)</td>\n",
       "      <td>NY.GDP.PCAP.KD</td>\n",
       "      <td>1962</td>\n",
       "      <td>16276.426685</td>\n",
       "    </tr>\n",
       "    <tr>\n",
       "      <th>105760</th>\n",
       "      <td>United States</td>\n",
       "      <td>USA</td>\n",
       "      <td>GDP per capita (constant 2005 US$)</td>\n",
       "      <td>NY.GDP.PCAP.KD</td>\n",
       "      <td>1963</td>\n",
       "      <td>16749.789436</td>\n",
       "    </tr>\n",
       "    <tr>\n",
       "      <th>134798</th>\n",
       "      <td>United States</td>\n",
       "      <td>USA</td>\n",
       "      <td>GDP per capita (constant 2005 US$)</td>\n",
       "      <td>NY.GDP.PCAP.KD</td>\n",
       "      <td>1964</td>\n",
       "      <td>17476.822248</td>\n",
       "    </tr>\n",
       "  </tbody>\n",
       "</table>\n",
       "</div>"
      ],
      "text/plain": [
       "          CountryName CountryCode                       IndicatorName  \\\n",
       "22282   United States         USA  GDP per capita (constant 2005 US$)   \n",
       "48759   United States         USA  GDP per capita (constant 2005 US$)   \n",
       "77142   United States         USA  GDP per capita (constant 2005 US$)   \n",
       "105760  United States         USA  GDP per capita (constant 2005 US$)   \n",
       "134798  United States         USA  GDP per capita (constant 2005 US$)   \n",
       "\n",
       "         IndicatorCode  Year         Value  \n",
       "22282   NY.GDP.PCAP.KD  1960  15482.707760  \n",
       "48759   NY.GDP.PCAP.KD  1961  15578.409657  \n",
       "77142   NY.GDP.PCAP.KD  1962  16276.426685  \n",
       "105760  NY.GDP.PCAP.KD  1963  16749.789436  \n",
       "134798  NY.GDP.PCAP.KD  1964  17476.822248  "
      ]
     },
     "execution_count": 63,
     "metadata": {},
     "output_type": "execute_result"
    }
   ],
   "source": [
    "gdp_stage.head()"
   ]
  },
  {
   "cell_type": "code",
   "execution_count": 64,
   "id": "a02a0fb3",
   "metadata": {},
   "outputs": [
    {
     "data": {
      "text/html": [
       "<div>\n",
       "<style scoped>\n",
       "    .dataframe tbody tr th:only-of-type {\n",
       "        vertical-align: middle;\n",
       "    }\n",
       "\n",
       "    .dataframe tbody tr th {\n",
       "        vertical-align: top;\n",
       "    }\n",
       "\n",
       "    .dataframe thead th {\n",
       "        text-align: right;\n",
       "    }\n",
       "</style>\n",
       "<table border=\"1\" class=\"dataframe\">\n",
       "  <thead>\n",
       "    <tr style=\"text-align: right;\">\n",
       "      <th></th>\n",
       "      <th>CountryName</th>\n",
       "      <th>CountryCode</th>\n",
       "      <th>IndicatorName</th>\n",
       "      <th>IndicatorCode</th>\n",
       "      <th>Year</th>\n",
       "      <th>Value</th>\n",
       "    </tr>\n",
       "  </thead>\n",
       "  <tbody>\n",
       "    <tr>\n",
       "      <th>22232</th>\n",
       "      <td>United States</td>\n",
       "      <td>USA</td>\n",
       "      <td>CO2 emissions (metric tons per capita)</td>\n",
       "      <td>EN.ATM.CO2E.PC</td>\n",
       "      <td>1960</td>\n",
       "      <td>15.999779</td>\n",
       "    </tr>\n",
       "    <tr>\n",
       "      <th>48708</th>\n",
       "      <td>United States</td>\n",
       "      <td>USA</td>\n",
       "      <td>CO2 emissions (metric tons per capita)</td>\n",
       "      <td>EN.ATM.CO2E.PC</td>\n",
       "      <td>1961</td>\n",
       "      <td>15.681256</td>\n",
       "    </tr>\n",
       "  </tbody>\n",
       "</table>\n",
       "</div>"
      ],
      "text/plain": [
       "         CountryName CountryCode                           IndicatorName  \\\n",
       "22232  United States         USA  CO2 emissions (metric tons per capita)   \n",
       "48708  United States         USA  CO2 emissions (metric tons per capita)   \n",
       "\n",
       "        IndicatorCode  Year      Value  \n",
       "22232  EN.ATM.CO2E.PC  1960  15.999779  \n",
       "48708  EN.ATM.CO2E.PC  1961  15.681256  "
      ]
     },
     "execution_count": 64,
     "metadata": {},
     "output_type": "execute_result"
    }
   ],
   "source": [
    "stage.head(2)"
   ]
  },
  {
   "cell_type": "code",
   "execution_count": 65,
   "id": "8afa1f47",
   "metadata": {},
   "outputs": [
    {
     "data": {
      "image/png": "[encoded data removed]",
      "text/plain": [
       "<Figure size 432x288 with 1 Axes>"
      ]
     },
     "metadata": {
      "needs_background": "light"
     },
     "output_type": "display_data"
    }
   ],
   "source": [
    "# switch to a line plot\n",
    "plt.plot(gdp_stage['Year'].values, gdp_stage['Value'].values)\n",
    "\n",
    "# Label the axes\n",
    "plt.xlabel('Year')\n",
    "plt.ylabel(gdp_stage['IndicatorName'].iloc[0])\n",
    "\n",
    "#label the figure\n",
    "plt.title('GDP Per Capita USA')\n",
    "\n",
    "# to make more honest, start they y axis at 0\n",
    "#plt.axis([1959, 2011,0,25])\n",
    "\n",
    "plt.show()"
   ]
  },
  {
   "cell_type": "markdown",
   "id": "cb6cf82c",
   "metadata": {},
   "source": [
    "So although we've seen a decline in the CO2 emissions per capita, it does not seem to translate to a decline in GDP per capita\n",
    "\n",
    "ScatterPlot for comparing GDP against CO2 emissions (per capita)\n",
    "\n",
    "First, we'll need to make sure we're looking at the \n",
    "same time frames"
   ]
  },
  {
   "cell_type": "code",
   "execution_count": 66,
   "id": "22a38506",
   "metadata": {},
   "outputs": [
    {
     "name": "stdout",
     "output_type": "stream",
     "text": [
      "GDP Min Year =  1960 max:  2014\n",
      "CO2 Min Year =  1960 max:  2011\n"
     ]
    }
   ],
   "source": [
    "print(\"GDP Min Year = \", gdp_stage['Year'].min(), \"max: \", gdp_stage['Year'].max())\n",
    "print(\"CO2 Min Year = \", stage['Year'].min(), \"max: \", stage['Year'].max())"
   ]
  },
  {
   "cell_type": "markdown",
   "id": "e9b6f69f",
   "metadata": {},
   "source": [
    "We have 3 extra years of GDP data, so let's trim those off so the scatterplot has equal length arrays to compare \n",
    "(this is actually required by scatterplot)"
   ]
  },
  {
   "cell_type": "code",
   "execution_count": 67,
   "id": "d546f903",
   "metadata": {},
   "outputs": [
    {
     "name": "stdout",
     "output_type": "stream",
     "text": [
      "52\n",
      "52\n"
     ]
    }
   ],
   "source": [
    "gdp_stage_trunc = gdp_stage[gdp_stage['Year'] < 2012]\n",
    "print(len(gdp_stage_trunc))\n",
    "print(len(stage))"
   ]
  },
  {
   "cell_type": "code",
   "execution_count": 68,
   "id": "c06f96cd",
   "metadata": {},
   "outputs": [
    {
     "data": {
      "image/png": "[encoded data removed]",
      "text/plain": [
       "<Figure size 432x288 with 1 Axes>"
      ]
     },
     "metadata": {
      "needs_background": "light"
     },
     "output_type": "display_data"
    }
   ],
   "source": [
    "%matplotlib inline\n",
    "import matplotlib.pyplot as plt\n",
    "\n",
    "fig, axis = plt.subplots()\n",
    "# Grid lines, Xticks, Xlabel, Ylabel\n",
    "\n",
    "axis.yaxis.grid(True)\n",
    "axis.set_title('CO2 Emissions vs. GDP \\(per capita\\)',fontsize=10)\n",
    "axis.set_xlabel(gdp_stage_trunc['IndicatorName'].iloc[10],fontsize=10)\n",
    "axis.set_ylabel(stage['IndicatorName'].iloc[0],fontsize=10)\n",
    "\n",
    "X = gdp_stage_trunc['Value']\n",
    "Y = stage['Value']\n",
    "\n",
    "axis.scatter(X, Y)\n",
    "plt.show()"
   ]
  },
  {
   "cell_type": "markdown",
   "id": "20344695",
   "metadata": {},
   "source": [
    "This doesn't look like a strong relationship. \n",
    "We can test this by looking at correlation"
   ]
  },
  {
   "cell_type": "code",
   "execution_count": 69,
   "id": "bd15f142",
   "metadata": {},
   "outputs": [
    {
     "data": {
      "text/plain": [
       "array([[1.        , 0.07676005],\n",
       "       [0.07676005, 1.        ]])"
      ]
     },
     "execution_count": 69,
     "metadata": {},
     "output_type": "execute_result"
    }
   ],
   "source": [
    "np.corrcoef(gdp_stage_trunc['Value'],stage['Value'])"
   ]
  },
  {
   "cell_type": "code",
   "execution_count": 70,
   "id": "51f5dfbc",
   "metadata": {},
   "outputs": [
    {
     "name": "stdout",
     "output_type": "stream",
     "text": [
      "<class 'pandas.core.frame.DataFrame'>\n",
      "RangeIndex: 5656458 entries, 0 to 5656457\n",
      "Data columns (total 6 columns):\n",
      " #   Column         Dtype  \n",
      "---  ------         -----  \n",
      " 0   CountryName    object \n",
      " 1   CountryCode    object \n",
      " 2   IndicatorName  object \n",
      " 3   IndicatorCode  object \n",
      " 4   Year           int64  \n",
      " 5   Value          float64\n",
      "dtypes: float64(1), int64(1), object(4)\n",
      "memory usage: 258.9+ MB\n"
     ]
    }
   ],
   "source": [
    "data.info() #info will give you a summary of dataset"
   ]
  },
  {
   "cell_type": "code",
   "execution_count": 71,
   "id": "98688ff2",
   "metadata": {},
   "outputs": [
    {
     "data": {
      "text/html": [
       "<div>\n",
       "<style scoped>\n",
       "    .dataframe tbody tr th:only-of-type {\n",
       "        vertical-align: middle;\n",
       "    }\n",
       "\n",
       "    .dataframe tbody tr th {\n",
       "        vertical-align: top;\n",
       "    }\n",
       "\n",
       "    .dataframe thead th {\n",
       "        text-align: right;\n",
       "    }\n",
       "</style>\n",
       "<table border=\"1\" class=\"dataframe\">\n",
       "  <thead>\n",
       "    <tr style=\"text-align: right;\">\n",
       "      <th></th>\n",
       "      <th>Year</th>\n",
       "      <th>Value</th>\n",
       "    </tr>\n",
       "  </thead>\n",
       "  <tbody>\n",
       "    <tr>\n",
       "      <th>count</th>\n",
       "      <td>5.656458e+06</td>\n",
       "      <td>5.656458e+06</td>\n",
       "    </tr>\n",
       "    <tr>\n",
       "      <th>mean</th>\n",
       "      <td>1.994464e+03</td>\n",
       "      <td>1.070501e+12</td>\n",
       "    </tr>\n",
       "    <tr>\n",
       "      <th>std</th>\n",
       "      <td>1.387895e+01</td>\n",
       "      <td>4.842469e+13</td>\n",
       "    </tr>\n",
       "    <tr>\n",
       "      <th>min</th>\n",
       "      <td>1.960000e+03</td>\n",
       "      <td>-9.824821e+15</td>\n",
       "    </tr>\n",
       "    <tr>\n",
       "      <th>25%</th>\n",
       "      <td>1.984000e+03</td>\n",
       "      <td>5.566242e+00</td>\n",
       "    </tr>\n",
       "    <tr>\n",
       "      <th>50%</th>\n",
       "      <td>1.997000e+03</td>\n",
       "      <td>6.357450e+01</td>\n",
       "    </tr>\n",
       "    <tr>\n",
       "      <th>75%</th>\n",
       "      <td>2.006000e+03</td>\n",
       "      <td>1.346722e+07</td>\n",
       "    </tr>\n",
       "    <tr>\n",
       "      <th>max</th>\n",
       "      <td>2.015000e+03</td>\n",
       "      <td>1.103367e+16</td>\n",
       "    </tr>\n",
       "  </tbody>\n",
       "</table>\n",
       "</div>"
      ],
      "text/plain": [
       "               Year         Value\n",
       "count  5.656458e+06  5.656458e+06\n",
       "mean   1.994464e+03  1.070501e+12\n",
       "std    1.387895e+01  4.842469e+13\n",
       "min    1.960000e+03 -9.824821e+15\n",
       "25%    1.984000e+03  5.566242e+00\n",
       "50%    1.997000e+03  6.357450e+01\n",
       "75%    2.006000e+03  1.346722e+07\n",
       "max    2.015000e+03  1.103367e+16"
      ]
     },
     "execution_count": 71,
     "metadata": {},
     "output_type": "execute_result"
    }
   ],
   "source": [
    "data.describe()  "
   ]
  },
  {
   "cell_type": "code",
   "execution_count": 72,
   "id": "eb277093",
   "metadata": {},
   "outputs": [
    {
     "data": {
      "text/plain": [
       "(array([dtype('int64'), dtype('float64'), dtype('O')], dtype=object),\n",
       " array([1, 1, 4], dtype=int64))"
      ]
     },
     "execution_count": 72,
     "metadata": {},
     "output_type": "execute_result"
    }
   ],
   "source": [
    "np.unique(data.dtypes,return_counts=True)"
   ]
  },
  {
   "cell_type": "code",
   "execution_count": 73,
   "id": "82664445",
   "metadata": {},
   "outputs": [
    {
     "data": {
      "text/plain": [
       "array(['CountryName', 'CountryCode', 'IndicatorName', 'IndicatorCode'],\n",
       "      dtype=object)"
      ]
     },
     "execution_count": 73,
     "metadata": {},
     "output_type": "execute_result"
    }
   ],
   "source": [
    "cat=data.dtypes[data.dtypes=='O'].index.values\n",
    "cat"
   ]
  },
  {
   "cell_type": "code",
   "execution_count": 74,
   "id": "c8599c73",
   "metadata": {},
   "outputs": [
    {
     "name": "stdout",
     "output_type": "stream",
     "text": [
      "Column : CountryName\n",
      "count of classes :  247\n",
      "Counter({'Mexico': 37244, 'Colombia': 37227, 'Philippines': 36912, 'Peru': 36815, 'Costa Rica': 36457, 'Thailand': 36355, 'Morocco': 36275, 'Indonesia': 36252, 'Malaysia': 35874, 'Turkey': 35819, 'Ecuador': 35788, 'Pakistan': 35768, 'India': 35721, 'Brazil': 35550, 'Egypt, Arab Rep.': 35367, 'Bolivia': 35307, 'Tunisia': 35302, 'Honduras': 35171, 'Guatemala': 35078, 'El Salvador': 34739, 'Kenya': 34621, 'Algeria': 34578, 'Cameroon': 34259, 'Dominican Republic': 34253, 'Jordan': 34050, 'Senegal': 33990, 'Panama': 33984, 'Nicaragua': 33638, 'Bangladesh': 33386, 'Sri Lanka': 33369, 'Togo': 33221, 'Iran, Islamic Rep.': 32966, 'Benin': 32965, 'Zambia': 32930, 'Madagascar': 32637, 'Burkina Faso': 32604, 'Congo, Rep.': 32310, 'Mauritius': 32285, 'Botswana': 32039, 'Jamaica': 31835, 'Rwanda': 31770, 'Ghana': 31730, 'Paraguay': 31423, 'Uganda': 31412, 'Nigeria': 31381, 'Congo, Dem. Rep.': 31257, 'Sudan': 31175, 'Latin America & Caribbean (developing only)': 31167, 'Mali': 31163, 'Lesotho': 31161, 'Nepal': 31134, 'Syrian Arab Republic': 31106, 'South Asia': 30913, \"Cote d'Ivoire\": 30596, 'South Africa': 30496, 'Burundi': 30494, 'Malawi': 30223, 'Lower middle income': 30202, 'Gabon': 30121, 'Mauritania': 30080, 'Romania': 30014, 'Gambia, The': 29864, 'Bulgaria': 29859, 'Tanzania': 29778, 'Belize': 29689, 'China': 29678, 'Niger': 29428, 'Zimbabwe': 29310, 'Fiji': 29309, 'Swaziland': 29279, 'Low & middle income': 29278, 'Middle income': 29253, 'Sierra Leone': 29150, 'Upper middle income': 28923, 'Papua New Guinea': 28711, 'Central African Republic': 28561, 'Sub-Saharan Africa (developing only)': 28547, 'Guyana': 28547, 'Middle East & North Africa (developing only)': 28545, 'East Asia & Pacific (developing only)': 28477, 'Ethiopia': 28134, 'Korea, Rep.': 28126, 'Chad': 27768, 'Mozambique': 27568, 'Lebanon': 27334, 'Chile': 27156, 'Europe & Central Asia (developing only)': 26646, 'Uruguay': 26508, 'Sweden': 26503, 'Venezuela, RB': 26488, 'France': 26371, 'Guinea': 26362, 'Netherlands': 26348, 'Italy': 26136, 'Lao PDR': 26102, 'Finland': 26096, 'Argentina': 25955, 'Spain': 25949, 'Low income': 25867, 'Greece': 25794, 'Japan': 25780, 'Myanmar': 25584, 'Vietnam': 25552, 'Denmark': 25551, 'St. Vincent and the Grenadines': 25541, 'Austria': 25516, 'Cambodia': 25448, 'Norway': 25425, 'Australia': 25325, 'United Kingdom': 25293, 'Portugal': 25136, 'Guinea-Bissau': 24878, 'Liberia': 24803, 'Ireland': 24723, 'Canada': 24633, 'Grenada': 24572, 'United States': 24425, 'Comoros': 24421, 'Haiti': 24354, 'Cyprus': 24097, 'Trinidad and Tobago': 24086, 'Mongolia': 23978, 'St. Lucia': 23749, 'Yemen, Rep.': 23745, 'Belgium': 23461, 'Bhutan': 23395, 'Switzerland': 23344, 'Malta': 23199, 'Germany': 23166, 'Albania': 23164, 'New Zealand': 23052, 'Djibouti': 22923, 'Cabo Verde': 22911, 'Singapore': 22600, 'Israel': 22557, 'Moldova': 22550, 'Ukraine': 22547, 'Georgia': 22522, 'Hungary': 22293, 'Vanuatu': 22249, 'Iceland': 22146, 'Dominica': 22107, 'Kyrgyz Republic': 21934, 'Belarus': 21875, 'Maldives': 21795, 'Latin America & Caribbean (all income levels)': 21752, 'OECD members': 21723, 'Samoa': 21696, 'High income': 21573, 'European Union': 21557, 'High income: OECD': 21421, 'Tonga': 21379, 'Solomon Islands': 21355, 'Macedonia, FYR': 21238, 'Kazakhstan': 21219, 'Poland': 21177, 'Azerbaijan': 21165, 'Angola': 21158, 'Armenia': 20992, 'Serbia': 20877, 'Euro area': 20843, 'Luxembourg': 20834, 'Somalia': 20764, 'Oman': 20699, 'Cuba': 20642, 'World': 20566, 'Europe & Central Asia (all income levels)': 20445, 'Hong Kong SAR, China': 20402, 'Tajikistan': 19874, 'Kuwait': 19690, 'East Asia & Pacific (all income levels)': 19564, 'Sub-Saharan Africa (all income levels)': 19167, 'Czech Republic': 19156, 'Sao Tome and Principe': 19117, 'North America': 18790, 'Namibia': 18518, 'Saudi Arabia': 18456, 'Heavily indebted poor countries (HIPC)': 18375, 'Bahamas, The': 18165, 'Montenegro': 18118, 'Middle East & North Africa (all income levels)': 17903, 'Suriname': 17758, 'Barbados': 17611, 'Seychelles': 17501, 'Uzbekistan': 17406, 'Least developed countries: UN classification': 17405, 'Afghanistan': 17402, 'Bahrain': 17278, 'Slovak Republic': 17250, 'Russian Federation': 17164, 'Slovenia': 17161, 'Caribbean small states': 17117, 'Arab World': 17115, 'Other small states': 17010, 'Estonia': 16991, 'High income: nonOECD': 16984, 'Brunei Darussalam': 16965, 'Croatia': 16853, 'Iraq': 16792, 'Central Europe and the Baltics': 16697, 'Latvia': 16663, 'Small states': 16656, 'Bosnia and Herzegovina': 16514, 'Lithuania': 16336, 'Eritrea': 16206, 'Qatar': 16200, 'Fragile and conflict affected situations': 15391, 'United Arab Emirates': 15379, 'Macao SAR, China': 14881, 'Pacific island small states': 14252, 'Equatorial Guinea': 14127, 'Turkmenistan': 14011, 'Libya': 13943, 'Antigua and Barbuda': 13851, 'St. Kitts and Nevis': 13712, 'Kiribati': 12999, 'Puerto Rico': 12687, 'West Bank and Gaza': 11735, 'Timor-Leste': 9461, 'Bermuda': 8765, 'New Caledonia': 8352, 'French Polynesia': 7979, 'Korea, Dem. Rep.': 7934, 'Aruba': 7607, 'Micronesia, Fed. Sts.': 7126, 'Kosovo': 6851, 'Palau': 5896, 'Marshall Islands': 5764, 'Tuvalu': 5683, 'San Marino': 5020, 'Greenland': 4967, 'Andorra': 4921, 'Faeroe Islands': 4691, 'Virgin Islands (U.S.)': 4302, 'Liechtenstein': 4282, 'Guam': 4265, 'Cayman Islands': 4006, 'Monaco': 3881, 'South Sudan': 3667, 'Turks and Caicos Islands': 2840, 'American Samoa': 2802, 'Channel Islands': 2739, 'Northern Mariana Islands': 1942, 'Isle of Man': 1764, 'Curacao': 1564, 'Sint Maarten (Dutch part)': 681, 'St. Martin (French part)': 572})\n",
      "************************************************************************************************************************\n",
      "Column : CountryCode\n",
      "count of classes :  247\n",
      "Counter({'MEX': 37244, 'COL': 37227, 'PHL': 36912, 'PER': 36815, 'CRI': 36457, 'THA': 36355, 'MAR': 36275, 'IDN': 36252, 'MYS': 35874, 'TUR': 35819, 'ECU': 35788, 'PAK': 35768, 'IND': 35721, 'BRA': 35550, 'EGY': 35367, 'BOL': 35307, 'TUN': 35302, 'HND': 35171, 'GTM': 35078, 'SLV': 34739, 'KEN': 34621, 'DZA': 34578, 'CMR': 34259, 'DOM': 34253, 'JOR': 34050, 'SEN': 33990, 'PAN': 33984, 'NIC': 33638, 'BGD': 33386, 'LKA': 33369, 'TGO': 33221, 'IRN': 32966, 'BEN': 32965, 'ZMB': 32930, 'MDG': 32637, 'BFA': 32604, 'COG': 32310, 'MUS': 32285, 'BWA': 32039, 'JAM': 31835, 'RWA': 31770, 'GHA': 31730, 'PRY': 31423, 'UGA': 31412, 'NGA': 31381, 'ZAR': 31257, 'SDN': 31175, 'LAC': 31167, 'MLI': 31163, 'LSO': 31161, 'NPL': 31134, 'SYR': 31106, 'SAS': 30913, 'CIV': 30596, 'ZAF': 30496, 'BDI': 30494, 'MWI': 30223, 'LMC': 30202, 'GAB': 30121, 'MRT': 30080, 'ROM': 30014, 'GMB': 29864, 'BGR': 29859, 'TZA': 29778, 'BLZ': 29689, 'CHN': 29678, 'NER': 29428, 'ZWE': 29310, 'FJI': 29309, 'SWZ': 29279, 'LMY': 29278, 'MIC': 29253, 'SLE': 29150, 'UMC': 28923, 'PNG': 28711, 'CAF': 28561, 'SSA': 28547, 'GUY': 28547, 'MNA': 28545, 'EAP': 28477, 'ETH': 28134, 'KOR': 28126, 'TCD': 27768, 'MOZ': 27568, 'LBN': 27334, 'CHL': 27156, 'ECA': 26646, 'URY': 26508, 'SWE': 26503, 'VEN': 26488, 'FRA': 26371, 'GIN': 26362, 'NLD': 26348, 'ITA': 26136, 'LAO': 26102, 'FIN': 26096, 'ARG': 25955, 'ESP': 25949, 'LIC': 25867, 'GRC': 25794, 'JPN': 25780, 'MMR': 25584, 'VNM': 25552, 'DNK': 25551, 'VCT': 25541, 'AUT': 25516, 'KHM': 25448, 'NOR': 25425, 'AUS': 25325, 'GBR': 25293, 'PRT': 25136, 'GNB': 24878, 'LBR': 24803, 'IRL': 24723, 'CAN': 24633, 'GRD': 24572, 'USA': 24425, 'COM': 24421, 'HTI': 24354, 'CYP': 24097, 'TTO': 24086, 'MNG': 23978, 'LCA': 23749, 'YEM': 23745, 'BEL': 23461, 'BTN': 23395, 'CHE': 23344, 'MLT': 23199, 'DEU': 23166, 'ALB': 23164, 'NZL': 23052, 'DJI': 22923, 'CPV': 22911, 'SGP': 22600, 'ISR': 22557, 'MDA': 22550, 'UKR': 22547, 'GEO': 22522, 'HUN': 22293, 'VUT': 22249, 'ISL': 22146, 'DMA': 22107, 'KGZ': 21934, 'BLR': 21875, 'MDV': 21795, 'LCN': 21752, 'OED': 21723, 'WSM': 21696, 'HIC': 21573, 'EUU': 21557, 'OEC': 21421, 'TON': 21379, 'SLB': 21355, 'MKD': 21238, 'KAZ': 21219, 'POL': 21177, 'AZE': 21165, 'AGO': 21158, 'ARM': 20992, 'SRB': 20877, 'EMU': 20843, 'LUX': 20834, 'SOM': 20764, 'OMN': 20699, 'CUB': 20642, 'WLD': 20566, 'ECS': 20445, 'HKG': 20402, 'TJK': 19874, 'KWT': 19690, 'EAS': 19564, 'SSF': 19167, 'CZE': 19156, 'STP': 19117, 'NAC': 18790, 'NAM': 18518, 'SAU': 18456, 'HPC': 18375, 'BHS': 18165, 'MNE': 18118, 'MEA': 17903, 'SUR': 17758, 'BRB': 17611, 'SYC': 17501, 'UZB': 17406, 'LDC': 17405, 'AFG': 17402, 'BHR': 17278, 'SVK': 17250, 'RUS': 17164, 'SVN': 17161, 'CSS': 17117, 'ARB': 17115, 'OSS': 17010, 'EST': 16991, 'NOC': 16984, 'BRN': 16965, 'HRV': 16853, 'IRQ': 16792, 'CEB': 16697, 'LVA': 16663, 'SST': 16656, 'BIH': 16514, 'LTU': 16336, 'ERI': 16206, 'QAT': 16200, 'FCS': 15391, 'ARE': 15379, 'MAC': 14881, 'PSS': 14252, 'GNQ': 14127, 'TKM': 14011, 'LBY': 13943, 'ATG': 13851, 'KNA': 13712, 'KIR': 12999, 'PRI': 12687, 'WBG': 11735, 'TMP': 9461, 'BMU': 8765, 'NCL': 8352, 'PYF': 7979, 'PRK': 7934, 'ABW': 7607, 'FSM': 7126, 'KSV': 6851, 'PLW': 5896, 'MHL': 5764, 'TUV': 5683, 'SMR': 5020, 'GRL': 4967, 'ADO': 4921, 'FRO': 4691, 'VIR': 4302, 'LIE': 4282, 'GUM': 4265, 'CYM': 4006, 'MCO': 3881, 'SSD': 3667, 'TCA': 2840, 'ASM': 2802, 'CHI': 2739, 'MNP': 1942, 'IMY': 1764, 'CUW': 1564, 'SXM': 681, 'MAF': 572})\n",
      "************************************************************************************************************************\n",
      "Column : IndicatorName\n",
      "count of classes :  1344\n",
      "Counter({'Population, total': 13484, 'Population growth (annual %)': 13442, 'Rural population (% of total population)': 13415, 'Urban population (% of total)': 13415, 'Rural population': 13374, 'Urban population': 13374, 'Urban population growth (annual %)': 13337, 'Surface area (sq. km)': 13090, 'Land area (sq. km)': 13086, 'Rural population growth (annual %)': 13061, 'Population density (people per sq. km of land area)': 12988, 'Death rate, crude (per 1,000 people)': 12486, 'Adolescent fertility rate (births per 1,000 women ages 15-19)': 12485, 'Birth rate, crude (per 1,000 people)': 12485, 'Population ages 65 and above (% of total)': 12426, 'Population, ages 0-14 (% of total)': 12426, 'Population, ages 15-64 (% of total)': 12426, 'Population, female (% of total)': 12426, 'Age dependency ratio (% of working-age population)': 12423, 'Age dependency ratio, old (% of working-age population)': 12423, 'Age dependency ratio, young (% of working-age population)': 12423, 'Life expectancy at birth, female (years)': 12304, 'Life expectancy at birth, male (years)': 12304, 'Life expectancy at birth, total (years)': 12304, 'Fertility rate, total (births per woman)': 12266, 'Survival to age 65, female (% of cohort)': 12258, 'Survival to age 65, male (% of cohort)': 12258, 'Mortality rate, adult, female (per 1,000 female adults)': 11939, 'Mortality rate, adult, male (per 1,000 male adults)': 11939, 'Agricultural land (sq. km)': 11751, 'Food production index (2004-2006 = 100)': 11669, 'Agricultural land (% of land area)': 11645, 'Livestock production index (2004-2006 = 100)': 11626, 'Arable land (% of land area)': 11568, 'Crop production index (2004-2006 = 100)': 11563, 'Arable land (hectares per person)': 11545, 'Merchandise exports (current US$)': 11248, 'Mortality rate, infant (per 1,000 live births)': 11201, 'Mortality rate, under-5 (per 1,000)': 11201, 'Merchandise imports (current US$)': 11193, 'Permanent cropland (% of land area)': 10909, 'CO2 emissions from solid fuel consumption (% of total)': 10747, 'CO2 emissions from gaseous fuel consumption (% of total)': 10741, 'CO2 emissions from liquid fuel consumption (% of total)': 10740, 'CO2 emissions (kt)': 10602, 'CO2 emissions (metric tons per capita)': 10599, 'CO2 emissions from liquid fuel consumption (kt)': 10583, 'Merchandise exports by the reporting economy (current US$)': 10384, 'Merchandise exports by the reporting economy, residual (% of total merchandise exports)': 10384, 'Cereal production (metric tons)': 10382, 'Land under cereal production (hectares)': 10382, 'Merchandise imports by the reporting economy (current US$)': 10373, 'Merchandise imports by the reporting economy, residual (% of total merchandise imports)': 10373, 'GDP at market prices (current US$)': 10346, 'GDP per capita (current US$)': 10343, 'Cereal yield (kg per hectare)': 10265, 'Number of infant deaths': 10170, 'Number of under-five deaths': 10170, 'Merchandise imports from high-income economies (% of total merchandise imports)': 10087, 'CO2 emissions from solid fuel consumption (kt)': 10070, 'Merchandise exports to high-income economies (% of total merchandise exports)': 10009, 'Merchandise trade (% of GDP)': 10008, 'CO2 emissions from gaseous fuel consumption (kt)': 10004, 'GDP at market prices (constant 2005 US$)': 9954, 'GDP per capita (constant 2005 US$)': 9951, 'GDP growth (annual %)': 9939, 'GDP per capita growth (annual %)': 9936, 'Arable land (hectares)': 9922, 'Mobile cellular subscriptions': 9917, 'Mobile cellular subscriptions (per 100 people)': 9917, 'Merchandise imports from developing economies in South Asia (% of total merchandise imports)': 9914, 'GNI (current US$)': 9891, 'Inflation, GDP deflator (annual %)': 9862, 'Population in the largest city (% of urban population)': 9782, 'DEC alternative conversion factor (LCU per US$)': 9742, 'Exports of goods and services (% of GDP)': 9551, 'External balance on goods and services (% of GDP)': 9551, 'Imports of goods and services (% of GDP)': 9551, 'Trade (% of GDP)': 9551, 'Merchandise imports from developing economies in Middle East & North Africa (% of total merchandise imports)': 9528, 'Net official development assistance and official aid received (constant 2012 US$)': 9505, 'Net official development assistance and official aid received (current US$)': 9503, 'Exports of goods and services (current US$)': 9473, 'Fixed telephone subscriptions': 9465, 'Fixed telephone subscriptions (per 100 people)': 9465, 'Merchandise exports to developing economies in South Asia (% of total merchandise exports)': 9441, 'Adjusted savings: mineral depletion (current US$)': 9416, 'Merchandise exports to developing economies in Middle East & North Africa (% of total merchandise exports)': 9397, 'Imports of goods and services (current US$)': 9387, 'Gross national expenditure (current US$)': 9380, 'Adjusted savings: energy depletion (current US$)': 9373, 'Net bilateral aid flows from DAC donors, Total (current US$)': 9340, 'Merchandise exports to economies in the Arab World (% of total merchandise exports)': 9288, 'Merchandise imports from economies in the Arab World (% of total merchandise imports)': 9272, 'General government final consumption expenditure (% of GDP)': 9201, 'GNI, Atlas method (current US$)': 9129, 'GNI per capita, Atlas method (current US$)': 9128, 'General government final consumption expenditure (current US$)': 9116, 'Official entrance age to primary education (years)': 9101, 'Theoretical duration of primary education (years)': 9101, 'Net official development assistance received (constant 2012 US$)': 9087, 'Net official development assistance received (current US$)': 9087, 'Net ODA received per capita (current US$)': 9084, 'Gross capital formation (% of GDP)': 9025, 'GDP (current LCU)': 8996, 'Theoretical duration of secondary education (years)': 8996, 'GDP per capita (current LCU)': 8993, 'Official entrance age to lower secondary education (years)': 8958, 'Mineral rents (% of GDP)': 8939, 'Gross domestic savings (% of GDP)': 8927, 'Gross capital formation (current US$)': 8926, 'Coal rents (% of GDP)': 8892, 'Official exchange rate (LCU per US$, period average)': 8805, 'Final consumption expenditure, etc. (current US$)': 8797, 'Gross domestic savings (current US$)': 8786, 'Household final consumption expenditure, etc. (% of GDP)': 8727, 'CO2 emissions (kg per 2005 US$ of GDP)': 8723, 'Natural gas rents (% of GDP)': 8717, 'Household final consumption expenditure (current US$)': 8671, 'Adjusted savings: mineral depletion (% of GNI)': 8665, 'GNI (current LCU)': 8645, 'GNI per capita (current LCU)': 8642, 'Oil rents (% of GDP)': 8639, 'Household final consumption expenditure, etc. (current US$)': 8638, 'Adjusted savings: energy depletion (% of GNI)': 8627, 'Merchandise imports from developing economies in Sub-Saharan Africa (% of total merchandise imports)': 8620, 'GDP (constant LCU)': 8616, 'GDP per capita (constant LCU)': 8613, 'GDP deflator (base year varies by country)': 8596, 'Merchandise exports to developing economies in Latin America & the Caribbean (% of total merchandise exports)': 8554, 'Foreign direct investment, net inflows (BoP, current US$)': 8514, 'Gross fixed capital formation (% of GDP)': 8495, 'Merchandise exports to developing economies in Sub-Saharan Africa (% of total merchandise exports)': 8455, 'Adjusted savings: consumption of fixed capital (% of GNI)': 8442, 'Adjusted savings: education expenditure (% of GNI)': 8439, 'Gross fixed capital formation (current US$)': 8405, 'Merchandise imports from developing economies in Latin America & the Caribbean (% of total merchandise imports)': 8399, 'Enrolment in primary education, both sexes (number)': 8341, 'Adjusted savings: carbon dioxide damage (% of GNI)': 8287, 'Net bilateral aid flows from DAC donors, Germany (current US$)': 8263, 'Population in largest city': 8190, 'Forest rents (% of GDP)': 8063, 'Agriculture, value added (current US$)': 8040, 'Total natural resources rents (% of GDP)': 8033, 'Gross enrolment ratio, primary, both sexes (%)': 8013, 'Services, etc., value added (current US$)': 8009, 'Exports of goods and services (current LCU)': 8009, 'External balance on goods and services (current LCU)': 8009, 'Imports of goods and services (current LCU)': 8009, 'Inflation, consumer prices (annual %)': 7991, 'Gross national expenditure (current LCU)': 7988, 'Net income from abroad (current LCU)': 7986, 'Foreign direct investment, net inflows (% of GDP)': 7935, 'Industry, value added (current US$)': 7931, 'External balance on goods and services (current US$)': 7899, 'Net bilateral aid flows from DAC donors, Japan (current US$)': 7892, 'Total reserves (includes gold, current US$)': 7888, 'Total reserves minus gold (current US$)': 7888, 'Net bilateral aid flows from DAC donors, United Kingdom (current US$)': 7881, 'Enrolment in secondary general, both sexes (number)': 7879, 'Adjusted savings: carbon dioxide damage (current US$)': 7879, 'Percentage of students in primary education who are female (%)': 7856, 'Net income from abroad (current US$)': 7853, 'Air transport, passengers carried': 7843, 'Air transport, registered carrier departures worldwide': 7835, 'Agriculture, value added (% of GDP)': 7697, 'General government final consumption expenditure (current LCU)': 7688, 'Services, etc., value added (% of GDP)': 7667, 'Industry, value added (% of GDP)': 7645, 'Adjusted savings: net forest depletion (% of GNI)': 7624, 'Gross capital formation (current LCU)': 7606, 'Adjusted savings: natural resources depletion (% of GNI)': 7598, 'Net official flows from UN agencies, UNDP (current US$)': 7579, 'Food imports (% of merchandise imports)': 7530, 'Manufactures imports (% of merchandise imports)': 7530, 'Gross enrolment ratio, primary, female (%)': 7530, 'Gross enrolment ratio, primary, gender parity index (GPI)': 7530, 'Gross enrolment ratio, primary, male (%)': 7530, 'Fuel imports (% of merchandise imports)': 7525, 'Ores and metals imports (% of merchandise imports)': 7522, 'Agricultural raw materials imports (% of merchandise imports)': 7520, 'Air transport, freight (million ton-km)': 7504, 'Final consumption expenditure, etc. (% of GDP)': 7499, 'Final consumption expenditure, etc. (current LCU)': 7499, 'Gross domestic savings (current LCU)': 7499, 'Gross national expenditure (% of GDP)': 7499, 'Merchandise imports from developing economies outside region (% of total merchandise imports)': 7479, 'Food exports (% of merchandise exports)': 7478, 'Net ODA received (% of GNI)': 7476, 'Percentage of students in secondary general education who are female (%)': 7475, 'Manufacturing, value added (current US$)': 7469, 'Manufactures exports (% of merchandise exports)': 7464, 'Net bilateral aid flows from DAC donors, United States (current US$)': 7449, 'Population in urban agglomerations of more than 1 million (% of total population)': 7447, 'Agricultural raw materials exports (% of merchandise exports)': 7431, 'Adjusted savings: consumption of fixed capital (current US$)': 7429, 'Merchandise exports to developing economies outside region (% of total merchandise exports)': 7406, 'Adjusted net national income (current US$)': 7371, 'Adjusted net national income per capita (current US$)': 7368, 'Gross value added at factor cost (current US$)': 7367, 'Enrolment in secondary education, both sexes (number)': 7347, 'Arms imports (SIPRI trend indicator values)': 7333, 'Household final consumption expenditure, etc. (current LCU)': 7330, 'Ores and metals exports (% of merchandise exports)': 7322, 'Net bilateral aid flows from DAC donors, Canada (current US$)': 7316, 'Household final consumption expenditure (current LCU)': 7306, 'Final consumption expenditure (current LCU)': 7254, 'Agricultural machinery, tractors': 7244, 'Agriculture, value added (constant 2005 US$)': 7233, 'Agriculture, value added (annual % growth)': 7219, 'Net bilateral aid flows from DAC donors, European Union institutions (current US$)': 7185, 'Final consumption expenditure (current US$)': 7154, 'Immunization, DPT (% of children ages 12-23 months)': 7143, 'Merchandise imports from developing economies in East Asia & Pacific (% of total merchandise imports)': 7140, 'Gross fixed capital formation (current LCU)': 7109, 'Discrepancy in expenditure estimate of GDP (current LCU)': 7093, 'Manufacturing, value added (% of GDP)': 7092, 'Industry, value added (constant 2005 US$)': 7088, 'Adjusted savings: net forest depletion (current US$)': 7084, 'Fuel exports (% of merchandise exports)': 7079, 'Net bilateral aid flows from DAC donors, France (current US$)': 7077, 'Gross enrolment ratio, secondary, both sexes (%)': 7076, 'Exports of goods and services (annual % growth)': 7060, 'Imports of goods and services (annual % growth)': 7055, 'Fossil fuel energy consumption (% of total)': 7044, 'Enrolment in secondary vocational, both sexes (number)': 7038, 'Services, etc., value added (annual % growth)': 7036, 'Combustible renewables and waste (% of total energy)': 7035, 'Electricity production from renewable sources, excluding hydroelectric (kWh)': 7035, 'Energy imports, net (% of energy use)': 7035, 'Agricultural machinery, tractors per 100 sq. km of arable land': 7034, 'Industry, value added (annual % growth)': 7024, 'Alternative and nuclear energy (% of total energy use)': 7021, 'Immunization, measles (% of children ages 12-23 months)': 7010, 'CO2 emissions from electricity and heat production, total (% of total fuel combustion)': 7005, 'CO2 emissions from manufacturing industries and construction (% of total fuel combustion)': 7005, 'CO2 emissions from other sectors, excluding residential buildings and commercial and public services (% of total fuel combustion)': 7005, 'CO2 emissions from residential buildings and commercial and public services (% of total fuel combustion)': 7005, 'CO2 emissions from transport (% of total fuel combustion)': 7005, 'Exports of goods and services (constant 2005 US$)': 6986, 'Imports of goods and services (constant 2005 US$)': 6981, 'Electric power transmission and distribution losses (% of output)': 6972, 'Agriculture, value added (current LCU)': 6954, 'Adjusted savings: education expenditure (current US$)': 6952, 'Gross national expenditure (constant 2005 US$)': 6940, 'Consumer price index (2010 = 100)': 6936, 'Services, etc., value added (current LCU)': 6922, 'Services, etc., value added (constant 2005 US$)': 6918, 'Industry, value added (current LCU)': 6917, 'Net official flows from UN agencies, UNTA (current US$)': 6901, 'Net ODA received (% of gross capital formation)': 6864, 'Energy use (kg of oil equivalent per capita)': 6849, 'Changes in inventories (current LCU)': 6837, 'General government final consumption expenditure (annual % growth)': 6806, 'Portfolio equity, net inflows (BoP, current US$)': 6801, 'CO2 intensity (kg per kg of oil equivalent energy use)': 6768, 'Pupil-teacher ratio in primary education (headcount basis)': 6766, 'Electricity production from coal sources (% of total)': 6761, 'Electricity production from hydroelectric sources (% of total)': 6761, 'Electricity production from natural gas sources (% of total)': 6761, 'Electricity production from nuclear sources (% of total)': 6761, 'Electricity production from oil sources (% of total)': 6761, 'Electricity production from oil, gas and coal sources (% of total)': 6761, 'Electricity production from renewable sources, excluding hydroelectric (% of total)': 6761, 'Changes in inventories (current US$)': 6748, 'Teachers in primary education, both sexes (number)': 6733, 'General government final consumption expenditure (constant 2005 US$)': 6724, 'Percentage of students in secondary education who are female (%)': 6712, 'Personal remittances, received (current US$)': 6652, 'Gross capital formation (annual % growth)': 6643, 'Electric power consumption (kWh per capita)': 6611, 'Merchandise exports to developing economies in East Asia & Pacific (% of total merchandise exports)': 6591, 'Personal remittances, paid (current US$)': 6591, 'Net bilateral aid flows from DAC donors, Netherlands (current US$)': 6575, 'Gross capital formation (constant 2005 US$)': 6533, 'Final consumption expenditure, etc. (annual % growth)': 6532, 'Manufacturing, value added (annual % growth)': 6521, 'Manufacturing, value added (constant 2005 US$)': 6509, 'Net bilateral aid flows from DAC donors, Switzerland (current US$)': 6482, 'Household final consumption expenditure (annual % growth)': 6482, 'GNI growth (annual %)': 6459, 'GNI per capita growth (annual %)': 6459, 'Net bilateral aid flows from DAC donors, Italy (current US$)': 6457, 'Gross value added at factor cost (constant 2005 US$)': 6452, 'Net financial flows, IBRD (NFL, current US$)': 6452, 'Net financial flows, IDA (NFL, current US$)': 6452, 'Gross savings (% of GNI)': 6450, 'Gross value added at factor cost (current LCU)': 6434, 'Household final consumption expenditure, etc. (annual % growth)': 6433, 'Final consumption expenditure, etc. (constant 2005 US$)': 6430, 'Gross enrolment ratio, secondary, female (%)': 6427, 'Gross enrolment ratio, secondary, male (%)': 6427, 'Manufacturing, value added (current LCU)': 6425, 'Gross enrolment ratio, secondary, gender parity index (GPI)': 6425, 'Grants, excluding technical cooperation (BoP, current US$)': 6424, 'Technical cooperation grants (BoP, current US$)': 6424, 'Adjusted savings: gross savings (% of GNI)': 6422, 'Gross enrolment ratio, tertiary, both sexes (%)': 6419, 'Merchandise imports from developing economies within region (% of total merchandise imports)': 6411, 'Household final consumption expenditure (constant 2005 US$)': 6397, 'Household final consumption expenditure per capita (constant 2005 US$)': 6397, 'Final consumption expenditure (constant 2005 US$)': 6395, 'Adjusted savings: net national savings (% of GNI)': 6359, 'Gross fixed capital formation (annual % growth)': 6352, 'Gross enrolment ratio, pre-primary, both sexes (%)': 6344, 'Household final consumption expenditure, etc. (constant 2005 US$)': 6342, 'Gross savings (% of GDP)': 6334, 'Merchandise exports to developing economies within region (% of total merchandise exports)': 6300, 'Agriculture, value added (constant LCU)': 6280, 'Gross domestic income (constant 2005 US$)': 6264, 'Net bilateral aid flows from DAC donors, Belgium (current US$)': 6246, 'Population in urban agglomerations of more than 1 million': 6240, 'Net taxes on products (current LCU)': 6237, 'Gross enrolment ratio, primary and secondary, gender parity index (GPI)': 6231, 'GNI (constant 2005 US$)': 6226, 'GNI per capita (constant 2005 US$)': 6226, 'Gross fixed capital formation (constant 2005 US$)': 6222, 'Services, etc., value added (constant LCU)': 6199, 'Household final consumption expenditure per capita growth (annual %)': 6188, 'Imports of goods and services (constant LCU)': 6187, 'Exports of goods and services (constant LCU)': 6177, 'Net taxes on products (current US$)': 6172, 'Industry, value added (constant LCU)': 6171, 'Percentage of students in secondary vocational education who are female (%)': 6162, 'Trademark applications, total': 6152, 'Exports as a capacity to import (constant LCU)': 6148, 'Terms of trade adjustment (constant LCU)': 6138, 'Gross national expenditure (constant LCU)': 6114, 'Net bilateral aid flows from DAC donors, Austria (current US$)': 6109, 'Gross national expenditure deflator (base year varies by country)': 6096, 'Personal remittances, received (% of GDP)': 6088, 'Gross domestic income (constant LCU)': 6085, 'Net official flows from UN agencies, UNICEF (current US$)': 6080, 'Percentage of enrolment in primary education in private institutions (%)': 6036, 'Net secondary income (BoP, current US$)': 5998, 'Improved water source, urban (% of urban population with access)': 5937, 'General government final consumption expenditure (constant LCU)': 5917, 'Adjusted net savings, excluding particulate emission damage (% of GNI)': 5896, 'Primary income on FDI, payments (current US$)': 5895, 'External balance on goods and services (constant LCU)': 5892, 'Improved water source (% of population with access)': 5877, 'Improved sanitation facilities, urban (% of urban population with access)': 5863, 'Mortality rate, neonatal (per 1,000 live births)': 5850, 'Trademark applications, direct nonresident': 5848, 'Agriculture value added per worker (constant 2005 US$)': 5845, 'Percentage of teachers in primary education who are female (%)': 5828, 'Improved sanitation facilities (% of population with access)': 5815, 'Improved water source, rural (% of rural population with access)': 5802, 'Scientific and technical journal articles': 5797, 'Export value index (2000 = 100)': 5786, 'Import value index (2000 = 100)': 5785, 'Gross capital formation (constant LCU)': 5766, 'Improved sanitation facilities, rural (% of rural population with access)': 5756, 'Gross value added at factor cost (constant LCU)': 5727, 'Manufacturing, value added (constant LCU)': 5720, 'Gross intake ratio to Grade 1 of primary education, both sexes (%)': 5702, 'Final consumption expenditure, etc. (constant LCU)': 5676, 'Percentage of repeaters in primary education, all grades, both sexes (%)': 5673, 'GNI (constant LCU)': 5669, 'GNI per capita (constant LCU)': 5669, 'Forest area (% of land area)': 5661, 'Net bilateral aid flows from DAC donors, Norway (current US$)': 5639, 'Final consumption expenditure (constant LCU)': 5626, 'Incidence of tuberculosis (per 100,000 people)': 5622, 'Lifetime risk of maternal death (%)': 5616, 'Lifetime risk of maternal death (1 in: rate varies by country)': 5616, 'Maternal mortality ratio (modeled estimate, per 100,000 live births)': 5616, 'Number of maternal deaths': 5616, 'Household final consumption expenditure (constant LCU)': 5596, 'Household final consumption expenditure, etc. (constant LCU)': 5583, 'Net financial flows, IMF concessional (NFL, current US$)': 5553, 'Net financial flows, IMF nonconcessional (NFL, current US$)': 5553, 'Gross enrolment ratio, tertiary, female (%)': 5551, 'Gross enrolment ratio, tertiary, male (%)': 5551, 'Gross enrolment ratio, tertiary, gender parity index (GPI)': 5539, 'Gross enrolment ratio, pre-primary, female (%)': 5533, 'Gross enrolment ratio, pre-primary, male (%)': 5533, 'Gross fixed capital formation (constant LCU)': 5482, 'Trademark applications, direct resident': 5479, 'Labor force participation rate for ages 15-24, female (%) (modeled ILO estimate)': 5475, 'Labor force participation rate for ages 15-24, male (%) (modeled ILO estimate)': 5475, 'Labor force participation rate for ages 15-24, total (%) (modeled ILO estimate)': 5475, 'Labor force participation rate, female (% of female population ages 15+) (modeled ILO estimate)': 5475, 'Labor force participation rate, female (% of female population ages 15-64) (modeled ILO estimate)': 5475, 'Labor force participation rate, male (% of male population ages 15+) (modeled ILO estimate)': 5475, 'Labor force participation rate, male (% of male population ages 15-64) (modeled ILO estimate)': 5475, 'Labor force participation rate, total (% of total population ages 15+) (modeled ILO estimate)': 5475, 'Labor force participation rate, total (% of total population ages 15-64) (modeled ILO estimate)': 5475, 'Ratio of female to male labor force participation rate (%) (modeled ILO estimate)': 5475, 'Labor force, female (% of total labor force)': 5472, 'Labor force, total': 5472, 'IMF charges (INT, current US$)': 5435, 'IMF repurchases and charges (TDS, current US$)': 5435, 'Use of IMF credit (DOD, current US$)': 5435, 'Forest area (sq. km)': 5431, 'Disbursements on external debt, long-term (DIS, current US$)': 5425, 'Interest payments on external debt, long-term (INT, current US$)': 5425, 'Interest payments on external debt, private nonguaranteed (PNG) (INT, current US$)': 5425, 'Principal repayments on external debt, long-term (AMT, current US$)': 5425, 'Principal repayments on external debt, private nonguaranteed (PNG) (AMT, current US$)': 5425, 'IBRD loans and IDA credits (DOD, current US$)': 5423, 'PPG, bilateral (AMT, current US$)': 5422, 'Net current transfers from abroad (current LCU)': 5415, 'Net official flows from UN agencies, UNFPA (current US$)': 5402, 'Net current transfers from abroad (current US$)': 5401, 'IMF purchases (DIS, current US$)': 5396, 'IMF repurchases (AMT, current US$)': 5396, 'PPG, IBRD (AMT, current US$)': 5396, 'PPG, IBRD (DIS, current US$)': 5396, 'PPG, IBRD (DOD, current US$)': 5396, 'PPG, IBRD (INT, current US$)': 5396, 'PPG, IBRD (NTR, current US$)': 5396, 'PPG, IBRD (TDS, current US$)': 5396, 'PPG, IDA (AMT, current US$)': 5396, 'PPG, IDA (DIS, current US$)': 5396, 'PPG, IDA (DOD, current US$)': 5396, 'PPG, IDA (INT, current US$)': 5396, 'PPG, IDA (NTR, current US$)': 5396, 'PPG, IDA (TDS, current US$)': 5396, 'Primary completion rate, both sexes (%)': 5386, 'PPG, bilateral (DIS, current US$)': 5386, 'PPG, bilateral (INT, current US$)': 5386, 'PPG, bonds (AMT, current US$)': 5386, 'PPG, bonds (INT, current US$)': 5386, 'PPG, commercial banks (AMT, current US$)': 5386, 'PPG, commercial banks (DIS, current US$)': 5386, 'PPG, commercial banks (INT, current US$)': 5386, 'PPG, multilateral (AMT, current US$)': 5386, 'PPG, multilateral (DIS, current US$)': 5386, 'PPG, multilateral (INT, current US$)': 5386, 'PPG, official creditors (AMT, current US$)': 5386, 'PPG, official creditors (DIS, current US$)': 5386, 'PPG, official creditors (INT, current US$)': 5386, 'PPG, other private creditors (AMT, current US$)': 5386, 'PPG, other private creditors (DIS, current US$)': 5386, 'PPG, other private creditors (INT, current US$)': 5386, 'PPG, private creditors (AMT, current US$)': 5386, 'PPG, private creditors (DIS, current US$)': 5386, 'PPG, private creditors (INT, current US$)': 5386, 'Interest rate spread (lending rate minus deposit rate, %)': 5382, 'Adjusted net national income (annual % growth)': 5380, 'Adjusted net national income per capita (annual % growth)': 5380, 'Number of neonatal deaths': 5378, 'GDP, PPP (constant 2011 international $)': 5365, 'GDP per capita, PPP (constant 2011 international $)': 5362, 'GDP, PPP (current international $)': 5349, 'GDP per capita, PPP (current international $)': 5346, 'Net bilateral aid flows from DAC donors, Sweden (current US$)': 5341, 'IDA grants (current US$)': 5330, 'Tuberculosis case detection rate (%, all forms)': 5312, 'Gross savings (current LCU)': 5300, 'Gross savings (current US$)': 5300, 'Debt service on external debt, long-term (TDS, current US$)': 5294, 'Debt service on external debt, private nonguaranteed (PNG) (TDS, current US$)': 5294, 'Debt service on external debt, total (TDS, current US$)': 5294, 'Disbursements on external debt, long-term + IMF (DIS, current US$)': 5294, 'Disbursements on external debt, private nonguaranteed (PNG) (DIS, current US$)': 5294, 'External debt stocks, long-term (DOD, current US$)': 5294, 'External debt stocks, long-term private sector (DOD, current US$)': 5294, 'External debt stocks, private nonguaranteed (PNG) (DOD, current US$)': 5294, 'External debt stocks, short-term (DOD, current US$)': 5294, 'External debt stocks, total (DOD, current US$)': 5294, 'External debt stocks, variable rate (DOD, current US$)': 5294, 'Interest payments on external debt, total (INT, current US$)': 5294, 'Net flows on external debt, long-term (NFL, current US$)': 5294, 'Net flows on external debt, private nonguaranteed (PNG) (NFL, current US$)': 5294, 'Net flows on external debt, short-term (NFL, current US$)': 5294, 'Net flows on external debt, total (NFL, current US$)': 5294, 'Net transfers on external debt, long-term (NTR, current US$)': 5294, 'Net transfers on external debt, private nonguaranteed (PNG) (NTR, current US$)': 5294, 'Net transfers on external debt, total (NTR, current US$)': 5294, 'PNG, commercial banks and other creditors (AMT, current US$)': 5294, 'PNG, commercial banks and other creditors (DIS, current US$)': 5294, 'PNG, commercial banks and other creditors (DOD, current US$)': 5294, 'PNG, commercial banks and other creditors (INT, current US$)': 5294, 'PNG, commercial banks and other creditors (NFL, current US$)': 5294, 'PNG, commercial banks and other creditors (TDS, current US$)': 5294, 'Principal repayments on external debt, long-term + IMF (AMT, current US$)': 5294, 'Short-term debt (% of total external debt)': 5294, 'Patent applications, nonresidents': 5290, 'Deposit interest rate (%)': 5283, 'Commercial banks and other lending (PPG + PNG) (NFL, current US$)': 5282, 'Portfolio investment, bonds (PPG + PNG) (NFL, current US$)': 5282, 'Adjusted net national income (constant 2005 US$)': 5274, 'Adjusted net national income per capita (constant 2005 US$)': 5274, 'Total reserves (% of total external debt)': 5266, 'Average grace period on new external debt commitments (years)': 5255, 'Average grace period on new external debt commitments, official (years)': 5255, 'Average grace period on new external debt commitments, private (years)': 5255, 'Average grant element on new external debt commitments (%)': 5255, 'Average grant element on new external debt commitments, official (%)': 5255, 'Average grant element on new external debt commitments, private (%)': 5255, 'Average interest on new external debt commitments (%)': 5255, 'Average interest on new external debt commitments, official (%)': 5255, 'Average interest on new external debt commitments, private (%)': 5255, 'Average maturity on new external debt commitments (years)': 5255, 'Average maturity on new external debt commitments, official (years)': 5255, 'Average maturity on new external debt commitments, private (years)': 5255, 'Commitments, IBRD (COM, current US$)': 5255, 'Commitments, IDA (COM, current US$)': 5255, 'Commitments, official creditors (COM, current US$)': 5255, 'Commitments, private creditors (COM, current US$)': 5255, 'Commitments, public and publicly guaranteed (COM, current US$)': 5255, 'Concessional debt (% of total external debt)': 5255, 'Currency composition of PPG debt, all other currencies (%)': 5255, 'Currency composition of PPG debt, Japanese yen (%)': 5255, 'Currency composition of PPG debt, Multiple currencies (%)': 5255, 'Currency composition of PPG debt, Pound sterling (%)': 5255, 'Currency composition of PPG debt, SDR (%)': 5255, 'Currency composition of PPG debt, Swiss franc (%)': 5255, 'Currency composition of PPG debt, U.S. dollars (%)': 5255, 'Debt forgiveness grants (current US$)': 5255, 'Debt service on external debt, public and publicly guaranteed (PPG) (TDS, current US$)': 5255, 'Disbursements on external debt, public and publicly guaranteed (PPG) (DIS, current US$)': 5255, 'EBRD, private nonguaranteed (NFL, current US$)': 5255, 'External debt stocks, concessional (DOD, current US$)': 5255, 'External debt stocks, long-term public sector (DOD, current US$)': 5255, 'External debt stocks, public and publicly guaranteed (PPG) (DOD, current US$)': 5255, 'IFC, private nonguaranteed (NFL, current US$)': 5255, 'Interest arrears, long-term DOD (US$)': 5255, 'Interest arrears, official creditors (current US$)': 5255, 'Interest arrears, private creditors (current US$)': 5255, 'Interest payments on external debt, public and publicly guaranteed (PPG) (INT, current US$)': 5255, 'Interest payments on external debt, short-term (INT, current US$)': 5255, 'Multilateral debt (% of total external debt)': 5255, 'Multilateral debt service (TDS, current US$)': 5255, 'Net financial flows, bilateral (NFL, current US$)': 5255, 'Net financial flows, multilateral (NFL, current US$)': 5255, 'Net financial flows, others (NFL, current US$)': 5255, 'Net financial flows, RDB concessional (NFL, current US$)': 5255, 'Net financial flows, RDB nonconcessional (NFL, current US$)': 5255, 'Net flows on external debt, public and publicly guaranteed (PPG) (NFL, current US$)': 5255, 'Net transfers on external debt, public and publicly guaranteed (PPG) (NTR, current US$)': 5255, 'PNG, bonds (AMT, current US$)': 5255, 'PNG, bonds (DIS, current US$)': 5255, 'PNG, bonds (DOD, current US$)': 5255, 'PNG, bonds (INT, current US$)': 5255, 'PNG, bonds (NFL, current US$)': 5255, 'PNG, bonds (NTR, current US$)': 5255, 'PNG, bonds (TDS, current US$)': 5255, 'PNG, commercial banks and other creditors (NTR, current US$)': 5255, 'PPG, bilateral (DOD, current US$)': 5255, 'PPG, bilateral (NTR, current US$)': 5255, 'PPG, bilateral (TDS, current US$)': 5255, 'PPG, bilateral concessional (AMT, current US$)': 5255, 'PPG, bilateral concessional (DIS, current US$)': 5255, 'PPG, bilateral concessional (DOD, current US$)': 5255, 'PPG, bilateral concessional (INT, current US$)': 5255, 'PPG, bilateral concessional (NFL, current US$)': 5255, 'PPG, bilateral concessional (NTR, current US$)': 5255, 'PPG, bilateral concessional (TDS, current US$)': 5255, 'PPG, bonds (DIS, current US$)': 5255, 'PPG, bonds (DOD, current US$)': 5255, 'PPG, bonds (NFL, current US$)': 5255, 'PPG, bonds (NTR, current US$)': 5255, 'PPG, bonds (TDS, current US$)': 5255, 'PPG, commercial banks (DOD, current US$)': 5255, 'PPG, commercial banks (NFL, current US$)': 5255, 'PPG, commercial banks (NTR, current US$)': 5255, 'PPG, commercial banks (TDS, current US$)': 5255, 'PPG, multilateral (DOD, current US$)': 5255, 'PPG, multilateral (NTR, current US$)': 5255, 'PPG, multilateral concessional (AMT, current US$)': 5255, 'PPG, multilateral concessional (DIS, current US$)': 5255, 'PPG, multilateral concessional (DOD, current US$)': 5255, 'PPG, multilateral concessional (INT, current US$)': 5255, 'PPG, multilateral concessional (NFL, current US$)': 5255, 'PPG, multilateral concessional (NTR, current US$)': 5255, 'PPG, multilateral concessional (TDS, current US$)': 5255, 'PPG, official creditors (DOD, current US$)': 5255, 'PPG, official creditors (NFL, current US$)': 5255, 'PPG, official creditors (NTR, current US$)': 5255, 'PPG, official creditors (TDS, current US$)': 5255, 'PPG, other private creditors (DOD, current US$)': 5255, 'PPG, other private creditors (NFL, current US$)': 5255, 'PPG, other private creditors (NTR, current US$)': 5255, 'PPG, other private creditors (TDS, current US$)': 5255, 'PPG, private creditors (DOD, current US$)': 5255, 'PPG, private creditors (NFL, current US$)': 5255, 'PPG, private creditors (NTR, current US$)': 5255, 'PPG, private creditors (TDS, current US$)': 5255, 'Principal arrears, long-term DOD (US$)': 5255, 'Principal arrears, official creditors (current US$)': 5255, 'Principal arrears, private creditors (current US$)': 5255, 'Principal repayments on external debt, public and publicly guaranteed (PPG) (AMT, current US$)': 5255, 'Undisbursed external debt, official creditors (UND, current US$)': 5255, 'Undisbursed external debt, private creditors (UND, current US$)': 5255, 'Undisbursed external debt, total (UND, current US$)': 5255, 'Teachers in secondary education, both sexes (number)': 5225, 'GNI, PPP (current international $)': 5213, 'Refugee population by country or territory of origin': 5212, 'Net bilateral aid flows from DAC donors, Denmark (current US$)': 5210, 'GNI per capita, PPP (current international $)': 5210, 'Net bilateral aid flows from DAC donors, Australia (current US$)': 5184, 'Adjusted savings: net national savings (current US$)': 5184, 'Pupil-teacher ratio in secondary education (headcount basis)': 5170, 'Internet users (per 100 people)': 5166, 'Terrestrial and marine protected areas (% of total territorial area)': 5146, 'Terrestrial protected areas (% of total land area)': 5143, 'Discrepancy in expenditure estimate of GDP (constant LCU)': 5120, 'Gross intake ratio to Grade 1 of primary education, female (%)': 5111, 'Gross intake ratio to Grade 1 of primary education, male (%)': 5111, 'Net taxes on products (constant LCU)': 5099, 'Renewable electricity output (% of total electricity output)': 5075, 'Percentage of repeaters in primary education, all grades, female (%)': 5056, 'Percentage of repeaters in primary education, all grades, male (%)': 5056, 'Short-term debt (% of total reserves)': 5056, 'Energy intensity level of primary energy (MJ/$2011 PPP GDP)': 5055, 'Net official flows from UN agencies, WFP (current US$)': 5033, 'Total debt service (% of GNI)': 5026, 'Public and publicly guaranteed debt service (% of GNI)': 5023, 'Multilateral debt service (% of public and publicly guaranteed debt service)': 5009, 'Armed forces personnel, total': 4988, 'Employment to population ratio, 15+, female (%) (modeled ILO estimate)': 4944, 'Employment to population ratio, 15+, male (%) (modeled ILO estimate)': 4944, 'Employment to population ratio, 15+, total (%) (modeled ILO estimate)': 4944, 'Employment to population ratio, ages 15-24, female (%) (modeled ILO estimate)': 4944, 'Employment to population ratio, ages 15-24, male (%) (modeled ILO estimate)': 4944, 'Employment to population ratio, ages 15-24, total (%) (modeled ILO estimate)': 4944, 'Unemployment, female (% of female labor force)': 4944, 'Unemployment, male (% of male labor force)': 4944, 'Unemployment, total (% of total labor force)': 4944, 'Unemployment, youth female (% of female labor force ages 15-24) (modeled ILO estimate)': 4944, 'Unemployment, youth male (% of male labor force ages 15-24) (modeled ILO estimate)': 4944, 'Unemployment, youth total (% of total labor force ages 15-24) (modeled ILO estimate)': 4944, 'Adjusted net enrolment rate, primary, both sexes (%)': 4935, 'Out-of-school children of primary school age, both sexes (number)': 4935, 'Net enrolment rate, primary, both sexes (%)': 4926, 'Lending interest rate (%)': 4895, 'GDP per person employed (constant 1990 PPP $)': 4881, 'Patent applications, residents': 4879, 'Renewable energy consumption (% of total final energy consumption)': 4867, 'Prevalence of anemia among children (% of children under 5)': 4796, 'Prevalence of anemia among non-pregnant women (% of women ages 15-49)': 4796, 'Prevalence of anemia among pregnant women (%)': 4796, 'Net bilateral aid flows from DAC donors, Finland (current US$)': 4787, 'Primary completion rate, male (%)': 4778, 'Primary completion rate, female (%)': 4776, 'Adjusted net savings, excluding particulate emission damage (current US$)': 4736, 'External debt stocks (% of GNI)': 4732, 'Interest payments on external debt (% of GNI)': 4718, 'Changes in inventories (constant LCU)': 4700, 'Real interest rate (%)': 4684, 'Export volume index (2000 = 100)': 4631, 'Armed forces personnel (% of total labor force)': 4607, 'CO2 emissions (kg per 2011 PPP $ of GDP)': 4582, 'CO2 emissions (kg per PPP $ of GDP)': 4573, 'Refugee population by country or territory of asylum': 4558, 'Military expenditure (% of GDP)': 4542, 'PPP conversion factor, GDP (LCU per international $)': 4542, 'Price level ratio of PPP conversion factor (GDP) to market exchange rate': 4519, 'Percentage of repeaters in secondary general education, all grades, both sexes (%)': 4511, 'Net official flows from UN agencies, UNHCR (current US$)': 4465, 'Import volume index (2000 = 100)': 4440, 'Net barter terms of trade index (2000 = 100)': 4423, 'Lower secondary completion rate, both sexes (%)': 4392, 'Percentage of teachers in secondary education who are female (%)': 4370, 'Household final consumption expenditure, PPP (current international $)': 4370, 'Teachers in secondary education, female (number)': 4354, 'Net bilateral aid flows from DAC donors, Korea, Rep. (current US$)': 4352, 'Adjusted net enrolment rate, primary, female (%)': 4292, 'Out-of-school children of primary school age, female (number)': 4292, 'Adjusted net enrolment rate, primary, male (%)': 4291, 'Out-of-school children of primary school age, male (number)': 4291, 'Survival rate to the last grade of primary education, both sexes (%)': 4279, 'Health expenditure per capita (current US$)': 4170, 'Health expenditure per capita, PPP (constant 2011 international $)': 4170, 'Health expenditure, public (% of total health expenditure)': 4170, 'Out-of-pocket health expenditure (% of private expenditure on health)': 4170, 'Out-of-pocket health expenditure (% of total expenditure on health)': 4170, 'Health expenditure, private (% of GDP)': 4163, 'Health expenditure, public (% of GDP)': 4163, 'Health expenditure, total (% of GDP)': 4163, 'International tourism, number of arrivals': 4141, 'Proportion of seats held by women in national parliaments (%)': 4120, 'International tourism, receipts (current US$)': 4098, 'Primary to secondary general education transition rate, both sexes (%)': 4097, 'PPP conversion factor, private consumption (LCU per international $)': 4040, 'External debt stocks (% of exports of goods, services and primary income)': 4019, 'Total debt service (% of exports of goods, services and primary income)': 4016, 'Household final consumption expenditure, PPP (constant 2011 international $)': 4015, 'Interest payments on external debt (% of exports of goods, services and primary income)': 4014, 'Other manufacturing (% of value added in manufacturing)': 3940, 'Textiles and clothing (% of value added in manufacturing)': 3924, 'Food, beverages and tobacco (% of value added in manufacturing)': 3919, 'Net official flows from UN agencies, IFAD (current US$)': 3915, 'Gross domestic savings (constant LCU)': 3913, 'International tourism, expenditures (current US$)': 3898, 'High-technology exports (% of manufactured exports)': 3875, 'International tourism, receipts for travel items (current US$)': 3841, 'Debt service (PPG and IMF only, % of exports of goods, services and primary income)': 3821, 'GNI per capita, PPP (constant 2011 international $)': 3818, 'GNI, PPP (constant 2011 international $)': 3818, 'Military expenditure (current LCU)': 3813, 'International tourism, expenditures for travel items (current US$)': 3802, 'Chemicals (% of value added in manufacturing)': 3799, 'Percentage of repeaters in secondary general education, all grades, female (%)': 3775, 'Percentage of repeaters in secondary general education, all grades, male (%)': 3775, 'Tuberculosis treatment success rate (% of new cases)': 3771, 'Lower secondary completion rate, female (%)': 3747, 'Health expenditure, public (% of government expenditure)': 3747, 'Net enrolment rate, primary, female (%)': 3746, 'Net enrolment rate, primary, male (%)': 3745, 'Lower secondary completion rate, male (%)': 3742, 'Newborns protected against tetanus (%)': 3734, 'Physicians (per 1,000 people)': 3732, 'Energy use (kg of oil equivalent) per $1,000 GDP (constant 2011 PPP)': 3720, 'GDP per unit of energy use (constant 2011 PPP $ per kg of oil equivalent)': 3720, 'GDP per unit of energy use (PPP $ per kg of oil equivalent)': 3718, 'High-technology exports (current US$)': 3714, 'Machinery and transport equipment (% of value added in manufacturing)': 3712, 'Net bilateral aid flows from DAC donors, New Zealand (current US$)': 3703, 'Net current transfers from abroad (constant LCU)': 3695, 'Marine protected areas (% of territorial waters)': 3680, 'Gross fixed capital formation, private sector (% of GDP)': 3652, 'Survival rate to the last grade of primary education, female (%)': 3650, 'Survival rate to the last grade of primary education, male (%)': 3650, 'Unemployment, total (% of total labor force) (national estimate)': 3642, 'External resources for health (% of total expenditure on health)': 3626, 'Net bilateral aid flows from DAC donors, Spain (current US$)': 3606, 'Percentage of teachers in tertiary education who are female (%)': 3601, 'Labor force participation rate, total (% of total population ages 15+) (national estimate)': 3548, 'Net bilateral aid flows from DAC donors, Ireland (current US$)': 3531, 'Currency composition of PPG debt, Deutsche mark (%)': 3434, 'Currency composition of PPG debt, French franc (%)': 3434, 'Railways, goods transported (million ton-km)': 3431, 'Employment in industry (% of total employment)': 3429, 'Employment in services (% of total employment)': 3429, 'Merchandise exports to developing economies in Europe & Central Asia (% of total merchandise exports)': 3405, 'Merchandise imports from developing economies in Europe & Central Asia (% of total merchandise imports)': 3389, 'Employment in agriculture (% of total employment)': 3387, 'Hospital beds (per 1,000 people)': 3364, 'Primary to secondary general education transition rate, male (%)': 3362, 'Labor force participation rate, female (% of female population ages 15+) (national estimate)': 3348, 'Labor force participation rate, male (% of male population ages 15+) (national estimate)': 3348, 'Primary to secondary general education transition rate, female (%)': 3338, 'Unemployment, male (% of male labor force) (national estimate)': 3313, 'Unemployment, female (% of female labor force) (national estimate)': 3312, 'Residual, debt stock-flow reconciliation (current US$)': 3306, 'Total change in external debt stocks (current US$)': 3306, 'Debt buyback (current US$)': 3303, 'Debt stock reduction (current US$)': 3303, 'Debt stock rescheduled (current US$)': 3303, 'Interest rescheduled, official (current US$)': 3303, 'Interest rescheduled, private (current US$)': 3303, 'Principal rescheduled (current US$)': 3303, 'Principal rescheduled, official (current US$)': 3303, 'Principal rescheduled, private (current US$)': 3303, 'Total amount of debt rescheduled (current US$)': 3303, 'Interest forgiven (current US$)': 3302, 'Principal forgiven (current US$)': 3300, 'Debt forgiveness or reduction (current US$)': 3286, 'Interest rescheduled (capitalized) (current US$)': 3286, 'Net change in interest arrears (current US$)': 3286, 'Ratio of female to male labor force participation rate (%) (national estimate)': 3285, 'Government expenditure on education as % of GDP (%)': 3273, 'Real effective exchange rate index (2010 = 100)': 3246, 'Gross fixed capital formation, private sector (current LCU)': 3218, 'Railways, passengers carried (million passenger-km)': 3184, 'International tourism, expenditures for passenger transport items (current US$)': 3175, 'Arms exports (SIPRI trend indicator values)': 3173, 'Depth of the food deficit (kilocalories per person per day)': 3168, 'Prevalence of undernourishment (% of population)': 3128, 'Employment to population ratio, 15+, total (%) (national estimate)': 3112, 'Prevalence of HIV, total (% of population ages 15-49)': 3055, 'Net enrolment rate, secondary, both sexes (%)': 3053, 'Listed domestic companies, total': 3026, 'Wholesale price index (2010 = 100)': 3009, 'Prevalence of HIV, female (% ages 15-24)': 3000, 'Prevalence of HIV, male (% ages 15-24)': 3000, 'Rail lines (total route-km)': 2984, 'Employment in industry, female (% of female employment)': 2982, 'Employment in industry, male (% of male employment)': 2982, 'Employment in services, female (% of female employment)': 2982, 'Employment in services, male (% of male employment)': 2982, 'Employment in agriculture, female (% of female employment)': 2962, 'Employment in agriculture, male (% of male employment)': 2962, \"Women's share of population ages 15+ living with HIV (%)\": 2957, 'International tourism, receipts for passenger transport items (current US$)': 2935, 'Labor force participation rate for ages 15-24, total (%) (national estimate)': 2913, 'Employment to population ratio, 15+, female (%) (national estimate)': 2912, 'Employment to population ratio, 15+, male (%) (national estimate)': 2912, 'Share of women in wage employment in the nonagricultural sector (% of total nonagricultural employment)': 2878, 'Labor force participation rate for ages 15-24, male (%) (national estimate)': 2877, 'Labor force participation rate for ages 15-24, female (%) (national estimate)': 2876, 'Net enrolment rate, secondary, male (%)': 2874, 'Net enrolment rate, secondary, female (%)': 2873, 'Fixed broadband subscriptions': 2822, 'Secure Internet servers': 2794, 'Secure Internet servers (per 1 million people)': 2794, 'Wage and salaried workers, total (% of total employed)': 2745, 'Unemployment, youth total (% of total labor force ages 15-24) (national estimate)': 2722, 'Survival rate to Grade 5 of primary education, both sexes (%)': 2706, 'Market capitalization of listed domestic companies (current US$)': 2683, 'Self-employed, total (% of total employed)': 2665, 'Market capitalization of listed domestic companies (% of GDP)': 2656, 'Unemployment, youth female (% of female labor force ages 15-24) (national estimate)': 2632, 'Unemployment, youth male (% of male labor force ages 15-24) (national estimate)': 2632, 'Cost of business start-up procedures (% of GNI per capita)': 2628, 'Start-up procedures to register a business (number)': 2628, 'Time required to enforce a contract (days)': 2628, 'Time required to start a business (days)': 2628, 'Tariff rate, most favored nation, simple mean, all products (%)': 2620, 'Tariff rate, most favored nation, simple mean, manufactured products (%)': 2620, 'Tariff rate, most favored nation, simple mean, primary products (%)': 2620, 'Share of tariff lines with international peaks, all products (%)': 2615, 'Share of tariff lines with international peaks, manufactured products (%)': 2615, 'Share of tariff lines with international peaks, primary products (%)': 2615, 'Share of tariff lines with specific rates, all products (%)': 2615, 'Share of tariff lines with specific rates, manufactured products (%)': 2615, 'Share of tariff lines with specific rates, primary products (%)': 2615, 'Tariff rate, applied, simple mean, all products (%)': 2615, 'Tariff rate, applied, simple mean, manufactured products (%)': 2615, 'Tariff rate, applied, simple mean, primary products (%)': 2615, 'Tariff rate, applied, weighted mean, all products (%)': 2615, 'Tariff rate, applied, weighted mean, manufactured products (%)': 2615, 'Tariff rate, applied, weighted mean, primary products (%)': 2615, 'Tariff rate, most favored nation, weighted mean, all products (%)': 2615, 'Tariff rate, most favored nation, weighted mean, manufactured products (%)': 2615, 'Tariff rate, most favored nation, weighted mean, primary products (%)': 2615, 'ICT goods imports (% total goods imports)': 2608, 'Contributing family workers, total (% of total employed)': 2589, 'Net bilateral aid flows from DAC donors, Luxembourg (current US$)': 2585, 'Wage and salaried workers, female (% of females employed)': 2578, 'Wage and salary workers, male (% of males employed)': 2578, 'Risk premium on lending (lending rate minus treasury bill rate, %)': 2574, 'Intentional homicides (per 100,000 people)': 2562, 'Self-employed, female (% of females employed)': 2561, 'Self-employed, male (% of males employed)': 2561, 'Fixed broadband subscriptions (per 100 people)': 2545, 'Grants and other revenue (% of revenue)': 2521, 'Taxes on income, profits and capital gains (% of revenue)': 2519, 'Stocks traded, turnover ratio of domestic shares (%)': 2518, 'Taxes on goods and services (% of revenue)': 2516, 'International migrant stock, total': 2509, 'International migrant stock (% of population)': 2491, 'Contributing family workers, female (% of females employed)': 2488, 'Contributing family workers, male (% of males employed)': 2488, 'Net migration': 2485, 'ICT goods exports (% of total goods exports)': 2482, 'Interest payments (% of revenue)': 2477, 'Tax revenue (% of GDP)': 2474, 'Private credit bureau coverage (% of adults)': 2462, 'Public credit registry coverage (% of adults)': 2462, 'Revenue, excluding grants (% of GDP)': 2456, 'Compensation of employees (% of expense)': 2430, 'Stocks traded, total value (current US$)': 2427, 'Interest payments (% of expense)': 2427, 'Goods and services expense (% of expense)': 2424, 'Procedures to register property (number)': 2416, 'Time required to register property (days)': 2416, 'Stocks traded, total value (% of GDP)': 2412, 'Bank nonperforming loans to total gross loans (%)': 2383, 'Taxes on international trade (% of revenue)': 2340, 'Expense (% of GDP)': 2336, 'Subsidies and other transfers (% of expense)': 2335, 'Renewable internal freshwater resources, total (billion cubic meters)': 2323, 'Renewable internal freshwater resources per capita (cubic meters)': 2322, 'Cash surplus/deficit (% of GDP)': 2318, 'Other taxes (% of revenue)': 2311, 'Commercial bank branches (per 100,000 adults)': 2293, 'Investment in telecoms with private participation (current US$)': 2292, 'Business extent of disclosure index (0=less disclosure to 10=more disclosure)': 2286, 'Tax payments (number)': 2286, 'Time to prepare and pay taxes (hours)': 2286, 'Total tax rate (% of commercial profits)': 2286, 'Procedures to build a warehouse (number)': 2264, 'Time required to build a warehouse (days)': 2264, 'Percentage of enrolment in secondary education in private institutions (%)': 2243, 'Survival rate to Grade 5 of primary education, female (%)': 2240, 'Survival rate to Grade 5 of primary education, male (%)': 2240, 'Tax revenue (current LCU)': 2212, 'Fertilizer consumption (kilograms per hectare of arable land)': 2206, 'Revenue, excluding grants (current LCU)': 2196, 'International tourism, number of departures': 2192, 'Taxes on income, profits and capital gains (% of total taxes)': 2161, 'Taxes on income, profits and capital gains (current LCU)': 2161, 'Taxes on goods and services (current LCU)': 2160, 'Cost to export (US$ per container)': 2153, 'Cost to import (US$ per container)': 2153, 'Documents to export (number)': 2153, 'Documents to import (number)': 2153, 'Time to export (days)': 2153, 'Time to import (days)': 2153, 'Grants and other revenue (current LCU)': 2140, 'Automated teller machines (ATMs) (per 100,000 adults)': 2140, 'Unemployment with primary education (% of total unemployment)': 2138, 'Interest payments (current LCU)': 2130, 'Unemployment with secondary education (% of total unemployment)': 2129, 'Unemployment with tertiary education (% of total unemployment)': 2126, 'Compensation of employees (current LCU)': 2115, 'Goods and services expense (current LCU)': 2109, 'Expense (current LCU)': 2105, 'Net bilateral aid flows from DAC donors, Greece (current US$)': 2092, 'Cash surplus/deficit (current LCU)': 2087, 'Military expenditure (% of central government expenditure)': 2069, 'Binding coverage, all products (%)': 2064, 'Binding coverage, manufactured products (%)': 2064, 'Binding coverage, primary products (%)': 2064, 'Bound rate, simple mean, all products (%)': 2064, 'Bound rate, simple mean, manufactured products (%)': 2064, 'Bound rate, simple mean, primary products (%)': 2064, 'Average precipitation in depth (mm per year)': 2063, 'Taxes on goods and services (% value added of industry and services)': 2063, 'Children (0-14) living with HIV': 2050, 'Subsidies and other transfers (current LCU)': 2017, 'Employers, total (% of employment)': 2014, 'Other taxes (current LCU)': 2011, 'Unemployment with primary education, female (% of female unemployment)': 2002, 'Unemployment with primary education, male (% of male unemployment)': 2002, 'Taxes on international trade (current LCU)': 1998, 'Unemployment with secondary education, female (% of female unemployment)': 1993, 'Unemployment with secondary education, male (% of male unemployment)': 1993, 'Unemployment with tertiary education, female (% of female unemployment)': 1990, 'Unemployment with tertiary education, male (% of male unemployment)': 1990, 'Service exports (BoP, current US$)': 1977, 'Service imports (BoP, current US$)': 1977, 'Pump price for gasoline (US$ per liter)': 1976, 'Goods imports (BoP, current US$)': 1974, 'Imports of goods and services (BoP, current US$)': 1974, 'Imports of goods, services and primary income (BoP, current US$)': 1973, 'Exports of goods and services (BoP, current US$)': 1971, 'Exports of goods, services and primary income (BoP, current US$)': 1971, 'Goods exports (BoP, current US$)': 1970, 'Pump price for diesel fuel (US$ per liter)': 1959, 'Primary income payments (BoP, current US$)': 1955, 'Primary income receipts (BoP, current US$)': 1954, 'Employers, female (% of employment)': 1951, 'Employers, male (% of employment)': 1951, 'Travel services (% of service imports, BoP)': 1949, 'Communications, computer, etc. (% of service imports, BoP)': 1948, 'Transport services (% of service imports, BoP)': 1948, 'Other expense (% of expense)': 1945, 'Communications, computer, etc. (% of service exports, BoP)': 1938, 'Insurance and financial services (% of service imports, BoP)': 1938, 'Commercial service exports (current US$)': 1933, 'Commercial service imports (current US$)': 1933, 'Transport services (% of service exports, BoP)': 1927, 'Travel services (% of service exports, BoP)': 1926, 'Trade in services (% of GDP)': 1919, 'Secondary income receipts (BoP, current US$)': 1908, 'Computer, communications and other services (% of commercial service imports)': 1905, 'Transport services (% of commercial service imports)': 1905, 'Travel services (% of commercial service imports)': 1905, 'Secondary income, other sectors, payments (BoP, current US$)': 1899, 'Computer, communications and other services (% of commercial service exports)': 1895, 'Insurance and financial services (% of commercial service imports)': 1895, 'Total reserves in months of imports': 1889, 'Methodology assessment of statistical capacity (scale 0 - 100)': 1885, 'Overall level of statistical capacity (scale 0 - 100)': 1885, 'Periodicity and timeliness assessment of statistical capacity (scale 0 - 100)': 1885, 'Source data assessment of statistical capacity (scale 0 - 100)': 1885, 'Customs and other import duties (% of tax revenue)': 1884, 'Customs and other import duties (current LCU)': 1884, 'Transport services (% of commercial service exports)': 1884, 'Travel services (% of commercial service exports)': 1882, 'Vulnerable employment, total (% of total employment)': 1871, 'International tourism, expenditures (% of total imports)': 1839, 'International tourism, receipts (% of total exports)': 1830, 'Bank capital to assets ratio (%)': 1828, 'Bank liquid reserves to bank assets ratio (%)': 1824, 'Currency composition of PPG debt, Euro (%)': 1821, 'Vulnerable employment, female (% of female employment)': 1816, 'Vulnerable employment, male (% of male employment)': 1816, 'Net bilateral aid flows from DAC donors, Portugal (current US$)': 1808, 'Insurance and financial services (% of service exports, BoP)': 1798, 'Insurance and financial services (% of commercial service exports)': 1758, 'Research and development expenditure (% of GDP)': 1744, 'Antiretroviral therapy coverage (% of people living with HIV)': 1740, 'Broad money (% of GDP)': 1722, 'Claims on central government, etc. (% GDP)': 1722, 'Claims on other sectors of the domestic economy (% of GDP)': 1722, 'Domestic credit provided by financial sector (% of GDP)': 1722, 'Domestic credit to private sector (% of GDP)': 1722, 'Domestic credit to private sector by banks (% of GDP)': 1722, 'Money and quasi money (M2) as % of GDP': 1722, 'Liner shipping connectivity index (maximum value in 2004 = 100)': 1705, 'Employment to population ratio, ages 15-24, total (%) (national estimate)': 1703, 'Foreign direct investment, net (BoP, current US$)': 1702, 'Employment to population ratio, ages 15-24, female (%) (national estimate)': 1684, 'Employment to population ratio, ages 15-24, male (%) (national estimate)': 1684, 'ICT service exports (% of service exports, BoP)': 1675, 'Other expense (current LCU)': 1669, 'Charges for the use of intellectual property, payments (BoP, current US$)': 1664, 'Current account balance (BoP, current US$)': 1664, 'Net primary income (BoP, current US$)': 1664, 'Net trade in goods (BoP, current US$)': 1664, 'Net trade in goods and services (BoP, current US$)': 1664, 'Net errors and omissions (BoP, current US$)': 1657, 'Net financial account (BoP, current US$)': 1657, 'ICT service exports (BoP, current US$)': 1651, 'Part time employment, total (% of total employment)': 1645, 'Part time employment, female (% of total female employment)': 1629, 'Part time employment, male (% of total male employment)': 1629, 'Current account balance (% of GDP)': 1629, 'Part time employment, female (% of total part time employment)': 1626, 'Net incurrence of liabilities, foreign (% of GDP)': 1621, 'Net incurrence of liabilities, domestic (% of GDP)': 1617, 'Personal transfers, receipts (BoP, current US$)': 1610, 'Expenditure on education as % of total government expenditure (%)': 1599, 'Long-term unemployment (% of total unemployment)': 1597, 'Social contributions (% of revenue)': 1584, 'Broad money (current LCU)': 1574, 'Money and quasi money (M2) (current LCU)': 1574, 'Net domestic credit (current LCU)': 1574, 'Net foreign assets (current LCU)': 1574, 'Money (current LCU)': 1560, 'Foreign direct investment, net outflows (% of GDP)': 1559, 'Labor force with tertiary education (% of total)': 1558, 'Container port traffic (TEU: 20 foot equivalent units)': 1557, 'Labor force with primary education (% of total)': 1556, 'Broad money to total reserves ratio': 1554, 'Money and quasi money (M2) to total reserves ratio': 1554, 'S&P Global Equity Indices (annual % change)': 1544, 'Labor force with secondary education (% of total)': 1536, 'PM2.5 air pollution, mean annual exposure (micrograms per cubic meter)': 1532, 'PM2.5 air pollution, population exposed to levels exceeding WHO guideline value (% of total)': 1529, 'Reserves and related items (BoP, current US$)': 1527, 'Portfolio Investment, net (BoP, current US$)': 1496, 'Long-term unemployment, female (% of female unemployment)': 1495, 'Long-term unemployment, male (% of male unemployment)': 1495, 'Net capital account (BoP, current US$)': 1492, 'Distance to frontier score (0=lowest performance to 100=frontier)': 1487, 'Time required to get electricity (days)': 1487, 'Net incurrence of liabilities, foreign (current LCU)': 1482, 'New business density (new registrations per 1,000 people ages 15-64)': 1472, 'Births attended by skilled health staff (% of total)': 1471, 'Net incurrence of liabilities, domestic (current LCU)': 1464, 'Broad money growth (annual %)': 1460, 'Claims on central government (annual growth as % of broad money)': 1460, 'Claims on other sectors of the domestic economy (annual growth as % of broad money)': 1460, 'Claims on private sector (annual growth as % of broad money)': 1460, 'Money and quasi money growth (annual %)': 1460, 'Labor force with tertiary education, female (% of female labor force)': 1455, 'Labor force with tertiary education, male (% of male labor force)': 1455, 'Labor force with primary education, female (% of female labor force)': 1452, 'Labor force with primary education, male (% of male labor force)': 1452, 'Labor force with secondary education, female (% of female labor force)': 1432, 'Labor force with secondary education, male (% of male labor force)': 1432, 'Social contributions (current LCU)': 1398, 'Net ODA received (% of central government expense)': 1387, 'Charges for the use of intellectual property, receipts (BoP, current US$)': 1383, 'Net ODA received (% of imports of goods, services and primary income)': 1380, 'Researchers in R&D (per million people)': 1371, 'Burden of customs procedure, WEF (1=extremely inefficient to 7=extremely efficient)': 1359, 'Quality of port infrastructure, WEF (1=extremely underdeveloped to 7=well developed and efficient by international standards)': 1359, 'Central government debt, total (% of GDP)': 1340, 'Expenditure on tertiary as % of government expenditure on education (%)': 1337, 'Female legislators, senior officials and managers (% of total)': 1326, 'Fertilizer consumption (% of fertilizer production)': 1305, 'Net intake rate to Grade 1 of primary education, both sexes (%)': 1282, 'GINI index (World Bank estimate)': 1255, 'Income share held by fourth 20%': 1255, 'Income share held by highest 10%': 1255, 'Income share held by highest 20%': 1255, 'Income share held by lowest 10%': 1255, 'Income share held by lowest 20%': 1255, 'Income share held by second 20%': 1255, 'Income share held by third 20%': 1255, 'Net official flows from UN agencies, UNAIDS (current US$)': 1225, 'Net intake rate to Grade 1 of primary education, female (%)': 1222, 'Net intake rate to Grade 1 of primary education, male (%)': 1219, 'Poverty gap at $1.90 a day (2011 PPP) (%)': 1216, 'Poverty headcount ratio at $1.90 a day (2011 PPP) (% of population)': 1216, 'Poverty gap at $3.10 a day (2011 PPP) (%)': 1204, 'Poverty headcount ratio at $3.10 a day (2011 PPP) (% of population)': 1204, 'Government expenditure per primary student as % of GDP per capita (%)': 1203, 'Expenditure on primary as % of government expenditure on education (%)': 1198, 'Central government debt, total (current LCU)': 1191, 'Expenditure on secondary as % of government expenditure on education (%)': 1183, 'Short-term debt (% of exports of goods, services and primary income)': 1176, 'Public and publicly guaranteed debt service (% of exports of goods, services and primary income)': 1172, 'Contraceptive prevalence (% of women ages 15-49)': 1147, 'Percentage of teachers in primary education who are trained, both sexes (%)': 1136, 'New businesses registered (number)': 1128, 'Net bilateral aid flows from DAC donors, Czech Republic (current US$)': 1111, 'Government expenditure per secondary student as % of GDP per capita (%)': 1107, 'Government expenditure per tertiary student as % of GDP per capita (%)': 1086, 'Borrowers from commercial banks (per 1,000 adults)': 1058, 'Investment in energy with private participation (current US$)': 1054, 'CPIA building human resources rating (1=low to 6=high)': 1023, 'CPIA business regulatory environment rating (1=low to 6=high)': 1023, 'CPIA debt policy rating (1=low to 6=high)': 1023, 'CPIA economic management cluster average (1=low to 6=high)': 1023, 'CPIA efficiency of revenue mobilization rating (1=low to 6=high)': 1023, 'CPIA equity of public resource use rating (1=low to 6=high)': 1023, 'CPIA financial sector rating (1=low to 6=high)': 1023, 'CPIA fiscal policy rating (1=low to 6=high)': 1023, 'CPIA gender equality rating (1=low to 6=high)': 1023, 'CPIA macroeconomic management rating (1=low to 6=high)': 1023, 'CPIA policy and institutions for environmental sustainability rating (1=low to 6=high)': 1023, 'CPIA property rights and rule-based governance rating (1=low to 6=high)': 1023, 'CPIA public sector management and institutions cluster average (1=low to 6=high)': 1023, 'CPIA quality of budgetary and financial management rating (1=low to 6=high)': 1023, 'CPIA quality of public administration rating (1=low to 6=high)': 1023, 'CPIA structural policies cluster average (1=low to 6=high)': 1023, 'CPIA trade rating (1=low to 6=high)': 1023, 'CPIA transparency, accountability, and corruption in the public sector rating (1=low to 6=high)': 1023, 'IDA resource allocation index (1=low to 6=high)': 1023, 'CPIA policies for social inclusion/equity cluster average (1=low to 6=high)': 1018, 'CPIA social protection rating (1=low to 6=high)': 1015, 'Net official flows from UN agencies, IAEA (current US$)': 998, 'Percentage of female teachers in primary education who are trained, female (%)': 992, 'Percentage of male teachers in primary education who are trained, male (%)': 992, 'Access to electricity (% of population)': 980, 'Access to electricity, rural (% of rural population)': 980, 'Access to electricity, urban (% of urban population)': 980, 'Current education expenditure, total (% of total expenditure in public institutions)': 970, 'Net bilateral aid flows from DAC donors, Poland (current US$)': 951, 'Current education expenditure, secondary (% of total expenditure in secondary public institutions)': 943, 'Water productivity, total (constant 2005 US$ GDP per cubic meter of total freshwater withdrawal)': 941, 'GHG net emissions/removals by LUCF (Mt of CO2 equivalent)': 940, 'Current education expenditure, primary (% of total expenditure in primary public institutions)': 938, 'Depositors with commercial banks (per 1,000 adults)': 937, 'Technicians in R&D (per million people)': 930, 'Adjusted net savings, including particulate emission damage (% of GNI)': 927, 'Vitamin A supplementation coverage rate (% of children ages 6-59 months)': 914, 'Current education expenditure, tertiary (% of total expenditure in tertiary public institutions)': 905, 'Mortality rate, infant, female (per 1,000 live births)': 900, 'Mortality rate, infant, male (per 1,000 live births)': 900, 'Mortality rate, under-5, female (per 1,000 live births)': 900, 'Mortality rate, under-5, male (per 1,000 live births)': 900, 'Prevalence of underweight, weight for age (% of children under 5)': 899, 'Access to non-solid fuel (% of population)': 896, 'All education staff compensation, secondary (% of total expenditure in secondary public institutions)': 886, 'All education staff compensation, primary (% of total expenditure in primary public institutions)': 885, 'All education staff compensation, total (% of total expenditure in public institutions)': 885, 'Prevalence of stunting, height for age (% of children under 5)': 870, 'Prevalence of wasting, weight for height (% of children under 5)': 863, 'Net official flows from UN agencies, UNRWA (current US$)': 853, 'Quasi money (current LCU)': 853, 'Battle-related deaths (number of people)': 848, 'Methane emissions (kt of CO2 equivalent)': 832, 'Methane emissions in energy sector (thousand metric tons of CO2 equivalent)': 832, 'Nitrous oxide emissions (thousand metric tons of CO2 equivalent)': 832, 'Nitrous oxide emissions in energy sector (thousand metric tons of CO2 equivalent)': 832, 'Agricultural methane emissions (% of total)': 830, 'Agricultural nitrous oxide emissions (% of total)': 830, 'Energy related methane emissions (% of total)': 830, 'Nitrous oxide emissions in industrial and energy processes (% of total nitrous oxide emissions)': 830, 'Diarrhea treatment (% of children under 5 who received ORS packet)': 824, 'All education staff compensation, tertiary (% of total expenditure in tertiary public institutions)': 784, 'Pregnant women receiving prenatal care (%)': 779, 'Other greenhouse gas emissions, HFC, PFC and SF6 (thousand metric tons of CO2 equivalent)': 772, 'Share of youth not in education, employment, or training, total (% of youth population)': 752, 'Share of youth not in education, employment, or training, male (% of male youth population)': 749, 'Share of youth not in education, employment, or training, female (% of female youth population)': 748, 'Logistics performance index: Ability to track and trace consignments (1=low to 5=high)': 747, 'Logistics performance index: Competence and quality of logistics services (1=low to 5=high)': 747, 'Logistics performance index: Ease of arranging competitively priced shipments (1=low to 5=high)': 747, 'Logistics performance index: Efficiency of customs clearance process (1=low to 5=high)': 747, 'Logistics performance index: Frequency with which shipments reach consignee within scheduled or expected time (1=low to 5=high)': 747, 'Logistics performance index: Overall (1=low to 5=high)': 747, 'Logistics performance index: Quality of trade and transport-related infrastructure (1=low to 5=high)': 747, 'Net income from abroad (constant LCU)': 742, 'SF6 gas emissions (thousand metric tons of CO2 equivalent)': 741, 'Prevalence of overweight, weight for height (% of children under 5)': 740, 'Adult literacy rate, population 15+ years, both sexes (%)': 737, 'Adult literacy rate, population 15+ years, female (%)': 734, 'Adult literacy rate, population 15+ years, male (%)': 734, 'Annual freshwater withdrawals, total (billion cubic meters)': 732, 'Youth literacy rate, population 15-24 years, both sexes (%)': 731, 'Youth literacy rate, population 15-24 years, female (%)': 728, 'Youth literacy rate, population 15-24 years, gender parity index (GPI)': 728, 'Youth literacy rate, population 15-24 years, male (%)': 728, 'HFC gas emissions (thousand metric tons of CO2 equivalent)': 728, 'PFC gas emissions (thousand metric tons of CO2 equivalent)': 723, 'Net official aid received (constant 2012 US$)': 721, 'Net official aid received (current US$)': 721, 'Low-birthweight babies (% of births)': 709, 'Annual freshwater withdrawals, total (% of internal resources)': 708, 'Agricultural irrigated land (% of total agricultural land)': 705, 'Nurses and midwives (per 1,000 people)': 704, 'Maternal mortality ratio (national estimate, per 100,000 live births)': 689, 'Taxes on exports (% of tax revenue)': 687, 'Taxes on exports (current LCU)': 687, 'Adjusted savings: particulate emission damage (current US$)': 678, 'Agricultural methane emissions (thousand metric tons of CO2 equivalent)': 672, 'Agricultural nitrous oxide emissions (thousand metric tons of CO2 equivalent)': 672, 'Industrial nitrous oxide emissions (thousand metric tons of CO2 equivalent)': 672, 'Depth of credit information index (0=low to 8=high)': 663, 'Strength of legal rights index (0=weak to 12=strong)': 663, 'Annual freshwater withdrawals, agriculture (% of total freshwater withdrawal)': 659, 'Investment in transport with private participation (current US$)': 650, 'Annual freshwater withdrawals, domestic (% of total freshwater withdrawal)': 640, 'Annual freshwater withdrawals, industry (% of total freshwater withdrawal)': 638, 'Poverty headcount ratio at national poverty lines (% of population)': 634, 'Prevalence of severe wasting, weight for height (% of children under 5)': 627, 'Labor tax and contributions (% of commercial profits)': 626, 'Profit tax (% of commercial profits)': 626, 'Internally displaced persons (number, high estimate)': 610, 'Smoking prevalence, females (% of adults)': 600, 'Smoking prevalence, males (% of adults)': 591, 'Adjusted savings: particulate emission damage (% of GNI)': 572, 'Lead time to export, median case (days)': 563, 'Lead time to import, median case (days)': 554, 'Prevalence of underweight, weight for age, male (% of children under 5)': 547, 'Net bilateral aid flows from DAC donors, Iceland (current US$)': 547, 'Prevalence of underweight, weight for age, female (% of children under 5)': 545, 'Completeness of death registration with cause-of-death information (%)': 545, 'Prevalence of stunting, height for age, male (% of children under 5)': 538, 'Prevalence of stunting, height for age, female (% of children under 5)': 536, 'Prevalence of wasting, weight for height, male (% of children under 5)': 535, 'Prevalence of wasting, weight for height, female (% of children under 5)': 533, 'Prevalence of overweight, weight for height, male (% of children under 5)': 522, 'Prevalence of overweight, weight for height, female (% of children under 5)': 520, 'Prevalence of severe wasting, weight for height, male (% of children under 5)': 519, 'Prevalence of severe wasting, weight for height, female (% of children under 5)': 518, 'Firms using banks to finance working capital (% of firms)': 496, 'Land area where elevation is below 5 meters (% of total land area)': 480, 'Population living in areas where elevation is below 5 meters (% of total population)': 480, 'Urban poverty headcount ratio at national poverty lines (% of urban population)': 451, 'Emigration rate of tertiary educated (% of total tertiary educated population)': 448, 'Access to non-solid fuel, rural (% of rural population)': 448, 'Access to non-solid fuel, urban (% of urban population)': 448, 'Ease of doing business index (1=most business-friendly regulations)': 442, 'Net bilateral aid flows from DAC donors, Slovak Republic (current US$)': 435, 'Net official flows from UN agencies, WHO (current US$)': 435, 'Time to resolve insolvency (years)': 430, 'Rural poverty headcount ratio at national poverty lines (% of rural population)': 424, 'Exclusive breastfeeding (% of children under 6 months)': 422, 'Other taxes payable by businesses (% of commercial profits)': 420, 'Cause of death, by communicable diseases and maternal, prenatal and nutrition conditions (% of total)': 408, 'Cause of death, by injury (% of total)': 408, 'Cause of death, by non-communicable diseases (% of total)': 408, 'Bribery incidence (% of firms experiencing at least one bribe payment request)': 407, 'GEF benefits index for biodiversity (0 = no biodiversity potential to 100 = maximum)': 404, 'Adjusted net savings, including particulate emission damage (current US$)': 388, 'Net bilateral aid flows from DAC donors, Slovenia (current US$)': 387, 'ARI treatment (% of children under 5 taken to a health provider)': 385, 'Unmet need for contraception (% of married women ages 15-49)': 381, 'Investment in water and sanitation with private participation (current US$)': 366, 'Completeness of total death reporting (% of reported total deaths to estimated total deaths)': 364, 'Firms using banks to finance investment (% of firms)': 323, 'Losses due to theft, robbery, vandalism, and arson (% sales)': 322, 'Time spent dealing with the requirements of government regulations (% of senior management time)': 321, 'Firms expected to give gifts in meetings with tax officials (% of firms)': 320, 'Firms offering formal training (% of firms)': 320, 'Internationally-recognized quality certification (% of firms)': 320, 'Informal payments to public officials (% of firms)': 317, 'Firms that do not report all sales for tax purposes (% of firms)': 314, 'Delay in obtaining an electrical connection (days)': 314, 'Poverty gap at national poverty lines (%)': 313, 'Completeness of infant death reporting (% of reported infant deaths to estimated infant deaths)': 311, 'Average time to clear exports through customs (days)': 308, 'Completeness of birth registration (%)': 303, 'Number of visits or required meetings with tax officials': 297, 'Quasi-liquid liabilities (% of GDP)': 288, 'Firms with female participation in ownership (% of firms)': 287, 'Teenage mothers (% of women ages 15-19 who have had children or are currently pregnant)': 280, 'Liquid liabilities (M3) as % of GDP': 274, 'Diarrhea treatment (% of children under 5 receiving oral rehydration and continued feeding)': 268, 'Wanted fertility rate (births per woman)': 267, 'Urban poverty gap at national poverty lines (%)': 254, 'Time required to obtain an operating license (days)': 254, 'Value lost due to electrical outages (% of sales)': 252, 'Rural poverty gap at national poverty lines (%)': 250, 'Female headed households (% of households with a female head)': 247, 'Power outages in firms in a typical month (number)': 247, 'Net official flows from UN agencies, UNPBF (current US$)': 245, 'Bird species, threatened': 245, 'Fish species, threatened': 245, 'Mammal species, threatened': 245, 'Plant species (higher), threatened': 245, 'Firms competing against unregistered firms (% of firms)': 242, 'Diabetes prevalence (% of population ages 20 to 79)': 240, 'Children in employment, work only (% of children in employment, ages 7-14)': 237, 'Children in employment, female (% of female children ages 7-14)': 236, 'Children in employment, male (% of male children ages 7-14)': 236, 'Children in employment, study and work (% of children in employment, ages 7-14)': 236, 'Children in employment, total (% of children ages 7-14)': 236, 'Consumption of iodized salt (% of households)': 234, 'Firms formally registered when operations started (% of firms)': 226, 'Children with fever receiving antimalarial drugs (% of children under age 5 with fever)': 205, 'Coverage (%) -All Social Protection and Labor': 201, 'Completeness of birth registration, rural (%)': 198, 'Completeness of birth registration, urban (%)': 198, 'Coverage (%) - All Social Assistance': 196, 'Internally displaced persons (number, low estimate)': 194, 'Firms with female top manager (% of firms)': 188, 'Use of insecticide-treated bed nets (% of under-5 population)': 186, 'Benefits incidence in poorest quintile (%) -All Social Protection and Labor': 186, 'Adequacy of social protection and labor programs (% of total welfare of beneficiary households)': 185, 'Community health workers (per 1,000 people)': 184, 'Coverage (%) - All Social Insurance': 184, '2005 PPP conversion factor, GDP (LCU per international $)': 184, '2005 PPP conversion factor, private consumption (LCU per international $)': 184, 'Benefits incidence in poorest quintile (%) - All Social Insurance': 176, 'Adequacy of social insurance programs (% of total welfare of beneficiary households)': 175, 'Survey mean consumption or income per capita, bottom 40% of population (2011 PPP $ per day)': 168, 'Survey mean consumption or income per capita, total population (2011 PPP $ per day)': 168, 'Benefits incidence in poorest quintile (%) - All Social Assistance': 168, 'Droughts, floods, extreme temperatures (% of population, average 1990-2009)': 168, 'Adequacy of social safety net programs (% of total welfare of beneficiary households)': 167, 'Condom use, population ages 15-24, female (% of females ages 15-24)': 162, 'Women who believe a husband is justified in beating his wife (any of five reasons) (%)': 146, 'Women who believe a husband is justified in beating his wife when she goes out without telling him (%)': 146, 'Women who believe a husband is justified in beating his wife when she neglects the children (%)': 146, 'Women who believe a husband is justified in beating his wife when she argues with him (%)': 144, 'Women who believe a husband is justified in beating his wife when she refuses sex with him (%)': 143, 'Women who believe a husband is justified in beating his wife when she burns the food (%)': 142, 'Children in employment, study and work, female (% of female children in employment, ages 7-14)': 137, 'Children in employment, study and work, male (% of male children in employment, ages 7-14)': 137, 'Children in employment, work only, female (% of female children in employment, ages 7-14)': 137, 'Children in employment, work only, male (% of male children in employment, ages 7-14)': 137, 'Condom use, population ages 15-24, male (% of males ages 15-24)': 136, 'Children in employment, unpaid family workers (% of children in employment, ages 7-14)': 134, 'Children in employment, unpaid family workers, female (% of female children in employment, ages 7-14)': 134, 'Children in employment, unpaid family workers, male (% of male children in employment, ages 7-14)': 134, 'Children in employment, wage workers (% of children in employment, ages 7-14)': 132, 'Children in employment, wage workers, female (% of female children in employment, ages 7-14)': 132, 'Children in employment, wage workers, male (% of male children in employment, ages 7-14)': 132, 'Child employment in agriculture, female (% of female economically active children ages 7-14)': 122, 'Child employment in agriculture, male (% of male economically active children ages 7-14)': 122, 'Child employment in services, female (% of female economically active children ages 7-14)': 122, 'Child employment in services, male (% of male economically active children ages 7-14)': 122, 'Child employment in manufacturing, female (% of female economically active children ages 7-14)': 120, 'Child employment in manufacturing, male (% of male economically active children ages 7-14)': 120, 'Present value of external debt (current US$)': 118, 'Child employment in agriculture (% of economically active children ages 7-14)': 114, 'Child employment in services (% of economically active children ages 7-14)': 114, 'Coverage (%) - All Labor Market': 114, 'Net official flows from UN agencies, UNECE (current US$)': 114, 'Child employment in manufacturing (% of economically active children ages 7-14)': 113, 'Point-of-sale terminals (per 100,000 adults)': 100, 'Present value of external debt (% of GNI)': 100, 'Annualized average growth rate in per capita real survey mean consumption or income, bottom 40% of population (%)': 94, 'Annualized average growth rate in per capita real survey mean consumption or income, total population (%)': 94, 'Average working hours of children, study and work, ages 7-14 (hours per week)': 90, 'Average working hours of children, study and work, female, ages 7-14 (hours per week)': 90, 'Average working hours of children, study and work, male, ages 7-14 (hours per week)': 90, 'Average working hours of children, working only, ages 7-14 (hours per week)': 85, 'Average working hours of children, working only, male, ages 7-14 (hours per week)': 85, 'Presence of peace keepers (number of troops, police, and military observers in mandate)': 85, 'Average working hours of children, working only, female, ages 7-14 (hours per week)': 83, 'Disaster risk reduction progress score (1-5 scale; 5=best)': 83, 'Children in employment, self-employed (% of children in employment, ages 7-14)': 70, 'Children in employment, self-employed, female (% of female children in employment, ages 7-14)': 70, 'Children in employment, self-employed, male (% of male children in employment, ages 7-14)': 70, 'Present value of external debt (% of exports of goods, services and primary income)': 69, 'Adequacy of unemployment benefits and ALMP (% of total welfare of beneficiary households)': 67, 'Benefits incidence in poorest quintile (%) - All Labor Market': 67, 'Survey mean consumption or income per capita, bottom 40% of population (2005 PPP $ per day)': 8, 'Survey mean consumption or income per capita, total population (2005 PPP $ per day)': 8})\n",
      "************************************************************************************************************************\n",
      "Column : IndicatorCode\n",
      "count of classes :  1344\n",
      "Counter({'SP.POP.TOTL': 13484, 'SP.POP.GROW': 13442, 'SP.RUR.TOTL.ZS': 13415, 'SP.URB.TOTL.IN.ZS': 13415, 'SP.RUR.TOTL': 13374, 'SP.URB.TOTL': 13374, 'SP.URB.GROW': 13337, 'AG.SRF.TOTL.K2': 13090, 'AG.LND.TOTL.K2': 13086, 'SP.RUR.TOTL.ZG': 13061, 'EN.POP.DNST': 12988, 'SP.DYN.CDRT.IN': 12486, 'SP.ADO.TFRT': 12485, 'SP.DYN.CBRT.IN': 12485, 'SP.POP.65UP.TO.ZS': 12426, 'SP.POP.0014.TO.ZS': 12426, 'SP.POP.1564.TO.ZS': 12426, 'SP.POP.TOTL.FE.ZS': 12426, 'SP.POP.DPND': 12423, 'SP.POP.DPND.OL': 12423, 'SP.POP.DPND.YG': 12423, 'SP.DYN.LE00.FE.IN': 12304, 'SP.DYN.LE00.MA.IN': 12304, 'SP.DYN.LE00.IN': 12304, 'SP.DYN.TFRT.IN': 12266, 'SP.DYN.TO65.FE.ZS': 12258, 'SP.DYN.TO65.MA.ZS': 12258, 'SP.DYN.AMRT.FE': 11939, 'SP.DYN.AMRT.MA': 11939, 'AG.LND.AGRI.K2': 11751, 'AG.PRD.FOOD.XD': 11669, 'AG.LND.AGRI.ZS': 11645, 'AG.PRD.LVSK.XD': 11626, 'AG.LND.ARBL.ZS': 11568, 'AG.PRD.CROP.XD': 11563, 'AG.LND.ARBL.HA.PC': 11545, 'TX.VAL.MRCH.CD.WT': 11248, 'SP.DYN.IMRT.IN': 11201, 'SH.DYN.MORT': 11201, 'TM.VAL.MRCH.CD.WT': 11193, 'AG.LND.CROP.ZS': 10909, 'EN.ATM.CO2E.SF.ZS': 10747, 'EN.ATM.CO2E.GF.ZS': 10741, 'EN.ATM.CO2E.LF.ZS': 10740, 'EN.ATM.CO2E.KT': 10602, 'EN.ATM.CO2E.PC': 10599, 'EN.ATM.CO2E.LF.KT': 10583, 'TX.VAL.MRCH.WL.CD': 10384, 'TX.VAL.MRCH.RS.ZS': 10384, 'AG.PRD.CREL.MT': 10382, 'AG.LND.CREL.HA': 10382, 'TM.VAL.MRCH.WL.CD': 10373, 'TM.VAL.MRCH.RS.ZS': 10373, 'NY.GDP.MKTP.CD': 10346, 'NY.GDP.PCAP.CD': 10343, 'AG.YLD.CREL.KG': 10265, 'SH.DTH.IMRT': 10170, 'SH.DTH.MORT': 10170, 'TM.VAL.MRCH.HI.ZS': 10087, 'EN.ATM.CO2E.SF.KT': 10070, 'TX.VAL.MRCH.HI.ZS': 10009, 'TG.VAL.TOTL.GD.ZS': 10008, 'EN.ATM.CO2E.GF.KT': 10004, 'NY.GDP.MKTP.KD': 9954, 'NY.GDP.PCAP.KD': 9951, 'NY.GDP.MKTP.KD.ZG': 9939, 'NY.GDP.PCAP.KD.ZG': 9936, 'AG.LND.ARBL.HA': 9922, 'IT.CEL.SETS': 9917, 'IT.CEL.SETS.P2': 9917, 'TM.VAL.MRCH.R5.ZS': 9914, 'NY.GNP.MKTP.CD': 9891, 'NY.GDP.DEFL.KD.ZG': 9862, 'EN.URB.LCTY.UR.ZS': 9782, 'PA.NUS.ATLS': 9742, 'NE.EXP.GNFS.ZS': 9551, 'NE.RSB.GNFS.ZS': 9551, 'NE.IMP.GNFS.ZS': 9551, 'NE.TRD.GNFS.ZS': 9551, 'TM.VAL.MRCH.R4.ZS': 9528, 'DT.ODA.ALLD.KD': 9505, 'DT.ODA.ALLD.CD': 9503, 'NE.EXP.GNFS.CD': 9473, 'IT.MLT.MAIN': 9465, 'IT.MLT.MAIN.P2': 9465, 'TX.VAL.MRCH.R5.ZS': 9441, 'NY.ADJ.DMIN.CD': 9416, 'TX.VAL.MRCH.R4.ZS': 9397, 'NE.IMP.GNFS.CD': 9387, 'NE.DAB.TOTL.CD': 9380, 'NY.ADJ.DNGY.CD': 9373, 'DC.DAC.TOTL.CD': 9340, 'TX.VAL.MRCH.AL.ZS': 9288, 'TM.VAL.MRCH.AL.ZS': 9272, 'NE.CON.GOVT.ZS': 9201, 'NY.GNP.ATLS.CD': 9129, 'NY.GNP.PCAP.CD': 9128, 'NE.CON.GOVT.CD': 9116, 'SE.PRM.AGES': 9101, 'SE.PRM.DURS': 9101, 'DT.ODA.ODAT.KD': 9087, 'DT.ODA.ODAT.CD': 9087, 'DT.ODA.ODAT.PC.ZS': 9084, 'NE.GDI.TOTL.ZS': 9025, 'NY.GDP.MKTP.CN': 8996, 'SE.SEC.DURS': 8996, 'NY.GDP.PCAP.CN': 8993, 'SE.SEC.AGES': 8958, 'NY.GDP.MINR.RT.ZS': 8939, 'NY.GDS.TOTL.ZS': 8927, 'NE.GDI.TOTL.CD': 8926, 'NY.GDP.COAL.RT.ZS': 8892, 'PA.NUS.FCRF': 8805, 'NE.CON.TETC.CD': 8797, 'NY.GDS.TOTL.CD': 8786, 'NE.CON.PETC.ZS': 8727, 'EN.ATM.CO2E.KD.GD': 8723, 'NY.GDP.NGAS.RT.ZS': 8717, 'NE.CON.PRVT.CD': 8671, 'NY.ADJ.DMIN.GN.ZS': 8665, 'NY.GNP.MKTP.CN': 8645, 'NY.GNP.PCAP.CN': 8642, 'NY.GDP.PETR.RT.ZS': 8639, 'NE.CON.PETC.CD': 8638, 'NY.ADJ.DNGY.GN.ZS': 8627, 'TM.VAL.MRCH.R6.ZS': 8620, 'NY.GDP.MKTP.KN': 8616, 'NY.GDP.PCAP.KN': 8613, 'NY.GDP.DEFL.ZS': 8596, 'TX.VAL.MRCH.R3.ZS': 8554, 'BX.KLT.DINV.CD.WD': 8514, 'NE.GDI.FTOT.ZS': 8495, 'TX.VAL.MRCH.R6.ZS': 8455, 'NY.ADJ.DKAP.GN.ZS': 8442, 'NY.ADJ.AEDU.GN.ZS': 8439, 'NE.GDI.FTOT.CD': 8405, 'TM.VAL.MRCH.R3.ZS': 8399, 'SE.PRM.ENRL': 8341, 'NY.ADJ.DCO2.GN.ZS': 8287, 'DC.DAC.DEUL.CD': 8263, 'EN.URB.LCTY': 8190, 'NY.GDP.FRST.RT.ZS': 8063, 'NV.AGR.TOTL.CD': 8040, 'NY.GDP.TOTL.RT.ZS': 8033, 'SE.PRM.ENRR': 8013, 'NV.SRV.TETC.CD': 8009, 'NE.EXP.GNFS.CN': 8009, 'NE.RSB.GNFS.CN': 8009, 'NE.IMP.GNFS.CN': 8009, 'FP.CPI.TOTL.ZG': 7991, 'NE.DAB.TOTL.CN': 7988, 'NY.GSR.NFCY.CN': 7986, 'BX.KLT.DINV.WD.GD.ZS': 7935, 'NV.IND.TOTL.CD': 7931, 'NE.RSB.GNFS.CD': 7899, 'DC.DAC.JPNL.CD': 7892, 'FI.RES.TOTL.CD': 7888, 'FI.RES.XGLD.CD': 7888, 'DC.DAC.GBRL.CD': 7881, 'SE.SEC.ENRL.GC': 7879, 'NY.ADJ.DCO2.CD': 7879, 'SE.PRM.ENRL.FE.ZS': 7856, 'NY.GSR.NFCY.CD': 7853, 'IS.AIR.PSGR': 7843, 'IS.AIR.DPRT': 7835, 'NV.AGR.TOTL.ZS': 7697, 'NE.CON.GOVT.CN': 7688, 'NV.SRV.TETC.ZS': 7667, 'NV.IND.TOTL.ZS': 7645, 'NY.ADJ.DFOR.GN.ZS': 7624, 'NE.GDI.TOTL.CN': 7606, 'NY.ADJ.DRES.GN.ZS': 7598, 'DT.NFL.UNDP.CD': 7579, 'TM.VAL.FOOD.ZS.UN': 7530, 'TM.VAL.MANF.ZS.UN': 7530, 'SE.PRM.ENRR.FE': 7530, 'SE.ENR.PRIM.FM.ZS': 7530, 'SE.PRM.ENRR.MA': 7530, 'TM.VAL.FUEL.ZS.UN': 7525, 'TM.VAL.MMTL.ZS.UN': 7522, 'TM.VAL.AGRI.ZS.UN': 7520, 'IS.AIR.GOOD.MT.K1': 7504, 'NE.CON.TETC.ZS': 7499, 'NE.CON.TETC.CN': 7499, 'NY.GDS.TOTL.CN': 7499, 'NE.DAB.TOTL.ZS': 7499, 'TM.VAL.MRCH.OR.ZS': 7479, 'TX.VAL.FOOD.ZS.UN': 7478, 'DT.ODA.ODAT.GN.ZS': 7476, 'SE.SEC.ENRL.GC.FE.ZS': 7475, 'NV.IND.MANF.CD': 7469, 'TX.VAL.MANF.ZS.UN': 7464, 'DC.DAC.USAL.CD': 7449, 'EN.URB.MCTY.TL.ZS': 7447, 'TX.VAL.AGRI.ZS.UN': 7431, 'NY.ADJ.DKAP.CD': 7429, 'TX.VAL.MRCH.OR.ZS': 7406, 'NY.ADJ.NNTY.CD': 7371, 'NY.ADJ.NNTY.PC.CD': 7368, 'NY.GDP.FCST.CD': 7367, 'SE.SEC.ENRL': 7347, 'MS.MIL.MPRT.KD': 7333, 'NE.CON.PETC.CN': 7330, 'TX.VAL.MMTL.ZS.UN': 7322, 'DC.DAC.CANL.CD': 7316, 'NE.CON.PRVT.CN': 7306, 'NE.CON.TOTL.CN': 7254, 'AG.AGR.TRAC.NO': 7244, 'NV.AGR.TOTL.KD': 7233, 'NV.AGR.TOTL.KD.ZG': 7219, 'DC.DAC.CECL.CD': 7185, 'NE.CON.TOTL.CD': 7154, 'SH.IMM.IDPT': 7143, 'TM.VAL.MRCH.R1.ZS': 7140, 'NE.GDI.FTOT.CN': 7109, 'NY.GDP.DISC.CN': 7093, 'NV.IND.MANF.ZS': 7092, 'NV.IND.TOTL.KD': 7088, 'NY.ADJ.DFOR.CD': 7084, 'TX.VAL.FUEL.ZS.UN': 7079, 'DC.DAC.FRAL.CD': 7077, 'SE.SEC.ENRR': 7076, 'NE.EXP.GNFS.KD.ZG': 7060, 'NE.IMP.GNFS.KD.ZG': 7055, 'EG.USE.COMM.FO.ZS': 7044, 'SE.SEC.ENRL.VO': 7038, 'NV.SRV.TETC.KD.ZG': 7036, 'EG.USE.CRNW.ZS': 7035, 'EG.ELC.RNWX.KH': 7035, 'EG.IMP.CONS.ZS': 7035, 'AG.LND.TRAC.ZS': 7034, 'NV.IND.TOTL.KD.ZG': 7024, 'EG.USE.COMM.CL.ZS': 7021, 'SH.IMM.MEAS': 7010, 'EN.CO2.ETOT.ZS': 7005, 'EN.CO2.MANF.ZS': 7005, 'EN.CO2.OTHX.ZS': 7005, 'EN.CO2.BLDG.ZS': 7005, 'EN.CO2.TRAN.ZS': 7005, 'NE.EXP.GNFS.KD': 6986, 'NE.IMP.GNFS.KD': 6981, 'EG.ELC.LOSS.ZS': 6972, 'NV.AGR.TOTL.CN': 6954, 'NY.ADJ.AEDU.CD': 6952, 'NE.DAB.TOTL.KD': 6940, 'FP.CPI.TOTL': 6936, 'NV.SRV.TETC.CN': 6922, 'NV.SRV.TETC.KD': 6918, 'NV.IND.TOTL.CN': 6917, 'DT.NFL.UNTA.CD': 6901, 'DT.ODA.ODAT.GI.ZS': 6864, 'EG.USE.PCAP.KG.OE': 6849, 'NE.GDI.STKB.CN': 6837, 'NE.CON.GOVT.KD.ZG': 6806, 'BX.PEF.TOTL.CD.WD': 6801, 'EN.ATM.CO2E.EG.ZS': 6768, 'SE.PRM.ENRL.TC.ZS': 6766, 'EG.ELC.COAL.ZS': 6761, 'EG.ELC.HYRO.ZS': 6761, 'EG.ELC.NGAS.ZS': 6761, 'EG.ELC.NUCL.ZS': 6761, 'EG.ELC.PETR.ZS': 6761, 'EG.ELC.FOSL.ZS': 6761, 'EG.ELC.RNWX.ZS': 6761, 'NE.GDI.STKB.CD': 6748, 'SE.PRM.TCHR': 6733, 'NE.CON.GOVT.KD': 6724, 'SE.SEC.ENRL.FE.ZS': 6712, 'BX.TRF.PWKR.CD.DT': 6652, 'NE.GDI.TOTL.KD.ZG': 6643, 'EG.USE.ELEC.KH.PC': 6611, 'TX.VAL.MRCH.R1.ZS': 6591, 'BM.TRF.PWKR.CD.DT': 6591, 'DC.DAC.NLDL.CD': 6575, 'NE.GDI.TOTL.KD': 6533, 'NE.CON.TETC.KD.ZG': 6532, 'NV.IND.MANF.KD.ZG': 6521, 'NV.IND.MANF.KD': 6509, 'DC.DAC.CHEL.CD': 6482, 'NE.CON.PRVT.KD.ZG': 6482, 'NY.GNP.MKTP.KD.ZG': 6459, 'NY.GNP.PCAP.KD.ZG': 6459, 'DC.DAC.ITAL.CD': 6457, 'NY.GDP.FCST.KD': 6452, 'DT.NFL.MIBR.CD': 6452, 'DT.NFL.MIDA.CD': 6452, 'NY.GNS.ICTR.GN.ZS': 6450, 'NY.GDP.FCST.CN': 6434, 'NE.CON.PETC.KD.ZG': 6433, 'NE.CON.TETC.KD': 6430, 'SE.SEC.ENRR.FE': 6427, 'SE.SEC.ENRR.MA': 6427, 'NV.IND.MANF.CN': 6425, 'SE.ENR.SECO.FM.ZS': 6425, 'BX.GRT.EXTA.CD.WD': 6424, 'BX.GRT.TECH.CD.WD': 6424, 'NY.ADJ.ICTR.GN.ZS': 6422, 'SE.TER.ENRR': 6419, 'TM.VAL.MRCH.WR.ZS': 6411, 'NE.CON.PRVT.KD': 6397, 'NE.CON.PRVT.PC.KD': 6397, 'NE.CON.TOTL.KD': 6395, 'NY.ADJ.NNAT.GN.ZS': 6359, 'NE.GDI.FTOT.KD.ZG': 6352, 'SE.PRE.ENRR': 6344, 'NE.CON.PETC.KD': 6342, 'NY.GNS.ICTR.ZS': 6334, 'TX.VAL.MRCH.WR.ZS': 6300, 'NV.AGR.TOTL.KN': 6280, 'NY.GDY.TOTL.KD': 6264, 'DC.DAC.BELL.CD': 6246, 'EN.URB.MCTY': 6240, 'NY.TAX.NIND.CN': 6237, 'SE.ENR.PRSC.FM.ZS': 6231, 'NY.GNP.MKTP.KD': 6226, 'NY.GNP.PCAP.KD': 6226, 'NE.GDI.FTOT.KD': 6222, 'NV.SRV.TETC.KN': 6199, 'NE.CON.PRVT.PC.KD.ZG': 6188, 'NE.IMP.GNFS.KN': 6187, 'NE.EXP.GNFS.KN': 6177, 'NY.TAX.NIND.CD': 6172, 'NV.IND.TOTL.KN': 6171, 'SE.SEC.ENRL.VO.FE.ZS': 6162, 'IP.TMK.TOTL': 6152, 'NY.EXP.CAPM.KN': 6148, 'NY.TTF.GNFS.KN': 6138, 'NE.DAB.TOTL.KN': 6114, 'DC.DAC.AUTL.CD': 6109, 'NE.DAB.DEFL.ZS': 6096, 'BX.TRF.PWKR.DT.GD.ZS': 6088, 'NY.GDY.TOTL.KN': 6085, 'DT.NFL.UNCF.CD': 6080, 'SE.PRM.PRIV.ZS': 6036, 'BN.TRF.CURR.CD': 5998, 'SH.H2O.SAFE.UR.ZS': 5937, 'NE.CON.GOVT.KN': 5917, 'NY.ADJ.SVNX.GN.ZS': 5896, 'BX.KLT.DREM.CD.DT': 5895, 'NE.RSB.GNFS.KN': 5892, 'SH.H2O.SAFE.ZS': 5877, 'SH.STA.ACSN.UR': 5863, 'SH.DYN.NMRT': 5850, 'IP.TMK.NRES': 5848, 'EA.PRD.AGRI.KD': 5845, 'SE.PRM.TCHR.FE.ZS': 5828, 'SH.STA.ACSN': 5815, 'SH.H2O.SAFE.RU.ZS': 5802, 'IP.JRN.ARTC.SC': 5797, 'TX.VAL.MRCH.XD.WD': 5786, 'TM.VAL.MRCH.XD.WD': 5785, 'NE.GDI.TOTL.KN': 5766, 'SH.STA.ACSN.RU': 5756, 'NY.GDP.FCST.KN': 5727, 'NV.IND.MANF.KN': 5720, 'SE.PRM.GINT.ZS': 5702, 'NE.CON.TETC.KN': 5676, 'SE.PRM.REPT.ZS': 5673, 'NY.GNP.MKTP.KN': 5669, 'NY.GNP.PCAP.KN': 5669, 'AG.LND.FRST.ZS': 5661, 'DC.DAC.NORL.CD': 5639, 'NE.CON.TOTL.KN': 5626, 'SH.TBS.INCD': 5622, 'SH.MMR.RISK.ZS': 5616, 'SH.MMR.RISK': 5616, 'SH.STA.MMRT': 5616, 'SH.MMR.DTHS': 5616, 'NE.CON.PRVT.KN': 5596, 'NE.CON.PETC.KN': 5583, 'DT.NFL.IMFC.CD': 5553, 'DT.NFL.IMFN.CD': 5553, 'SE.TER.ENRR.FE': 5551, 'SE.TER.ENRR.MA': 5551, 'SE.ENR.TERT.FM.ZS': 5539, 'SE.PRE.ENRR.FE': 5533, 'SE.PRE.ENRR.MA': 5533, 'NE.GDI.FTOT.KN': 5482, 'IP.TMK.RESD': 5479, 'SL.TLF.ACTI.1524.FE.ZS': 5475, 'SL.TLF.ACTI.1524.MA.ZS': 5475, 'SL.TLF.ACTI.1524.ZS': 5475, 'SL.TLF.CACT.FE.ZS': 5475, 'SL.TLF.ACTI.FE.ZS': 5475, 'SL.TLF.CACT.MA.ZS': 5475, 'SL.TLF.ACTI.MA.ZS': 5475, 'SL.TLF.CACT.ZS': 5475, 'SL.TLF.ACTI.ZS': 5475, 'SL.TLF.CACT.FM.ZS': 5475, 'SL.TLF.TOTL.FE.ZS': 5472, 'SL.TLF.TOTL.IN': 5472, 'DT.INT.DIMF.CD': 5435, 'DT.TDS.DIMF.CD': 5435, 'DT.DOD.DIMF.CD': 5435, 'AG.LND.FRST.K2': 5431, 'DT.DIS.DLXF.CD': 5425, 'DT.INT.DLXF.CD': 5425, 'DT.INT.DPNG.CD': 5425, 'DT.AMT.DLXF.CD': 5425, 'DT.AMT.DPNG.CD': 5425, 'DT.DOD.MWBG.CD': 5423, 'DT.AMT.BLAT.CD': 5422, 'NY.TRF.NCTR.CN': 5415, 'DT.NFL.UNFP.CD': 5402, 'NY.TRF.NCTR.CD': 5401, 'DT.DIS.DIMF.CD': 5396, 'DT.AMT.DIMF.CD': 5396, 'DT.AMT.MIBR.CD': 5396, 'DT.DIS.MIBR.CD': 5396, 'DT.DOD.MIBR.CD': 5396, 'DT.INT.MIBR.CD': 5396, 'DT.NTR.MIBR.CD': 5396, 'DT.TDS.MIBR.CD': 5396, 'DT.AMT.MIDA.CD': 5396, 'DT.DIS.MIDA.CD': 5396, 'DT.DOD.MIDA.CD': 5396, 'DT.INT.MIDA.CD': 5396, 'DT.NTR.MIDA.CD': 5396, 'DT.TDS.MIDA.CD': 5396, 'SE.PRM.CMPT.ZS': 5386, 'DT.DIS.BLAT.CD': 5386, 'DT.INT.BLAT.CD': 5386, 'DT.AMT.PBND.CD': 5386, 'DT.INT.PBND.CD': 5386, 'DT.AMT.PCBK.CD': 5386, 'DT.DIS.PCBK.CD': 5386, 'DT.INT.PCBK.CD': 5386, 'DT.AMT.MLAT.CD': 5386, 'DT.DIS.MLAT.CD': 5386, 'DT.INT.MLAT.CD': 5386, 'DT.AMT.OFFT.CD': 5386, 'DT.DIS.OFFT.CD': 5386, 'DT.INT.OFFT.CD': 5386, 'DT.AMT.PROP.CD': 5386, 'DT.DIS.PROP.CD': 5386, 'DT.INT.PROP.CD': 5386, 'DT.AMT.PRVT.CD': 5386, 'DT.DIS.PRVT.CD': 5386, 'DT.INT.PRVT.CD': 5386, 'FR.INR.LNDP': 5382, 'NY.ADJ.NNTY.KD.ZG': 5380, 'NY.ADJ.NNTY.PC.KD.ZG': 5380, 'SH.DTH.NMRT': 5378, 'NY.GDP.MKTP.PP.KD': 5365, 'NY.GDP.PCAP.PP.KD': 5362, 'NY.GDP.MKTP.PP.CD': 5349, 'NY.GDP.PCAP.PP.CD': 5346, 'DC.DAC.SWEL.CD': 5341, 'DT.DIS.IDAG.CD': 5330, 'SH.TBS.DTEC.ZS': 5312, 'NY.GNS.ICTR.CN': 5300, 'NY.GNS.ICTR.CD': 5300, 'DT.TDS.DLXF.CD': 5294, 'DT.TDS.DPNG.CD': 5294, 'DT.TDS.DECT.CD': 5294, 'DT.DIS.DLTF.CD': 5294, 'DT.DIS.DPNG.CD': 5294, 'DT.DOD.DLXF.CD': 5294, 'DT.DOD.PRVS.CD': 5294, 'DT.DOD.DPNG.CD': 5294, 'DT.DOD.DSTC.CD': 5294, 'DT.DOD.DECT.CD': 5294, 'DT.DOD.VTOT.CD': 5294, 'DT.INT.DECT.CD': 5294, 'DT.NFL.DLXF.CD': 5294, 'DT.NFL.DPNG.CD': 5294, 'DT.NFL.DSTC.CD': 5294, 'DT.NFL.DECT.CD': 5294, 'DT.NTR.DLXF.CD': 5294, 'DT.NTR.DPNG.CD': 5294, 'DT.NTR.DECT.CD': 5294, 'DT.AMT.PNGC.CD': 5294, 'DT.DIS.PNGC.CD': 5294, 'DT.DOD.PNGC.CD': 5294, 'DT.INT.PNGC.CD': 5294, 'DT.NFL.PNGC.CD': 5294, 'DT.TDS.PNGC.CD': 5294, 'DT.AMT.DLTF.CD': 5294, 'DT.DOD.DSTC.ZS': 5294, 'IP.PAT.NRES': 5290, 'FR.INR.DPST': 5283, 'DT.NFL.PCBO.CD': 5282, 'DT.NFL.BOND.CD': 5282, 'NY.ADJ.NNTY.KD': 5274, 'NY.ADJ.NNTY.PC.KD': 5274, 'FI.RES.TOTL.DT.ZS': 5266, 'DT.GPA.DPPG': 5255, 'DT.GPA.OFFT': 5255, 'DT.GPA.PRVT': 5255, 'DT.GRE.DPPG': 5255, 'DT.GRE.OFFT': 5255, 'DT.GRE.PRVT': 5255, 'DT.INR.DPPG': 5255, 'DT.INR.OFFT': 5255, 'DT.INR.PRVT': 5255, 'DT.MAT.DPPG': 5255, 'DT.MAT.OFFT': 5255, 'DT.MAT.PRVT': 5255, 'DT.COM.MIBR.CD': 5255, 'DT.COM.MIDA.CD': 5255, 'DT.COM.OFFT.CD': 5255, 'DT.COM.PRVT.CD': 5255, 'DT.COM.DPPG.CD': 5255, 'DT.DOD.ALLC.ZS': 5255, 'DT.CUR.OTHC.ZS': 5255, 'DT.CUR.JYEN.ZS': 5255, 'DT.CUR.MULC.ZS': 5255, 'DT.CUR.UKPS.ZS': 5255, 'DT.CUR.SDRW.ZS': 5255, 'DT.CUR.SWFR.ZS': 5255, 'DT.CUR.USDL.ZS': 5255, 'DT.DOD.MDRI.CD': 5255, 'DT.TDS.DPPG.CD': 5255, 'DT.DIS.DPPG.CD': 5255, 'DT.NFL.NEBR.CD': 5255, 'DT.DOD.ALLC.CD': 5255, 'DT.DOD.PUBS.CD': 5255, 'DT.DOD.DPPG.CD': 5255, 'DT.NFL.NIFC.CD': 5255, 'DT.IXA.DPPG.CD': 5255, 'DT.IXA.OFFT.CD': 5255, 'DT.IXA.PRVT.CD': 5255, 'DT.INT.DPPG.CD': 5255, 'DT.INT.DSTC.CD': 5255, 'DT.DOD.MLAT.ZS': 5255, 'DT.TDS.MLAT.CD': 5255, 'DT.NFL.BLAT.CD': 5255, 'DT.NFL.MLAT.CD': 5255, 'DT.NFL.MOTH.CD': 5255, 'DT.NFL.RDBC.CD': 5255, 'DT.NFL.RDBN.CD': 5255, 'DT.NFL.DPPG.CD': 5255, 'DT.NTR.DPPG.CD': 5255, 'DT.AMT.PNGB.CD': 5255, 'DT.DIS.PNGB.CD': 5255, 'DT.DOD.PNGB.CD': 5255, 'DT.INT.PNGB.CD': 5255, 'DT.NFL.PNGB.CD': 5255, 'DT.NTR.PNGB.CD': 5255, 'DT.TDS.PNGB.CD': 5255, 'DT.NTR.PNGC.CD': 5255, 'DT.DOD.BLAT.CD': 5255, 'DT.NTR.BLAT.CD': 5255, 'DT.TDS.BLAT.CD': 5255, 'DT.AMT.BLTC.CD': 5255, 'DT.DIS.BLTC.CD': 5255, 'DT.DOD.BLTC.CD': 5255, 'DT.INT.BLTC.CD': 5255, 'DT.NFL.BLTC.CD': 5255, 'DT.NTR.BLTC.CD': 5255, 'DT.TDS.BLTC.CD': 5255, 'DT.DIS.PBND.CD': 5255, 'DT.DOD.PBND.CD': 5255, 'DT.NFL.PBND.CD': 5255, 'DT.NTR.PBND.CD': 5255, 'DT.TDS.PBND.CD': 5255, 'DT.DOD.PCBK.CD': 5255, 'DT.NFL.PCBK.CD': 5255, 'DT.NTR.PCBK.CD': 5255, 'DT.TDS.PCBK.CD': 5255, 'DT.DOD.MLAT.CD': 5255, 'DT.NTR.MLAT.CD': 5255, 'DT.AMT.MLTC.CD': 5255, 'DT.DIS.MLTC.CD': 5255, 'DT.DOD.MLTC.CD': 5255, 'DT.INT.MLTC.CD': 5255, 'DT.NFL.MLTC.CD': 5255, 'DT.NTR.MLTC.CD': 5255, 'DT.TDS.MLTC.CD': 5255, 'DT.DOD.OFFT.CD': 5255, 'DT.NFL.OFFT.CD': 5255, 'DT.NTR.OFFT.CD': 5255, 'DT.TDS.OFFT.CD': 5255, 'DT.DOD.PROP.CD': 5255, 'DT.NFL.PROP.CD': 5255, 'DT.NTR.PROP.CD': 5255, 'DT.TDS.PROP.CD': 5255, 'DT.DOD.PRVT.CD': 5255, 'DT.NFL.PRVT.CD': 5255, 'DT.NTR.PRVT.CD': 5255, 'DT.TDS.PRVT.CD': 5255, 'DT.AXA.DPPG.CD': 5255, 'DT.AXA.OFFT.CD': 5255, 'DT.AXA.PRVT.CD': 5255, 'DT.AMT.DPPG.CD': 5255, 'DT.UND.OFFT.CD': 5255, 'DT.UND.PRVT.CD': 5255, 'DT.UND.DPPG.CD': 5255, 'SE.SEC.TCHR': 5225, 'NY.GNP.MKTP.PP.CD': 5213, 'SM.POP.REFG.OR': 5212, 'DC.DAC.DNKL.CD': 5210, 'NY.GNP.PCAP.PP.CD': 5210, 'DC.DAC.AUSL.CD': 5184, 'NY.ADJ.NNAT.CD': 5184, 'SE.SEC.ENRL.TC.ZS': 5170, 'IT.NET.USER.P2': 5166, 'ER.PTD.TOTL.ZS': 5146, 'ER.LND.PTLD.ZS': 5143, 'NY.GDP.DISC.KN': 5120, 'SE.PRM.GINT.FE.ZS': 5111, 'SE.PRM.GINT.MA.ZS': 5111, 'NY.TAX.NIND.KN': 5099, 'EG.ELC.RNEW.ZS': 5075, 'SE.PRM.REPT.FE.ZS': 5056, 'SE.PRM.REPT.MA.ZS': 5056, 'DT.DOD.DSTC.IR.ZS': 5056, 'EG.EGY.PRIM.PP.KD': 5055, 'DT.NFL.WFPG.CD': 5033, 'DT.TDS.DECT.GN.ZS': 5026, 'DT.TDS.DPPG.GN.ZS': 5023, 'DT.TDS.MLAT.PG.ZS': 5009, 'MS.MIL.TOTL.P1': 4988, 'SL.EMP.TOTL.SP.FE.ZS': 4944, 'SL.EMP.TOTL.SP.MA.ZS': 4944, 'SL.EMP.TOTL.SP.ZS': 4944, 'SL.EMP.1524.SP.FE.ZS': 4944, 'SL.EMP.1524.SP.MA.ZS': 4944, 'SL.EMP.1524.SP.ZS': 4944, 'SL.UEM.TOTL.FE.ZS': 4944, 'SL.UEM.TOTL.MA.ZS': 4944, 'SL.UEM.TOTL.ZS': 4944, 'SL.UEM.1524.FE.ZS': 4944, 'SL.UEM.1524.MA.ZS': 4944, 'SL.UEM.1524.ZS': 4944, 'SE.PRM.TENR': 4935, 'SE.PRM.UNER': 4935, 'SE.PRM.NENR': 4926, 'FR.INR.LEND': 4895, 'SL.GDP.PCAP.EM.KD': 4881, 'IP.PAT.RESD': 4879, 'EG.FEC.RNEW.ZS': 4867, 'SH.ANM.CHLD.ZS': 4796, 'SH.ANM.NPRG.ZS': 4796, 'SH.PRG.ANEM': 4796, 'DC.DAC.FINL.CD': 4787, 'SE.PRM.CMPT.MA.ZS': 4778, 'SE.PRM.CMPT.FE.ZS': 4776, 'NY.ADJ.SVNX.CD': 4736, 'DT.DOD.DECT.GN.ZS': 4732, 'DT.INT.DECT.GN.ZS': 4718, 'NE.GDI.STKB.KN': 4700, 'FR.INR.RINR': 4684, 'TX.QTY.MRCH.XD.WD': 4631, 'MS.MIL.TOTL.TF.ZS': 4607, 'EN.ATM.CO2E.PP.GD.KD': 4582, 'EN.ATM.CO2E.PP.GD': 4573, 'SM.POP.REFG': 4558, 'MS.MIL.XPND.GD.ZS': 4542, 'PA.NUS.PPP': 4542, 'PA.NUS.PPPC.RF': 4519, 'SE.SEC.REPT.ZS': 4511, 'DT.NFL.UNCR.CD': 4465, 'TM.QTY.MRCH.XD.WD': 4440, 'TT.PRI.MRCH.XD.WD': 4423, 'SE.SEC.CMPT.LO.ZS': 4392, 'SE.SEC.TCHR.FE.ZS': 4370, 'NE.CON.PRVT.PP.CD': 4370, 'SE.SEC.TCHR.FE': 4354, 'DC.DAC.KORL.CD': 4352, 'SE.PRM.TENR.FE': 4292, 'SE.PRM.UNER.FE': 4292, 'SE.PRM.TENR.MA': 4291, 'SE.PRM.UNER.MA': 4291, 'SE.PRM.PRSL.ZS': 4279, 'SH.XPD.PCAP': 4170, 'SH.XPD.PCAP.PP.KD': 4170, 'SH.XPD.PUBL': 4170, 'SH.XPD.OOPC.ZS': 4170, 'SH.XPD.OOPC.TO.ZS': 4170, 'SH.XPD.PRIV.ZS': 4163, 'SH.XPD.PUBL.ZS': 4163, 'SH.XPD.TOTL.ZS': 4163, 'ST.INT.ARVL': 4141, 'SG.GEN.PARL.ZS': 4120, 'ST.INT.RCPT.CD': 4098, 'SE.SEC.PROG.ZS': 4097, 'PA.NUS.PRVT.PP': 4040, 'DT.DOD.DECT.EX.ZS': 4019, 'DT.TDS.DECT.EX.ZS': 4016, 'NE.CON.PRVT.PP.KD': 4015, 'DT.INT.DECT.EX.ZS': 4014, 'NV.MNF.OTHR.ZS.UN': 3940, 'NV.MNF.TXTL.ZS.UN': 3924, 'NV.MNF.FBTO.ZS.UN': 3919, 'DT.NFL.IFAD.CD': 3915, 'NY.GDS.TOTL.KN': 3913, 'ST.INT.XPND.CD': 3898, 'TX.VAL.TECH.MF.ZS': 3875, 'ST.INT.TVLR.CD': 3841, 'DT.TDS.DPPF.XP.ZS': 3821, 'NY.GNP.PCAP.PP.KD': 3818, 'NY.GNP.MKTP.PP.KD': 3818, 'MS.MIL.XPND.CN': 3813, 'ST.INT.TVLX.CD': 3802, 'NV.MNF.CHEM.ZS.UN': 3799, 'SE.SEC.REPT.FE.ZS': 3775, 'SE.SEC.REPT.MA.ZS': 3775, 'SH.TBS.CURE.ZS': 3771, 'SE.SEC.CMPT.LO.FE.ZS': 3747, 'SH.XPD.PUBL.GX.ZS': 3747, 'SE.PRM.NENR.FE': 3746, 'SE.PRM.NENR.MA': 3745, 'SE.SEC.CMPT.LO.MA.ZS': 3742, 'SH.VAC.TTNS.ZS': 3734, 'SH.MED.PHYS.ZS': 3732, 'EG.USE.COMM.GD.PP.KD': 3720, 'EG.GDP.PUSE.KO.PP.KD': 3720, 'EG.GDP.PUSE.KO.PP': 3718, 'TX.VAL.TECH.CD': 3714, 'NV.MNF.MTRN.ZS.UN': 3712, 'DC.DAC.NZLL.CD': 3703, 'NY.TRF.NCTR.KN': 3695, 'ER.MRN.PTMR.ZS': 3680, 'NE.GDI.FPRV.ZS': 3652, 'SE.PRM.PRSL.FE.ZS': 3650, 'SE.PRM.PRSL.MA.ZS': 3650, 'SL.UEM.TOTL.NE.ZS': 3642, 'SH.XPD.EXTR.ZS': 3626, 'DC.DAC.ESPL.CD': 3606, 'SE.TER.TCHR.FE.ZS': 3601, 'SL.TLF.CACT.NE.ZS': 3548, 'DC.DAC.IRLL.CD': 3531, 'DT.CUR.DMAK.ZS': 3434, 'DT.CUR.FFRC.ZS': 3434, 'IS.RRS.GOOD.MT.K6': 3431, 'SL.IND.EMPL.ZS': 3429, 'SL.SRV.EMPL.ZS': 3429, 'TX.VAL.MRCH.R2.ZS': 3405, 'TM.VAL.MRCH.R2.ZS': 3389, 'SL.AGR.EMPL.ZS': 3387, 'SH.MED.BEDS.ZS': 3364, 'SE.SEC.PROG.MA.ZS': 3362, 'SL.TLF.CACT.FE.NE.ZS': 3348, 'SL.TLF.CACT.MA.NE.ZS': 3348, 'SE.SEC.PROG.FE.ZS': 3338, 'SL.UEM.TOTL.MA.NE.ZS': 3313, 'SL.UEM.TOTL.FE.NE.ZS': 3312, 'DT.DOD.RSDL.CD': 3306, 'DT.DOD.DECT.CD.CG': 3306, 'DT.DSB.DPPG.CD': 3303, 'DT.DSF.DPPG.CD': 3303, 'DT.DXR.DPPG.CD': 3303, 'DT.IXR.OFFT.CD': 3303, 'DT.IXR.PRVT.CD': 3303, 'DT.AXR.DPPG.CD': 3303, 'DT.AXR.OFFT.CD': 3303, 'DT.AXR.PRVT.CD': 3303, 'DT.TXR.DPPG.CD': 3303, 'DT.IXF.DPPG.CD': 3302, 'DT.AXF.DPPG.CD': 3300, 'DT.DFR.DPPG.CD': 3286, 'DT.IXR.DPPG.CD': 3286, 'DT.IXA.DPPG.CD.CG': 3286, 'SL.TLF.CACT.FM.NE.ZS': 3285, 'SE.XPD.TOTL.GD.ZS': 3273, 'PX.REX.REER': 3246, 'NE.GDI.FPRV.CN': 3218, 'IS.RRS.PASG.KM': 3184, 'ST.INT.TRNX.CD': 3175, 'MS.MIL.XPRT.KD': 3173, 'SN.ITK.DFCT': 3168, 'SN.ITK.DEFC.ZS': 3128, 'SL.EMP.TOTL.SP.NE.ZS': 3112, 'SH.DYN.AIDS.ZS': 3055, 'SE.SEC.NENR': 3053, 'CM.MKT.LDOM.NO': 3026, 'FP.WPI.TOTL': 3009, 'SH.HIV.1524.FE.ZS': 3000, 'SH.HIV.1524.MA.ZS': 3000, 'IS.RRS.TOTL.KM': 2984, 'SL.IND.EMPL.FE.ZS': 2982, 'SL.IND.EMPL.MA.ZS': 2982, 'SL.SRV.EMPL.FE.ZS': 2982, 'SL.SRV.EMPL.MA.ZS': 2982, 'SL.AGR.EMPL.FE.ZS': 2962, 'SL.AGR.EMPL.MA.ZS': 2962, 'SH.DYN.AIDS.FE.ZS': 2957, 'ST.INT.TRNR.CD': 2935, 'SL.TLF.ACTI.1524.NE.ZS': 2913, 'SL.EMP.TOTL.SP.FE.NE.ZS': 2912, 'SL.EMP.TOTL.SP.MA.NE.ZS': 2912, 'SL.EMP.INSV.FE.ZS': 2878, 'SL.TLF.ACTI.1524.MA.NE.ZS': 2877, 'SL.TLF.ACTI.1524.FE.NE.ZS': 2876, 'SE.SEC.NENR.MA': 2874, 'SE.SEC.NENR.FE': 2873, 'IT.NET.BBND': 2822, 'IT.NET.SECR': 2794, 'IT.NET.SECR.P6': 2794, 'SL.EMP.WORK.ZS': 2745, 'SL.UEM.1524.NE.ZS': 2722, 'SE.PRM.PRS5.ZS': 2706, 'CM.MKT.LCAP.CD': 2683, 'SL.EMP.SELF.ZS': 2665, 'CM.MKT.LCAP.GD.ZS': 2656, 'SL.UEM.1524.FE.NE.ZS': 2632, 'SL.UEM.1524.MA.NE.ZS': 2632, 'IC.REG.COST.PC.ZS': 2628, 'IC.REG.PROC': 2628, 'IC.LGL.DURS': 2628, 'IC.REG.DURS': 2628, 'TM.TAX.MRCH.SM.FN.ZS': 2620, 'TM.TAX.MANF.SM.FN.ZS': 2620, 'TM.TAX.TCOM.SM.FN.ZS': 2620, 'TM.TAX.MRCH.IP.ZS': 2615, 'TM.TAX.MANF.IP.ZS': 2615, 'TM.TAX.TCOM.IP.ZS': 2615, 'TM.TAX.MRCH.SR.ZS': 2615, 'TM.TAX.MANF.SR.ZS': 2615, 'TM.TAX.TCOM.SR.ZS': 2615, 'TM.TAX.MRCH.SM.AR.ZS': 2615, 'TM.TAX.MANF.SM.AR.ZS': 2615, 'TM.TAX.TCOM.SM.AR.ZS': 2615, 'TM.TAX.MRCH.WM.AR.ZS': 2615, 'TM.TAX.MANF.WM.AR.ZS': 2615, 'TM.TAX.TCOM.WM.AR.ZS': 2615, 'TM.TAX.MRCH.WM.FN.ZS': 2615, 'TM.TAX.MANF.WM.FN.ZS': 2615, 'TM.TAX.TCOM.WM.FN.ZS': 2615, 'TM.VAL.ICTG.ZS.UN': 2608, 'SL.FAM.WORK.ZS': 2589, 'DC.DAC.LUXL.CD': 2585, 'SL.EMP.WORK.FE.ZS': 2578, 'SL.EMP.WORK.MA.ZS': 2578, 'FR.INR.RISK': 2574, 'VC.IHR.PSRC.P5': 2562, 'SL.EMP.SELF.FE.ZS': 2561, 'SL.EMP.SELF.MA.ZS': 2561, 'IT.NET.BBND.P2': 2545, 'GC.REV.GOTR.ZS': 2521, 'GC.TAX.YPKG.RV.ZS': 2519, 'CM.MKT.TRNR': 2518, 'GC.TAX.GSRV.RV.ZS': 2516, 'SM.POP.TOTL': 2509, 'SM.POP.TOTL.ZS': 2491, 'SL.FAM.WORK.FE.ZS': 2488, 'SL.FAM.WORK.MA.ZS': 2488, 'SM.POP.NETM': 2485, 'TX.VAL.ICTG.ZS.UN': 2482, 'GC.XPN.INTP.RV.ZS': 2477, 'GC.TAX.TOTL.GD.ZS': 2474, 'IC.CRD.PRVT.ZS': 2462, 'IC.CRD.PUBL.ZS': 2462, 'GC.REV.XGRT.GD.ZS': 2456, 'GC.XPN.COMP.ZS': 2430, 'CM.MKT.TRAD.CD': 2427, 'GC.XPN.INTP.ZS': 2427, 'GC.XPN.GSRV.ZS': 2424, 'IC.PRP.PROC': 2416, 'IC.PRP.DURS': 2416, 'CM.MKT.TRAD.GD.ZS': 2412, 'FB.AST.NPER.ZS': 2383, 'GC.TAX.INTT.RV.ZS': 2340, 'GC.XPN.TOTL.GD.ZS': 2336, 'GC.XPN.TRFT.ZS': 2335, 'ER.H2O.INTR.K3': 2323, 'ER.H2O.INTR.PC': 2322, 'GC.BAL.CASH.GD.ZS': 2318, 'GC.TAX.OTHR.RV.ZS': 2311, 'FB.CBK.BRCH.P5': 2293, 'IE.PPI.TELE.CD': 2292, 'IC.BUS.DISC.XQ': 2286, 'IC.TAX.PAYM': 2286, 'IC.TAX.DURS': 2286, 'IC.TAX.TOTL.CP.ZS': 2286, 'IC.WRH.PROC': 2264, 'IC.WRH.DURS': 2264, 'SE.SEC.PRIV.ZS': 2243, 'SE.PRM.PRS5.FE.ZS': 2240, 'SE.PRM.PRS5.MA.ZS': 2240, 'GC.TAX.TOTL.CN': 2212, 'AG.CON.FERT.ZS': 2206, 'GC.REV.XGRT.CN': 2196, 'ST.INT.DPRT': 2192, 'GC.TAX.YPKG.ZS': 2161, 'GC.TAX.YPKG.CN': 2161, 'GC.TAX.GSRV.CN': 2160, 'IC.EXP.COST.CD': 2153, 'IC.IMP.COST.CD': 2153, 'IC.EXP.DOCS': 2153, 'IC.IMP.DOCS': 2153, 'IC.EXP.DURS': 2153, 'IC.IMP.DURS': 2153, 'GC.REV.GOTR.CN': 2140, 'FB.ATM.TOTL.P5': 2140, 'SL.UEM.PRIM.ZS': 2138, 'GC.XPN.INTP.CN': 2130, 'SL.UEM.SECO.ZS': 2129, 'SL.UEM.TERT.ZS': 2126, 'GC.XPN.COMP.CN': 2115, 'GC.XPN.GSRV.CN': 2109, 'GC.XPN.TOTL.CN': 2105, 'DC.DAC.GRCL.CD': 2092, 'GC.BAL.CASH.CN': 2087, 'MS.MIL.XPND.ZS': 2069, 'TM.TAX.MRCH.BC.ZS': 2064, 'TM.TAX.MANF.BC.ZS': 2064, 'TM.TAX.TCOM.BC.ZS': 2064, 'TM.TAX.MRCH.BR.ZS': 2064, 'TM.TAX.MANF.BR.ZS': 2064, 'TM.TAX.TCOM.BR.ZS': 2064, 'AG.LND.PRCP.MM': 2063, 'GC.TAX.GSRV.VA.ZS': 2063, 'SH.HIV.0014': 2050, 'GC.XPN.TRFT.CN': 2017, 'SL.EMP.MPYR.ZS': 2014, 'GC.TAX.OTHR.CN': 2011, 'SL.UEM.PRIM.FE.ZS': 2002, 'SL.UEM.PRIM.MA.ZS': 2002, 'GC.TAX.INTT.CN': 1998, 'SL.UEM.SECO.FE.ZS': 1993, 'SL.UEM.SECO.MA.ZS': 1993, 'SL.UEM.TERT.FE.ZS': 1990, 'SL.UEM.TERT.MA.ZS': 1990, 'BX.GSR.NFSV.CD': 1977, 'BM.GSR.NFSV.CD': 1977, 'EP.PMP.SGAS.CD': 1976, 'BM.GSR.MRCH.CD': 1974, 'BM.GSR.GNFS.CD': 1974, 'BM.GSR.TOTL.CD': 1973, 'BX.GSR.GNFS.CD': 1971, 'BX.GSR.TOTL.CD': 1971, 'BX.GSR.MRCH.CD': 1970, 'EP.PMP.DESL.CD': 1959, 'BM.GSR.FCTY.CD': 1955, 'BX.GSR.FCTY.CD': 1954, 'SL.EMP.MPYR.FE.ZS': 1951, 'SL.EMP.MPYR.MA.ZS': 1951, 'BM.GSR.TRVL.ZS': 1949, 'BM.GSR.CMCP.ZS': 1948, 'BM.GSR.TRAN.ZS': 1948, 'GC.XPN.OTHR.ZS': 1945, 'BX.GSR.CMCP.ZS': 1938, 'BM.GSR.INSF.ZS': 1938, 'TX.VAL.SERV.CD.WT': 1933, 'TM.VAL.SERV.CD.WT': 1933, 'BX.GSR.TRAN.ZS': 1927, 'BX.GSR.TRVL.ZS': 1926, 'BG.GSR.NFSV.GD.ZS': 1919, 'BX.TRF.CURR.CD': 1908, 'TM.VAL.OTHR.ZS.WT': 1905, 'TM.VAL.TRAN.ZS.WT': 1905, 'TM.VAL.TRVL.ZS.WT': 1905, 'BM.TRF.PRVT.CD': 1899, 'TX.VAL.OTHR.ZS.WT': 1895, 'TM.VAL.INSF.ZS.WT': 1895, 'FI.RES.TOTL.MO': 1889, 'IQ.SCI.MTHD': 1885, 'IQ.SCI.OVRL': 1885, 'IQ.SCI.PRDC': 1885, 'IQ.SCI.SRCE': 1885, 'GC.TAX.IMPT.ZS': 1884, 'GC.TAX.IMPT.CN': 1884, 'TX.VAL.TRAN.ZS.WT': 1884, 'TX.VAL.TRVL.ZS.WT': 1882, 'SL.EMP.VULN.ZS': 1871, 'ST.INT.XPND.MP.ZS': 1839, 'ST.INT.RCPT.XP.ZS': 1830, 'FB.BNK.CAPA.ZS': 1828, 'FD.RES.LIQU.AS.ZS': 1824, 'DT.CUR.EURO.ZS': 1821, 'SL.EMP.VULN.FE.ZS': 1816, 'SL.EMP.VULN.MA.ZS': 1816, 'DC.DAC.PRTL.CD': 1808, 'BX.GSR.INSF.ZS': 1798, 'TX.VAL.INSF.ZS.WT': 1758, 'GB.XPD.RSDV.GD.ZS': 1744, 'SH.HIV.ARTC.ZS': 1740, 'FM.LBL.BMNY.GD.ZS': 1722, 'FS.AST.CGOV.GD.ZS': 1722, 'FS.AST.DOMO.GD.ZS': 1722, 'FS.AST.DOMS.GD.ZS': 1722, 'FS.AST.PRVT.GD.ZS': 1722, 'FD.AST.PRVT.GD.ZS': 1722, 'FM.LBL.MQMY.GD.ZS': 1722, 'IS.SHP.GCNW.XQ': 1705, 'SL.EMP.1524.SP.NE.ZS': 1703, 'BN.KLT.DINV.CD': 1702, 'SL.EMP.1524.SP.FE.NE.ZS': 1684, 'SL.EMP.1524.SP.MA.NE.ZS': 1684, 'BX.GSR.CCIS.ZS': 1675, 'GC.XPN.OTHR.CN': 1669, 'BM.GSR.ROYL.CD': 1664, 'BN.CAB.XOKA.CD': 1664, 'BN.GSR.FCTY.CD': 1664, 'BN.GSR.MRCH.CD': 1664, 'BN.GSR.GNFS.CD': 1664, 'BN.KAC.EOMS.CD': 1657, 'BN.FIN.TOTL.CD': 1657, 'BX.GSR.CCIS.CD': 1651, 'SL.TLF.PART.ZS': 1645, 'SL.TLF.PART.FE.ZS': 1629, 'SL.TLF.PART.MA.ZS': 1629, 'BN.CAB.XOKA.GD.ZS': 1629, 'SL.TLF.PART.TL.FE.ZS': 1626, 'GC.FIN.FRGN.GD.ZS': 1621, 'GC.FIN.DOMS.GD.ZS': 1617, 'BX.TRF.PWKR.CD': 1610, 'SE.XPD.TOTL.GB.ZS': 1599, 'SL.UEM.LTRM.ZS': 1597, 'GC.REV.SOCL.ZS': 1584, 'FM.LBL.BMNY.CN': 1574, 'FM.LBL.MQMY.CN': 1574, 'FM.AST.DOMS.CN': 1574, 'FM.AST.NFRG.CN': 1574, 'FM.LBL.MONY.CN': 1560, 'BM.KLT.DINV.GD.ZS': 1559, 'SL.TLF.TERT.ZS': 1558, 'IS.SHP.GOOD.TU': 1557, 'SL.TLF.PRIM.ZS': 1556, 'FM.LBL.BMNY.IR.ZS': 1554, 'FM.LBL.MQMY.IR.ZS': 1554, 'CM.MKT.INDX.ZG': 1544, 'SL.TLF.SECO.ZS': 1536, 'EN.ATM.PM25.MC.M3': 1532, 'EN.ATM.PM25.MC.ZS': 1529, 'BN.RES.INCL.CD': 1527, 'BN.KLT.PTXL.CD': 1496, 'SL.UEM.LTRM.FE.ZS': 1495, 'SL.UEM.LTRM.MA.ZS': 1495, 'BN.TRF.KOGT.CD': 1492, 'IC.BUS.DFRN.XQ': 1487, 'IC.ELC.TIME': 1487, 'GC.FIN.FRGN.CN': 1482, 'IC.BUS.NDNS.ZS': 1472, 'SH.STA.BRTC.ZS': 1471, 'GC.FIN.DOMS.CN': 1464, 'FM.LBL.BMNY.ZG': 1460, 'FM.AST.CGOV.ZG.M3': 1460, 'FM.AST.DOMO.ZG.M3': 1460, 'FM.AST.PRVT.ZG.M3': 1460, 'FM.LBL.MQMY.ZG': 1460, 'SL.TLF.TERT.FE.ZS': 1455, 'SL.TLF.TERT.MA.ZS': 1455, 'SL.TLF.PRIM.FE.ZS': 1452, 'SL.TLF.PRIM.MA.ZS': 1452, 'SL.TLF.SECO.FE.ZS': 1432, 'SL.TLF.SECO.MA.ZS': 1432, 'GC.REV.SOCL.CN': 1398, 'DT.ODA.ODAT.XP.ZS': 1387, 'BX.GSR.ROYL.CD': 1383, 'DT.ODA.ODAT.MP.ZS': 1380, 'SP.POP.SCIE.RD.P6': 1371, 'IQ.WEF.CUST.XQ': 1359, 'IQ.WEF.PORT.XQ': 1359, 'GC.DOD.TOTL.GD.ZS': 1340, 'SE.XPD.TERT.ZS': 1337, 'SG.GEN.LSOM.ZS': 1326, 'AG.CON.FERT.PT.ZS': 1305, 'SE.PRM.NINT.ZS': 1282, 'SI.POV.GINI': 1255, 'SI.DST.04TH.20': 1255, 'SI.DST.10TH.10': 1255, 'SI.DST.05TH.20': 1255, 'SI.DST.FRST.10': 1255, 'SI.DST.FRST.20': 1255, 'SI.DST.02ND.20': 1255, 'SI.DST.03RD.20': 1255, 'DT.NFL.UNAI.CD': 1225, 'SE.PRM.NINT.FE.ZS': 1222, 'SE.PRM.NINT.MA.ZS': 1219, 'SI.POV.GAPS': 1216, 'SI.POV.DDAY': 1216, 'SI.POV.GAP2': 1204, 'SI.POV.2DAY': 1204, 'SE.XPD.PRIM.PC.ZS': 1203, 'SE.XPD.PRIM.ZS': 1198, 'GC.DOD.TOTL.CN': 1191, 'SE.XPD.SECO.ZS': 1183, 'DT.DOD.DSTC.XP.ZS': 1176, 'DT.TDS.DPPG.XP.ZS': 1172, 'SP.DYN.CONU.ZS': 1147, 'SE.PRM.TCAQ.ZS': 1136, 'IC.BUS.NREG': 1128, 'DC.DAC.CZEL.CD': 1111, 'SE.XPD.SECO.PC.ZS': 1107, 'SE.XPD.TERT.PC.ZS': 1086, 'FB.CBK.BRWR.P3': 1058, 'IE.PPI.ENGY.CD': 1054, 'IQ.CPA.HRES.XQ': 1023, 'IQ.CPA.BREG.XQ': 1023, 'IQ.CPA.DEBT.XQ': 1023, 'IQ.CPA.ECON.XQ': 1023, 'IQ.CPA.REVN.XQ': 1023, 'IQ.CPA.PRES.XQ': 1023, 'IQ.CPA.FINS.XQ': 1023, 'IQ.CPA.FISP.XQ': 1023, 'IQ.CPA.GNDR.XQ': 1023, 'IQ.CPA.MACR.XQ': 1023, 'IQ.CPA.ENVR.XQ': 1023, 'IQ.CPA.PROP.XQ': 1023, 'IQ.CPA.PUBS.XQ': 1023, 'IQ.CPA.FINQ.XQ': 1023, 'IQ.CPA.PADM.XQ': 1023, 'IQ.CPA.STRC.XQ': 1023, 'IQ.CPA.TRAD.XQ': 1023, 'IQ.CPA.TRAN.XQ': 1023, 'IQ.CPA.IRAI.XQ': 1023, 'IQ.CPA.SOCI.XQ': 1018, 'IQ.CPA.PROT.XQ': 1015, 'DT.NFL.IAEA.CD': 998, 'SE.PRM.TCAQ.FE.ZS': 992, 'SE.PRM.TCAQ.MA.ZS': 992, 'EG.ELC.ACCS.ZS': 980, 'EG.ELC.ACCS.RU.ZS': 980, 'EG.ELC.ACCS.UR.ZS': 980, 'SE.XPD.CTOT.ZS': 970, 'DC.DAC.POLL.CD': 951, 'SE.XPD.CSEC.ZS': 943, 'ER.GDP.FWTL.M3.KD': 941, 'EN.CLC.GHGR.MT.CE': 940, 'SE.XPD.CPRM.ZS': 938, 'FB.CBK.DPTR.P3': 937, 'SP.POP.TECH.RD.P6': 930, 'NY.ADJ.SVNG.GN.ZS': 927, 'SN.ITK.VITA.ZS': 914, 'SE.XPD.CTER.ZS': 905, 'SP.DYN.IMRT.FE.IN': 900, 'SP.DYN.IMRT.MA.IN': 900, 'SH.DYN.MORT.FE': 900, 'SH.DYN.MORT.MA': 900, 'SH.STA.MALN.ZS': 899, 'EG.NSF.ACCS.ZS': 896, 'SE.XPD.MSEC.ZS': 886, 'SE.XPD.MPRM.ZS': 885, 'SE.XPD.MTOT.ZS': 885, 'SH.STA.STNT.ZS': 870, 'SH.STA.WAST.ZS': 863, 'DT.NFL.UNRW.CD': 853, 'FM.LBL.QMNY.CN': 853, 'VC.BTL.DETH': 848, 'EN.ATM.METH.KT.CE': 832, 'EN.ATM.METH.EG.KT.CE': 832, 'EN.ATM.NOXE.KT.CE': 832, 'EN.ATM.NOXE.EG.KT.CE': 832, 'EN.ATM.METH.AG.ZS': 830, 'EN.ATM.NOXE.AG.ZS': 830, 'EN.ATM.METH.EG.ZS': 830, 'EN.ATM.NOXE.EI.ZS': 830, 'SH.STA.ORTH': 824, 'SE.XPD.MTER.ZS': 784, 'SH.STA.ANVC.ZS': 779, 'EN.ATM.GHGO.KT.CE': 772, 'SL.UEM.NEET.ZS': 752, 'SL.UEM.NEET.MA.ZS': 749, 'SL.UEM.NEET.FE.ZS': 748, 'LP.LPI.TRAC.XQ': 747, 'LP.LPI.LOGS.XQ': 747, 'LP.LPI.ITRN.XQ': 747, 'LP.LPI.CUST.XQ': 747, 'LP.LPI.TIME.XQ': 747, 'LP.LPI.OVRL.XQ': 747, 'LP.LPI.INFR.XQ': 747, 'NY.GSR.NFCY.KN': 742, 'EN.ATM.SF6G.KT.CE': 741, 'SH.STA.OWGH.ZS': 740, 'SE.ADT.LITR.ZS': 737, 'SE.ADT.LITR.FE.ZS': 734, 'SE.ADT.LITR.MA.ZS': 734, 'ER.H2O.FWTL.K3': 732, 'SE.ADT.1524.LT.ZS': 731, 'SE.ADT.1524.LT.FE.ZS': 728, 'SE.ADT.1524.LT.FM.ZS': 728, 'SE.ADT.1524.LT.MA.ZS': 728, 'EN.ATM.HFCG.KT.CE': 728, 'EN.ATM.PFCG.KT.CE': 723, 'DT.ODA.OATL.KD': 721, 'DT.ODA.OATL.CD': 721, 'SH.STA.BRTW.ZS': 709, 'ER.H2O.FWTL.ZS': 708, 'AG.LND.IRIG.AG.ZS': 705, 'SH.MED.NUMW.P3': 704, 'SH.STA.MMRT.NE': 689, 'GC.TAX.EXPT.ZS': 687, 'GC.TAX.EXPT.CN': 687, 'NY.ADJ.DPEM.CD': 678, 'EN.ATM.METH.AG.KT.CE': 672, 'EN.ATM.NOXE.AG.KT.CE': 672, 'EN.ATM.NOXE.IN.KT.CE': 672, 'IC.CRD.INFO.XQ': 663, 'IC.LGL.CRED.XQ': 663, 'ER.H2O.FWAG.ZS': 659, 'IE.PPI.TRAN.CD': 650, 'ER.H2O.FWDM.ZS': 640, 'ER.H2O.FWIN.ZS': 638, 'SI.POV.NAHC': 634, 'SH.SVR.WAST.ZS': 627, 'IC.TAX.LABR.CP.ZS': 626, 'IC.TAX.PRFT.CP.ZS': 626, 'VC.IDP.TOTL.HE': 610, 'SH.PRV.SMOK.FE': 600, 'SH.PRV.SMOK.MA': 591, 'NY.ADJ.DPEM.GN.ZS': 572, 'LP.EXP.DURS.MD': 563, 'LP.IMP.DURS.MD': 554, 'SH.STA.MALN.MA.ZS': 547, 'DC.DAC.ISLL.CD': 547, 'SH.STA.MALN.FE.ZS': 545, 'SP.REG.DTHS.ZS': 545, 'SH.STA.STNT.MA.ZS': 538, 'SH.STA.STNT.FE.ZS': 536, 'SH.STA.WAST.MA.ZS': 535, 'SH.STA.WAST.FE.ZS': 533, 'SH.STA.OWGH.MA.ZS': 522, 'SH.STA.OWGH.FE.ZS': 520, 'SH.SVR.WAST.MA.ZS': 519, 'SH.SVR.WAST.FE.ZS': 518, 'IC.FRM.BKWC.ZS': 496, 'AG.LND.EL5M.ZS': 480, 'EN.POP.EL5M.ZS': 480, 'SI.POV.URHC': 451, 'SM.EMI.TERT.ZS': 448, 'EG.NSF.ACCS.RU.ZS': 448, 'EG.NSF.ACCS.UR.ZS': 448, 'IC.BUS.EASE.XQ': 442, 'DC.DAC.SVKL.CD': 435, 'DT.NFL.WHOL.CD': 435, 'IC.ISV.DURS': 430, 'SI.POV.RUHC': 424, 'SH.STA.BFED.ZS': 422, 'IC.TAX.OTHR.CP.ZS': 420, 'SH.DTH.COMM.ZS': 408, 'SH.DTH.INJR.ZS': 408, 'SH.DTH.NCOM.ZS': 408, 'IC.FRM.BRIB.ZS': 407, 'ER.BDV.TOTL.XQ': 404, 'NY.ADJ.SVNG.CD': 388, 'DC.DAC.SVNL.CD': 387, 'SH.STA.ARIC.ZS': 385, 'SP.UWT.TFRT': 381, 'IE.PPI.WATR.CD': 366, 'SP.DTH.REPT.ZS': 364, 'IC.FRM.BNKS.ZS': 323, 'IC.FRM.CRIM.ZS': 322, 'IC.GOV.DURS.ZS': 321, 'IC.TAX.GIFT.ZS': 320, 'IC.FRM.TRNG.ZS': 320, 'IC.FRM.ISOC.ZS': 320, 'IC.FRM.CORR.ZS': 317, 'IC.FRM.INFM.ZS': 314, 'IC.ELC.DURS': 314, 'SI.POV.NAGP': 313, 'SP.DTH.INFR.ZS': 311, 'IC.CUS.DURS.EX': 308, 'SP.REG.BRTH.ZS': 303, 'IC.TAX.METG': 297, 'FS.LBL.QLIQ.GD.ZS': 288, 'IC.FRM.FEMO.ZS': 287, 'SP.MTR.1519.ZS': 280, 'FS.LBL.LIQU.GD.ZS': 274, 'SH.STA.ORCF.ZS': 268, 'SP.DYN.WFRT': 267, 'SI.POV.URGP': 254, 'IC.FRM.DURS': 254, 'IC.FRM.OUTG.ZS': 252, 'SI.POV.RUGP': 250, 'SP.HOU.FEMA.ZS': 247, 'IC.ELC.OUTG': 247, 'DT.NFL.UNPB.CD': 245, 'EN.BIR.THRD.NO': 245, 'EN.FSH.THRD.NO': 245, 'EN.MAM.THRD.NO': 245, 'EN.HPT.THRD.NO': 245, 'IC.FRM.CMPU.ZS': 242, 'SH.STA.DIAB.ZS': 240, 'SL.TLF.0714.WK.ZS': 237, 'SL.TLF.0714.FE.ZS': 236, 'SL.TLF.0714.MA.ZS': 236, 'SL.TLF.0714.SW.ZS': 236, 'SL.TLF.0714.ZS': 236, 'SN.ITK.SALT.ZS': 234, 'IC.FRM.FREG.ZS': 226, 'SH.MLR.TRET.ZS': 205, 'per_allsp.cov_pop_tot': 201, 'SP.REG.BRTH.RU.ZS': 198, 'SP.REG.BRTH.UR.ZS': 198, 'per_sa_allsa.cov_pop_tot': 196, 'VC.IDP.TOTL.LE': 194, 'IC.FRM.FEMM.ZS': 188, 'SH.MLR.NETS.ZS': 186, 'per_allsp.ben_q1_tot': 186, 'per_allsp.adq_pop_tot': 185, 'SH.MED.CMHW.P3': 184, 'per_si_allsi.cov_pop_tot': 184, 'PA.NUS.PPP.05': 184, 'PA.NUS.PRVT.PP.05': 184, 'per_si_allsi.ben_q1_tot': 176, 'per_si_allsi.adq_pop_tot': 175, 'SI.SPR.PC40': 168, 'SI.SPR.PCAP': 168, 'per_sa_allsa.ben_q1_tot': 168, 'EN.CLC.MDAT.ZS': 168, 'per_sa_allsa.adq_pop_tot': 167, 'SH.CON.1524.FE.ZS': 162, 'SG.VAW.REAS.ZS': 146, 'SG.VAW.GOES.ZS': 146, 'SG.VAW.NEGL.ZS': 146, 'SG.VAW.ARGU.ZS': 144, 'SG.VAW.REFU.ZS': 143, 'SG.VAW.BURN.ZS': 142, 'SL.TLF.0714.SW.FE.ZS': 137, 'SL.TLF.0714.SW.MA.ZS': 137, 'SL.TLF.0714.WK.FE.ZS': 137, 'SL.TLF.0714.WK.MA.ZS': 137, 'SH.CON.1524.MA.ZS': 136, 'SL.FAM.0714.ZS': 134, 'SL.FAM.0714.FE.ZS': 134, 'SL.FAM.0714.MA.ZS': 134, 'SL.WAG.0714.ZS': 132, 'SL.WAG.0714.FE.ZS': 132, 'SL.WAG.0714.MA.ZS': 132, 'SL.AGR.0714.FE.ZS': 122, 'SL.AGR.0714.MA.ZS': 122, 'SL.SRV.0714.FE.ZS': 122, 'SL.SRV.0714.MA.ZS': 122, 'SL.MNF.0714.FE.ZS': 120, 'SL.MNF.0714.MA.ZS': 120, 'DT.DOD.PVLX.CD': 118, 'SL.AGR.0714.ZS': 114, 'SL.SRV.0714.ZS': 114, 'per_lm_alllm.cov_pop_tot': 114, 'DT.NFL.UNEC.CD': 114, 'SL.MNF.0714.ZS': 113, 'FB.POS.TOTL.P5': 100, 'DT.DOD.PVLX.GN.ZS': 100, 'SI.SPR.PC40.ZG': 94, 'SI.SPR.PCAP.ZG': 94, 'SL.TLF.0714.SW.TM': 90, 'SL.TLF.0714.SW.FE.TM': 90, 'SL.TLF.0714.SW.MA.TM': 90, 'SL.TLF.0714.WK.TM': 85, 'SL.TLF.0714.WK.MA.TM': 85, 'VC.PKP.TOTL.UN': 85, 'SL.TLF.0714.WK.FE.TM': 83, 'EN.CLC.DRSK.XQ': 83, 'SL.SLF.0714.ZS': 70, 'SL.SLF.0714.FE.ZS': 70, 'SL.SLF.0714.MA.ZS': 70, 'DT.DOD.PVLX.EX.ZS': 69, 'per_lm_alllm.adq_pop_tot': 67, 'per_lm_alllm.ben_q1_tot': 67, 'SI.SPR.PC40.05': 8, 'SI.SPR.PCAP.05': 8})\n",
      "************************************************************************************************************************\n"
     ]
    }
   ],
   "source": [
    "for i in cat:\n",
    "    print(\"Column :\",i)\n",
    "    print('count of classes : ',data[i].nunique())\n",
    "    print(c(data[i]))\n",
    "    print('*'*120)"
   ]
  },
  {
   "cell_type": "code",
   "execution_count": 75,
   "id": "4165fda8",
   "metadata": {},
   "outputs": [
    {
     "data": {
      "text/plain": [
       "array(['Year', 'Value'], dtype=object)"
      ]
     },
     "execution_count": 75,
     "metadata": {},
     "output_type": "execute_result"
    }
   ],
   "source": [
    "data.dtypes[data.dtypes!='O'].index.values"
   ]
  },
  {
   "cell_type": "code",
   "execution_count": 76,
   "id": "03614446",
   "metadata": {},
   "outputs": [
    {
     "data": {
      "text/plain": [
       "CountryName      False\n",
       "CountryCode      False\n",
       "IndicatorName    False\n",
       "IndicatorCode    False\n",
       "Year             False\n",
       "Value            False\n",
       "dtype: bool"
      ]
     },
     "execution_count": 76,
     "metadata": {},
     "output_type": "execute_result"
    }
   ],
   "source": [
    "data.isnull().any()#it will return true if any columns is having null values"
   ]
  },
  {
   "cell_type": "code",
   "execution_count": 77,
   "id": "9564ddc7",
   "metadata": {},
   "outputs": [
    {
     "data": {
      "text/plain": [
       "CountryName      0\n",
       "CountryCode      0\n",
       "IndicatorName    0\n",
       "IndicatorCode    0\n",
       "Year             0\n",
       "Value            0\n",
       "dtype: int64"
      ]
     },
     "execution_count": 77,
     "metadata": {},
     "output_type": "execute_result"
    }
   ],
   "source": [
    "data.isnull().sum() #used for finding the null values"
   ]
  },
  {
   "cell_type": "code",
   "execution_count": 78,
   "id": "7ab1f30f",
   "metadata": {},
   "outputs": [],
   "source": [
    "data=data[data['CountryCode'].str.contains(\"USA|SGP|IND|ARB|BRB\")]"
   ]
  },
  {
   "cell_type": "code",
   "execution_count": 79,
   "id": "244160d6",
   "metadata": {},
   "outputs": [
    {
     "data": {
      "text/html": [
       "<div>\n",
       "<style scoped>\n",
       "    .dataframe tbody tr th:only-of-type {\n",
       "        vertical-align: middle;\n",
       "    }\n",
       "\n",
       "    .dataframe tbody tr th {\n",
       "        vertical-align: top;\n",
       "    }\n",
       "\n",
       "    .dataframe thead th {\n",
       "        text-align: right;\n",
       "    }\n",
       "</style>\n",
       "<table border=\"1\" class=\"dataframe\">\n",
       "  <thead>\n",
       "    <tr style=\"text-align: right;\">\n",
       "      <th></th>\n",
       "      <th>CountryName</th>\n",
       "      <th>CountryCode</th>\n",
       "      <th>IndicatorName</th>\n",
       "      <th>IndicatorCode</th>\n",
       "      <th>Year</th>\n",
       "      <th>Value</th>\n",
       "    </tr>\n",
       "  </thead>\n",
       "  <tbody>\n",
       "    <tr>\n",
       "      <th>0</th>\n",
       "      <td>Arab World</td>\n",
       "      <td>ARB</td>\n",
       "      <td>Adolescent fertility rate (births per 1,000 wo...</td>\n",
       "      <td>SP.ADO.TFRT</td>\n",
       "      <td>1960</td>\n",
       "      <td>1.335609e+02</td>\n",
       "    </tr>\n",
       "    <tr>\n",
       "      <th>1</th>\n",
       "      <td>Arab World</td>\n",
       "      <td>ARB</td>\n",
       "      <td>Age dependency ratio (% of working-age populat...</td>\n",
       "      <td>SP.POP.DPND</td>\n",
       "      <td>1960</td>\n",
       "      <td>8.779760e+01</td>\n",
       "    </tr>\n",
       "    <tr>\n",
       "      <th>2</th>\n",
       "      <td>Arab World</td>\n",
       "      <td>ARB</td>\n",
       "      <td>Age dependency ratio, old (% of working-age po...</td>\n",
       "      <td>SP.POP.DPND.OL</td>\n",
       "      <td>1960</td>\n",
       "      <td>6.634579e+00</td>\n",
       "    </tr>\n",
       "    <tr>\n",
       "      <th>3</th>\n",
       "      <td>Arab World</td>\n",
       "      <td>ARB</td>\n",
       "      <td>Age dependency ratio, young (% of working-age ...</td>\n",
       "      <td>SP.POP.DPND.YG</td>\n",
       "      <td>1960</td>\n",
       "      <td>8.102333e+01</td>\n",
       "    </tr>\n",
       "    <tr>\n",
       "      <th>4</th>\n",
       "      <td>Arab World</td>\n",
       "      <td>ARB</td>\n",
       "      <td>Arms exports (SIPRI trend indicator values)</td>\n",
       "      <td>MS.MIL.XPRT.KD</td>\n",
       "      <td>1960</td>\n",
       "      <td>3.000000e+06</td>\n",
       "    </tr>\n",
       "  </tbody>\n",
       "</table>\n",
       "</div>"
      ],
      "text/plain": [
       "  CountryName CountryCode                                      IndicatorName  \\\n",
       "0  Arab World         ARB  Adolescent fertility rate (births per 1,000 wo...   \n",
       "1  Arab World         ARB  Age dependency ratio (% of working-age populat...   \n",
       "2  Arab World         ARB  Age dependency ratio, old (% of working-age po...   \n",
       "3  Arab World         ARB  Age dependency ratio, young (% of working-age ...   \n",
       "4  Arab World         ARB        Arms exports (SIPRI trend indicator values)   \n",
       "\n",
       "    IndicatorCode  Year         Value  \n",
       "0     SP.ADO.TFRT  1960  1.335609e+02  \n",
       "1     SP.POP.DPND  1960  8.779760e+01  \n",
       "2  SP.POP.DPND.OL  1960  6.634579e+00  \n",
       "3  SP.POP.DPND.YG  1960  8.102333e+01  \n",
       "4  MS.MIL.XPRT.KD  1960  3.000000e+06  "
      ]
     },
     "execution_count": 79,
     "metadata": {},
     "output_type": "execute_result"
    }
   ],
   "source": [
    "data.head()"
   ]
  },
  {
   "cell_type": "code",
   "execution_count": 80,
   "id": "e784468d",
   "metadata": {},
   "outputs": [
    {
     "name": "stdout",
     "output_type": "stream",
     "text": [
      "LABEL ENCODING OF: CountryName\n",
      "Counter({'India': 35721, 'United States': 24425, 'Singapore': 22600, 'Barbados': 17611, 'Arab World': 17115})\n",
      "Counter({2: 35721, 4: 24425, 3: 22600, 1: 17611, 0: 17115})\n",
      "****************************************************************************************************\n",
      "LABEL ENCODING OF: CountryCode\n",
      "Counter({'IND': 35721, 'USA': 24425, 'SGP': 22600, 'BRB': 17611, 'ARB': 17115})\n",
      "Counter({2: 35721, 4: 24425, 3: 22600, 1: 17611, 0: 17115})\n",
      "****************************************************************************************************\n",
      "LABEL ENCODING OF: IndicatorName\n",
      "Counter({'Mortality rate, infant (per 1,000 live births)': 280, 'Mortality rate, under-5 (per 1,000)': 280, 'Adolescent fertility rate (births per 1,000 women ages 15-19)': 275, 'Age dependency ratio (% of working-age population)': 275, 'Age dependency ratio, old (% of working-age population)': 275, 'Age dependency ratio, young (% of working-age population)': 275, 'Merchandise exports (current US$)': 275, 'Merchandise imports (current US$)': 275, 'Population ages 65 and above (% of total)': 275, 'Population, ages 0-14 (% of total)': 275, 'Population, ages 15-64 (% of total)': 275, 'Population, female (% of total)': 275, 'Population, total': 275, 'Rural population': 275, 'Rural population (% of total population)': 275, 'Urban population': 275, 'Urban population (% of total)': 275, 'Population growth (annual %)': 274, 'Urban population growth (annual %)': 274, 'Birth rate, crude (per 1,000 people)': 270, 'Death rate, crude (per 1,000 people)': 270, 'Life expectancy at birth, female (years)': 270, 'Life expectancy at birth, male (years)': 270, 'Life expectancy at birth, total (years)': 270, 'Survival to age 65, female (% of cohort)': 270, 'Survival to age 65, male (% of cohort)': 270, 'Land area (sq. km)': 270, 'Population density (people per sq. km of land area)': 270, 'Surface area (sq. km)': 270, 'Fertility rate, total (births per woman)': 269, 'Merchandise exports by the reporting economy (current US$)': 268, 'Merchandise exports by the reporting economy, residual (% of total merchandise exports)': 268, 'Merchandise exports to developing economies in Latin America & the Caribbean (% of total merchandise exports)': 268, 'Merchandise exports to developing economies in South Asia (% of total merchandise exports)': 268, 'Merchandise exports to developing economies in Sub-Saharan Africa (% of total merchandise exports)': 268, 'Merchandise exports to developing economies outside region (% of total merchandise exports)': 268, 'Merchandise exports to economies in the Arab World (% of total merchandise exports)': 268, 'Merchandise exports to high-income economies (% of total merchandise exports)': 268, 'Merchandise imports by the reporting economy (current US$)': 268, 'Merchandise imports by the reporting economy, residual (% of total merchandise imports)': 268, 'Merchandise imports from developing economies in Latin America & the Caribbean (% of total merchandise imports)': 268, 'Merchandise imports from developing economies in Middle East & North Africa (% of total merchandise imports)': 268, 'Merchandise imports from developing economies in South Asia (% of total merchandise imports)': 268, 'Merchandise imports from developing economies in Sub-Saharan Africa (% of total merchandise imports)': 268, 'Merchandise imports from developing economies outside region (% of total merchandise imports)': 268, 'Merchandise imports from economies in the Arab World (% of total merchandise imports)': 268, 'Merchandise imports from high-income economies (% of total merchandise imports)': 268, 'Mortality rate, adult, female (per 1,000 female adults)': 267, 'Mortality rate, adult, male (per 1,000 male adults)': 267, 'Agricultural land (% of land area)': 265, 'Agricultural land (sq. km)': 265, 'Arable land (% of land area)': 265, 'Arable land (hectares per person)': 265, 'Crop production index (2004-2006 = 100)': 265, 'Food production index (2004-2006 = 100)': 265, 'Livestock production index (2004-2006 = 100)': 265, 'Permanent cropland (% of land area)': 265, 'CO2 emissions (kt)': 260, 'CO2 emissions (metric tons per capita)': 260, 'CO2 emissions from gaseous fuel consumption (% of total)': 260, 'CO2 emissions from solid fuel consumption (% of total)': 260, 'CO2 emissions from liquid fuel consumption (% of total)': 259, 'CO2 emissions from liquid fuel consumption (kt)': 259, 'Merchandise trade (% of GDP)': 255, 'Inflation, consumer prices (annual %)': 251, 'CO2 emissions from gaseous fuel consumption (kt)': 249, 'GDP at market prices (current US$)': 247, 'GDP per capita (current US$)': 247, 'GNI (current US$)': 247, 'Exports of goods and services (% of GDP)': 246, 'External balance on goods and services (% of GDP)': 246, 'General government final consumption expenditure (% of GDP)': 246, 'General government final consumption expenditure (current US$)': 246, 'Imports of goods and services (% of GDP)': 246, 'Trade (% of GDP)': 246, 'Gross national expenditure (current US$)': 244, 'Inflation, GDP deflator (annual %)': 242, 'Merchandise exports to developing economies in East Asia & Pacific (% of total merchandise exports)': 241, 'Merchandise exports to developing economies in Middle East & North Africa (% of total merchandise exports)': 241, 'GDP at market prices (constant 2005 US$)': 240, 'GDP per capita (constant 2005 US$)': 240, 'Merchandise imports from developing economies in East Asia & Pacific (% of total merchandise imports)': 239, 'Gross capital formation (% of GDP)': 238, 'Gross capital formation (current US$)': 238, 'Gross domestic savings (% of GDP)': 238, 'Gross fixed capital formation (% of GDP)': 238, 'Gross fixed capital formation (current US$)': 238, 'Household final consumption expenditure, etc. (% of GDP)': 238, 'GDP growth (annual %)': 235, 'GDP per capita growth (annual %)': 235, 'Fuel exports (% of merchandise exports)': 235, 'Manufactures exports (% of merchandise exports)': 235, 'Exports of goods and services (current US$)': 234, 'Household final consumption expenditure (current US$)': 234, 'GNI per capita, Atlas method (current US$)': 234, 'GNI, Atlas method (current US$)': 234, 'Agricultural raw materials exports (% of merchandise exports)': 233, 'Food exports (% of merchandise exports)': 233, 'Ores and metals exports (% of merchandise exports)': 232, 'Agricultural raw materials imports (% of merchandise imports)': 228, 'Food imports (% of merchandise imports)': 228, 'Fuel imports (% of merchandise imports)': 228, 'Manufactures imports (% of merchandise imports)': 228, 'Ores and metals imports (% of merchandise imports)': 228, 'CO2 emissions (kg per 2005 US$ of GDP)': 225, 'Number of infant deaths': 224, 'Number of under-five deaths': 224, 'Final consumption expenditure, etc. (current US$)': 224, 'Gross domestic savings (current US$)': 224, 'Household final consumption expenditure, etc. (current US$)': 224, 'Population in the largest city (% of urban population)': 220, 'Population in urban agglomerations of more than 1 million (% of total population)': 220, 'DEC alternative conversion factor (LCU per US$)': 220, 'Imports of goods and services (current US$)': 220, 'Foreign direct investment, net inflows (BoP, current US$)': 220, 'Mineral rents (% of GDP)': 220, 'Arms imports (SIPRI trend indicator values)': 219, 'Official exchange rate (LCU per US$, period average)': 219, 'Rural population growth (annual %)': 219, 'Adjusted savings: carbon dioxide damage (% of GNI)': 219, 'Adjusted savings: consumption of fixed capital (% of GNI)': 219, 'Adjusted savings: education expenditure (% of GNI)': 219, 'Adjusted savings: mineral depletion (% of GNI)': 219, 'Coal rents (% of GDP)': 219, 'Adjusted savings: energy depletion (% of GNI)': 218, 'Natural gas rents (% of GDP)': 218, 'Oil rents (% of GDP)': 218, 'Portfolio equity, net inflows (BoP, current US$)': 216, 'Consumer price index (2010 = 100)': 214, 'Total reserves (includes gold, current US$)': 214, 'Total reserves minus gold (current US$)': 214, 'Fixed telephone subscriptions': 213, 'Fixed telephone subscriptions (per 100 people)': 213, 'Cereal production (metric tons)': 212, 'Cereal yield (kg per hectare)': 212, 'Land under cereal production (hectares)': 212, 'Arable land (hectares)': 212, 'Foreign direct investment, net inflows (% of GDP)': 209, 'Mobile cellular subscriptions': 208, 'Mobile cellular subscriptions (per 100 people)': 208, 'CO2 emissions from solid fuel consumption (kt)': 208, 'Adjusted savings: gross savings (% of GNI)': 203, 'Adjusted savings: net national savings (% of GNI)': 203, 'Air transport, passengers carried': 201, 'Air transport, registered carrier departures worldwide': 201, 'GDP (constant LCU)': 200, 'GDP (current LCU)': 200, 'GDP deflator (base year varies by country)': 200, 'GDP per capita (constant LCU)': 200, 'GDP per capita (current LCU)': 200, 'Net official development assistance and official aid received (constant 2012 US$)': 199, 'Net official development assistance and official aid received (current US$)': 199, 'Changes in inventories (current LCU)': 199, 'Changes in inventories (current US$)': 199, 'Discrepancy in expenditure estimate of GDP (current LCU)': 199, 'Exports of goods and services (current LCU)': 199, 'External balance on goods and services (current LCU)': 199, 'External balance on goods and services (current US$)': 199, 'Final consumption expenditure (current LCU)': 199, 'Final consumption expenditure (current US$)': 199, 'Final consumption expenditure, etc. (% of GDP)': 199, 'Final consumption expenditure, etc. (current LCU)': 199, 'General government final consumption expenditure (current LCU)': 199, 'Gross capital formation (current LCU)': 199, 'Gross domestic savings (current LCU)': 199, 'Gross fixed capital formation (current LCU)': 199, 'Gross national expenditure (% of GDP)': 199, 'Gross national expenditure (current LCU)': 199, 'Household final consumption expenditure (current LCU)': 199, 'Household final consumption expenditure, etc. (current LCU)': 199, 'Imports of goods and services (current LCU)': 199, 'Net bilateral aid flows from DAC donors, Total (current US$)': 198, 'Net bilateral aid flows from DAC donors, United Kingdom (current US$)': 198, 'GNI (current LCU)': 198, 'GNI per capita (current LCU)': 198, 'Net income from abroad (current LCU)': 198, 'Net income from abroad (current US$)': 198, 'Trademark applications, total': 198, 'Gross savings (% of GNI)': 195, 'Air transport, freight (million ton-km)': 194, 'Patent applications, nonresidents': 191, 'Net bilateral aid flows from DAC donors, Germany (current US$)': 189, 'Net ODA received per capita (current US$)': 189, 'Net official development assistance received (constant 2012 US$)': 189, 'Net official development assistance received (current US$)': 189, 'Net bilateral aid flows from DAC donors, Canada (current US$)': 189, 'Net bilateral aid flows from DAC donors, Japan (current US$)': 187, 'Energy use (kg of oil equivalent per capita)': 185, 'Gross savings (% of GDP)': 185, 'Enrolment in primary education, both sexes (number)': 182, 'Household final consumption expenditure (constant 2005 US$)': 181, 'Household final consumption expenditure per capita (constant 2005 US$)': 181, 'Fossil fuel energy consumption (% of total)': 181, 'Alternative and nuclear energy (% of total energy use)': 180, 'CO2 intensity (kg per kg of oil equivalent energy use)': 180, 'Combustible renewables and waste (% of total energy)': 180, 'Electricity production from coal sources (% of total)': 180, 'Electricity production from hydroelectric sources (% of total)': 180, 'Electricity production from natural gas sources (% of total)': 180, 'Electricity production from nuclear sources (% of total)': 180, 'Electricity production from oil sources (% of total)': 180, 'Electricity production from oil, gas and coal sources (% of total)': 180, 'Electricity production from renewable sources, excluding hydroelectric (% of total)': 180, 'Electricity production from renewable sources, excluding hydroelectric (kWh)': 180, 'Energy imports, net (% of energy use)': 180, 'Official entrance age to primary education (years)': 180, 'Theoretical duration of primary education (years)': 180, 'Theoretical duration of secondary education (years)': 180, 'CO2 emissions from electricity and heat production, total (% of total fuel combustion)': 179, 'CO2 emissions from manufacturing industries and construction (% of total fuel combustion)': 179, 'CO2 emissions from other sectors, excluding residential buildings and commercial and public services (% of total fuel combustion)': 179, 'CO2 emissions from residential buildings and commercial and public services (% of total fuel combustion)': 179, 'CO2 emissions from transport (% of total fuel combustion)': 179, 'Electric power consumption (kWh per capita)': 179, 'Electric power transmission and distribution losses (% of output)': 179, 'Official entrance age to lower secondary education (years)': 179, 'Trademark applications, direct nonresident': 177, 'Household final consumption expenditure (annual % growth)': 176, 'Household final consumption expenditure per capita growth (annual %)': 176, 'Forest rents (% of GDP)': 176, 'Total natural resources rents (% of GDP)': 176, 'Adjusted savings: carbon dioxide damage (current US$)': 176, 'Adjusted savings: consumption of fixed capital (current US$)': 176, 'Adjusted savings: energy depletion (current US$)': 176, 'Adjusted savings: mineral depletion (current US$)': 176, 'Adjusted savings: net forest depletion (% of GNI)': 175, 'Adjusted savings: education expenditure (current US$)': 175, 'Adjusted savings: natural resources depletion (% of GNI)': 174, 'Enrolment in secondary education, both sexes (number)': 174, 'Enrolment in secondary general, both sexes (number)': 174, 'Immunization, DPT (% of children ages 12-23 months)': 174, 'Percentage of students in primary education who are female (%)': 172, 'Personal remittances, paid (current US$)': 172, 'Exports of goods and services (constant 2005 US$)': 170, 'Gross national expenditure (constant 2005 US$)': 170, 'Imports of goods and services (constant 2005 US$)': 170, 'Net ODA received (% of GNI)': 170, 'Patent applications, residents': 170, 'Chemicals (% of value added in manufacturing)': 170, 'Food, beverages and tobacco (% of value added in manufacturing)': 170, 'Machinery and transport equipment (% of value added in manufacturing)': 170, 'Other manufacturing (% of value added in manufacturing)': 170, 'Textiles and clothing (% of value added in manufacturing)': 170, 'Exports as a capacity to import (constant LCU)': 169, 'Exports of goods and services (constant LCU)': 169, 'Final consumption expenditure (constant 2005 US$)': 169, 'General government final consumption expenditure (constant 2005 US$)': 169, 'Gross domestic income (constant LCU)': 169, 'Gross national expenditure (constant LCU)': 169, 'Gross national expenditure deflator (base year varies by country)': 169, 'Imports of goods and services (constant LCU)': 169, 'Terms of trade adjustment (constant LCU)': 169, 'Net secondary income (BoP, current US$)': 169, 'Immunization, measles (% of children ages 12-23 months)': 169, 'Final consumption expenditure (constant LCU)': 168, 'General government final consumption expenditure (constant LCU)': 168, 'GNI (constant 2005 US$)': 168, 'GNI per capita (constant 2005 US$)': 168, 'Household final consumption expenditure (constant LCU)': 168, 'GNI (constant LCU)': 167, 'GNI per capita (constant LCU)': 167, 'Percentage of students in secondary general education who are female (%)': 167, 'Personal remittances, received (current US$)': 167, 'Percentage of students in secondary education who are female (%)': 166, 'Adjusted savings: net national savings (current US$)': 166, 'Population in largest city': 165, 'Population in urban agglomerations of more than 1 million': 165, 'Exports of goods and services (annual % growth)': 165, 'Imports of goods and services (annual % growth)': 165, 'Adjusted net national income (current US$)': 165, 'Adjusted net national income per capita (current US$)': 165, 'General government final consumption expenditure (annual % growth)': 164, 'Trademark applications, direct resident': 164, 'GDP per person employed (constant 1990 PPP $)': 164, 'Arms exports (SIPRI trend indicator values)': 163, 'Lending interest rate (%)': 163, 'GNI growth (annual %)': 163, 'GNI per capita growth (annual %)': 163, 'Real interest rate (%)': 162, 'Net bilateral aid flows from DAC donors, Australia (current US$)': 162, 'Adjusted net savings, excluding particulate emission damage (% of GNI)': 160, 'Agriculture, value added (constant 2005 US$)': 159, 'Agriculture, value added (current US$)': 159, 'Net ODA received (% of gross capital formation)': 159, 'Services, etc., value added (current US$)': 159, 'Enrolment in secondary vocational, both sexes (number)': 158, 'Gross savings (current LCU)': 158, 'Gross savings (current US$)': 158, 'Net official flows from UN agencies, UNDP (current US$)': 157, 'Agricultural machinery, tractors': 156, 'Agricultural machinery, tractors per 100 sq. km of arable land': 156, 'Net official flows from UN agencies, UNTA (current US$)': 156, 'Agriculture, value added (annual % growth)': 155, 'Net bilateral aid flows from DAC donors, France (current US$)': 154, 'Manufacturing, value added (current US$)': 153, 'Gross enrolment ratio, primary, both sexes (%)': 153, 'Net bilateral aid flows from DAC donors, European Union institutions (current US$)': 152, 'Net bilateral aid flows from DAC donors, United States (current US$)': 152, 'Industry, value added (current US$)': 152, 'Net bilateral aid flows from DAC donors, Netherlands (current US$)': 152, 'Gross fixed capital formation (constant 2005 US$)': 151, 'Wholesale price index (2010 = 100)': 151, 'External balance on goods and services (constant LCU)': 150, 'Gross fixed capital formation (constant LCU)': 149, 'Gross enrolment ratio, secondary, both sexes (%)': 147, 'Gross fixed capital formation (annual % growth)': 146, 'Household final consumption expenditure, etc. (constant 2005 US$)': 144, 'Gross fixed capital formation, private sector (% of GDP)': 143, 'Gross fixed capital formation, private sector (current LCU)': 143, 'Gross enrolment ratio, primary, female (%)': 143, 'Gross enrolment ratio, primary, gender parity index (GPI)': 143, 'Gross enrolment ratio, primary, male (%)': 143, 'Gross enrolment ratio, tertiary, both sexes (%)': 142, 'Final consumption expenditure, etc. (constant 2005 US$)': 141, 'Gross capital formation (constant 2005 US$)': 141, 'Net bilateral aid flows from DAC donors, Austria (current US$)': 141, 'Household final consumption expenditure, etc. (constant LCU)': 140, 'Manufacturing, value added (constant 2005 US$)': 140, 'Changes in inventories (constant LCU)': 139, 'Discrepancy in expenditure estimate of GDP (constant LCU)': 139, 'Final consumption expenditure, etc. (constant LCU)': 139, 'Gross capital formation (constant LCU)': 139, 'Gross value added at factor cost (constant 2005 US$)': 139, 'Gross value added at factor cost (constant LCU)': 139, 'Gross value added at factor cost (current LCU)': 139, 'Gross value added at factor cost (current US$)': 139, 'Household final consumption expenditure, etc. (annual % growth)': 139, 'Gross enrolment ratio, pre-primary, both sexes (%)': 139, 'Gross enrolment ratio, secondary, female (%)': 139, 'Gross enrolment ratio, secondary, gender parity index (GPI)': 139, 'Gross enrolment ratio, secondary, male (%)': 139, 'Final consumption expenditure, etc. (annual % growth)': 136, 'Gross capital formation (annual % growth)': 136, 'Manufacturing, value added (annual % growth)': 136, 'Gross enrolment ratio, tertiary, female (%)': 136, 'Gross enrolment ratio, tertiary, gender parity index (GPI)': 136, 'Gross enrolment ratio, tertiary, male (%)': 136, 'Export value index (2000 = 100)': 136, 'Import value index (2000 = 100)': 136, 'Gross enrolment ratio, primary and secondary, gender parity index (GPI)': 134, 'Scientific and technical journal articles': 134, 'Services, etc., value added (constant 2005 US$)': 133, 'Adjusted savings: net forest depletion (current US$)': 132, 'Improved sanitation facilities (% of population with access)': 130, 'Improved sanitation facilities, urban (% of urban population with access)': 130, 'Improved water source (% of population with access)': 130, 'Improved water source, urban (% of urban population with access)': 130, 'Lifetime risk of maternal death (%)': 130, 'Lifetime risk of maternal death (1 in: rate varies by country)': 130, 'Maternal mortality ratio (modeled estimate, per 100,000 live births)': 130, 'Mortality rate, neonatal (per 1,000 live births)': 130, 'Number of maternal deaths': 130, 'Services, etc., value added (annual % growth)': 129, 'Pupil-teacher ratio in primary education (headcount basis)': 129, 'Teachers in primary education, both sexes (number)': 129, 'Agriculture, value added (% of GDP)': 128, 'Industry, value added (% of GDP)': 128, 'Services, etc., value added (% of GDP)': 128, 'Industry, value added (constant 2005 US$)': 127, 'Gross enrolment ratio, pre-primary, female (%)': 127, 'Gross enrolment ratio, pre-primary, male (%)': 127, 'GDP per capita, PPP (constant 2011 international $)': 125, 'GDP per capita, PPP (current international $)': 125, 'GDP, PPP (constant 2011 international $)': 125, 'GDP, PPP (current international $)': 125, 'Labor force participation rate for ages 15-24, female (%) (modeled ILO estimate)': 125, 'Labor force participation rate for ages 15-24, male (%) (modeled ILO estimate)': 125, 'Labor force participation rate for ages 15-24, total (%) (modeled ILO estimate)': 125, 'Labor force participation rate, female (% of female population ages 15+) (modeled ILO estimate)': 125, 'Labor force participation rate, female (% of female population ages 15-64) (modeled ILO estimate)': 125, 'Labor force participation rate, male (% of male population ages 15+) (modeled ILO estimate)': 125, 'Labor force participation rate, male (% of male population ages 15-64) (modeled ILO estimate)': 125, 'Labor force participation rate, total (% of total population ages 15+) (modeled ILO estimate)': 125, 'Labor force participation rate, total (% of total population ages 15-64) (modeled ILO estimate)': 125, 'Labor force, female (% of total labor force)': 125, 'Labor force, total': 125, 'Ratio of female to male labor force participation rate (%) (modeled ILO estimate)': 125, 'Risk premium on lending (lending rate minus treasury bill rate, %)': 124, 'Adjusted net savings, excluding particulate emission damage (current US$)': 124, 'Armed forces personnel, total': 124, 'Household final consumption expenditure, PPP (current international $)': 124, 'Industry, value added (annual % growth)': 123, 'Net bilateral aid flows from DAC donors, Belgium (current US$)': 123, 'GNI per capita, PPP (current international $)': 123, 'GNI, PPP (current international $)': 123, 'Manufacturing, value added (% of GDP)': 122, 'Agriculture value added per worker (constant 2005 US$)': 122, 'Net bilateral aid flows from DAC donors, Norway (current US$)': 121, 'Personal remittances, received (% of GDP)': 121, 'Grants, excluding technical cooperation (BoP, current US$)': 120, 'Technical cooperation grants (BoP, current US$)': 120, 'Unemployment, total (% of total labor force) (national estimate)': 120, 'Forest area (% of land area)': 120, 'Employment to population ratio, 15+, female (%) (modeled ILO estimate)': 120, 'Employment to population ratio, 15+, male (%) (modeled ILO estimate)': 120, 'Employment to population ratio, 15+, total (%) (modeled ILO estimate)': 120, 'Employment to population ratio, ages 15-24, female (%) (modeled ILO estimate)': 120, 'Employment to population ratio, ages 15-24, male (%) (modeled ILO estimate)': 120, 'Employment to population ratio, ages 15-24, total (%) (modeled ILO estimate)': 120, 'Unemployment, female (% of female labor force)': 120, 'Unemployment, male (% of male labor force)': 120, 'Unemployment, total (% of total labor force)': 120, 'Unemployment, youth female (% of female labor force ages 15-24) (modeled ILO estimate)': 120, 'Unemployment, youth male (% of male labor force ages 15-24) (modeled ILO estimate)': 120, 'Unemployment, youth total (% of total labor force ages 15-24) (modeled ILO estimate)': 120, 'Net bilateral aid flows from DAC donors, New Zealand (current US$)': 119, 'Refugee population by country or territory of origin': 119, 'Net official flows from UN agencies, WFP (current US$)': 118, 'Unemployment, female (% of female labor force) (national estimate)': 118, 'Unemployment, male (% of male labor force) (national estimate)': 118, 'Net bilateral aid flows from DAC donors, Italy (current US$)': 116, 'Percentage of enrolment in primary education in private institutions (%)': 116, 'Listed domestic companies, total': 116, 'Export volume index (2000 = 100)': 116, 'Import volume index (2000 = 100)': 116, 'Net barter terms of trade index (2000 = 100)': 116, 'Internet users (per 100 people)': 116, 'Percentage of teachers in primary education who are female (%)': 115, 'Armed forces personnel (% of total labor force)': 115, 'Energy intensity level of primary energy (MJ/$2011 PPP GDP)': 115, 'Forest area (sq. km)': 115, 'Renewable electricity output (% of total electricity output)': 115, 'Net bilateral aid flows from DAC donors, Finland (current US$)': 114, 'High-technology exports (% of manufactured exports)': 114, 'Renewable energy consumption (% of total final energy consumption)': 114, 'Agriculture, value added (constant LCU)': 112, 'Agriculture, value added (current LCU)': 112, 'Gross domestic income (constant 2005 US$)': 112, 'Industry, value added (constant LCU)': 112, 'Industry, value added (current LCU)': 112, 'Manufacturing, value added (constant LCU)': 112, 'Manufacturing, value added (current LCU)': 112, 'Net taxes on products (current LCU)': 112, 'Net taxes on products (current US$)': 112, 'Services, etc., value added (constant LCU)': 112, 'Services, etc., value added (current LCU)': 112, 'Percentage of students in secondary vocational education who are female (%)': 111, 'Teachers in secondary education, both sexes (number)': 111, 'Merchandise exports to developing economies within region (% of total merchandise exports)': 110, 'Merchandise imports from developing economies within region (% of total merchandise imports)': 110, 'Pupil-teacher ratio in secondary education (headcount basis)': 110, 'CO2 emissions (kg per 2011 PPP $ of GDP)': 110, 'CO2 emissions (kg per PPP $ of GDP)': 110, 'Prevalence of anemia among children (% of children under 5)': 110, 'Prevalence of anemia among non-pregnant women (% of women ages 15-49)': 110, 'Prevalence of anemia among pregnant women (%)': 110, 'Terrestrial and marine protected areas (% of total territorial area)': 110, 'Terrestrial protected areas (% of total land area)': 110, 'High-technology exports (current US$)': 109, 'Net bilateral aid flows from DAC donors, Switzerland (current US$)': 108, 'Net official flows from UN agencies, UNHCR (current US$)': 107, 'Labor force participation rate, total (% of total population ages 15+) (national estimate)': 107, 'Military expenditure (% of GDP)': 107, 'Merchandise imports from developing economies in Europe & Central Asia (% of total merchandise imports)': 107, 'Net bilateral aid flows from DAC donors, Denmark (current US$)': 105, 'Labor force participation rate, female (% of female population ages 15+) (national estimate)': 105, 'Labor force participation rate, male (% of male population ages 15+) (national estimate)': 105, 'Ratio of female to male labor force participation rate (%) (national estimate)': 105, 'Merchandise exports to developing economies in Europe & Central Asia (% of total merchandise exports)': 105, 'Net bilateral aid flows from DAC donors, Sweden (current US$)': 104, 'Adjusted net enrolment rate, primary, both sexes (%)': 104, 'Net enrolment rate, primary, both sexes (%)': 104, 'Out-of-school children of primary school age, both sexes (number)': 104, 'Market capitalization of listed domestic companies (% of GDP)': 104, 'Market capitalization of listed domestic companies (current US$)': 104, 'Improved sanitation facilities, rural (% of rural population with access)': 104, 'Improved water source, rural (% of rural population with access)': 104, 'Marine protected areas (% of territorial waters)': 104, 'Number of neonatal deaths': 104, 'Net official flows from UN agencies, UNICEF (current US$)': 102, 'Percentage of teachers in secondary education who are female (%)': 101, 'Refugee population by country or territory of asylum': 101, 'Net current transfers from abroad (current LCU)': 100, 'Net current transfers from abroad (current US$)': 100, 'Teachers in secondary education, female (number)': 100, 'Employment in industry (% of total employment)': 100, 'Employment in services (% of total employment)': 100, 'Incidence of tuberculosis (per 100,000 people)': 100, 'PPP conversion factor, GDP (LCU per international $)': 100, 'PPP conversion factor, private consumption (LCU per international $)': 100, 'Price level ratio of PPP conversion factor (GDP) to market exchange rate': 100, 'Employment to population ratio, 15+, female (%) (national estimate)': 99, 'Employment to population ratio, 15+, male (%) (national estimate)': 99, 'Employment to population ratio, 15+, total (%) (national estimate)': 99, 'Proportion of seats held by women in national parliaments (%)': 99, 'Household final consumption expenditure, PPP (constant 2011 international $)': 99, 'Adjusted net national income (annual % growth)': 98, 'Adjusted net national income per capita (annual % growth)': 98, 'Energy use (kg of oil equivalent) per $1,000 GDP (constant 2011 PPP)': 98, 'GDP per unit of energy use (constant 2011 PPP $ per kg of oil equivalent)': 98, 'GDP per unit of energy use (PPP $ per kg of oil equivalent)': 98, 'Net income from abroad (constant LCU)': 97, 'GNI per capita, PPP (constant 2011 international $)': 97, 'GNI, PPP (constant 2011 international $)': 97, 'Tuberculosis case detection rate (%, all forms)': 96, 'Hospital beds (per 1,000 people)': 95, 'Employment in industry, female (% of female employment)': 95, 'Employment in industry, male (% of male employment)': 95, 'Employment in services, female (% of female employment)': 95, 'Employment in services, male (% of male employment)': 95, 'Unemployment, youth total (% of total labor force ages 15-24) (national estimate)': 95, 'Health expenditure per capita (current US$)': 95, 'Health expenditure per capita, PPP (constant 2011 international $)': 95, 'Health expenditure, private (% of GDP)': 95, 'Health expenditure, public (% of GDP)': 95, 'Health expenditure, public (% of total health expenditure)': 95, 'Health expenditure, total (% of GDP)': 95, 'International tourism, number of arrivals': 95, 'Out-of-pocket health expenditure (% of private expenditure on health)': 95, 'Out-of-pocket health expenditure (% of total expenditure on health)': 95, 'Interest rate spread (lending rate minus deposit rate, %)': 94, 'Adjusted net enrolment rate, primary, female (%)': 93, 'Adjusted net enrolment rate, primary, male (%)': 93, 'Out-of-school children of primary school age, female (number)': 93, 'Out-of-school children of primary school age, male (number)': 93, 'Percentage of teachers in tertiary education who are female (%)': 93, 'Employment in agriculture (% of total employment)': 92, 'International tourism, receipts (current US$)': 92, 'Net official flows from UN agencies, UNFPA (current US$)': 91, 'Adjusted net national income (constant 2005 US$)': 90, 'Adjusted net national income per capita (constant 2005 US$)': 90, 'Gross intake ratio to Grade 1 of primary education, both sexes (%)': 90, 'Employment in agriculture, female (% of female employment)': 90, 'Employment in agriculture, male (% of male employment)': 90, 'Gross intake ratio to Grade 1 of primary education, female (%)': 89, 'Gross intake ratio to Grade 1 of primary education, male (%)': 89, 'Total reserves (% of total external debt)': 88, 'Share of women in wage employment in the nonagricultural sector (% of total nonagricultural employment)': 87, 'Stocks traded, turnover ratio of domestic shares (%)': 85, 'International tourism, expenditures (current US$)': 85, 'International tourism, receipts for travel items (current US$)': 85, 'Net enrolment rate, secondary, both sexes (%)': 84, 'Net enrolment rate, secondary, female (%)': 83, 'Net enrolment rate, secondary, male (%)': 83, 'International tourism, expenditures for travel items (current US$)': 83, 'Physicians (per 1,000 people)': 81, 'Military expenditure (current LCU)': 81, 'Net bilateral aid flows from DAC donors, Ireland (current US$)': 80, 'Stocks traded, total value (% of GDP)': 80, 'Stocks traded, total value (current US$)': 80, 'Intentional homicides (per 100,000 people)': 79, 'Self-employed, female (% of females employed)': 78, 'Self-employed, male (% of males employed)': 78, 'Self-employed, total (% of total employed)': 78, 'Wage and salaried workers, female (% of females employed)': 78, 'Wage and salaried workers, total (% of total employed)': 78, 'Wage and salary workers, male (% of males employed)': 78, 'Unemployment with primary education (% of total unemployment)': 78, 'Unemployment with secondary education (% of total unemployment)': 78, 'Unemployment with tertiary education (% of total unemployment)': 78, 'Government expenditure on education as % of GDP (%)': 77, 'Contributing family workers, female (% of females employed)': 77, 'Contributing family workers, male (% of males employed)': 77, 'Contributing family workers, total (% of total employed)': 77, 'Real effective exchange rate index (2010 = 100)': 76, 'Railways, goods transported (million ton-km)': 76, 'Long-term unemployment (% of total unemployment)': 76, 'Health expenditure, public (% of government expenditure)': 76, 'Net taxes on products (constant LCU)': 75, 'External resources for health (% of total expenditure on health)': 75, 'Unemployment, youth female (% of female labor force ages 15-24) (national estimate)': 74, 'Unemployment, youth male (% of male labor force ages 15-24) (national estimate)': 74, 'Percentage of repeaters in primary education, all grades, both sexes (%)': 73, 'Deposit interest rate (%)': 73, 'Labor force participation rate for ages 15-24, female (%) (national estimate)': 73, 'Labor force participation rate for ages 15-24, male (%) (national estimate)': 73, 'Labor force participation rate for ages 15-24, total (%) (national estimate)': 73, 'Percentage of repeaters in primary education, all grades, female (%)': 72, 'Percentage of repeaters in primary education, all grades, male (%)': 72, 'Unemployment with primary education, female (% of female unemployment)': 72, 'Unemployment with primary education, male (% of male unemployment)': 72, 'Unemployment with secondary education, female (% of female unemployment)': 72, 'Unemployment with secondary education, male (% of male unemployment)': 72, 'Unemployment with tertiary education, female (% of female unemployment)': 72, 'Unemployment with tertiary education, male (% of male unemployment)': 72, 'Net bilateral aid flows from DAC donors, Korea, Rep. (current US$)': 72, 'Fixed broadband subscriptions': 71, 'Primary completion rate, both sexes (%)': 70, 'Primary completion rate, female (%)': 70, 'Primary completion rate, male (%)': 70, 'Rail lines (total route-km)': 70, 'Net enrolment rate, primary, female (%)': 69, 'Net enrolment rate, primary, male (%)': 69, 'Primary to secondary general education transition rate, both sexes (%)': 69, 'Net official flows from UN agencies, IFAD (current US$)': 69, 'Compensation of employees (% of expense)': 69, 'Goods and services expense (% of expense)': 69, 'Grants and other revenue (% of revenue)': 69, 'S&P Global Equity Indices (annual % change)': 69, 'Prevalence of undernourishment (% of population)': 69, 'Depth of the food deficit (kilocalories per person per day)': 69, 'Tuberculosis treatment success rate (% of new cases)': 69, 'Bank nonperforming loans to total gross loans (%)': 69, 'Fixed broadband subscriptions (per 100 people)': 68, 'Percentage of repeaters in secondary general education, all grades, both sexes (%)': 67, 'Primary to secondary general education transition rate, male (%)': 67, 'Interest payments (% of expense)': 67, 'Interest payments (% of revenue)': 67, 'Other taxes (% of revenue)': 67, 'Taxes on income, profits and capital gains (% of revenue)': 67, 'Net current transfers from abroad (constant LCU)': 65, 'Primary to secondary general education transition rate, female (%)': 65, 'Subsidies and other transfers (% of expense)': 65, 'Percentage of repeaters in secondary general education, all grades, female (%)': 64, 'Percentage of repeaters in secondary general education, all grades, male (%)': 64, 'Taxes on international trade (% of revenue)': 64, 'ICT goods exports (% of total goods exports)': 64, 'Lower secondary completion rate, both sexes (%)': 63, 'Newborns protected against tetanus (%)': 63, 'Net bilateral aid flows from DAC donors, Spain (current US$)': 63, 'Cash surplus/deficit (% of GDP)': 63, 'Cash surplus/deficit (current LCU)': 63, 'Central government debt, total (% of GDP)': 63, 'Central government debt, total (current LCU)': 63, 'Compensation of employees (current LCU)': 63, 'Expense (% of GDP)': 63, 'Expense (current LCU)': 63, 'Goods and services expense (current LCU)': 63, 'Grants and other revenue (current LCU)': 63, 'Interest payments (current LCU)': 63, 'Other taxes (current LCU)': 63, 'Revenue, excluding grants (% of GDP)': 63, 'Revenue, excluding grants (current LCU)': 63, 'Tax revenue (% of GDP)': 63, 'Tax revenue (current LCU)': 63, 'Taxes on goods and services (% of revenue)': 63, 'Taxes on goods and services (current LCU)': 63, 'Taxes on income, profits and capital gains (% of total taxes)': 63, 'Taxes on income, profits and capital gains (current LCU)': 63, 'Secure Internet servers': 63, 'Secure Internet servers (per 1 million people)': 63, 'Survival rate to the last grade of primary education, both sexes (%)': 62, 'Renewable internal freshwater resources per capita (cubic meters)': 60, 'Renewable internal freshwater resources, total (billion cubic meters)': 60, 'Subsidies and other transfers (current LCU)': 60, 'Fertilizer consumption (kilograms per hectare of arable land)': 60, 'Lower secondary completion rate, female (%)': 59, 'Lower secondary completion rate, male (%)': 59, 'Military expenditure (% of central government expenditure)': 59, 'Taxes on goods and services (% value added of industry and services)': 59, 'ICT goods imports (% total goods imports)': 59, 'Customs and other import duties (% of tax revenue)': 58, 'Customs and other import duties (current LCU)': 58, 'Taxes on international trade (current LCU)': 58, 'Tariff rate, most favored nation, simple mean, all products (%)': 57, 'Tariff rate, most favored nation, simple mean, manufactured products (%)': 57, 'Tariff rate, most favored nation, simple mean, primary products (%)': 57, 'International tourism, number of departures': 57, 'Share of tariff lines with international peaks, all products (%)': 56, 'Share of tariff lines with international peaks, manufactured products (%)': 56, 'Share of tariff lines with international peaks, primary products (%)': 56, 'Share of tariff lines with specific rates, all products (%)': 56, 'Share of tariff lines with specific rates, manufactured products (%)': 56, 'Share of tariff lines with specific rates, primary products (%)': 56, 'Tariff rate, applied, simple mean, all products (%)': 56, 'Tariff rate, applied, simple mean, manufactured products (%)': 56, 'Tariff rate, applied, simple mean, primary products (%)': 56, 'Tariff rate, applied, weighted mean, all products (%)': 56, 'Tariff rate, applied, weighted mean, manufactured products (%)': 56, 'Tariff rate, applied, weighted mean, primary products (%)': 56, 'Tariff rate, most favored nation, weighted mean, all products (%)': 56, 'Tariff rate, most favored nation, weighted mean, manufactured products (%)': 56, 'Tariff rate, most favored nation, weighted mean, primary products (%)': 56, 'Container port traffic (TEU: 20 foot equivalent units)': 56, 'International migrant stock (% of population)': 55, 'International migrant stock, total': 55, 'Net migration': 55, 'Gross domestic savings (constant LCU)': 55, 'Survival rate to the last grade of primary education, female (%)': 53, 'Survival rate to the last grade of primary education, male (%)': 53, 'Commercial bank branches (per 100,000 adults)': 53, 'Female legislators, senior officials and managers (% of total)': 52, 'Net incurrence of liabilities, domestic (% of GDP)': 50, 'Net incurrence of liabilities, domestic (current LCU)': 50, 'Pump price for diesel fuel (US$ per liter)': 50, 'Pump price for gasoline (US$ per liter)': 50, 'Research and development expenditure (% of GDP)': 50, 'Percentage of enrolment in secondary education in private institutions (%)': 50, 'Binding coverage, all products (%)': 49, 'Binding coverage, manufactured products (%)': 49, 'Binding coverage, primary products (%)': 49, 'Bound rate, simple mean, all products (%)': 49, 'Bound rate, simple mean, manufactured products (%)': 49, 'Bound rate, simple mean, primary products (%)': 49, 'Average precipitation in depth (mm per year)': 48, 'Public and publicly guaranteed debt service (% of GNI)': 48, 'Total debt service (% of GNI)': 48, 'Long-term unemployment, female (% of female unemployment)': 48, 'Long-term unemployment, male (% of male unemployment)': 48, 'Net bilateral aid flows from DAC donors, Luxembourg (current US$)': 48, 'Bank capital to assets ratio (%)': 48, 'Automated teller machines (ATMs) (per 100,000 adults)': 47, 'Disbursements on external debt, long-term (DIS, current US$)': 46, 'Interest payments on external debt, long-term (INT, current US$)': 46, 'Interest payments on external debt, private nonguaranteed (PNG) (INT, current US$)': 46, 'PPG, bilateral (AMT, current US$)': 46, 'PPG, bilateral (DIS, current US$)': 46, 'PPG, bilateral (INT, current US$)': 46, 'PPG, bonds (AMT, current US$)': 46, 'PPG, bonds (INT, current US$)': 46, 'PPG, commercial banks (AMT, current US$)': 46, 'PPG, commercial banks (DIS, current US$)': 46, 'PPG, commercial banks (INT, current US$)': 46, 'PPG, multilateral (AMT, current US$)': 46, 'PPG, multilateral (DIS, current US$)': 46, 'PPG, multilateral (INT, current US$)': 46, 'PPG, official creditors (AMT, current US$)': 46, 'PPG, official creditors (DIS, current US$)': 46, 'PPG, official creditors (INT, current US$)': 46, 'PPG, other private creditors (AMT, current US$)': 46, 'PPG, other private creditors (DIS, current US$)': 46, 'PPG, other private creditors (INT, current US$)': 46, 'PPG, private creditors (AMT, current US$)': 46, 'PPG, private creditors (DIS, current US$)': 46, 'PPG, private creditors (INT, current US$)': 46, 'Principal repayments on external debt, long-term (AMT, current US$)': 46, 'Principal repayments on external debt, private nonguaranteed (PNG) (AMT, current US$)': 46, 'International tourism, expenditures for passenger transport items (current US$)': 46, 'International tourism, receipts for passenger transport items (current US$)': 46, 'Expenditure on education as % of total government expenditure (%)': 46, 'Average grace period on new external debt commitments (years)': 45, 'Average grace period on new external debt commitments, official (years)': 45, 'Average grace period on new external debt commitments, private (years)': 45, 'Average grant element on new external debt commitments (%)': 45, 'Average grant element on new external debt commitments, official (%)': 45, 'Average grant element on new external debt commitments, private (%)': 45, 'Average interest on new external debt commitments (%)': 45, 'Average interest on new external debt commitments, official (%)': 45, 'Average interest on new external debt commitments, private (%)': 45, 'Average maturity on new external debt commitments (years)': 45, 'Average maturity on new external debt commitments, official (years)': 45, 'Average maturity on new external debt commitments, private (years)': 45, 'Commercial banks and other lending (PPG + PNG) (NFL, current US$)': 45, 'Commitments, IBRD (COM, current US$)': 45, 'Commitments, IDA (COM, current US$)': 45, 'Commitments, official creditors (COM, current US$)': 45, 'Commitments, private creditors (COM, current US$)': 45, 'Commitments, public and publicly guaranteed (COM, current US$)': 45, 'Concessional debt (% of total external debt)': 45, 'Currency composition of PPG debt, all other currencies (%)': 45, 'Currency composition of PPG debt, Japanese yen (%)': 45, 'Currency composition of PPG debt, Multiple currencies (%)': 45, 'Currency composition of PPG debt, Pound sterling (%)': 45, 'Currency composition of PPG debt, SDR (%)': 45, 'Currency composition of PPG debt, Swiss franc (%)': 45, 'Currency composition of PPG debt, U.S. dollars (%)': 45, 'Debt forgiveness grants (current US$)': 45, 'Debt service on external debt, long-term (TDS, current US$)': 45, 'Debt service on external debt, private nonguaranteed (PNG) (TDS, current US$)': 45, 'Debt service on external debt, public and publicly guaranteed (PPG) (TDS, current US$)': 45, 'Debt service on external debt, total (TDS, current US$)': 45, 'Disbursements on external debt, long-term + IMF (DIS, current US$)': 45, 'Disbursements on external debt, private nonguaranteed (PNG) (DIS, current US$)': 45, 'Disbursements on external debt, public and publicly guaranteed (PPG) (DIS, current US$)': 45, 'EBRD, private nonguaranteed (NFL, current US$)': 45, 'External debt stocks (% of GNI)': 45, 'External debt stocks, concessional (DOD, current US$)': 45, 'External debt stocks, long-term (DOD, current US$)': 45, 'External debt stocks, long-term private sector (DOD, current US$)': 45, 'External debt stocks, long-term public sector (DOD, current US$)': 45, 'External debt stocks, private nonguaranteed (PNG) (DOD, current US$)': 45, 'External debt stocks, public and publicly guaranteed (PPG) (DOD, current US$)': 45, 'External debt stocks, short-term (DOD, current US$)': 45, 'External debt stocks, total (DOD, current US$)': 45, 'External debt stocks, variable rate (DOD, current US$)': 45, 'IBRD loans and IDA credits (DOD, current US$)': 45, 'IDA grants (current US$)': 45, 'IFC, private nonguaranteed (NFL, current US$)': 45, 'IMF charges (INT, current US$)': 45, 'IMF purchases (DIS, current US$)': 45, 'IMF repurchases (AMT, current US$)': 45, 'IMF repurchases and charges (TDS, current US$)': 45, 'Interest arrears, long-term DOD (US$)': 45, 'Interest arrears, official creditors (current US$)': 45, 'Interest arrears, private creditors (current US$)': 45, 'Interest payments on external debt (% of GNI)': 45, 'Interest payments on external debt, public and publicly guaranteed (PPG) (INT, current US$)': 45, 'Interest payments on external debt, short-term (INT, current US$)': 45, 'Interest payments on external debt, total (INT, current US$)': 45, 'Multilateral debt (% of total external debt)': 45, 'Multilateral debt service (TDS, current US$)': 45, 'Net financial flows, bilateral (NFL, current US$)': 45, 'Net financial flows, IBRD (NFL, current US$)': 45, 'Net financial flows, IDA (NFL, current US$)': 45, 'Net financial flows, IMF concessional (NFL, current US$)': 45, 'Net financial flows, IMF nonconcessional (NFL, current US$)': 45, 'Net financial flows, multilateral (NFL, current US$)': 45, 'Net financial flows, others (NFL, current US$)': 45, 'Net financial flows, RDB concessional (NFL, current US$)': 45, 'Net financial flows, RDB nonconcessional (NFL, current US$)': 45, 'Net flows on external debt, long-term (NFL, current US$)': 45, 'Net flows on external debt, private nonguaranteed (PNG) (NFL, current US$)': 45, 'Net flows on external debt, public and publicly guaranteed (PPG) (NFL, current US$)': 45, 'Net flows on external debt, short-term (NFL, current US$)': 45, 'Net flows on external debt, total (NFL, current US$)': 45, 'Net transfers on external debt, long-term (NTR, current US$)': 45, 'Net transfers on external debt, private nonguaranteed (PNG) (NTR, current US$)': 45, 'Net transfers on external debt, public and publicly guaranteed (PPG) (NTR, current US$)': 45, 'Net transfers on external debt, total (NTR, current US$)': 45, 'PNG, bonds (AMT, current US$)': 45, 'PNG, bonds (DIS, current US$)': 45, 'PNG, bonds (DOD, current US$)': 45, 'PNG, bonds (INT, current US$)': 45, 'PNG, bonds (NFL, current US$)': 45, 'PNG, bonds (NTR, current US$)': 45, 'PNG, bonds (TDS, current US$)': 45, 'PNG, commercial banks and other creditors (AMT, current US$)': 45, 'PNG, commercial banks and other creditors (DIS, current US$)': 45, 'PNG, commercial banks and other creditors (DOD, current US$)': 45, 'PNG, commercial banks and other creditors (INT, current US$)': 45, 'PNG, commercial banks and other creditors (NFL, current US$)': 45, 'PNG, commercial banks and other creditors (NTR, current US$)': 45, 'PNG, commercial banks and other creditors (TDS, current US$)': 45, 'Portfolio investment, bonds (PPG + PNG) (NFL, current US$)': 45, 'PPG, bilateral (DOD, current US$)': 45, 'PPG, bilateral (NTR, current US$)': 45, 'PPG, bilateral (TDS, current US$)': 45, 'PPG, bilateral concessional (AMT, current US$)': 45, 'PPG, bilateral concessional (DIS, current US$)': 45, 'PPG, bilateral concessional (DOD, current US$)': 45, 'PPG, bilateral concessional (INT, current US$)': 45, 'PPG, bilateral concessional (NFL, current US$)': 45, 'PPG, bilateral concessional (NTR, current US$)': 45, 'PPG, bilateral concessional (TDS, current US$)': 45, 'PPG, bonds (DIS, current US$)': 45, 'PPG, bonds (DOD, current US$)': 45, 'PPG, bonds (NFL, current US$)': 45, 'PPG, bonds (NTR, current US$)': 45, 'PPG, bonds (TDS, current US$)': 45, 'PPG, commercial banks (DOD, current US$)': 45, 'PPG, commercial banks (NFL, current US$)': 45, 'PPG, commercial banks (NTR, current US$)': 45, 'PPG, commercial banks (TDS, current US$)': 45, 'PPG, IBRD (AMT, current US$)': 45, 'PPG, IBRD (DIS, current US$)': 45, 'PPG, IBRD (DOD, current US$)': 45, 'PPG, IBRD (INT, current US$)': 45, 'PPG, IBRD (NTR, current US$)': 45, 'PPG, IBRD (TDS, current US$)': 45, 'PPG, IDA (AMT, current US$)': 45, 'PPG, IDA (DIS, current US$)': 45, 'PPG, IDA (DOD, current US$)': 45, 'PPG, IDA (INT, current US$)': 45, 'PPG, IDA (NTR, current US$)': 45, 'PPG, IDA (TDS, current US$)': 45, 'PPG, multilateral (DOD, current US$)': 45, 'PPG, multilateral (NTR, current US$)': 45, 'PPG, multilateral concessional (AMT, current US$)': 45, 'PPG, multilateral concessional (DIS, current US$)': 45, 'PPG, multilateral concessional (DOD, current US$)': 45, 'PPG, multilateral concessional (INT, current US$)': 45, 'PPG, multilateral concessional (NFL, current US$)': 45, 'PPG, multilateral concessional (NTR, current US$)': 45, 'PPG, multilateral concessional (TDS, current US$)': 45, 'PPG, official creditors (DOD, current US$)': 45, 'PPG, official creditors (NFL, current US$)': 45, 'PPG, official creditors (NTR, current US$)': 45, 'PPG, official creditors (TDS, current US$)': 45, 'PPG, other private creditors (DOD, current US$)': 45, 'PPG, other private creditors (NFL, current US$)': 45, 'PPG, other private creditors (NTR, current US$)': 45, 'PPG, other private creditors (TDS, current US$)': 45, 'PPG, private creditors (DOD, current US$)': 45, 'PPG, private creditors (NFL, current US$)': 45, 'PPG, private creditors (NTR, current US$)': 45, 'PPG, private creditors (TDS, current US$)': 45, 'Primary income on FDI, payments (current US$)': 45, 'Principal arrears, long-term DOD (US$)': 45, 'Principal arrears, official creditors (current US$)': 45, 'Principal arrears, private creditors (current US$)': 45, 'Principal repayments on external debt, long-term + IMF (AMT, current US$)': 45, 'Principal repayments on external debt, public and publicly guaranteed (PPG) (AMT, current US$)': 45, 'Short-term debt (% of total external debt)': 45, 'Short-term debt (% of total reserves)': 45, 'Undisbursed external debt, official creditors (UND, current US$)': 45, 'Undisbursed external debt, private creditors (UND, current US$)': 45, 'Undisbursed external debt, total (UND, current US$)': 45, 'Use of IMF credit (DOD, current US$)': 45, 'Railways, passengers carried (million passenger-km)': 45, 'Charges for the use of intellectual property, payments (BoP, current US$)': 45, 'Charges for the use of intellectual property, receipts (BoP, current US$)': 45, 'Commercial service exports (current US$)': 45, 'Commercial service imports (current US$)': 45, 'Communications, computer, etc. (% of service exports, BoP)': 45, 'Computer, communications and other services (% of commercial service exports)': 45, 'Exports of goods and services (BoP, current US$)': 45, 'Exports of goods, services and primary income (BoP, current US$)': 45, 'Foreign direct investment, net outflows (% of GDP)': 45, 'Goods exports (BoP, current US$)': 45, 'Goods imports (BoP, current US$)': 45, 'Imports of goods and services (BoP, current US$)': 45, 'Imports of goods, services and primary income (BoP, current US$)': 45, 'Primary income payments (BoP, current US$)': 45, 'Primary income receipts (BoP, current US$)': 45, 'Secondary income, other sectors, payments (BoP, current US$)': 45, 'Service exports (BoP, current US$)': 45, 'Service imports (BoP, current US$)': 45, 'Total reserves in months of imports': 45, 'Trade in services (% of GDP)': 45, 'Transport services (% of commercial service exports)': 45, 'Transport services (% of service exports, BoP)': 45, 'Travel services (% of commercial service exports)': 45, 'Travel services (% of service exports, BoP)': 45, 'Multilateral debt service (% of public and publicly guaranteed debt service)': 44, 'Employers, female (% of employment)': 44, 'Employers, male (% of employment)': 44, 'Employers, total (% of employment)': 44, 'Liner shipping connectivity index (maximum value in 2004 = 100)': 44, 'Communications, computer, etc. (% of service imports, BoP)': 44, 'Computer, communications and other services (% of commercial service imports)': 44, 'Cost to export (US$ per container)': 44, 'Cost to import (US$ per container)': 44, 'Documents to export (number)': 44, 'Documents to import (number)': 44, 'Insurance and financial services (% of commercial service imports)': 44, 'Insurance and financial services (% of service imports, BoP)': 44, 'Time to export (days)': 44, 'Time to import (days)': 44, 'Transport services (% of commercial service imports)': 44, 'Transport services (% of service imports, BoP)': 44, 'Travel services (% of commercial service imports)': 44, 'Travel services (% of service imports, BoP)': 44, 'Vulnerable employment, female (% of female employment)': 43, 'Vulnerable employment, male (% of male employment)': 43, 'Vulnerable employment, total (% of total employment)': 43, 'Expenditure on secondary as % of government expenditure on education (%)': 42, 'Expenditure on tertiary as % of government expenditure on education (%)': 42, 'International tourism, expenditures (% of total imports)': 42, 'International tourism, receipts (% of total exports)': 42, 'Insurance and financial services (% of commercial service exports)': 42, 'Insurance and financial services (% of service exports, BoP)': 42, 'External debt stocks (% of exports of goods, services and primary income)': 40, 'Interest payments on external debt (% of exports of goods, services and primary income)': 40, 'Total debt service (% of exports of goods, services and primary income)': 40, 'Social contributions (% of revenue)': 40, 'Social contributions (current LCU)': 40, 'Government expenditure per secondary student as % of GDP per capita (%)': 40, 'Burden of customs procedure, WEF (1=extremely inefficient to 7=extremely efficient)': 40, 'Quality of port infrastructure, WEF (1=extremely underdeveloped to 7=well developed and efficient by international standards)': 40, 'Net bilateral aid flows from DAC donors, Portugal (current US$)': 39, 'Debt service (PPG and IMF only, % of exports of goods, services and primary income)': 39, 'Other expense (% of expense)': 39, 'Researchers in R&D (per million people)': 39, 'ICT service exports (% of service exports, BoP)': 39, 'Current education expenditure, secondary (% of total expenditure in secondary public institutions)': 38, 'Expenditure on primary as % of government expenditure on education (%)': 38, 'Secondary income receipts (BoP, current US$)': 38, 'Employment to population ratio, ages 15-24, female (%) (national estimate)': 37, 'Employment to population ratio, ages 15-24, male (%) (national estimate)': 37, 'Employment to population ratio, ages 15-24, total (%) (national estimate)': 37, 'Other expense (current LCU)': 37, 'Labor force with primary education (% of total)': 37, 'Labor force with secondary education (% of total)': 37, 'Labor force with tertiary education (% of total)': 37, 'Net bilateral aid flows from DAC donors, Greece (current US$)': 37, 'Current education expenditure, tertiary (% of total expenditure in tertiary public institutions)': 37, 'Cost of business start-up procedures (% of GNI per capita)': 37, 'Start-up procedures to register a business (number)': 37, 'Time required to enforce a contract (days)': 37, 'Time required to start a business (days)': 37, 'ICT service exports (BoP, current US$)': 37, 'Fertilizer consumption (% of fertilizer production)': 36, 'Current account balance (% of GDP)': 36, 'Current account balance (BoP, current US$)': 36, 'Foreign direct investment, net (BoP, current US$)': 36, 'Net errors and omissions (BoP, current US$)': 36, 'Net financial account (BoP, current US$)': 36, 'Net primary income (BoP, current US$)': 36, 'Net trade in goods (BoP, current US$)': 36, 'Net trade in goods and services (BoP, current US$)': 36, 'Portfolio Investment, net (BoP, current US$)': 36, 'PM2.5 air pollution, mean annual exposure (micrograms per cubic meter)': 35, 'PM2.5 air pollution, population exposed to levels exceeding WHO guideline value (% of total)': 35, 'Current education expenditure, total (% of total expenditure in public institutions)': 35, 'Private credit bureau coverage (% of adults)': 35, 'Procedures to register property (number)': 35, 'Public credit registry coverage (% of adults)': 35, 'Time required to register property (days)': 35, 'Part time employment, female (% of total female employment)': 34, 'Part time employment, female (% of total part time employment)': 34, 'Part time employment, male (% of total male employment)': 34, 'Part time employment, total (% of total employment)': 34, 'Current education expenditure, primary (% of total expenditure in primary public institutions)': 34, 'Government expenditure per primary student as % of GDP per capita (%)': 34, 'Net incurrence of liabilities, foreign (% of GDP)': 33, 'Net incurrence of liabilities, foreign (current LCU)': 33, 'Net ODA received (% of central government expense)': 33, 'All education staff compensation, secondary (% of total expenditure in secondary public institutions)': 33, 'Government expenditure per tertiary student as % of GDP per capita (%)': 33, 'Business extent of disclosure index (0=less disclosure to 10=more disclosure)': 33, 'Procedures to build a warehouse (number)': 33, 'Tax payments (number)': 33, 'Time required to build a warehouse (days)': 33, 'Time to prepare and pay taxes (hours)': 33, 'Total tax rate (% of commercial profits)': 33, 'Reserves and related items (BoP, current US$)': 33, 'Contraceptive prevalence (% of women ages 15-49)': 32, 'All education staff compensation, tertiary (% of total expenditure in tertiary public institutions)': 32, 'Currency composition of PPG debt, Deutsche mark (%)': 31, 'Currency composition of PPG debt, French franc (%)': 31, 'Labor force with primary education, female (% of female labor force)': 31, 'Labor force with primary education, male (% of male labor force)': 31, 'Labor force with secondary education, female (% of female labor force)': 31, 'Labor force with secondary education, male (% of male labor force)': 31, 'Labor force with tertiary education, female (% of female labor force)': 31, 'Labor force with tertiary education, male (% of male labor force)': 31, 'All education staff compensation, total (% of total expenditure in public institutions)': 31, 'New business density (new registrations per 1,000 people ages 15-64)': 31, 'All education staff compensation, primary (% of total expenditure in primary public institutions)': 29, 'Net intake rate to Grade 1 of primary education, both sexes (%)': 29, 'Water productivity, total (constant 2005 US$ GDP per cubic meter of total freshwater withdrawal)': 28, 'Battle-related deaths (number of people)': 26, 'Debt buyback (current US$)': 26, 'Debt forgiveness or reduction (current US$)': 26, 'Debt stock reduction (current US$)': 26, 'Debt stock rescheduled (current US$)': 26, 'Interest forgiven (current US$)': 26, 'Interest rescheduled (capitalized) (current US$)': 26, 'Interest rescheduled, official (current US$)': 26, 'Interest rescheduled, private (current US$)': 26, 'Net change in interest arrears (current US$)': 26, 'Principal forgiven (current US$)': 26, 'Principal rescheduled (current US$)': 26, 'Principal rescheduled, official (current US$)': 26, 'Principal rescheduled, private (current US$)': 26, 'Residual, debt stock-flow reconciliation (current US$)': 26, 'Total amount of debt rescheduled (current US$)': 26, 'Total change in external debt stocks (current US$)': 26, 'Prevalence of HIV, female (% ages 15-24)': 25, 'Prevalence of HIV, male (% ages 15-24)': 25, 'Prevalence of HIV, total (% of population ages 15-49)': 25, 'Distance to frontier score (0=lowest performance to 100=frontier)': 25, 'Time required to get electricity (days)': 25, 'Net official flows from UN agencies, UNRWA (current US$)': 24, 'Survival rate to Grade 5 of primary education, both sexes (%)': 24, 'Investment in energy with private participation (current US$)': 24, 'Net intake rate to Grade 1 of primary education, female (%)': 24, 'Net intake rate to Grade 1 of primary education, male (%)': 24, 'Net ODA received (% of imports of goods, services and primary income)': 24, 'Net official flows from UN agencies, UNAIDS (current US$)': 24, 'GHG net emissions/removals by LUCF (Mt of CO2 equivalent)': 22, 'Technicians in R&D (per million people)': 22, 'Annual freshwater withdrawals, total (% of internal resources)': 21, 'Annual freshwater withdrawals, total (billion cubic meters)': 21, 'Births attended by skilled health staff (% of total)': 21, 'Investment in transport with private participation (current US$)': 21, 'Taxes on exports (% of tax revenue)': 21, 'Taxes on exports (current LCU)': 21, 'Access to electricity (% of population)': 20, 'Access to electricity, rural (% of rural population)': 20, 'Access to electricity, urban (% of urban population)': 20, 'Access to non-solid fuel (% of population)': 20, 'Adjusted net savings, including particulate emission damage (% of GNI)': 20, 'Agricultural methane emissions (% of total)': 20, 'Agricultural nitrous oxide emissions (% of total)': 20, 'Energy related methane emissions (% of total)': 20, 'Methane emissions (kt of CO2 equivalent)': 20, 'Methane emissions in energy sector (thousand metric tons of CO2 equivalent)': 20, 'Mortality rate, infant, female (per 1,000 live births)': 20, 'Mortality rate, infant, male (per 1,000 live births)': 20, 'Mortality rate, under-5, female (per 1,000 live births)': 20, 'Mortality rate, under-5, male (per 1,000 live births)': 20, 'Nitrous oxide emissions (thousand metric tons of CO2 equivalent)': 20, 'Nitrous oxide emissions in energy sector (thousand metric tons of CO2 equivalent)': 20, 'Nitrous oxide emissions in industrial and energy processes (% of total nitrous oxide emissions)': 20, 'Other greenhouse gas emissions, HFC, PFC and SF6 (thousand metric tons of CO2 equivalent)': 20, 'Investment in telecoms with private participation (current US$)': 20, 'Net official aid received (constant 2012 US$)': 20, 'Net official aid received (current US$)': 20, 'New businesses registered (number)': 20, 'Prevalence of stunting, height for age (% of children under 5)': 19, 'Prevalence of underweight, weight for age (% of children under 5)': 19, 'Prevalence of wasting, weight for height (% of children under 5)': 19, 'Annual freshwater withdrawals, agriculture (% of total freshwater withdrawal)': 19, 'Annual freshwater withdrawals, domestic (% of total freshwater withdrawal)': 19, 'CPIA building human resources rating (1=low to 6=high)': 19, 'CPIA business regulatory environment rating (1=low to 6=high)': 19, 'CPIA debt policy rating (1=low to 6=high)': 19, 'CPIA economic management cluster average (1=low to 6=high)': 19, 'CPIA efficiency of revenue mobilization rating (1=low to 6=high)': 19, 'CPIA equity of public resource use rating (1=low to 6=high)': 19, 'CPIA financial sector rating (1=low to 6=high)': 19, 'CPIA fiscal policy rating (1=low to 6=high)': 19, 'CPIA gender equality rating (1=low to 6=high)': 19, 'CPIA macroeconomic management rating (1=low to 6=high)': 19, 'CPIA policies for social inclusion/equity cluster average (1=low to 6=high)': 19, 'CPIA policy and institutions for environmental sustainability rating (1=low to 6=high)': 19, 'CPIA property rights and rule-based governance rating (1=low to 6=high)': 19, 'CPIA public sector management and institutions cluster average (1=low to 6=high)': 19, 'CPIA quality of budgetary and financial management rating (1=low to 6=high)': 19, 'CPIA quality of public administration rating (1=low to 6=high)': 19, 'CPIA social protection rating (1=low to 6=high)': 19, 'CPIA structural policies cluster average (1=low to 6=high)': 19, 'CPIA trade rating (1=low to 6=high)': 19, 'CPIA transparency, accountability, and corruption in the public sector rating (1=low to 6=high)': 19, 'IDA resource allocation index (1=low to 6=high)': 19, 'Annual freshwater withdrawals, industry (% of total freshwater withdrawal)': 18, 'SF6 gas emissions (thousand metric tons of CO2 equivalent)': 18, 'Net bilateral aid flows from DAC donors, Czech Republic (current US$)': 18, 'Net bilateral aid flows from DAC donors, Poland (current US$)': 18, 'Survival rate to Grade 5 of primary education, female (%)': 17, 'Survival rate to Grade 5 of primary education, male (%)': 17, \"Women's share of population ages 15+ living with HIV (%)\": 17, 'Low-birthweight babies (% of births)': 17, 'Percentage of female teachers in primary education who are trained, female (%)': 17, 'Percentage of male teachers in primary education who are trained, male (%)': 17, 'Percentage of teachers in primary education who are trained, both sexes (%)': 17, 'Borrowers from commercial banks (per 1,000 adults)': 17, 'Pregnant women receiving prenatal care (%)': 16, 'Completeness of death registration with cause-of-death information (%)': 16, 'Smoking prevalence, females (% of adults)': 16, 'Smoking prevalence, males (% of adults)': 16, 'Agricultural irrigated land (% of total agricultural land)': 16, 'Depositors with commercial banks (per 1,000 adults)': 16, 'Personal transfers, receipts (BoP, current US$)': 16, 'Net capital account (BoP, current US$)': 16, 'Lead time to export, median case (days)': 16, 'Lead time to import, median case (days)': 16, 'Logistics performance index: Ability to track and trace consignments (1=low to 5=high)': 16, 'Logistics performance index: Competence and quality of logistics services (1=low to 5=high)': 16, 'Logistics performance index: Ease of arranging competitively priced shipments (1=low to 5=high)': 16, 'Logistics performance index: Efficiency of customs clearance process (1=low to 5=high)': 16, 'Logistics performance index: Frequency with which shipments reach consignee within scheduled or expected time (1=low to 5=high)': 16, 'Logistics performance index: Overall (1=low to 5=high)': 16, 'Logistics performance index: Quality of trade and transport-related infrastructure (1=low to 5=high)': 16, 'Prevalence of overweight, weight for height (% of children under 5)': 15, 'Prevalence of severe wasting, weight for height (% of children under 5)': 15, 'Adult literacy rate, population 15+ years, both sexes (%)': 15, 'Adult literacy rate, population 15+ years, female (%)': 15, 'Adult literacy rate, population 15+ years, male (%)': 15, 'Youth literacy rate, population 15-24 years, both sexes (%)': 15, 'Youth literacy rate, population 15-24 years, female (%)': 15, 'Youth literacy rate, population 15-24 years, gender parity index (GPI)': 15, 'Youth literacy rate, population 15-24 years, male (%)': 15, 'Income share held by fourth 20%': 15, 'Income share held by highest 10%': 15, 'Income share held by highest 20%': 15, 'Income share held by lowest 10%': 15, 'Income share held by lowest 20%': 15, 'Income share held by second 20%': 15, 'Income share held by third 20%': 15, 'Adjusted savings: particulate emission damage (% of GNI)': 15, 'Agricultural methane emissions (thousand metric tons of CO2 equivalent)': 15, 'Agricultural nitrous oxide emissions (thousand metric tons of CO2 equivalent)': 15, 'HFC gas emissions (thousand metric tons of CO2 equivalent)': 15, 'Industrial nitrous oxide emissions (thousand metric tons of CO2 equivalent)': 15, 'PFC gas emissions (thousand metric tons of CO2 equivalent)': 15, 'Net bilateral aid flows from DAC donors, Iceland (current US$)': 15, 'Nurses and midwives (per 1,000 people)': 15, 'Antiretroviral therapy coverage (% of people living with HIV)': 15, 'Depth of credit information index (0=low to 8=high)': 15, 'Strength of legal rights index (0=weak to 12=strong)': 15, 'Prevalence of overweight, weight for height, female (% of children under 5)': 14, 'Prevalence of overweight, weight for height, male (% of children under 5)': 14, 'Prevalence of severe wasting, weight for height, female (% of children under 5)': 14, 'Prevalence of severe wasting, weight for height, male (% of children under 5)': 14, 'Prevalence of stunting, height for age, female (% of children under 5)': 14, 'Prevalence of stunting, height for age, male (% of children under 5)': 14, 'Prevalence of underweight, weight for age, female (% of children under 5)': 14, 'Prevalence of underweight, weight for age, male (% of children under 5)': 14, 'Prevalence of wasting, weight for height, female (% of children under 5)': 14, 'Prevalence of wasting, weight for height, male (% of children under 5)': 14, 'GINI index (World Bank estimate)': 14, 'Currency composition of PPG debt, Euro (%)': 14, 'Share of youth not in education, employment, or training, female (% of female youth population)': 14, 'Share of youth not in education, employment, or training, male (% of male youth population)': 14, 'Share of youth not in education, employment, or training, total (% of youth population)': 14, 'Vitamin A supplementation coverage rate (% of children ages 6-59 months)': 13, 'Diarrhea treatment (% of children under 5 who received ORS packet)': 12, 'Adjusted savings: particulate emission damage (current US$)': 12, 'Methodology assessment of statistical capacity (scale 0 - 100)': 12, 'Overall level of statistical capacity (scale 0 - 100)': 12, 'Periodicity and timeliness assessment of statistical capacity (scale 0 - 100)': 12, 'Source data assessment of statistical capacity (scale 0 - 100)': 12, 'Net bilateral aid flows from DAC donors, Slovak Republic (current US$)': 12, 'Time to resolve insolvency (years)': 12, 'Maternal mortality ratio (national estimate, per 100,000 live births)': 11, 'Firms using banks to finance working capital (% of firms)': 11, 'Emigration rate of tertiary educated (% of total tertiary educated population)': 10, 'Land area where elevation is below 5 meters (% of total land area)': 10, 'Population living in areas where elevation is below 5 meters (% of total population)': 10, 'Cause of death, by communicable diseases and maternal, prenatal and nutrition conditions (% of total)': 10, 'Cause of death, by injury (% of total)': 10, 'Cause of death, by non-communicable diseases (% of total)': 10, 'Public and publicly guaranteed debt service (% of exports of goods, services and primary income)': 10, 'Short-term debt (% of exports of goods, services and primary income)': 10, 'Bribery incidence (% of firms experiencing at least one bribe payment request)': 10, 'Net bilateral aid flows from DAC donors, Slovenia (current US$)': 10, 'Access to non-solid fuel, rural (% of rural population)': 10, 'Access to non-solid fuel, urban (% of urban population)': 10, 'Ease of doing business index (1=most business-friendly regulations)': 10, 'Adjusted net savings, including particulate emission damage (current US$)': 9, 'Unmet need for contraception (% of married women ages 15-49)': 9, 'Investment in water and sanitation with private participation (current US$)': 9, 'Bank liquid reserves to bank assets ratio (%)': 9, 'Broad money (% of GDP)': 9, 'Broad money (current LCU)': 9, 'Broad money to total reserves ratio': 9, 'Claims on central government, etc. (% GDP)': 9, 'Claims on other sectors of the domestic economy (% of GDP)': 9, 'Domestic credit provided by financial sector (% of GDP)': 9, 'Domestic credit to private sector (% of GDP)': 9, 'Domestic credit to private sector by banks (% of GDP)': 9, 'Money (current LCU)': 9, 'Money and quasi money (M2) (current LCU)': 9, 'Money and quasi money (M2) as % of GDP': 9, 'Money and quasi money (M2) to total reserves ratio': 9, 'Net domestic credit (current LCU)': 9, 'Net foreign assets (current LCU)': 9, 'Labor tax and contributions (% of commercial profits)': 9, 'Profit tax (% of commercial profits)': 9, 'Firms that do not report all sales for tax purposes (% of firms)': 8, 'Broad money growth (annual %)': 8, 'Claims on central government (annual growth as % of broad money)': 8, 'Claims on other sectors of the domestic economy (annual growth as % of broad money)': 8, 'Claims on private sector (annual growth as % of broad money)': 8, 'Money and quasi money growth (annual %)': 8, 'GEF benefits index for biodiversity (0 = no biodiversity potential to 100 = maximum)': 8, 'Internally displaced persons (number, low estimate)': 8, 'Net official flows from UN agencies, IAEA (current US$)': 8, 'Completeness of infant death reporting (% of reported infant deaths to estimated infant deaths)': 8, 'Completeness of total death reporting (% of reported total deaths to estimated total deaths)': 8, 'Poverty gap at $1.90 a day (2011 PPP) (%)': 6, 'Poverty gap at $3.10 a day (2011 PPP) (%)': 6, 'Poverty headcount ratio at $1.90 a day (2011 PPP) (% of population)': 6, 'Poverty headcount ratio at $3.10 a day (2011 PPP) (% of population)': 6, 'Internally displaced persons (number, high estimate)': 6, 'Net official flows from UN agencies, WHO (current US$)': 6, 'Other taxes payable by businesses (% of commercial profits)': 6, 'Children in employment, female (% of female children ages 7-14)': 5, 'Children in employment, male (% of male children ages 7-14)': 5, 'Children in employment, study and work (% of children in employment, ages 7-14)': 5, 'Children in employment, total (% of children ages 7-14)': 5, 'Children in employment, work only (% of children in employment, ages 7-14)': 5, 'Net official flows from UN agencies, UNPBF (current US$)': 5, 'Diabetes prevalence (% of population ages 20 to 79)': 5, 'Bird species, threatened': 5, 'Fish species, threatened': 5, 'Mammal species, threatened': 5, 'Plant species (higher), threatened': 5, 'ARI treatment (% of children under 5 taken to a health provider)': 4, 'Poverty headcount ratio at national poverty lines (% of population)': 4, 'Rural poverty headcount ratio at national poverty lines (% of rural population)': 4, 'Urban poverty headcount ratio at national poverty lines (% of urban population)': 4, 'Child employment in agriculture (% of economically active children ages 7-14)': 4, 'Child employment in agriculture, female (% of female economically active children ages 7-14)': 4, 'Child employment in agriculture, male (% of male economically active children ages 7-14)': 4, 'Child employment in manufacturing (% of economically active children ages 7-14)': 4, 'Child employment in manufacturing, female (% of female economically active children ages 7-14)': 4, 'Child employment in manufacturing, male (% of male economically active children ages 7-14)': 4, 'Child employment in services (% of economically active children ages 7-14)': 4, 'Child employment in services, female (% of female economically active children ages 7-14)': 4, 'Child employment in services, male (% of male economically active children ages 7-14)': 4, '2005 PPP conversion factor, GDP (LCU per international $)': 4, '2005 PPP conversion factor, private consumption (LCU per international $)': 4, 'Average time to clear exports through customs (days)': 4, 'Delay in obtaining an electrical connection (days)': 4, 'Firms expected to give gifts in meetings with tax officials (% of firms)': 4, 'Firms offering formal training (% of firms)': 4, 'Firms using banks to finance investment (% of firms)': 4, 'Firms with female participation in ownership (% of firms)': 4, 'Informal payments to public officials (% of firms)': 4, 'Internationally-recognized quality certification (% of firms)': 4, 'Losses due to theft, robbery, vandalism, and arson (% sales)': 4, 'Number of visits or required meetings with tax officials': 4, 'Time spent dealing with the requirements of government regulations (% of senior management time)': 4, 'Female headed households (% of households with a female head)': 3, 'Teenage mothers (% of women ages 15-19 who have had children or are currently pregnant)': 3, 'Wanted fertility rate (births per woman)': 3, 'Exclusive breastfeeding (% of children under 6 months)': 3, 'Coverage (%) - All Labor Market': 3, 'Coverage (%) - All Social Assistance': 3, 'Coverage (%) -All Social Protection and Labor': 3, 'Poverty gap at national poverty lines (%)': 3, 'Rural poverty gap at national poverty lines (%)': 3, 'Urban poverty gap at national poverty lines (%)': 3, 'Completeness of birth registration (%)': 3, 'Consumption of iodized salt (% of households)': 3, 'Firms competing against unregistered firms (% of firms)': 3, 'Firms formally registered when operations started (% of firms)': 3, 'Firms with female top manager (% of firms)': 3, 'Power outages in firms in a typical month (number)': 3, 'Time required to obtain an operating license (days)': 3, 'Value lost due to electrical outages (% of sales)': 3, 'Disaster risk reduction progress score (1-5 scale; 5=best)': 3, 'Children in employment, study and work, female (% of female children in employment, ages 7-14)': 2, 'Children in employment, study and work, male (% of male children in employment, ages 7-14)': 2, 'Children in employment, work only, female (% of female children in employment, ages 7-14)': 2, 'Children in employment, work only, male (% of male children in employment, ages 7-14)': 2, 'Children with fever receiving antimalarial drugs (% of children under age 5 with fever)': 2, 'Community health workers (per 1,000 people)': 2, 'Survey mean consumption or income per capita, bottom 40% of population (2011 PPP $ per day)': 2, 'Survey mean consumption or income per capita, total population (2011 PPP $ per day)': 2, 'Droughts, floods, extreme temperatures (% of population, average 1990-2009)': 2, 'Point-of-sale terminals (per 100,000 adults)': 2, 'Children in employment, self-employed (% of children in employment, ages 7-14)': 2, 'Children in employment, self-employed, female (% of female children in employment, ages 7-14)': 2, 'Children in employment, self-employed, male (% of male children in employment, ages 7-14)': 2, 'Children in employment, unpaid family workers (% of children in employment, ages 7-14)': 2, 'Children in employment, unpaid family workers, female (% of female children in employment, ages 7-14)': 2, 'Children in employment, unpaid family workers, male (% of male children in employment, ages 7-14)': 2, 'Children in employment, wage workers (% of children in employment, ages 7-14)': 2, 'Children in employment, wage workers, female (% of female children in employment, ages 7-14)': 2, 'Children in employment, wage workers, male (% of male children in employment, ages 7-14)': 2, 'Annualized average growth rate in per capita real survey mean consumption or income, bottom 40% of population (%)': 2, 'Annualized average growth rate in per capita real survey mean consumption or income, total population (%)': 2, 'Completeness of birth registration, rural (%)': 1, 'Completeness of birth registration, urban (%)': 1, 'Condom use, population ages 15-24, female (% of females ages 15-24)': 1, 'Condom use, population ages 15-24, male (% of males ages 15-24)': 1, 'Diarrhea treatment (% of children under 5 receiving oral rehydration and continued feeding)': 1, 'Women who believe a husband is justified in beating his wife (any of five reasons) (%)': 1, 'Women who believe a husband is justified in beating his wife when she argues with him (%)': 1, 'Women who believe a husband is justified in beating his wife when she burns the food (%)': 1, 'Women who believe a husband is justified in beating his wife when she goes out without telling him (%)': 1, 'Women who believe a husband is justified in beating his wife when she neglects the children (%)': 1, 'Women who believe a husband is justified in beating his wife when she refuses sex with him (%)': 1, 'Present value of external debt (% of exports of goods, services and primary income)': 1, 'Present value of external debt (% of GNI)': 1, 'Present value of external debt (current US$)': 1})\n",
      "Counter({762: 280, 766: 280, 40: 275, 44: 275, 45: 275, 46: 275, 719: 275, 732: 275, 1033: 275, 1041: 275, 1042: 275, 1043: 275, 1044: 275, 1135: 275, 1136: 275, 1292: 275, 1293: 275, 1035: 274, 1294: 274, 111: 270, 269: 270, 681: 270, 682: 270, 683: 270, 1192: 270, 1193: 270, 675: 270, 1034: 270, 1183: 270, 384: 269, 720: 268, 721: 268, 724: 268, 726: 268, 727: 268, 728: 268, 730: 268, 731: 268, 733: 268, 734: 268, 737: 268, 738: 268, 739: 268, 740: 268, 741: 268, 743: 268, 744: 268, 760: 267, 761: 267, 48: 265, 49: 265, 81: 265, 82: 265, 249: 265, 413: 265, 688: 265, 1025: 265, 127: 260, 128: 260, 130: 260, 137: 260, 132: 259, 133: 259, 745: 255, 603: 251, 131: 249, 428: 247, 434: 247, 449: 247, 358: 246, 366: 246, 461: 246, 466: 246, 573: 246, 1252: 246, 521: 244, 602: 242, 722: 241, 725: 241, 427: 240, 431: 240, 735: 239, 478: 238, 483: 238, 486: 238, 506: 238, 511: 238, 551: 238, 430: 235, 435: 235, 423: 235, 706: 235, 364: 234, 546: 234, 455: 234, 458: 234, 56: 233, 411: 233, 894: 232, 57: 228, 412: 228, 424: 228, 707: 228, 895: 228, 124: 225, 884: 224, 887: 224, 396: 224, 489: 224, 556: 224, 1037: 220, 1039: 220, 268: 220, 579: 220, 417: 220, 752: 220, 87: 219, 892: 219, 1137: 219, 22: 219, 24: 219, 26: 219, 31: 219, 209: 219, 28: 218, 772: 218, 893: 218, 1046: 216, 236: 214, 1248: 214, 1250: 214, 409: 213, 410: 213, 168: 212, 169: 212, 677: 212, 83: 212, 416: 209, 753: 208, 754: 208, 138: 208, 30: 203, 36: 203, 66: 201, 67: 201, 425: 200, 426: 200, 429: 200, 432: 200, 433: 200, 851: 199, 852: 199, 171: 199, 172: 199, 294: 199, 363: 199, 368: 199, 369: 199, 389: 199, 390: 199, 391: 199, 395: 199, 465: 199, 482: 199, 488: 199, 510: 199, 517: 199, 520: 199, 545: 199, 555: 199, 578: 199, 806: 198, 807: 198, 448: 198, 453: 198, 839: 198, 840: 198, 1256: 198, 524: 195, 65: 194, 1004: 191, 788: 189, 777: 189, 853: 189, 854: 189, 782: 189, 793: 187, 342: 185, 523: 185, 344: 182, 543: 181, 547: 181, 422: 181, 72: 180, 140: 180, 210: 180, 306: 180, 307: 180, 308: 180, 309: 180, 310: 180, 311: 180, 312: 180, 313: 180, 339: 180, 891: 180, 1229: 180, 1230: 180, 129: 179, 134: 179, 135: 179, 136: 179, 139: 179, 304: 179, 305: 179, 890: 179, 1254: 177, 542: 176, 548: 176, 421: 176, 1246: 176, 23: 176, 25: 176, 29: 176, 32: 176, 34: 175, 27: 175, 33: 174, 345: 174, 346: 174, 569: 174, 1016: 172, 1026: 172, 361: 170, 518: 170, 576: 170, 773: 170, 1005: 170, 175: 170, 414: 170, 704: 170, 899: 170, 1228: 170, 357: 169, 362: 169, 387: 169, 463: 169, 485: 169, 519: 169, 522: 169, 577: 169, 1225: 169, 868: 169, 570: 169, 388: 168, 464: 168, 446: 168, 451: 168, 544: 168, 447: 167, 452: 167, 1018: 167, 1028: 167, 1017: 166, 37: 166, 1036: 165, 1038: 165, 360: 165, 575: 165, 14: 165, 17: 165, 462: 164, 1255: 164, 438: 164, 86: 163, 680: 163, 450: 163, 454: 163, 1121: 162, 779: 162, 18: 160, 61: 159, 64: 159, 775: 159, 1157: 159, 347: 158, 525: 158, 526: 158, 858: 157, 50: 156, 51: 156, 864: 156, 60: 155, 787: 154, 713: 153, 494: 153, 785: 152, 808: 152, 601: 152, 796: 152, 508: 151, 1308: 151, 367: 150, 509: 149, 498: 147, 507: 146, 553: 144, 512: 143, 513: 143, 495: 143, 496: 143, 497: 143, 502: 142, 393: 141, 480: 141, 780: 141, 554: 140, 710: 140, 170: 139, 293: 139, 394: 139, 481: 139, 527: 139, 528: 139, 529: 139, 530: 139, 552: 139, 490: 139, 499: 139, 500: 139, 501: 139, 392: 136, 479: 136, 709: 136, 503: 136, 504: 136, 505: 136, 355: 136, 571: 136, 493: 134, 1142: 134, 1154: 133, 35: 132, 581: 130, 583: 130, 584: 130, 586: 130, 684: 130, 685: 130, 717: 130, 765: 130, 885: 130, 1153: 129, 1112: 129, 1219: 129, 59: 128, 596: 128, 1152: 128, 598: 127, 491: 127, 492: 127, 436: 125, 437: 125, 441: 125, 442: 125, 648: 125, 650: 125, 652: 125, 654: 125, 656: 125, 657: 125, 659: 125, 660: 125, 662: 125, 672: 125, 673: 125, 1118: 125, 1134: 124, 19: 124, 85: 124, 550: 124, 597: 123, 781: 123, 457: 123, 460: 123, 708: 122, 58: 122, 798: 121, 1027: 121, 477: 120, 1222: 120, 1284: 120, 419: 120, 327: 120, 329: 120, 331: 120, 333: 120, 335: 120, 337: 120, 1279: 120, 1281: 120, 1283: 120, 1285: 120, 1287: 120, 1289: 120, 797: 119, 1123: 119, 865: 118, 1280: 118, 1282: 118, 792: 116, 1006: 116, 687: 116, 356: 116, 572: 116, 778: 116, 643: 116, 1020: 115, 84: 115, 340: 115, 420: 115, 1124: 115, 786: 114, 539: 114, 1125: 114, 62: 112, 63: 112, 484: 112, 599: 112, 600: 112, 711: 112, 712: 112, 870: 112, 871: 112, 1155: 112, 1156: 112, 1019: 111, 1220: 111, 729: 110, 742: 110, 1113: 110, 125: 110, 126: 110, 1062: 110, 1063: 110, 1064: 110, 1226: 110, 1227: 110, 540: 109, 805: 108, 860: 107, 661: 107, 749: 107, 736: 107, 784: 105, 655: 105, 658: 105, 1119: 105, 723: 105, 804: 104, 9: 104, 815: 104, 905: 104, 715: 104, 716: 104, 582: 104, 585: 104, 714: 104, 886: 104, 861: 102, 1022: 101, 1122: 101, 812: 100, 813: 100, 1221: 100, 321: 100, 324: 100, 587: 100, 998: 100, 999: 100, 1081: 100, 328: 99, 330: 99, 332: 99, 1106: 99, 549: 99, 12: 98, 15: 98, 343: 98, 440: 98, 439: 98, 838: 97, 456: 97, 459: 97, 1265: 96, 541: 95, 322: 95, 323: 95, 325: 95, 326: 95, 1290: 95, 532: 95, 533: 95, 534: 95, 535: 95, 537: 95, 538: 95, 636: 95, 903: 95, 904: 95, 624: 94, 10: 93, 11: 93, 906: 93, 907: 93, 1023: 93, 318: 92, 639: 92, 859: 91, 13: 90, 16: 90, 514: 90, 319: 90, 320: 90, 515: 89, 516: 89, 1247: 88, 1164: 87, 1179: 85, 633: 85, 641: 85, 818: 84, 819: 83, 820: 83, 635: 83, 1030: 81, 751: 81, 791: 80, 1177: 80, 1178: 80, 609: 79, 1147: 78, 1148: 78, 1149: 78, 1303: 78, 1304: 78, 1305: 78, 1270: 78, 1273: 78, 1276: 78, 471: 77, 240: 77, 241: 77, 242: 77, 1120: 76, 1116: 76, 696: 76, 536: 76, 869: 75, 381: 75, 1286: 74, 1288: 74, 1010: 73, 281: 73, 649: 73, 651: 73, 653: 73, 1011: 72, 1012: 72, 1271: 72, 1272: 72, 1274: 72, 1275: 72, 1277: 72, 1278: 72, 794: 72, 407: 71, 1082: 70, 1083: 70, 1084: 70, 1115: 70, 816: 69, 817: 69, 1088: 69, 856: 69, 223: 69, 467: 69, 475: 69, 1140: 69, 1074: 69, 284: 69, 1266: 69, 105: 69, 408: 68, 1013: 67, 1090: 67, 614: 67, 615: 67, 900: 67, 1214: 67, 811: 65, 1089: 65, 1181: 65, 1014: 64, 1015: 64, 1217: 64, 558: 64, 701: 63, 880: 63, 803: 63, 161: 63, 162: 63, 166: 63, 167: 63, 224: 63, 353: 63, 354: 63, 468: 63, 476: 63, 616: 63, 901: 63, 1132: 63, 1133: 63, 1207: 63, 1208: 63, 1211: 63, 1213: 63, 1215: 63, 1216: 63, 1145: 63, 1146: 63, 1189: 62, 1126: 60, 1127: 60, 1182: 60, 386: 60, 702: 59, 703: 59, 750: 59, 1212: 59, 559: 59, 266: 58, 267: 58, 1218: 58, 1200: 57, 1201: 57, 1202: 57, 637: 57, 1158: 56, 1159: 56, 1160: 56, 1161: 56, 1162: 56, 1163: 56, 1194: 56, 1195: 56, 1196: 56, 1197: 56, 1198: 56, 1199: 56, 1203: 56, 1204: 56, 1205: 56, 238: 56, 630: 55, 631: 55, 848: 55, 487: 55, 1190: 53, 1191: 53, 211: 53, 383: 52, 841: 50, 842: 50, 1110: 50, 1111: 50, 1128: 50, 1007: 50, 107: 49, 108: 49, 109: 49, 114: 49, 115: 49, 116: 49, 101: 48, 1107: 48, 1244: 48, 697: 48, 698: 48, 795: 48, 103: 48, 88: 47, 289: 46, 619: 46, 620: 46, 938: 46, 939: 46, 941: 46, 951: 46, 954: 46, 958: 46, 959: 46, 961: 46, 965: 46, 966: 46, 968: 46, 977: 46, 978: 46, 980: 46, 984: 46, 985: 46, 987: 46, 991: 46, 992: 46, 994: 46, 1095: 46, 1097: 46, 634: 46, 640: 46, 349: 46, 89: 45, 90: 45, 91: 45, 92: 45, 93: 45, 94: 45, 95: 45, 96: 45, 97: 45, 98: 45, 99: 45, 100: 45, 212: 45, 215: 45, 216: 45, 217: 45, 218: 45, 219: 45, 233: 45, 259: 45, 253: 45, 254: 45, 255: 45, 256: 45, 257: 45, 258: 45, 271: 45, 274: 45, 275: 45, 276: 45, 277: 45, 290: 45, 291: 45, 292: 45, 302: 45, 370: 45, 372: 45, 373: 45, 374: 45, 375: 45, 376: 45, 377: 45, 378: 45, 379: 45, 380: 45, 557: 45, 562: 45, 564: 45, 565: 45, 566: 45, 567: 45, 568: 45, 610: 45, 611: 45, 612: 45, 617: 45, 621: 45, 622: 45, 623: 45, 769: 45, 771: 45, 829: 45, 823: 45, 824: 45, 825: 45, 826: 45, 830: 45, 831: 45, 827: 45, 828: 45, 832: 45, 833: 45, 834: 45, 835: 45, 836: 45, 874: 45, 875: 45, 876: 45, 877: 45, 912: 45, 913: 45, 914: 45, 915: 45, 916: 45, 917: 45, 918: 45, 919: 45, 920: 45, 921: 45, 922: 45, 923: 45, 924: 45, 925: 45, 1047: 45, 940: 45, 942: 45, 943: 45, 944: 45, 945: 45, 946: 45, 947: 45, 948: 45, 949: 45, 950: 45, 952: 45, 953: 45, 955: 45, 956: 45, 957: 45, 960: 45, 962: 45, 963: 45, 964: 45, 926: 45, 927: 45, 928: 45, 929: 45, 930: 45, 931: 45, 932: 45, 933: 45, 934: 45, 935: 45, 936: 45, 937: 45, 967: 45, 969: 45, 970: 45, 971: 45, 972: 45, 973: 45, 974: 45, 975: 45, 976: 45, 979: 45, 981: 45, 982: 45, 983: 45, 986: 45, 988: 45, 989: 45, 990: 45, 993: 45, 995: 45, 996: 45, 997: 45, 1085: 45, 1091: 45, 1092: 45, 1093: 45, 1096: 45, 1098: 45, 1169: 45, 1170: 45, 1267: 45, 1268: 45, 1269: 45, 1297: 45, 1117: 45, 173: 45, 174: 45, 213: 45, 214: 45, 220: 45, 231: 45, 359: 45, 365: 45, 418: 45, 469: 45, 470: 45, 574: 45, 580: 45, 1086: 45, 1087: 45, 1144: 45, 1150: 45, 1151: 45, 1249: 45, 1253: 45, 1257: 45, 1259: 45, 1261: 45, 1263: 45, 770: 44, 315: 44, 316: 44, 317: 44, 686: 44, 221: 44, 232: 44, 244: 44, 245: 44, 296: 44, 297: 44, 606: 44, 608: 44, 1238: 44, 1239: 44, 1258: 44, 1260: 44, 1262: 44, 1264: 44, 1300: 43, 1301: 43, 1302: 43, 351: 42, 352: 42, 632: 42, 638: 42, 605: 42, 607: 42, 371: 40, 618: 40, 1245: 40, 1173: 40, 1174: 40, 473: 40, 122: 40, 1114: 40, 800: 39, 273: 39, 896: 39, 1129: 39, 560: 39, 263: 38, 350: 38, 1143: 38, 334: 37, 336: 37, 338: 37, 897: 37, 663: 37, 666: 37, 669: 37, 789: 37, 264: 37, 243: 37, 1176: 37, 1232: 37, 1236: 37, 561: 37, 385: 36, 260: 36, 261: 36, 415: 36, 821: 36, 822: 36, 867: 36, 872: 36, 873: 36, 1045: 36, 910: 35, 911: 35, 265: 35, 1102: 35, 1104: 35, 1109: 35, 1235: 35, 1000: 34, 1001: 34, 1002: 34, 1003: 34, 262: 34, 472: 34, 843: 33, 844: 33, 774: 33, 69: 33, 474: 33, 123: 33, 1103: 33, 1206: 33, 1231: 33, 1240: 33, 1251: 33, 1130: 33, 239: 32, 70: 32, 250: 31, 252: 31, 664: 31, 665: 31, 667: 31, 668: 31, 670: 31, 671: 31, 71: 31, 878: 31, 68: 29, 845: 29, 1307: 28, 106: 26, 270: 26, 272: 26, 278: 26, 279: 26, 613: 26, 625: 26, 626: 26, 627: 26, 810: 26, 1094: 26, 1099: 26, 1100: 26, 1101: 26, 1131: 26, 1242: 26, 1243: 26, 1059: 25, 1060: 25, 1061: 25, 295: 25, 1233: 25, 863: 24, 1186: 24, 644: 24, 846: 24, 847: 24, 776: 24, 857: 24, 444: 22, 1223: 22, 76: 21, 77: 21, 112: 21, 646: 21, 1209: 21, 1210: 21, 3: 20, 4: 20, 5: 20, 6: 20, 20: 20, 52: 20, 54: 20, 341: 20, 746: 20, 747: 20, 763: 20, 764: 20, 767: 20, 768: 20, 881: 20, 882: 20, 883: 20, 898: 20, 645: 20, 849: 20, 850: 20, 879: 20, 1071: 19, 1075: 19, 1078: 19, 73: 19, 74: 19, 141: 19, 142: 19, 143: 19, 144: 19, 145: 19, 146: 19, 147: 19, 148: 19, 149: 19, 150: 19, 151: 19, 152: 19, 153: 19, 154: 19, 155: 19, 156: 19, 157: 19, 158: 19, 159: 19, 160: 19, 563: 19, 75: 18, 1141: 18, 783: 18, 799: 18, 1187: 17, 1188: 17, 1315: 17, 700: 17, 1008: 17, 1009: 17, 1021: 17, 113: 17, 1055: 16, 228: 16, 1171: 16, 1172: 16, 47: 16, 282: 16, 1029: 16, 809: 16, 678: 16, 679: 16, 689: 16, 690: 16, 691: 16, 692: 16, 693: 16, 694: 16, 695: 16, 1065: 15, 1068: 15, 41: 15, 42: 15, 43: 15, 1316: 15, 1317: 15, 1318: 15, 1319: 15, 588: 15, 589: 15, 590: 15, 591: 15, 592: 15, 593: 15, 594: 15, 38: 15, 53: 15, 55: 15, 531: 15, 595: 15, 909: 15, 790: 15, 889: 15, 80: 15, 283: 15, 1180: 15, 1066: 14, 1067: 14, 1069: 14, 1070: 14, 1072: 14, 1073: 14, 1076: 14, 1077: 14, 1079: 14, 1080: 14, 445: 14, 251: 14, 1165: 14, 1166: 14, 1167: 14, 1299: 13, 287: 12, 39: 12, 748: 12, 908: 12, 1024: 12, 1175: 12, 801: 12, 1241: 12, 718: 11, 403: 11, 314: 10, 676: 10, 1040: 10, 163: 10, 164: 10, 165: 10, 1108: 10, 1168: 10, 117: 10, 802: 10, 7: 10, 8: 10, 303: 10, 21: 9, 1291: 9, 647: 9, 104: 9, 118: 9, 119: 9, 121: 9, 205: 9, 206: 9, 298: 9, 299: 9, 300: 9, 755: 9, 756: 9, 757: 9, 758: 9, 814: 9, 837: 9, 674: 9, 1105: 9, 401: 8, 120: 8, 204: 8, 207: 8, 208: 8, 759: 8, 443: 8, 629: 8, 855: 8, 229: 8, 230: 8, 1048: 6, 1049: 6, 1051: 6, 1052: 6, 628: 6, 866: 6, 902: 6, 185: 5, 186: 5, 190: 5, 193: 5, 200: 5, 862: 5, 285: 5, 110: 5, 406: 5, 705: 5, 1031: 5, 2: 4, 1053: 4, 1139: 4, 1296: 4, 176: 4, 177: 4, 178: 4, 179: 4, 180: 4, 181: 4, 182: 4, 183: 4, 184: 4, 0: 4, 1: 4, 102: 4, 280: 4, 398: 4, 400: 4, 402: 4, 404: 4, 604: 4, 642: 4, 699: 4, 888: 4, 1237: 4, 382: 3, 1224: 3, 1306: 3, 348: 3, 246: 3, 247: 3, 248: 3, 1050: 3, 1138: 3, 1295: 3, 225: 3, 237: 3, 397: 3, 399: 3, 405: 3, 1054: 3, 1234: 3, 1298: 3, 288: 3, 191: 2, 192: 2, 201: 2, 202: 2, 203: 2, 222: 2, 1184: 2, 1185: 2, 301: 2, 1032: 2, 187: 2, 188: 2, 189: 2, 194: 2, 195: 2, 196: 2, 197: 2, 198: 2, 199: 2, 78: 2, 79: 2, 226: 1, 227: 1, 234: 1, 235: 1, 286: 1, 1309: 1, 1310: 1, 1311: 1, 1312: 1, 1313: 1, 1314: 1, 1057: 1, 1056: 1, 1058: 1})\n",
      "****************************************************************************************************\n",
      "LABEL ENCODING OF: IndicatorCode\n",
      "Counter({'SP.DYN.IMRT.IN': 280, 'SH.DYN.MORT': 280, 'SP.ADO.TFRT': 275, 'SP.POP.DPND': 275, 'SP.POP.DPND.OL': 275, 'SP.POP.DPND.YG': 275, 'TX.VAL.MRCH.CD.WT': 275, 'TM.VAL.MRCH.CD.WT': 275, 'SP.POP.65UP.TO.ZS': 275, 'SP.POP.0014.TO.ZS': 275, 'SP.POP.1564.TO.ZS': 275, 'SP.POP.TOTL.FE.ZS': 275, 'SP.POP.TOTL': 275, 'SP.RUR.TOTL': 275, 'SP.RUR.TOTL.ZS': 275, 'SP.URB.TOTL': 275, 'SP.URB.TOTL.IN.ZS': 275, 'SP.POP.GROW': 274, 'SP.URB.GROW': 274, 'SP.DYN.CBRT.IN': 270, 'SP.DYN.CDRT.IN': 270, 'SP.DYN.LE00.FE.IN': 270, 'SP.DYN.LE00.MA.IN': 270, 'SP.DYN.LE00.IN': 270, 'SP.DYN.TO65.FE.ZS': 270, 'SP.DYN.TO65.MA.ZS': 270, 'AG.LND.TOTL.K2': 270, 'EN.POP.DNST': 270, 'AG.SRF.TOTL.K2': 270, 'SP.DYN.TFRT.IN': 269, 'TX.VAL.MRCH.WL.CD': 268, 'TX.VAL.MRCH.RS.ZS': 268, 'TX.VAL.MRCH.R3.ZS': 268, 'TX.VAL.MRCH.R5.ZS': 268, 'TX.VAL.MRCH.R6.ZS': 268, 'TX.VAL.MRCH.OR.ZS': 268, 'TX.VAL.MRCH.AL.ZS': 268, 'TX.VAL.MRCH.HI.ZS': 268, 'TM.VAL.MRCH.WL.CD': 268, 'TM.VAL.MRCH.RS.ZS': 268, 'TM.VAL.MRCH.R3.ZS': 268, 'TM.VAL.MRCH.R4.ZS': 268, 'TM.VAL.MRCH.R5.ZS': 268, 'TM.VAL.MRCH.R6.ZS': 268, 'TM.VAL.MRCH.OR.ZS': 268, 'TM.VAL.MRCH.AL.ZS': 268, 'TM.VAL.MRCH.HI.ZS': 268, 'SP.DYN.AMRT.FE': 267, 'SP.DYN.AMRT.MA': 267, 'AG.LND.AGRI.ZS': 265, 'AG.LND.AGRI.K2': 265, 'AG.LND.ARBL.ZS': 265, 'AG.LND.ARBL.HA.PC': 265, 'AG.PRD.CROP.XD': 265, 'AG.PRD.FOOD.XD': 265, 'AG.PRD.LVSK.XD': 265, 'AG.LND.CROP.ZS': 265, 'EN.ATM.CO2E.KT': 260, 'EN.ATM.CO2E.PC': 260, 'EN.ATM.CO2E.GF.ZS': 260, 'EN.ATM.CO2E.SF.ZS': 260, 'EN.ATM.CO2E.LF.ZS': 259, 'EN.ATM.CO2E.LF.KT': 259, 'TG.VAL.TOTL.GD.ZS': 255, 'FP.CPI.TOTL.ZG': 251, 'EN.ATM.CO2E.GF.KT': 249, 'NY.GDP.MKTP.CD': 247, 'NY.GDP.PCAP.CD': 247, 'NY.GNP.MKTP.CD': 247, 'NE.EXP.GNFS.ZS': 246, 'NE.RSB.GNFS.ZS': 246, 'NE.CON.GOVT.ZS': 246, 'NE.CON.GOVT.CD': 246, 'NE.IMP.GNFS.ZS': 246, 'NE.TRD.GNFS.ZS': 246, 'NE.DAB.TOTL.CD': 244, 'NY.GDP.DEFL.KD.ZG': 242, 'TX.VAL.MRCH.R1.ZS': 241, 'TX.VAL.MRCH.R4.ZS': 241, 'NY.GDP.MKTP.KD': 240, 'NY.GDP.PCAP.KD': 240, 'TM.VAL.MRCH.R1.ZS': 239, 'NE.GDI.TOTL.ZS': 238, 'NE.GDI.TOTL.CD': 238, 'NY.GDS.TOTL.ZS': 238, 'NE.GDI.FTOT.ZS': 238, 'NE.GDI.FTOT.CD': 238, 'NE.CON.PETC.ZS': 238, 'NY.GDP.MKTP.KD.ZG': 235, 'NY.GDP.PCAP.KD.ZG': 235, 'TX.VAL.FUEL.ZS.UN': 235, 'TX.VAL.MANF.ZS.UN': 235, 'NE.EXP.GNFS.CD': 234, 'NE.CON.PRVT.CD': 234, 'NY.GNP.PCAP.CD': 234, 'NY.GNP.ATLS.CD': 234, 'TX.VAL.AGRI.ZS.UN': 233, 'TX.VAL.FOOD.ZS.UN': 233, 'TX.VAL.MMTL.ZS.UN': 232, 'TM.VAL.AGRI.ZS.UN': 228, 'TM.VAL.FOOD.ZS.UN': 228, 'TM.VAL.FUEL.ZS.UN': 228, 'TM.VAL.MANF.ZS.UN': 228, 'TM.VAL.MMTL.ZS.UN': 228, 'EN.ATM.CO2E.KD.GD': 225, 'SH.DTH.IMRT': 224, 'SH.DTH.MORT': 224, 'NE.CON.TETC.CD': 224, 'NY.GDS.TOTL.CD': 224, 'NE.CON.PETC.CD': 224, 'EN.URB.LCTY.UR.ZS': 220, 'EN.URB.MCTY.TL.ZS': 220, 'PA.NUS.ATLS': 220, 'NE.IMP.GNFS.CD': 220, 'BX.KLT.DINV.CD.WD': 220, 'NY.GDP.MINR.RT.ZS': 220, 'MS.MIL.MPRT.KD': 219, 'PA.NUS.FCRF': 219, 'SP.RUR.TOTL.ZG': 219, 'NY.ADJ.DCO2.GN.ZS': 219, 'NY.ADJ.DKAP.GN.ZS': 219, 'NY.ADJ.AEDU.GN.ZS': 219, 'NY.ADJ.DMIN.GN.ZS': 219, 'NY.GDP.COAL.RT.ZS': 219, 'NY.ADJ.DNGY.GN.ZS': 218, 'NY.GDP.NGAS.RT.ZS': 218, 'NY.GDP.PETR.RT.ZS': 218, 'BX.PEF.TOTL.CD.WD': 216, 'FP.CPI.TOTL': 214, 'FI.RES.TOTL.CD': 214, 'FI.RES.XGLD.CD': 214, 'IT.MLT.MAIN': 213, 'IT.MLT.MAIN.P2': 213, 'AG.PRD.CREL.MT': 212, 'AG.YLD.CREL.KG': 212, 'AG.LND.CREL.HA': 212, 'AG.LND.ARBL.HA': 212, 'BX.KLT.DINV.WD.GD.ZS': 209, 'IT.CEL.SETS': 208, 'IT.CEL.SETS.P2': 208, 'EN.ATM.CO2E.SF.KT': 208, 'NY.ADJ.ICTR.GN.ZS': 203, 'NY.ADJ.NNAT.GN.ZS': 203, 'IS.AIR.PSGR': 201, 'IS.AIR.DPRT': 201, 'NY.GDP.MKTP.KN': 200, 'NY.GDP.MKTP.CN': 200, 'NY.GDP.DEFL.ZS': 200, 'NY.GDP.PCAP.KN': 200, 'NY.GDP.PCAP.CN': 200, 'DT.ODA.ALLD.KD': 199, 'DT.ODA.ALLD.CD': 199, 'NE.GDI.STKB.CN': 199, 'NE.GDI.STKB.CD': 199, 'NY.GDP.DISC.CN': 199, 'NE.EXP.GNFS.CN': 199, 'NE.RSB.GNFS.CN': 199, 'NE.RSB.GNFS.CD': 199, 'NE.CON.TOTL.CN': 199, 'NE.CON.TOTL.CD': 199, 'NE.CON.TETC.ZS': 199, 'NE.CON.TETC.CN': 199, 'NE.CON.GOVT.CN': 199, 'NE.GDI.TOTL.CN': 199, 'NY.GDS.TOTL.CN': 199, 'NE.GDI.FTOT.CN': 199, 'NE.DAB.TOTL.ZS': 199, 'NE.DAB.TOTL.CN': 199, 'NE.CON.PRVT.CN': 199, 'NE.CON.PETC.CN': 199, 'NE.IMP.GNFS.CN': 199, 'DC.DAC.TOTL.CD': 198, 'DC.DAC.GBRL.CD': 198, 'NY.GNP.MKTP.CN': 198, 'NY.GNP.PCAP.CN': 198, 'NY.GSR.NFCY.CN': 198, 'NY.GSR.NFCY.CD': 198, 'IP.TMK.TOTL': 198, 'NY.GNS.ICTR.GN.ZS': 195, 'IS.AIR.GOOD.MT.K1': 194, 'IP.PAT.NRES': 191, 'DC.DAC.DEUL.CD': 189, 'DT.ODA.ODAT.PC.ZS': 189, 'DT.ODA.ODAT.KD': 189, 'DT.ODA.ODAT.CD': 189, 'DC.DAC.CANL.CD': 189, 'DC.DAC.JPNL.CD': 187, 'EG.USE.PCAP.KG.OE': 185, 'NY.GNS.ICTR.ZS': 185, 'SE.PRM.ENRL': 182, 'NE.CON.PRVT.KD': 181, 'NE.CON.PRVT.PC.KD': 181, 'EG.USE.COMM.FO.ZS': 181, 'EG.USE.COMM.CL.ZS': 180, 'EN.ATM.CO2E.EG.ZS': 180, 'EG.USE.CRNW.ZS': 180, 'EG.ELC.COAL.ZS': 180, 'EG.ELC.HYRO.ZS': 180, 'EG.ELC.NGAS.ZS': 180, 'EG.ELC.NUCL.ZS': 180, 'EG.ELC.PETR.ZS': 180, 'EG.ELC.FOSL.ZS': 180, 'EG.ELC.RNWX.ZS': 180, 'EG.ELC.RNWX.KH': 180, 'EG.IMP.CONS.ZS': 180, 'SE.PRM.AGES': 180, 'SE.PRM.DURS': 180, 'SE.SEC.DURS': 180, 'EN.CO2.ETOT.ZS': 179, 'EN.CO2.MANF.ZS': 179, 'EN.CO2.OTHX.ZS': 179, 'EN.CO2.BLDG.ZS': 179, 'EN.CO2.TRAN.ZS': 179, 'EG.USE.ELEC.KH.PC': 179, 'EG.ELC.LOSS.ZS': 179, 'SE.SEC.AGES': 179, 'IP.TMK.NRES': 177, 'NE.CON.PRVT.KD.ZG': 176, 'NE.CON.PRVT.PC.KD.ZG': 176, 'NY.GDP.FRST.RT.ZS': 176, 'NY.GDP.TOTL.RT.ZS': 176, 'NY.ADJ.DCO2.CD': 176, 'NY.ADJ.DKAP.CD': 176, 'NY.ADJ.DNGY.CD': 176, 'NY.ADJ.DMIN.CD': 176, 'NY.ADJ.DFOR.GN.ZS': 175, 'NY.ADJ.AEDU.CD': 175, 'NY.ADJ.DRES.GN.ZS': 174, 'SE.SEC.ENRL': 174, 'SE.SEC.ENRL.GC': 174, 'SH.IMM.IDPT': 174, 'SE.PRM.ENRL.FE.ZS': 172, 'BM.TRF.PWKR.CD.DT': 172, 'NE.EXP.GNFS.KD': 170, 'NE.DAB.TOTL.KD': 170, 'NE.IMP.GNFS.KD': 170, 'DT.ODA.ODAT.GN.ZS': 170, 'IP.PAT.RESD': 170, 'NV.MNF.CHEM.ZS.UN': 170, 'NV.MNF.FBTO.ZS.UN': 170, 'NV.MNF.MTRN.ZS.UN': 170, 'NV.MNF.OTHR.ZS.UN': 170, 'NV.MNF.TXTL.ZS.UN': 170, 'NY.EXP.CAPM.KN': 169, 'NE.EXP.GNFS.KN': 169, 'NE.CON.TOTL.KD': 169, 'NE.CON.GOVT.KD': 169, 'NY.GDY.TOTL.KN': 169, 'NE.DAB.TOTL.KN': 169, 'NE.DAB.DEFL.ZS': 169, 'NE.IMP.GNFS.KN': 169, 'NY.TTF.GNFS.KN': 169, 'BN.TRF.CURR.CD': 169, 'SH.IMM.MEAS': 169, 'NE.CON.TOTL.KN': 168, 'NE.CON.GOVT.KN': 168, 'NY.GNP.MKTP.KD': 168, 'NY.GNP.PCAP.KD': 168, 'NE.CON.PRVT.KN': 168, 'NY.GNP.MKTP.KN': 167, 'NY.GNP.PCAP.KN': 167, 'SE.SEC.ENRL.GC.FE.ZS': 167, 'BX.TRF.PWKR.CD.DT': 167, 'SE.SEC.ENRL.FE.ZS': 166, 'NY.ADJ.NNAT.CD': 166, 'EN.URB.LCTY': 165, 'EN.URB.MCTY': 165, 'NE.EXP.GNFS.KD.ZG': 165, 'NE.IMP.GNFS.KD.ZG': 165, 'NY.ADJ.NNTY.CD': 165, 'NY.ADJ.NNTY.PC.CD': 165, 'NE.CON.GOVT.KD.ZG': 164, 'IP.TMK.RESD': 164, 'SL.GDP.PCAP.EM.KD': 164, 'MS.MIL.XPRT.KD': 163, 'FR.INR.LEND': 163, 'NY.GNP.MKTP.KD.ZG': 163, 'NY.GNP.PCAP.KD.ZG': 163, 'FR.INR.RINR': 162, 'DC.DAC.AUSL.CD': 162, 'NY.ADJ.SVNX.GN.ZS': 160, 'NV.AGR.TOTL.KD': 159, 'NV.AGR.TOTL.CD': 159, 'DT.ODA.ODAT.GI.ZS': 159, 'NV.SRV.TETC.CD': 159, 'SE.SEC.ENRL.VO': 158, 'NY.GNS.ICTR.CN': 158, 'NY.GNS.ICTR.CD': 158, 'DT.NFL.UNDP.CD': 157, 'AG.AGR.TRAC.NO': 156, 'AG.LND.TRAC.ZS': 156, 'DT.NFL.UNTA.CD': 156, 'NV.AGR.TOTL.KD.ZG': 155, 'DC.DAC.FRAL.CD': 154, 'NV.IND.MANF.CD': 153, 'SE.PRM.ENRR': 153, 'DC.DAC.CECL.CD': 152, 'DC.DAC.USAL.CD': 152, 'NV.IND.TOTL.CD': 152, 'DC.DAC.NLDL.CD': 152, 'NE.GDI.FTOT.KD': 151, 'FP.WPI.TOTL': 151, 'NE.RSB.GNFS.KN': 150, 'NE.GDI.FTOT.KN': 149, 'SE.SEC.ENRR': 147, 'NE.GDI.FTOT.KD.ZG': 146, 'NE.CON.PETC.KD': 144, 'NE.GDI.FPRV.ZS': 143, 'NE.GDI.FPRV.CN': 143, 'SE.PRM.ENRR.FE': 143, 'SE.ENR.PRIM.FM.ZS': 143, 'SE.PRM.ENRR.MA': 143, 'SE.TER.ENRR': 142, 'NE.CON.TETC.KD': 141, 'NE.GDI.TOTL.KD': 141, 'DC.DAC.AUTL.CD': 141, 'NE.CON.PETC.KN': 140, 'NV.IND.MANF.KD': 140, 'NE.GDI.STKB.KN': 139, 'NY.GDP.DISC.KN': 139, 'NE.CON.TETC.KN': 139, 'NE.GDI.TOTL.KN': 139, 'NY.GDP.FCST.KD': 139, 'NY.GDP.FCST.KN': 139, 'NY.GDP.FCST.CN': 139, 'NY.GDP.FCST.CD': 139, 'NE.CON.PETC.KD.ZG': 139, 'SE.PRE.ENRR': 139, 'SE.SEC.ENRR.FE': 139, 'SE.ENR.SECO.FM.ZS': 139, 'SE.SEC.ENRR.MA': 139, 'NE.CON.TETC.KD.ZG': 136, 'NE.GDI.TOTL.KD.ZG': 136, 'NV.IND.MANF.KD.ZG': 136, 'SE.TER.ENRR.FE': 136, 'SE.ENR.TERT.FM.ZS': 136, 'SE.TER.ENRR.MA': 136, 'TX.VAL.MRCH.XD.WD': 136, 'TM.VAL.MRCH.XD.WD': 136, 'SE.ENR.PRSC.FM.ZS': 134, 'IP.JRN.ARTC.SC': 134, 'NV.SRV.TETC.KD': 133, 'NY.ADJ.DFOR.CD': 132, 'SH.STA.ACSN': 130, 'SH.STA.ACSN.UR': 130, 'SH.H2O.SAFE.ZS': 130, 'SH.H2O.SAFE.UR.ZS': 130, 'SH.MMR.RISK.ZS': 130, 'SH.MMR.RISK': 130, 'SH.STA.MMRT': 130, 'SH.DYN.NMRT': 130, 'SH.MMR.DTHS': 130, 'NV.SRV.TETC.KD.ZG': 129, 'SE.PRM.ENRL.TC.ZS': 129, 'SE.PRM.TCHR': 129, 'NV.AGR.TOTL.ZS': 128, 'NV.IND.TOTL.ZS': 128, 'NV.SRV.TETC.ZS': 128, 'NV.IND.TOTL.KD': 127, 'SE.PRE.ENRR.FE': 127, 'SE.PRE.ENRR.MA': 127, 'NY.GDP.PCAP.PP.KD': 125, 'NY.GDP.PCAP.PP.CD': 125, 'NY.GDP.MKTP.PP.KD': 125, 'NY.GDP.MKTP.PP.CD': 125, 'SL.TLF.ACTI.1524.FE.ZS': 125, 'SL.TLF.ACTI.1524.MA.ZS': 125, 'SL.TLF.ACTI.1524.ZS': 125, 'SL.TLF.CACT.FE.ZS': 125, 'SL.TLF.ACTI.FE.ZS': 125, 'SL.TLF.CACT.MA.ZS': 125, 'SL.TLF.ACTI.MA.ZS': 125, 'SL.TLF.CACT.ZS': 125, 'SL.TLF.ACTI.ZS': 125, 'SL.TLF.TOTL.FE.ZS': 125, 'SL.TLF.TOTL.IN': 125, 'SL.TLF.CACT.FM.ZS': 125, 'FR.INR.RISK': 124, 'NY.ADJ.SVNX.CD': 124, 'MS.MIL.TOTL.P1': 124, 'NE.CON.PRVT.PP.CD': 124, 'NV.IND.TOTL.KD.ZG': 123, 'DC.DAC.BELL.CD': 123, 'NY.GNP.PCAP.PP.CD': 123, 'NY.GNP.MKTP.PP.CD': 123, 'NV.IND.MANF.ZS': 122, 'EA.PRD.AGRI.KD': 122, 'DC.DAC.NORL.CD': 121, 'BX.TRF.PWKR.DT.GD.ZS': 121, 'BX.GRT.EXTA.CD.WD': 120, 'BX.GRT.TECH.CD.WD': 120, 'SL.UEM.TOTL.NE.ZS': 120, 'AG.LND.FRST.ZS': 120, 'SL.EMP.TOTL.SP.FE.ZS': 120, 'SL.EMP.TOTL.SP.MA.ZS': 120, 'SL.EMP.TOTL.SP.ZS': 120, 'SL.EMP.1524.SP.FE.ZS': 120, 'SL.EMP.1524.SP.MA.ZS': 120, 'SL.EMP.1524.SP.ZS': 120, 'SL.UEM.TOTL.FE.ZS': 120, 'SL.UEM.TOTL.MA.ZS': 120, 'SL.UEM.TOTL.ZS': 120, 'SL.UEM.1524.FE.ZS': 120, 'SL.UEM.1524.MA.ZS': 120, 'SL.UEM.1524.ZS': 120, 'DC.DAC.NZLL.CD': 119, 'SM.POP.REFG.OR': 119, 'DT.NFL.WFPG.CD': 118, 'SL.UEM.TOTL.FE.NE.ZS': 118, 'SL.UEM.TOTL.MA.NE.ZS': 118, 'DC.DAC.ITAL.CD': 116, 'SE.PRM.PRIV.ZS': 116, 'CM.MKT.LDOM.NO': 116, 'TX.QTY.MRCH.XD.WD': 116, 'TM.QTY.MRCH.XD.WD': 116, 'TT.PRI.MRCH.XD.WD': 116, 'IT.NET.USER.P2': 116, 'SE.PRM.TCHR.FE.ZS': 115, 'MS.MIL.TOTL.TF.ZS': 115, 'EG.EGY.PRIM.PP.KD': 115, 'AG.LND.FRST.K2': 115, 'EG.ELC.RNEW.ZS': 115, 'DC.DAC.FINL.CD': 114, 'TX.VAL.TECH.MF.ZS': 114, 'EG.FEC.RNEW.ZS': 114, 'NV.AGR.TOTL.KN': 112, 'NV.AGR.TOTL.CN': 112, 'NY.GDY.TOTL.KD': 112, 'NV.IND.TOTL.KN': 112, 'NV.IND.TOTL.CN': 112, 'NV.IND.MANF.KN': 112, 'NV.IND.MANF.CN': 112, 'NY.TAX.NIND.CN': 112, 'NY.TAX.NIND.CD': 112, 'NV.SRV.TETC.KN': 112, 'NV.SRV.TETC.CN': 112, 'SE.SEC.ENRL.VO.FE.ZS': 111, 'SE.SEC.TCHR': 111, 'TX.VAL.MRCH.WR.ZS': 110, 'TM.VAL.MRCH.WR.ZS': 110, 'SE.SEC.ENRL.TC.ZS': 110, 'EN.ATM.CO2E.PP.GD.KD': 110, 'EN.ATM.CO2E.PP.GD': 110, 'SH.ANM.CHLD.ZS': 110, 'SH.ANM.NPRG.ZS': 110, 'SH.PRG.ANEM': 110, 'ER.PTD.TOTL.ZS': 110, 'ER.LND.PTLD.ZS': 110, 'TX.VAL.TECH.CD': 109, 'DC.DAC.CHEL.CD': 108, 'DT.NFL.UNCR.CD': 107, 'SL.TLF.CACT.NE.ZS': 107, 'MS.MIL.XPND.GD.ZS': 107, 'TM.VAL.MRCH.R2.ZS': 107, 'DC.DAC.DNKL.CD': 105, 'SL.TLF.CACT.FE.NE.ZS': 105, 'SL.TLF.CACT.MA.NE.ZS': 105, 'SL.TLF.CACT.FM.NE.ZS': 105, 'TX.VAL.MRCH.R2.ZS': 105, 'DC.DAC.SWEL.CD': 104, 'SE.PRM.TENR': 104, 'SE.PRM.NENR': 104, 'SE.PRM.UNER': 104, 'CM.MKT.LCAP.GD.ZS': 104, 'CM.MKT.LCAP.CD': 104, 'SH.STA.ACSN.RU': 104, 'SH.H2O.SAFE.RU.ZS': 104, 'ER.MRN.PTMR.ZS': 104, 'SH.DTH.NMRT': 104, 'DT.NFL.UNCF.CD': 102, 'SE.SEC.TCHR.FE.ZS': 101, 'SM.POP.REFG': 101, 'NY.TRF.NCTR.CN': 100, 'NY.TRF.NCTR.CD': 100, 'SE.SEC.TCHR.FE': 100, 'SL.IND.EMPL.ZS': 100, 'SL.SRV.EMPL.ZS': 100, 'SH.TBS.INCD': 100, 'PA.NUS.PPP': 100, 'PA.NUS.PRVT.PP': 100, 'PA.NUS.PPPC.RF': 100, 'SL.EMP.TOTL.SP.FE.NE.ZS': 99, 'SL.EMP.TOTL.SP.MA.NE.ZS': 99, 'SL.EMP.TOTL.SP.NE.ZS': 99, 'SG.GEN.PARL.ZS': 99, 'NE.CON.PRVT.PP.KD': 99, 'NY.ADJ.NNTY.KD.ZG': 98, 'NY.ADJ.NNTY.PC.KD.ZG': 98, 'EG.USE.COMM.GD.PP.KD': 98, 'EG.GDP.PUSE.KO.PP.KD': 98, 'EG.GDP.PUSE.KO.PP': 98, 'NY.GSR.NFCY.KN': 97, 'NY.GNP.PCAP.PP.KD': 97, 'NY.GNP.MKTP.PP.KD': 97, 'SH.TBS.DTEC.ZS': 96, 'SH.MED.BEDS.ZS': 95, 'SL.IND.EMPL.FE.ZS': 95, 'SL.IND.EMPL.MA.ZS': 95, 'SL.SRV.EMPL.FE.ZS': 95, 'SL.SRV.EMPL.MA.ZS': 95, 'SL.UEM.1524.NE.ZS': 95, 'SH.XPD.PCAP': 95, 'SH.XPD.PCAP.PP.KD': 95, 'SH.XPD.PRIV.ZS': 95, 'SH.XPD.PUBL.ZS': 95, 'SH.XPD.PUBL': 95, 'SH.XPD.TOTL.ZS': 95, 'ST.INT.ARVL': 95, 'SH.XPD.OOPC.ZS': 95, 'SH.XPD.OOPC.TO.ZS': 95, 'FR.INR.LNDP': 94, 'SE.PRM.TENR.FE': 93, 'SE.PRM.TENR.MA': 93, 'SE.PRM.UNER.FE': 93, 'SE.PRM.UNER.MA': 93, 'SE.TER.TCHR.FE.ZS': 93, 'SL.AGR.EMPL.ZS': 92, 'ST.INT.RCPT.CD': 92, 'DT.NFL.UNFP.CD': 91, 'NY.ADJ.NNTY.KD': 90, 'NY.ADJ.NNTY.PC.KD': 90, 'SE.PRM.GINT.ZS': 90, 'SL.AGR.EMPL.FE.ZS': 90, 'SL.AGR.EMPL.MA.ZS': 90, 'SE.PRM.GINT.FE.ZS': 89, 'SE.PRM.GINT.MA.ZS': 89, 'FI.RES.TOTL.DT.ZS': 88, 'SL.EMP.INSV.FE.ZS': 87, 'CM.MKT.TRNR': 85, 'ST.INT.XPND.CD': 85, 'ST.INT.TVLR.CD': 85, 'SE.SEC.NENR': 84, 'SE.SEC.NENR.FE': 83, 'SE.SEC.NENR.MA': 83, 'ST.INT.TVLX.CD': 83, 'SH.MED.PHYS.ZS': 81, 'MS.MIL.XPND.CN': 81, 'DC.DAC.IRLL.CD': 80, 'CM.MKT.TRAD.GD.ZS': 80, 'CM.MKT.TRAD.CD': 80, 'VC.IHR.PSRC.P5': 79, 'SL.EMP.SELF.FE.ZS': 78, 'SL.EMP.SELF.MA.ZS': 78, 'SL.EMP.SELF.ZS': 78, 'SL.EMP.WORK.FE.ZS': 78, 'SL.EMP.WORK.ZS': 78, 'SL.EMP.WORK.MA.ZS': 78, 'SL.UEM.PRIM.ZS': 78, 'SL.UEM.SECO.ZS': 78, 'SL.UEM.TERT.ZS': 78, 'SE.XPD.TOTL.GD.ZS': 77, 'SL.FAM.WORK.FE.ZS': 77, 'SL.FAM.WORK.MA.ZS': 77, 'SL.FAM.WORK.ZS': 77, 'PX.REX.REER': 76, 'IS.RRS.GOOD.MT.K6': 76, 'SL.UEM.LTRM.ZS': 76, 'SH.XPD.PUBL.GX.ZS': 76, 'NY.TAX.NIND.KN': 75, 'SH.XPD.EXTR.ZS': 75, 'SL.UEM.1524.FE.NE.ZS': 74, 'SL.UEM.1524.MA.NE.ZS': 74, 'SE.PRM.REPT.ZS': 73, 'FR.INR.DPST': 73, 'SL.TLF.ACTI.1524.FE.NE.ZS': 73, 'SL.TLF.ACTI.1524.MA.NE.ZS': 73, 'SL.TLF.ACTI.1524.NE.ZS': 73, 'SE.PRM.REPT.FE.ZS': 72, 'SE.PRM.REPT.MA.ZS': 72, 'SL.UEM.PRIM.FE.ZS': 72, 'SL.UEM.PRIM.MA.ZS': 72, 'SL.UEM.SECO.FE.ZS': 72, 'SL.UEM.SECO.MA.ZS': 72, 'SL.UEM.TERT.FE.ZS': 72, 'SL.UEM.TERT.MA.ZS': 72, 'DC.DAC.KORL.CD': 72, 'IT.NET.BBND': 71, 'SE.PRM.CMPT.ZS': 70, 'SE.PRM.CMPT.FE.ZS': 70, 'SE.PRM.CMPT.MA.ZS': 70, 'IS.RRS.TOTL.KM': 70, 'SE.PRM.NENR.FE': 69, 'SE.PRM.NENR.MA': 69, 'SE.SEC.PROG.ZS': 69, 'DT.NFL.IFAD.CD': 69, 'GC.XPN.COMP.ZS': 69, 'GC.XPN.GSRV.ZS': 69, 'GC.REV.GOTR.ZS': 69, 'CM.MKT.INDX.ZG': 69, 'SN.ITK.DEFC.ZS': 69, 'SN.ITK.DFCT': 69, 'SH.TBS.CURE.ZS': 69, 'FB.AST.NPER.ZS': 69, 'IT.NET.BBND.P2': 68, 'SE.SEC.REPT.ZS': 67, 'SE.SEC.PROG.MA.ZS': 67, 'GC.XPN.INTP.ZS': 67, 'GC.XPN.INTP.RV.ZS': 67, 'GC.TAX.OTHR.RV.ZS': 67, 'GC.TAX.YPKG.RV.ZS': 67, 'NY.TRF.NCTR.KN': 65, 'SE.SEC.PROG.FE.ZS': 65, 'GC.XPN.TRFT.ZS': 65, 'SE.SEC.REPT.FE.ZS': 64, 'SE.SEC.REPT.MA.ZS': 64, 'GC.TAX.INTT.RV.ZS': 64, 'TX.VAL.ICTG.ZS.UN': 64, 'SE.SEC.CMPT.LO.ZS': 63, 'SH.VAC.TTNS.ZS': 63, 'DC.DAC.ESPL.CD': 63, 'GC.BAL.CASH.GD.ZS': 63, 'GC.BAL.CASH.CN': 63, 'GC.DOD.TOTL.GD.ZS': 63, 'GC.DOD.TOTL.CN': 63, 'GC.XPN.COMP.CN': 63, 'GC.XPN.TOTL.GD.ZS': 63, 'GC.XPN.TOTL.CN': 63, 'GC.XPN.GSRV.CN': 63, 'GC.REV.GOTR.CN': 63, 'GC.XPN.INTP.CN': 63, 'GC.TAX.OTHR.CN': 63, 'GC.REV.XGRT.GD.ZS': 63, 'GC.REV.XGRT.CN': 63, 'GC.TAX.TOTL.GD.ZS': 63, 'GC.TAX.TOTL.CN': 63, 'GC.TAX.GSRV.RV.ZS': 63, 'GC.TAX.GSRV.CN': 63, 'GC.TAX.YPKG.ZS': 63, 'GC.TAX.YPKG.CN': 63, 'IT.NET.SECR': 63, 'IT.NET.SECR.P6': 63, 'SE.PRM.PRSL.ZS': 62, 'ER.H2O.INTR.PC': 60, 'ER.H2O.INTR.K3': 60, 'GC.XPN.TRFT.CN': 60, 'AG.CON.FERT.ZS': 60, 'SE.SEC.CMPT.LO.FE.ZS': 59, 'SE.SEC.CMPT.LO.MA.ZS': 59, 'MS.MIL.XPND.ZS': 59, 'GC.TAX.GSRV.VA.ZS': 59, 'TM.VAL.ICTG.ZS.UN': 59, 'GC.TAX.IMPT.ZS': 58, 'GC.TAX.IMPT.CN': 58, 'GC.TAX.INTT.CN': 58, 'TM.TAX.MRCH.SM.FN.ZS': 57, 'TM.TAX.MANF.SM.FN.ZS': 57, 'TM.TAX.TCOM.SM.FN.ZS': 57, 'ST.INT.DPRT': 57, 'TM.TAX.MRCH.IP.ZS': 56, 'TM.TAX.MANF.IP.ZS': 56, 'TM.TAX.TCOM.IP.ZS': 56, 'TM.TAX.MRCH.SR.ZS': 56, 'TM.TAX.MANF.SR.ZS': 56, 'TM.TAX.TCOM.SR.ZS': 56, 'TM.TAX.MRCH.SM.AR.ZS': 56, 'TM.TAX.MANF.SM.AR.ZS': 56, 'TM.TAX.TCOM.SM.AR.ZS': 56, 'TM.TAX.MRCH.WM.AR.ZS': 56, 'TM.TAX.MANF.WM.AR.ZS': 56, 'TM.TAX.TCOM.WM.AR.ZS': 56, 'TM.TAX.MRCH.WM.FN.ZS': 56, 'TM.TAX.MANF.WM.FN.ZS': 56, 'TM.TAX.TCOM.WM.FN.ZS': 56, 'IS.SHP.GOOD.TU': 56, 'SM.POP.TOTL.ZS': 55, 'SM.POP.TOTL': 55, 'SM.POP.NETM': 55, 'NY.GDS.TOTL.KN': 55, 'SE.PRM.PRSL.FE.ZS': 53, 'SE.PRM.PRSL.MA.ZS': 53, 'FB.CBK.BRCH.P5': 53, 'SG.GEN.LSOM.ZS': 52, 'GC.FIN.DOMS.GD.ZS': 50, 'GC.FIN.DOMS.CN': 50, 'EP.PMP.DESL.CD': 50, 'EP.PMP.SGAS.CD': 50, 'GB.XPD.RSDV.GD.ZS': 50, 'SE.SEC.PRIV.ZS': 50, 'TM.TAX.MRCH.BC.ZS': 49, 'TM.TAX.MANF.BC.ZS': 49, 'TM.TAX.TCOM.BC.ZS': 49, 'TM.TAX.MRCH.BR.ZS': 49, 'TM.TAX.MANF.BR.ZS': 49, 'TM.TAX.TCOM.BR.ZS': 49, 'AG.LND.PRCP.MM': 48, 'DT.TDS.DPPG.GN.ZS': 48, 'DT.TDS.DECT.GN.ZS': 48, 'SL.UEM.LTRM.FE.ZS': 48, 'SL.UEM.LTRM.MA.ZS': 48, 'DC.DAC.LUXL.CD': 48, 'FB.BNK.CAPA.ZS': 48, 'FB.ATM.TOTL.P5': 47, 'DT.DIS.DLXF.CD': 46, 'DT.INT.DLXF.CD': 46, 'DT.INT.DPNG.CD': 46, 'DT.AMT.BLAT.CD': 46, 'DT.DIS.BLAT.CD': 46, 'DT.INT.BLAT.CD': 46, 'DT.AMT.PBND.CD': 46, 'DT.INT.PBND.CD': 46, 'DT.AMT.PCBK.CD': 46, 'DT.DIS.PCBK.CD': 46, 'DT.INT.PCBK.CD': 46, 'DT.AMT.MLAT.CD': 46, 'DT.DIS.MLAT.CD': 46, 'DT.INT.MLAT.CD': 46, 'DT.AMT.OFFT.CD': 46, 'DT.DIS.OFFT.CD': 46, 'DT.INT.OFFT.CD': 46, 'DT.AMT.PROP.CD': 46, 'DT.DIS.PROP.CD': 46, 'DT.INT.PROP.CD': 46, 'DT.AMT.PRVT.CD': 46, 'DT.DIS.PRVT.CD': 46, 'DT.INT.PRVT.CD': 46, 'DT.AMT.DLXF.CD': 46, 'DT.AMT.DPNG.CD': 46, 'ST.INT.TRNX.CD': 46, 'ST.INT.TRNR.CD': 46, 'SE.XPD.TOTL.GB.ZS': 46, 'DT.GPA.DPPG': 45, 'DT.GPA.OFFT': 45, 'DT.GPA.PRVT': 45, 'DT.GRE.DPPG': 45, 'DT.GRE.OFFT': 45, 'DT.GRE.PRVT': 45, 'DT.INR.DPPG': 45, 'DT.INR.OFFT': 45, 'DT.INR.PRVT': 45, 'DT.MAT.DPPG': 45, 'DT.MAT.OFFT': 45, 'DT.MAT.PRVT': 45, 'DT.NFL.PCBO.CD': 45, 'DT.COM.MIBR.CD': 45, 'DT.COM.MIDA.CD': 45, 'DT.COM.OFFT.CD': 45, 'DT.COM.PRVT.CD': 45, 'DT.COM.DPPG.CD': 45, 'DT.DOD.ALLC.ZS': 45, 'DT.CUR.OTHC.ZS': 45, 'DT.CUR.JYEN.ZS': 45, 'DT.CUR.MULC.ZS': 45, 'DT.CUR.UKPS.ZS': 45, 'DT.CUR.SDRW.ZS': 45, 'DT.CUR.SWFR.ZS': 45, 'DT.CUR.USDL.ZS': 45, 'DT.DOD.MDRI.CD': 45, 'DT.TDS.DLXF.CD': 45, 'DT.TDS.DPNG.CD': 45, 'DT.TDS.DPPG.CD': 45, 'DT.TDS.DECT.CD': 45, 'DT.DIS.DLTF.CD': 45, 'DT.DIS.DPNG.CD': 45, 'DT.DIS.DPPG.CD': 45, 'DT.NFL.NEBR.CD': 45, 'DT.DOD.DECT.GN.ZS': 45, 'DT.DOD.ALLC.CD': 45, 'DT.DOD.DLXF.CD': 45, 'DT.DOD.PRVS.CD': 45, 'DT.DOD.PUBS.CD': 45, 'DT.DOD.DPNG.CD': 45, 'DT.DOD.DPPG.CD': 45, 'DT.DOD.DSTC.CD': 45, 'DT.DOD.DECT.CD': 45, 'DT.DOD.VTOT.CD': 45, 'DT.DOD.MWBG.CD': 45, 'DT.DIS.IDAG.CD': 45, 'DT.NFL.NIFC.CD': 45, 'DT.INT.DIMF.CD': 45, 'DT.DIS.DIMF.CD': 45, 'DT.AMT.DIMF.CD': 45, 'DT.TDS.DIMF.CD': 45, 'DT.IXA.DPPG.CD': 45, 'DT.IXA.OFFT.CD': 45, 'DT.IXA.PRVT.CD': 45, 'DT.INT.DECT.GN.ZS': 45, 'DT.INT.DPPG.CD': 45, 'DT.INT.DSTC.CD': 45, 'DT.INT.DECT.CD': 45, 'DT.DOD.MLAT.ZS': 45, 'DT.TDS.MLAT.CD': 45, 'DT.NFL.BLAT.CD': 45, 'DT.NFL.MIBR.CD': 45, 'DT.NFL.MIDA.CD': 45, 'DT.NFL.IMFC.CD': 45, 'DT.NFL.IMFN.CD': 45, 'DT.NFL.MLAT.CD': 45, 'DT.NFL.MOTH.CD': 45, 'DT.NFL.RDBC.CD': 45, 'DT.NFL.RDBN.CD': 45, 'DT.NFL.DLXF.CD': 45, 'DT.NFL.DPNG.CD': 45, 'DT.NFL.DPPG.CD': 45, 'DT.NFL.DSTC.CD': 45, 'DT.NFL.DECT.CD': 45, 'DT.NTR.DLXF.CD': 45, 'DT.NTR.DPNG.CD': 45, 'DT.NTR.DPPG.CD': 45, 'DT.NTR.DECT.CD': 45, 'DT.AMT.PNGB.CD': 45, 'DT.DIS.PNGB.CD': 45, 'DT.DOD.PNGB.CD': 45, 'DT.INT.PNGB.CD': 45, 'DT.NFL.PNGB.CD': 45, 'DT.NTR.PNGB.CD': 45, 'DT.TDS.PNGB.CD': 45, 'DT.AMT.PNGC.CD': 45, 'DT.DIS.PNGC.CD': 45, 'DT.DOD.PNGC.CD': 45, 'DT.INT.PNGC.CD': 45, 'DT.NFL.PNGC.CD': 45, 'DT.NTR.PNGC.CD': 45, 'DT.TDS.PNGC.CD': 45, 'DT.NFL.BOND.CD': 45, 'DT.DOD.BLAT.CD': 45, 'DT.NTR.BLAT.CD': 45, 'DT.TDS.BLAT.CD': 45, 'DT.AMT.BLTC.CD': 45, 'DT.DIS.BLTC.CD': 45, 'DT.DOD.BLTC.CD': 45, 'DT.INT.BLTC.CD': 45, 'DT.NFL.BLTC.CD': 45, 'DT.NTR.BLTC.CD': 45, 'DT.TDS.BLTC.CD': 45, 'DT.DIS.PBND.CD': 45, 'DT.DOD.PBND.CD': 45, 'DT.NFL.PBND.CD': 45, 'DT.NTR.PBND.CD': 45, 'DT.TDS.PBND.CD': 45, 'DT.DOD.PCBK.CD': 45, 'DT.NFL.PCBK.CD': 45, 'DT.NTR.PCBK.CD': 45, 'DT.TDS.PCBK.CD': 45, 'DT.AMT.MIBR.CD': 45, 'DT.DIS.MIBR.CD': 45, 'DT.DOD.MIBR.CD': 45, 'DT.INT.MIBR.CD': 45, 'DT.NTR.MIBR.CD': 45, 'DT.TDS.MIBR.CD': 45, 'DT.AMT.MIDA.CD': 45, 'DT.DIS.MIDA.CD': 45, 'DT.DOD.MIDA.CD': 45, 'DT.INT.MIDA.CD': 45, 'DT.NTR.MIDA.CD': 45, 'DT.TDS.MIDA.CD': 45, 'DT.DOD.MLAT.CD': 45, 'DT.NTR.MLAT.CD': 45, 'DT.AMT.MLTC.CD': 45, 'DT.DIS.MLTC.CD': 45, 'DT.DOD.MLTC.CD': 45, 'DT.INT.MLTC.CD': 45, 'DT.NFL.MLTC.CD': 45, 'DT.NTR.MLTC.CD': 45, 'DT.TDS.MLTC.CD': 45, 'DT.DOD.OFFT.CD': 45, 'DT.NFL.OFFT.CD': 45, 'DT.NTR.OFFT.CD': 45, 'DT.TDS.OFFT.CD': 45, 'DT.DOD.PROP.CD': 45, 'DT.NFL.PROP.CD': 45, 'DT.NTR.PROP.CD': 45, 'DT.TDS.PROP.CD': 45, 'DT.DOD.PRVT.CD': 45, 'DT.NFL.PRVT.CD': 45, 'DT.NTR.PRVT.CD': 45, 'DT.TDS.PRVT.CD': 45, 'BX.KLT.DREM.CD.DT': 45, 'DT.AXA.DPPG.CD': 45, 'DT.AXA.OFFT.CD': 45, 'DT.AXA.PRVT.CD': 45, 'DT.AMT.DLTF.CD': 45, 'DT.AMT.DPPG.CD': 45, 'DT.DOD.DSTC.ZS': 45, 'DT.DOD.DSTC.IR.ZS': 45, 'DT.UND.OFFT.CD': 45, 'DT.UND.PRVT.CD': 45, 'DT.UND.DPPG.CD': 45, 'DT.DOD.DIMF.CD': 45, 'IS.RRS.PASG.KM': 45, 'BM.GSR.ROYL.CD': 45, 'BX.GSR.ROYL.CD': 45, 'TX.VAL.SERV.CD.WT': 45, 'TM.VAL.SERV.CD.WT': 45, 'BX.GSR.CMCP.ZS': 45, 'TX.VAL.OTHR.ZS.WT': 45, 'BX.GSR.GNFS.CD': 45, 'BX.GSR.TOTL.CD': 45, 'BM.KLT.DINV.GD.ZS': 45, 'BX.GSR.MRCH.CD': 45, 'BM.GSR.MRCH.CD': 45, 'BM.GSR.GNFS.CD': 45, 'BM.GSR.TOTL.CD': 45, 'BM.GSR.FCTY.CD': 45, 'BX.GSR.FCTY.CD': 45, 'BM.TRF.PRVT.CD': 45, 'BX.GSR.NFSV.CD': 45, 'BM.GSR.NFSV.CD': 45, 'FI.RES.TOTL.MO': 45, 'BG.GSR.NFSV.GD.ZS': 45, 'TX.VAL.TRAN.ZS.WT': 45, 'BX.GSR.TRAN.ZS': 45, 'TX.VAL.TRVL.ZS.WT': 45, 'BX.GSR.TRVL.ZS': 45, 'DT.TDS.MLAT.PG.ZS': 44, 'SL.EMP.MPYR.FE.ZS': 44, 'SL.EMP.MPYR.MA.ZS': 44, 'SL.EMP.MPYR.ZS': 44, 'IS.SHP.GCNW.XQ': 44, 'BM.GSR.CMCP.ZS': 44, 'TM.VAL.OTHR.ZS.WT': 44, 'IC.EXP.COST.CD': 44, 'IC.IMP.COST.CD': 44, 'IC.EXP.DOCS': 44, 'IC.IMP.DOCS': 44, 'TM.VAL.INSF.ZS.WT': 44, 'BM.GSR.INSF.ZS': 44, 'IC.EXP.DURS': 44, 'IC.IMP.DURS': 44, 'TM.VAL.TRAN.ZS.WT': 44, 'BM.GSR.TRAN.ZS': 44, 'TM.VAL.TRVL.ZS.WT': 44, 'BM.GSR.TRVL.ZS': 44, 'SL.EMP.VULN.FE.ZS': 43, 'SL.EMP.VULN.MA.ZS': 43, 'SL.EMP.VULN.ZS': 43, 'SE.XPD.SECO.ZS': 42, 'SE.XPD.TERT.ZS': 42, 'ST.INT.XPND.MP.ZS': 42, 'ST.INT.RCPT.XP.ZS': 42, 'TX.VAL.INSF.ZS.WT': 42, 'BX.GSR.INSF.ZS': 42, 'DT.DOD.DECT.EX.ZS': 40, 'DT.INT.DECT.EX.ZS': 40, 'DT.TDS.DECT.EX.ZS': 40, 'GC.REV.SOCL.ZS': 40, 'GC.REV.SOCL.CN': 40, 'SE.XPD.SECO.PC.ZS': 40, 'IQ.WEF.CUST.XQ': 40, 'IQ.WEF.PORT.XQ': 40, 'DC.DAC.PRTL.CD': 39, 'DT.TDS.DPPF.XP.ZS': 39, 'GC.XPN.OTHR.ZS': 39, 'SP.POP.SCIE.RD.P6': 39, 'BX.GSR.CCIS.ZS': 39, 'SE.XPD.CSEC.ZS': 38, 'SE.XPD.PRIM.ZS': 38, 'BX.TRF.CURR.CD': 38, 'SL.EMP.1524.SP.FE.NE.ZS': 37, 'SL.EMP.1524.SP.MA.NE.ZS': 37, 'SL.EMP.1524.SP.NE.ZS': 37, 'GC.XPN.OTHR.CN': 37, 'SL.TLF.PRIM.ZS': 37, 'SL.TLF.SECO.ZS': 37, 'SL.TLF.TERT.ZS': 37, 'DC.DAC.GRCL.CD': 37, 'SE.XPD.CTER.ZS': 37, 'IC.REG.COST.PC.ZS': 37, 'IC.REG.PROC': 37, 'IC.LGL.DURS': 37, 'IC.REG.DURS': 37, 'BX.GSR.CCIS.CD': 37, 'AG.CON.FERT.PT.ZS': 36, 'BN.CAB.XOKA.GD.ZS': 36, 'BN.CAB.XOKA.CD': 36, 'BN.KLT.DINV.CD': 36, 'BN.KAC.EOMS.CD': 36, 'BN.FIN.TOTL.CD': 36, 'BN.GSR.FCTY.CD': 36, 'BN.GSR.MRCH.CD': 36, 'BN.GSR.GNFS.CD': 36, 'BN.KLT.PTXL.CD': 36, 'EN.ATM.PM25.MC.M3': 35, 'EN.ATM.PM25.MC.ZS': 35, 'SE.XPD.CTOT.ZS': 35, 'IC.CRD.PRVT.ZS': 35, 'IC.PRP.PROC': 35, 'IC.CRD.PUBL.ZS': 35, 'IC.PRP.DURS': 35, 'SL.TLF.PART.FE.ZS': 34, 'SL.TLF.PART.TL.FE.ZS': 34, 'SL.TLF.PART.MA.ZS': 34, 'SL.TLF.PART.ZS': 34, 'SE.XPD.CPRM.ZS': 34, 'SE.XPD.PRIM.PC.ZS': 34, 'GC.FIN.FRGN.GD.ZS': 33, 'GC.FIN.FRGN.CN': 33, 'DT.ODA.ODAT.XP.ZS': 33, 'SE.XPD.MSEC.ZS': 33, 'SE.XPD.TERT.PC.ZS': 33, 'IC.BUS.DISC.XQ': 33, 'IC.WRH.PROC': 33, 'IC.TAX.PAYM': 33, 'IC.WRH.DURS': 33, 'IC.TAX.DURS': 33, 'IC.TAX.TOTL.CP.ZS': 33, 'BN.RES.INCL.CD': 33, 'SP.DYN.CONU.ZS': 32, 'SE.XPD.MTER.ZS': 32, 'DT.CUR.DMAK.ZS': 31, 'DT.CUR.FFRC.ZS': 31, 'SL.TLF.PRIM.FE.ZS': 31, 'SL.TLF.PRIM.MA.ZS': 31, 'SL.TLF.SECO.FE.ZS': 31, 'SL.TLF.SECO.MA.ZS': 31, 'SL.TLF.TERT.FE.ZS': 31, 'SL.TLF.TERT.MA.ZS': 31, 'SE.XPD.MTOT.ZS': 31, 'IC.BUS.NDNS.ZS': 31, 'SE.XPD.MPRM.ZS': 29, 'SE.PRM.NINT.ZS': 29, 'ER.GDP.FWTL.M3.KD': 28, 'VC.BTL.DETH': 26, 'DT.DSB.DPPG.CD': 26, 'DT.DFR.DPPG.CD': 26, 'DT.DSF.DPPG.CD': 26, 'DT.DXR.DPPG.CD': 26, 'DT.IXF.DPPG.CD': 26, 'DT.IXR.DPPG.CD': 26, 'DT.IXR.OFFT.CD': 26, 'DT.IXR.PRVT.CD': 26, 'DT.IXA.DPPG.CD.CG': 26, 'DT.AXF.DPPG.CD': 26, 'DT.AXR.DPPG.CD': 26, 'DT.AXR.OFFT.CD': 26, 'DT.AXR.PRVT.CD': 26, 'DT.DOD.RSDL.CD': 26, 'DT.TXR.DPPG.CD': 26, 'DT.DOD.DECT.CD.CG': 26, 'SH.HIV.1524.FE.ZS': 25, 'SH.HIV.1524.MA.ZS': 25, 'SH.DYN.AIDS.ZS': 25, 'IC.BUS.DFRN.XQ': 25, 'IC.ELC.TIME': 25, 'DT.NFL.UNRW.CD': 24, 'SE.PRM.PRS5.ZS': 24, 'IE.PPI.ENGY.CD': 24, 'SE.PRM.NINT.FE.ZS': 24, 'SE.PRM.NINT.MA.ZS': 24, 'DT.ODA.ODAT.MP.ZS': 24, 'DT.NFL.UNAI.CD': 24, 'EN.CLC.GHGR.MT.CE': 22, 'SP.POP.TECH.RD.P6': 22, 'ER.H2O.FWTL.ZS': 21, 'ER.H2O.FWTL.K3': 21, 'SH.STA.BRTC.ZS': 21, 'IE.PPI.TRAN.CD': 21, 'GC.TAX.EXPT.ZS': 21, 'GC.TAX.EXPT.CN': 21, 'EG.ELC.ACCS.ZS': 20, 'EG.ELC.ACCS.RU.ZS': 20, 'EG.ELC.ACCS.UR.ZS': 20, 'EG.NSF.ACCS.ZS': 20, 'NY.ADJ.SVNG.GN.ZS': 20, 'EN.ATM.METH.AG.ZS': 20, 'EN.ATM.NOXE.AG.ZS': 20, 'EN.ATM.METH.EG.ZS': 20, 'EN.ATM.METH.KT.CE': 20, 'EN.ATM.METH.EG.KT.CE': 20, 'SP.DYN.IMRT.FE.IN': 20, 'SP.DYN.IMRT.MA.IN': 20, 'SH.DYN.MORT.FE': 20, 'SH.DYN.MORT.MA': 20, 'EN.ATM.NOXE.KT.CE': 20, 'EN.ATM.NOXE.EG.KT.CE': 20, 'EN.ATM.NOXE.EI.ZS': 20, 'EN.ATM.GHGO.KT.CE': 20, 'IE.PPI.TELE.CD': 20, 'DT.ODA.OATL.KD': 20, 'DT.ODA.OATL.CD': 20, 'IC.BUS.NREG': 20, 'SH.STA.STNT.ZS': 19, 'SH.STA.MALN.ZS': 19, 'SH.STA.WAST.ZS': 19, 'ER.H2O.FWAG.ZS': 19, 'ER.H2O.FWDM.ZS': 19, 'IQ.CPA.HRES.XQ': 19, 'IQ.CPA.BREG.XQ': 19, 'IQ.CPA.DEBT.XQ': 19, 'IQ.CPA.ECON.XQ': 19, 'IQ.CPA.REVN.XQ': 19, 'IQ.CPA.PRES.XQ': 19, 'IQ.CPA.FINS.XQ': 19, 'IQ.CPA.FISP.XQ': 19, 'IQ.CPA.GNDR.XQ': 19, 'IQ.CPA.MACR.XQ': 19, 'IQ.CPA.SOCI.XQ': 19, 'IQ.CPA.ENVR.XQ': 19, 'IQ.CPA.PROP.XQ': 19, 'IQ.CPA.PUBS.XQ': 19, 'IQ.CPA.FINQ.XQ': 19, 'IQ.CPA.PADM.XQ': 19, 'IQ.CPA.PROT.XQ': 19, 'IQ.CPA.STRC.XQ': 19, 'IQ.CPA.TRAD.XQ': 19, 'IQ.CPA.TRAN.XQ': 19, 'IQ.CPA.IRAI.XQ': 19, 'ER.H2O.FWIN.ZS': 18, 'EN.ATM.SF6G.KT.CE': 18, 'DC.DAC.CZEL.CD': 18, 'DC.DAC.POLL.CD': 18, 'SE.PRM.PRS5.FE.ZS': 17, 'SE.PRM.PRS5.MA.ZS': 17, 'SH.DYN.AIDS.FE.ZS': 17, 'SH.STA.BRTW.ZS': 17, 'SE.PRM.TCAQ.FE.ZS': 17, 'SE.PRM.TCAQ.MA.ZS': 17, 'SE.PRM.TCAQ.ZS': 17, 'FB.CBK.BRWR.P3': 17, 'SH.STA.ANVC.ZS': 16, 'SP.REG.DTHS.ZS': 16, 'SH.PRV.SMOK.FE': 16, 'SH.PRV.SMOK.MA': 16, 'AG.LND.IRIG.AG.ZS': 16, 'FB.CBK.DPTR.P3': 16, 'BX.TRF.PWKR.CD': 16, 'BN.TRF.KOGT.CD': 16, 'LP.EXP.DURS.MD': 16, 'LP.IMP.DURS.MD': 16, 'LP.LPI.TRAC.XQ': 16, 'LP.LPI.LOGS.XQ': 16, 'LP.LPI.ITRN.XQ': 16, 'LP.LPI.CUST.XQ': 16, 'LP.LPI.TIME.XQ': 16, 'LP.LPI.OVRL.XQ': 16, 'LP.LPI.INFR.XQ': 16, 'SH.STA.OWGH.ZS': 15, 'SH.SVR.WAST.ZS': 15, 'SE.ADT.LITR.ZS': 15, 'SE.ADT.LITR.FE.ZS': 15, 'SE.ADT.LITR.MA.ZS': 15, 'SE.ADT.1524.LT.ZS': 15, 'SE.ADT.1524.LT.FE.ZS': 15, 'SE.ADT.1524.LT.FM.ZS': 15, 'SE.ADT.1524.LT.MA.ZS': 15, 'SI.DST.04TH.20': 15, 'SI.DST.10TH.10': 15, 'SI.DST.05TH.20': 15, 'SI.DST.FRST.10': 15, 'SI.DST.FRST.20': 15, 'SI.DST.02ND.20': 15, 'SI.DST.03RD.20': 15, 'NY.ADJ.DPEM.GN.ZS': 15, 'EN.ATM.METH.AG.KT.CE': 15, 'EN.ATM.NOXE.AG.KT.CE': 15, 'EN.ATM.HFCG.KT.CE': 15, 'EN.ATM.NOXE.IN.KT.CE': 15, 'EN.ATM.PFCG.KT.CE': 15, 'DC.DAC.ISLL.CD': 15, 'SH.MED.NUMW.P3': 15, 'SH.HIV.ARTC.ZS': 15, 'IC.CRD.INFO.XQ': 15, 'IC.LGL.CRED.XQ': 15, 'SH.STA.OWGH.FE.ZS': 14, 'SH.STA.OWGH.MA.ZS': 14, 'SH.SVR.WAST.FE.ZS': 14, 'SH.SVR.WAST.MA.ZS': 14, 'SH.STA.STNT.FE.ZS': 14, 'SH.STA.STNT.MA.ZS': 14, 'SH.STA.MALN.FE.ZS': 14, 'SH.STA.MALN.MA.ZS': 14, 'SH.STA.WAST.FE.ZS': 14, 'SH.STA.WAST.MA.ZS': 14, 'SI.POV.GINI': 14, 'DT.CUR.EURO.ZS': 14, 'SL.UEM.NEET.FE.ZS': 14, 'SL.UEM.NEET.MA.ZS': 14, 'SL.UEM.NEET.ZS': 14, 'SN.ITK.VITA.ZS': 13, 'SH.STA.ORTH': 12, 'NY.ADJ.DPEM.CD': 12, 'IQ.SCI.MTHD': 12, 'IQ.SCI.OVRL': 12, 'IQ.SCI.PRDC': 12, 'IQ.SCI.SRCE': 12, 'DC.DAC.SVKL.CD': 12, 'IC.ISV.DURS': 12, 'SH.STA.MMRT.NE': 11, 'IC.FRM.BKWC.ZS': 11, 'SM.EMI.TERT.ZS': 10, 'AG.LND.EL5M.ZS': 10, 'EN.POP.EL5M.ZS': 10, 'SH.DTH.COMM.ZS': 10, 'SH.DTH.INJR.ZS': 10, 'SH.DTH.NCOM.ZS': 10, 'DT.TDS.DPPG.XP.ZS': 10, 'DT.DOD.DSTC.XP.ZS': 10, 'IC.FRM.BRIB.ZS': 10, 'DC.DAC.SVNL.CD': 10, 'EG.NSF.ACCS.RU.ZS': 10, 'EG.NSF.ACCS.UR.ZS': 10, 'IC.BUS.EASE.XQ': 10, 'NY.ADJ.SVNG.CD': 9, 'SP.UWT.TFRT': 9, 'IE.PPI.WATR.CD': 9, 'FD.RES.LIQU.AS.ZS': 9, 'FM.LBL.BMNY.GD.ZS': 9, 'FM.LBL.BMNY.CN': 9, 'FM.LBL.BMNY.IR.ZS': 9, 'FS.AST.CGOV.GD.ZS': 9, 'FS.AST.DOMO.GD.ZS': 9, 'FS.AST.DOMS.GD.ZS': 9, 'FS.AST.PRVT.GD.ZS': 9, 'FD.AST.PRVT.GD.ZS': 9, 'FM.LBL.MONY.CN': 9, 'FM.LBL.MQMY.CN': 9, 'FM.LBL.MQMY.GD.ZS': 9, 'FM.LBL.MQMY.IR.ZS': 9, 'FM.AST.DOMS.CN': 9, 'FM.AST.NFRG.CN': 9, 'IC.TAX.LABR.CP.ZS': 9, 'IC.TAX.PRFT.CP.ZS': 9, 'IC.FRM.INFM.ZS': 8, 'FM.LBL.BMNY.ZG': 8, 'FM.AST.CGOV.ZG.M3': 8, 'FM.AST.DOMO.ZG.M3': 8, 'FM.AST.PRVT.ZG.M3': 8, 'FM.LBL.MQMY.ZG': 8, 'ER.BDV.TOTL.XQ': 8, 'VC.IDP.TOTL.LE': 8, 'DT.NFL.IAEA.CD': 8, 'SP.DTH.INFR.ZS': 8, 'SP.DTH.REPT.ZS': 8, 'SI.POV.GAPS': 6, 'SI.POV.GAP2': 6, 'SI.POV.DDAY': 6, 'SI.POV.2DAY': 6, 'VC.IDP.TOTL.HE': 6, 'DT.NFL.WHOL.CD': 6, 'IC.TAX.OTHR.CP.ZS': 6, 'SL.TLF.0714.FE.ZS': 5, 'SL.TLF.0714.MA.ZS': 5, 'SL.TLF.0714.SW.ZS': 5, 'SL.TLF.0714.ZS': 5, 'SL.TLF.0714.WK.ZS': 5, 'DT.NFL.UNPB.CD': 5, 'SH.STA.DIAB.ZS': 5, 'EN.BIR.THRD.NO': 5, 'EN.FSH.THRD.NO': 5, 'EN.MAM.THRD.NO': 5, 'EN.HPT.THRD.NO': 5, 'SH.STA.ARIC.ZS': 4, 'SI.POV.NAHC': 4, 'SI.POV.RUHC': 4, 'SI.POV.URHC': 4, 'SL.AGR.0714.ZS': 4, 'SL.AGR.0714.FE.ZS': 4, 'SL.AGR.0714.MA.ZS': 4, 'SL.MNF.0714.ZS': 4, 'SL.MNF.0714.FE.ZS': 4, 'SL.MNF.0714.MA.ZS': 4, 'SL.SRV.0714.ZS': 4, 'SL.SRV.0714.FE.ZS': 4, 'SL.SRV.0714.MA.ZS': 4, 'PA.NUS.PPP.05': 4, 'PA.NUS.PRVT.PP.05': 4, 'IC.CUS.DURS.EX': 4, 'IC.ELC.DURS': 4, 'IC.TAX.GIFT.ZS': 4, 'IC.FRM.TRNG.ZS': 4, 'IC.FRM.BNKS.ZS': 4, 'IC.FRM.FEMO.ZS': 4, 'IC.FRM.CORR.ZS': 4, 'IC.FRM.ISOC.ZS': 4, 'IC.FRM.CRIM.ZS': 4, 'IC.TAX.METG': 4, 'IC.GOV.DURS.ZS': 4, 'SP.HOU.FEMA.ZS': 3, 'SP.MTR.1519.ZS': 3, 'SP.DYN.WFRT': 3, 'SH.STA.BFED.ZS': 3, 'per_lm_alllm.cov_pop_tot': 3, 'per_sa_allsa.cov_pop_tot': 3, 'per_allsp.cov_pop_tot': 3, 'SI.POV.NAGP': 3, 'SI.POV.RUGP': 3, 'SI.POV.URGP': 3, 'SP.REG.BRTH.ZS': 3, 'SN.ITK.SALT.ZS': 3, 'IC.FRM.CMPU.ZS': 3, 'IC.FRM.FREG.ZS': 3, 'IC.FRM.FEMM.ZS': 3, 'IC.ELC.OUTG': 3, 'IC.FRM.DURS': 3, 'IC.FRM.OUTG.ZS': 3, 'EN.CLC.DRSK.XQ': 3, 'SL.TLF.0714.SW.FE.ZS': 2, 'SL.TLF.0714.SW.MA.ZS': 2, 'SL.TLF.0714.WK.FE.ZS': 2, 'SL.TLF.0714.WK.MA.ZS': 2, 'SH.MLR.TRET.ZS': 2, 'SH.MED.CMHW.P3': 2, 'SI.SPR.PC40': 2, 'SI.SPR.PCAP': 2, 'EN.CLC.MDAT.ZS': 2, 'FB.POS.TOTL.P5': 2, 'SL.SLF.0714.ZS': 2, 'SL.SLF.0714.FE.ZS': 2, 'SL.SLF.0714.MA.ZS': 2, 'SL.FAM.0714.ZS': 2, 'SL.FAM.0714.FE.ZS': 2, 'SL.FAM.0714.MA.ZS': 2, 'SL.WAG.0714.ZS': 2, 'SL.WAG.0714.FE.ZS': 2, 'SL.WAG.0714.MA.ZS': 2, 'SI.SPR.PC40.ZG': 2, 'SI.SPR.PCAP.ZG': 2, 'SP.REG.BRTH.RU.ZS': 1, 'SP.REG.BRTH.UR.ZS': 1, 'SH.CON.1524.FE.ZS': 1, 'SH.CON.1524.MA.ZS': 1, 'SH.STA.ORCF.ZS': 1, 'SG.VAW.REAS.ZS': 1, 'SG.VAW.ARGU.ZS': 1, 'SG.VAW.BURN.ZS': 1, 'SG.VAW.GOES.ZS': 1, 'SG.VAW.NEGL.ZS': 1, 'SG.VAW.REFU.ZS': 1, 'DT.DOD.PVLX.EX.ZS': 1, 'DT.DOD.PVLX.GN.ZS': 1, 'DT.DOD.PVLX.CD': 1})\n",
      "Counter({1190: 280, 960: 280, 1181: 275, 1204: 275, 1205: 275, 1206: 275, 1294: 275, 1267: 275, 1203: 275, 1201: 275, 1202: 275, 1211: 275, 1210: 275, 1216: 275, 1218: 275, 1220: 275, 1221: 275, 1207: 274, 1219: 274, 1186: 270, 1187: 270, 1192: 270, 1194: 270, 1193: 270, 1196: 270, 1197: 270, 15: 270, 413: 270, 21: 270, 1195: 269, 1304: 268, 1303: 268, 1299: 268, 1301: 268, 1302: 268, 1296: 268, 1293: 268, 1295: 268, 1277: 268, 1276: 268, 1272: 268, 1273: 268, 1274: 268, 1275: 268, 1269: 268, 1266: 268, 1268: 268, 1184: 267, 1185: 267, 4: 265, 3: 265, 7: 265, 6: 265, 18: 265, 19: 265, 20: 265, 9: 265, 376: 260, 379: 260, 374: 260, 383: 260, 378: 259, 377: 259, 1233: 255, 461: 251, 373: 249, 777: 247, 785: 247, 801: 247, 679: 246, 706: 246, 642: 246, 637: 246, 702: 246, 707: 246, 669: 244, 767: 242, 1297: 241, 1300: 241, 779: 240, 787: 240, 1270: 239, 696: 238, 691: 238, 797: 238, 687: 238, 682: 238, 648: 238, 780: 235, 788: 235, 1288: 235, 1291: 235, 674: 234, 649: 234, 808: 234, 800: 234, 1286: 233, 1287: 233, 1292: 232, 1259: 228, 1260: 228, 1261: 228, 1264: 228, 1265: 228, 375: 225, 953: 224, 955: 224, 658: 224, 794: 224, 643: 224, 416: 220, 418: 220, 829: 220, 697: 220, 63: 220, 776: 220, 630: 219, 830: 219, 1217: 219, 740: 219, 744: 219, 738: 219, 746: 219, 766: 219, 748: 218, 784: 218, 792: 218, 66: 216, 460: 214, 442: 214, 445: 214, 614: 213, 615: 213, 17: 212, 22: 212, 8: 212, 5: 212, 64: 209, 612: 208, 613: 208, 382: 208, 752: 203, 754: 203, 606: 201, 604: 201, 781: 200, 778: 200, 768: 200, 789: 200, 786: 200, 306: 199, 305: 199, 689: 199, 688: 199, 769: 199, 675: 199, 704: 199, 703: 199, 665: 199, 664: 199, 663: 199, 659: 199, 638: 199, 692: 199, 795: 199, 683: 199, 673: 199, 670: 199, 650: 199, 644: 199, 698: 199, 106: 198, 90: 198, 802: 198, 809: 198, 820: 198, 819: 198, 576: 198, 817: 195, 605: 194, 572: 191, 85: 189, 314: 189, 312: 189, 309: 189, 81: 189, 95: 187, 371: 185, 818: 185, 856: 182, 651: 181, 654: 181, 367: 181, 366: 180, 372: 180, 369: 180, 349: 180, 351: 180, 353: 180, 354: 180, 355: 180, 350: 180, 358: 180, 357: 180, 362: 180, 851: 180, 855: 180, 896: 180, 406: 179, 407: 179, 408: 179, 405: 179, 409: 179, 370: 179, 352: 179, 892: 179, 574: 177, 652: 176, 655: 176, 775: 176, 793: 176, 739: 176, 743: 176, 747: 176, 745: 176, 742: 175, 737: 175, 751: 174, 897: 174, 899: 174, 970: 174, 857: 172, 36: 172, 676: 170, 671: 170, 699: 170, 311: 170, 573: 170, 726: 170, 727: 170, 728: 170, 729: 170, 730: 170, 765: 169, 678: 169, 666: 169, 639: 169, 799: 169, 672: 169, 668: 169, 701: 169, 828: 169, 47: 169, 971: 169, 667: 168, 641: 168, 803: 168, 810: 168, 653: 168, 805: 167, 812: 167, 900: 167, 69: 167, 898: 166, 753: 166, 415: 165, 417: 165, 677: 165, 700: 165, 755: 165, 758: 165, 640: 164, 575: 164, 1084: 164, 636: 163, 464: 163, 804: 163, 811: 163, 466: 162, 78: 162, 764: 160, 710: 159, 708: 159, 310: 159, 731: 159, 902: 158, 816: 158, 815: 158, 281: 157, 0: 156, 16: 156, 285: 156, 711: 155, 89: 154, 714: 153, 859: 153, 82: 152, 107: 152, 720: 152, 98: 152, 684: 151, 462: 151, 705: 150, 686: 149, 904: 147, 685: 146, 645: 144, 681: 143, 680: 143, 860: 143, 844: 143, 861: 143, 920: 142, 660: 141, 693: 141, 79: 141, 647: 140, 716: 140, 690: 139, 770: 139, 662: 139, 695: 139, 773: 139, 774: 139, 772: 139, 771: 139, 646: 139, 848: 139, 905: 139, 846: 139, 906: 139, 661: 136, 694: 136, 717: 136, 921: 136, 847: 136, 922: 136, 1306: 136, 1279: 136, 845: 134, 571: 134, 733: 133, 741: 132, 983: 130, 985: 130, 966: 130, 965: 130, 979: 130, 978: 130, 995: 130, 963: 130, 977: 130, 734: 129, 858: 129, 884: 129, 713: 128, 725: 128, 736: 128, 722: 127, 849: 127, 850: 127, 791: 125, 790: 125, 783: 125, 782: 125, 1110: 125, 1112: 125, 1114: 125, 1119: 125, 1115: 125, 1123: 125, 1116: 125, 1125: 125, 1117: 125, 1139: 125, 1140: 125, 1121: 125, 467: 124, 763: 124, 631: 124, 656: 124, 723: 123, 80: 123, 813: 123, 806: 123, 719: 122, 344: 122, 99: 121, 70: 121, 49: 120, 50: 120, 1166: 120, 12: 120, 1067: 120, 1069: 120, 1071: 120, 1054: 120, 1056: 120, 1058: 120, 1163: 120, 1165: 120, 1167: 120, 1142: 120, 1144: 120, 1146: 120, 100: 119, 1174: 119, 286: 118, 1162: 118, 1164: 118, 94: 116, 871: 116, 74: 116, 1285: 116, 1234: 116, 1284: 116, 620: 116, 885: 115, 632: 115, 345: 115, 11: 115, 356: 115, 88: 114, 1310: 114, 359: 114, 712: 112, 709: 112, 798: 112, 724: 112, 721: 112, 718: 112, 715: 112, 823: 112, 822: 112, 735: 112, 732: 112, 903: 111, 917: 111, 1305: 110, 1278: 110, 901: 110, 381: 110, 380: 110, 948: 110, 949: 110, 980: 110, 432: 110, 430: 110, 1309: 109, 83: 108, 280: 107, 1124: 107, 634: 107, 1271: 107, 86: 105, 1118: 105, 1122: 105, 1120: 105, 1298: 105, 105: 104, 886: 104, 865: 104, 889: 104, 73: 104, 72: 104, 984: 104, 964: 104, 431: 104, 957: 104, 279: 102, 919: 101, 1173: 101, 826: 100, 825: 100, 918: 100, 1087: 100, 1099: 100, 1013: 100, 831: 100, 834: 100, 833: 100, 1066: 99, 1068: 99, 1070: 99, 941: 99, 657: 99, 757: 98, 760: 98, 368: 98, 361: 98, 360: 98, 821: 97, 814: 97, 807: 97, 1012: 96, 972: 95, 1085: 95, 1086: 95, 1097: 95, 1098: 95, 1145: 95, 1018: 95, 1019: 95, 1020: 95, 1023: 95, 1021: 95, 1024: 95, 1223: 95, 1017: 95, 1016: 95, 465: 94, 887: 93, 888: 93, 890: 93, 891: 93, 923: 93, 1052: 92, 1225: 92, 282: 91, 756: 90, 759: 90, 864: 90, 1050: 90, 1051: 90, 862: 89, 863: 89, 443: 88, 1059: 87, 77: 85, 1231: 85, 1229: 85, 907: 84, 908: 83, 909: 83, 1230: 83, 975: 81, 633: 81, 92: 80, 76: 80, 75: 80, 1316: 79, 1063: 78, 1064: 78, 1065: 78, 1075: 78, 1077: 78, 1076: 78, 1155: 78, 1158: 78, 1161: 78, 939: 77, 1081: 77, 1082: 77, 1083: 77, 836: 76, 607: 76, 1149: 76, 1022: 76, 824: 75, 1015: 75, 1141: 74, 1143: 74, 880: 73, 463: 73, 1109: 73, 1111: 73, 1113: 73, 878: 72, 879: 72, 1153: 72, 1154: 72, 1156: 72, 1157: 72, 1159: 72, 1160: 72, 96: 72, 616: 71, 854: 70, 852: 70, 853: 70, 609: 70, 866: 69, 867: 69, 913: 69, 258: 69, 504: 69, 506: 69, 482: 69, 71: 69, 1177: 69, 1178: 69, 1011: 69, 433: 69, 617: 68, 916: 67, 912: 67, 509: 67, 508: 67, 497: 67, 501: 67, 827: 65, 911: 65, 515: 65, 914: 64, 915: 64, 495: 64, 1289: 64, 895: 63, 1014: 63, 87: 63, 474: 63, 473: 63, 476: 63, 475: 63, 503: 63, 513: 63, 512: 63, 505: 63, 481: 63, 507: 63, 496: 63, 486: 63, 485: 63, 499: 63, 498: 63, 490: 63, 489: 63, 502: 63, 500: 63, 618: 63, 619: 63, 877: 62, 429: 60, 428: 60, 514: 60, 2: 60, 893: 59, 894: 59, 635: 59, 491: 59, 1262: 59, 493: 58, 492: 58, 494: 58, 1247: 57, 1239: 57, 1255: 57, 1224: 57, 1245: 56, 1237: 56, 1253: 56, 1248: 56, 1240: 56, 1256: 56, 1246: 56, 1238: 56, 1254: 56, 1249: 56, 1241: 56, 1257: 56, 1250: 56, 1242: 56, 1258: 56, 611: 56, 1176: 55, 1175: 55, 1172: 55, 796: 55, 875: 53, 876: 53, 436: 53, 940: 52, 478: 50, 477: 50, 419: 50, 420: 50, 472: 50, 910: 50, 1243: 49, 1235: 49, 1251: 49, 1244: 49, 1236: 49, 1252: 49, 14: 48, 326: 48, 320: 48, 1147: 48, 1148: 48, 97: 48, 435: 48, 434: 47, 153: 46, 223: 46, 224: 46, 108: 46, 149: 46, 217: 46, 120: 46, 232: 46, 121: 46, 163: 46, 233: 46, 117: 46, 159: 46, 229: 46, 119: 46, 161: 46, 231: 46, 124: 46, 166: 46, 236: 46, 125: 46, 167: 46, 237: 46, 112: 46, 113: 46, 1228: 46, 1227: 46, 938: 46, 208: 45, 209: 45, 210: 45, 211: 45, 212: 45, 213: 45, 214: 45, 215: 45, 216: 45, 246: 45, 247: 45, 248: 45, 271: 45, 134: 45, 135: 45, 136: 45, 137: 45, 133: 45, 169: 45, 143: 45, 141: 45, 142: 45, 146: 45, 144: 45, 145: 45, 147: 45, 184: 45, 322: 45, 323: 45, 325: 45, 318: 45, 152: 45, 154: 45, 155: 45, 266: 45, 175: 45, 168: 45, 177: 45, 197: 45, 199: 45, 178: 45, 179: 45, 180: 45, 172: 45, 204: 45, 190: 45, 156: 45, 267: 45, 222: 45, 151: 45, 110: 45, 321: 45, 238: 45, 240: 45, 241: 45, 221: 45, 225: 45, 226: 45, 219: 45, 188: 45, 330: 45, 249: 45, 261: 45, 262: 45, 259: 45, 260: 45, 263: 45, 265: 45, 276: 45, 277: 45, 253: 45, 254: 45, 255: 45, 256: 45, 252: 45, 291: 45, 292: 45, 293: 45, 290: 45, 122: 45, 164: 45, 194: 45, 234: 45, 272: 45, 301: 45, 336: 45, 123: 45, 165: 45, 195: 45, 235: 45, 273: 45, 302: 45, 337: 45, 251: 45, 170: 45, 288: 45, 316: 45, 109: 45, 150: 45, 171: 45, 218: 45, 250: 45, 289: 45, 317: 45, 162: 45, 192: 45, 269: 45, 299: 45, 334: 45, 193: 45, 270: 45, 300: 45, 335: 45, 115: 45, 157: 45, 185: 45, 227: 45, 294: 45, 328: 45, 116: 45, 158: 45, 186: 45, 228: 45, 295: 45, 329: 45, 187: 45, 296: 45, 118: 45, 160: 45, 189: 45, 230: 45, 264: 45, 297: 45, 332: 45, 191: 45, 268: 45, 298: 45, 333: 45, 196: 45, 274: 45, 303: 45, 338: 45, 198: 45, 275: 45, 304: 45, 339: 45, 65: 45, 126: 45, 127: 45, 128: 45, 111: 45, 114: 45, 183: 45, 181: 45, 342: 45, 343: 45, 341: 45, 176: 45, 608: 45, 30: 45, 59: 45, 1308: 45, 1281: 45, 53: 45, 1307: 45, 55: 45, 60: 45, 34: 45, 57: 45, 28: 45, 26: 45, 31: 45, 25: 45, 54: 45, 35: 45, 58: 45, 29: 45, 444: 45, 23: 45, 1311: 45, 61: 45, 1312: 45, 62: 45, 331: 44, 1060: 44, 1061: 44, 1062: 44, 610: 44, 24: 44, 1280: 44, 528: 44, 546: 44, 529: 44, 547: 44, 1263: 44, 27: 44, 530: 44, 548: 44, 1282: 44, 32: 44, 1283: 44, 33: 44, 1072: 43, 1073: 43, 1074: 43, 935: 42, 937: 42, 1232: 42, 1226: 42, 1290: 42, 56: 42, 174: 40, 220: 40, 319: 40, 484: 40, 483: 40, 934: 40, 602: 40, 603: 40, 102: 39, 324: 39, 511: 39, 1208: 39, 52: 39, 925: 38, 933: 38, 67: 38, 1053: 37, 1055: 37, 1057: 37, 510: 37, 1132: 37, 1135: 37, 1138: 37, 91: 37, 926: 37, 554: 37, 556: 37, 551: 37, 555: 37, 51: 37, 1: 36, 38: 36, 37: 36, 44: 36, 43: 36, 39: 36, 40: 36, 42: 36, 41: 36, 45: 36, 398: 35, 399: 35, 927: 35, 522: 35, 553: 35, 523: 35, 552: 35, 1126: 34, 1128: 34, 1127: 34, 1129: 34, 924: 34, 932: 34, 480: 33, 479: 33, 315: 33, 929: 33, 936: 33, 517: 33, 566: 33, 562: 33, 565: 33, 557: 33, 564: 33, 46: 33, 1188: 32, 930: 32, 138: 31, 140: 31, 1130: 31, 1131: 31, 1133: 31, 1134: 31, 1136: 31, 1137: 31, 931: 31, 519: 31, 928: 29, 870: 29, 422: 28, 1313: 26, 205: 26, 148: 26, 206: 26, 207: 26, 242: 26, 243: 26, 244: 26, 245: 26, 239: 26, 129: 26, 130: 26, 131: 26, 132: 26, 203: 26, 340: 26, 173: 26, 967: 25, 968: 25, 959: 25, 516: 25, 527: 25, 284: 24, 874: 24, 567: 24, 868: 24, 869: 24, 313: 24, 278: 24, 403: 22, 1209: 22, 427: 21, 426: 21, 989: 21, 569: 21, 488: 21, 487: 21, 348: 20, 346: 20, 347: 20, 365: 20, 762: 20, 387: 20, 392: 20, 389: 20, 390: 20, 388: 20, 1189: 20, 1191: 20, 961: 20, 962: 20, 396: 20, 393: 20, 394: 20, 384: 20, 568: 20, 308: 20, 307: 20, 520: 20, 1004: 19, 994: 19, 1007: 19, 423: 19, 424: 19, 585: 19, 577: 19, 578: 19, 579: 19, 593: 19, 589: 19, 582: 19, 583: 19, 584: 19, 587: 19, 594: 19, 580: 19, 590: 19, 592: 19, 581: 19, 588: 19, 591: 19, 595: 19, 596: 19, 597: 19, 586: 19, 425: 18, 400: 18, 84: 18, 101: 18, 872: 17, 873: 17, 958: 17, 990: 17, 881: 17, 882: 17, 883: 17, 437: 17, 986: 16, 1215: 16, 981: 16, 982: 16, 13: 16, 438: 16, 68: 16, 48: 16, 621: 16, 622: 16, 629: 16, 626: 16, 625: 16, 623: 16, 628: 16, 627: 16, 624: 16, 1001: 15, 1010: 15, 843: 15, 841: 15, 842: 15, 840: 15, 837: 15, 838: 15, 839: 15, 1027: 15, 1029: 15, 1028: 15, 1030: 15, 1031: 15, 1025: 15, 1026: 15, 750: 15, 386: 15, 391: 15, 385: 15, 395: 15, 397: 15, 93: 15, 974: 15, 969: 15, 521: 15, 550: 15, 999: 14, 1000: 14, 1008: 14, 1009: 14, 1002: 14, 1003: 14, 992: 14, 993: 14, 1005: 14, 1006: 14, 1036: 14, 139: 14, 1150: 14, 1151: 14, 1152: 14, 1180: 13, 998: 12, 749: 12, 598: 12, 599: 12, 600: 12, 601: 12, 103: 12, 549: 12, 996: 11, 531: 11, 1171: 10, 10: 10, 414: 10, 952: 10, 954: 10, 956: 10, 327: 10, 182: 10, 533: 10, 104: 10, 363: 10, 364: 10, 518: 10, 761: 9, 1222: 9, 570: 9, 441: 9, 452: 9, 451: 9, 453: 9, 468: 9, 469: 9, 470: 9, 471: 9, 440: 9, 455: 9, 456: 9, 457: 9, 458: 9, 448: 9, 449: 9, 559: 9, 563: 9, 541: 8, 454: 8, 446: 8, 447: 8, 450: 8, 459: 8, 421: 8, 1315: 8, 257: 8, 1182: 8, 1183: 8, 1035: 6, 1034: 6, 1033: 6, 1032: 6, 1314: 6, 287: 6, 561: 6, 1100: 5, 1101: 5, 1104: 5, 1108: 5, 1107: 5, 283: 5, 991: 5, 401: 5, 410: 5, 412: 5, 411: 5, 987: 4, 1038: 4, 1040: 4, 1042: 4, 1049: 4, 1047: 4, 1048: 4, 1090: 4, 1088: 4, 1089: 4, 1096: 4, 1094: 4, 1095: 4, 832: 4, 835: 4, 524: 4, 525: 4, 558: 4, 544: 4, 532: 4, 539: 4, 535: 4, 542: 4, 536: 4, 560: 4, 545: 4, 1199: 3, 1200: 3, 1198: 3, 988: 3, 1318: 3, 1319: 3, 1317: 3, 1037: 3, 1039: 3, 1041: 3, 1214: 3, 1179: 3, 534: 3, 540: 3, 538: 3, 526: 3, 537: 3, 543: 3, 402: 3, 1102: 2, 1103: 2, 1105: 2, 1106: 2, 976: 2, 973: 2, 1043: 2, 1045: 2, 404: 2, 439: 2, 1093: 2, 1091: 2, 1092: 2, 1080: 2, 1078: 2, 1079: 2, 1170: 2, 1168: 2, 1169: 2, 1044: 2, 1046: 2, 1212: 1, 1213: 1, 950: 1, 951: 1, 997: 1, 946: 1, 942: 1, 943: 1, 944: 1, 945: 1, 947: 1, 201: 1, 202: 1, 200: 1})\n",
      "****************************************************************************************************\n"
     ]
    }
   ],
   "source": [
    "data1=data.copy()\n",
    "from sklearn.preprocessing import LabelEncoder #imorting the LabelEncoding from sklearn\n",
    "x='*'\n",
    "for i in cat:#looping through all the categorical columns\n",
    "    print(\"LABEL ENCODING OF:\",i)\n",
    "    LE = LabelEncoder()#creating an object of LabelEncoder\n",
    "    print(c(data[i])) #getting the classes values before transformation\n",
    "    data[i] = LE.fit_transform(data[i]) # trannsforming our text classes to numerical values\n",
    "    print(c(data[i])) #getting the classes values after transformation\n",
    "    print(x*100)"
   ]
  },
  {
   "cell_type": "code",
   "execution_count": 81,
   "id": "431fffde",
   "metadata": {},
   "outputs": [
    {
     "data": {
      "text/html": [
       "<div>\n",
       "<style scoped>\n",
       "    .dataframe tbody tr th:only-of-type {\n",
       "        vertical-align: middle;\n",
       "    }\n",
       "\n",
       "    .dataframe tbody tr th {\n",
       "        vertical-align: top;\n",
       "    }\n",
       "\n",
       "    .dataframe thead th {\n",
       "        text-align: right;\n",
       "    }\n",
       "</style>\n",
       "<table border=\"1\" class=\"dataframe\">\n",
       "  <thead>\n",
       "    <tr style=\"text-align: right;\">\n",
       "      <th></th>\n",
       "      <th>CountryName</th>\n",
       "      <th>CountryCode</th>\n",
       "      <th>IndicatorName</th>\n",
       "      <th>IndicatorCode</th>\n",
       "      <th>Year</th>\n",
       "      <th>Value</th>\n",
       "    </tr>\n",
       "  </thead>\n",
       "  <tbody>\n",
       "    <tr>\n",
       "      <th>0</th>\n",
       "      <td>0</td>\n",
       "      <td>0</td>\n",
       "      <td>40</td>\n",
       "      <td>1181</td>\n",
       "      <td>1960</td>\n",
       "      <td>1.335609e+02</td>\n",
       "    </tr>\n",
       "    <tr>\n",
       "      <th>1</th>\n",
       "      <td>0</td>\n",
       "      <td>0</td>\n",
       "      <td>44</td>\n",
       "      <td>1204</td>\n",
       "      <td>1960</td>\n",
       "      <td>8.779760e+01</td>\n",
       "    </tr>\n",
       "    <tr>\n",
       "      <th>2</th>\n",
       "      <td>0</td>\n",
       "      <td>0</td>\n",
       "      <td>45</td>\n",
       "      <td>1205</td>\n",
       "      <td>1960</td>\n",
       "      <td>6.634579e+00</td>\n",
       "    </tr>\n",
       "    <tr>\n",
       "      <th>3</th>\n",
       "      <td>0</td>\n",
       "      <td>0</td>\n",
       "      <td>46</td>\n",
       "      <td>1206</td>\n",
       "      <td>1960</td>\n",
       "      <td>8.102333e+01</td>\n",
       "    </tr>\n",
       "    <tr>\n",
       "      <th>4</th>\n",
       "      <td>0</td>\n",
       "      <td>0</td>\n",
       "      <td>86</td>\n",
       "      <td>636</td>\n",
       "      <td>1960</td>\n",
       "      <td>3.000000e+06</td>\n",
       "    </tr>\n",
       "  </tbody>\n",
       "</table>\n",
       "</div>"
      ],
      "text/plain": [
       "   CountryName  CountryCode  IndicatorName  IndicatorCode  Year         Value\n",
       "0            0            0             40           1181  1960  1.335609e+02\n",
       "1            0            0             44           1204  1960  8.779760e+01\n",
       "2            0            0             45           1205  1960  6.634579e+00\n",
       "3            0            0             46           1206  1960  8.102333e+01\n",
       "4            0            0             86            636  1960  3.000000e+06"
      ]
     },
     "execution_count": 81,
     "metadata": {},
     "output_type": "execute_result"
    }
   ],
   "source": [
    "data.head()"
   ]
  },
  {
   "cell_type": "code",
   "execution_count": 82,
   "id": "3cc291a5",
   "metadata": {},
   "outputs": [
    {
     "data": {
      "image/png": "[encoded data removed]",
      "text/plain": [
       "<Figure size 1152x1152 with 2 Axes>"
      ]
     },
     "metadata": {
      "needs_background": "light"
     },
     "output_type": "display_data"
    }
   ],
   "source": [
    "corr = data.corr() #perform correlation between all continous features\n",
    "plt.subplots(figsize=(16,16));\n",
    "sns.heatmap(corr, annot=True, square=True) #plotting heatmap of correlations\n",
    "plt.title(\"Correlation matrix of numerical features\")\n",
    "plt.tight_layout()\n",
    "plt.show()"
   ]
  },
  {
   "cell_type": "code",
   "execution_count": 83,
   "id": "aa4bb4c0",
   "metadata": {},
   "outputs": [
    {
     "data": {
      "text/plain": [
       "<AxesSubplot:>"
      ]
     },
     "execution_count": 83,
     "metadata": {},
     "output_type": "execute_result"
    },
    {
     "data": {
      "image/png": "[encoded data removed]",
      "text/plain": [
       "<Figure size 1152x360 with 1 Axes>"
      ]
     },
     "metadata": {
      "needs_background": "light"
     },
     "output_type": "display_data"
    }
   ],
   "source": [
    "plt.figure(figsize=(16,5))\n",
    "corr[\"Value\"].sort_values(ascending=True)[:-1].plot(kind=\"barh\")"
   ]
  },
  {
   "cell_type": "code",
   "execution_count": 84,
   "id": "00ae6783",
   "metadata": {},
   "outputs": [
    {
     "data": {
      "text/html": [
       "<div>\n",
       "<style scoped>\n",
       "    .dataframe tbody tr th:only-of-type {\n",
       "        vertical-align: middle;\n",
       "    }\n",
       "\n",
       "    .dataframe tbody tr th {\n",
       "        vertical-align: top;\n",
       "    }\n",
       "\n",
       "    .dataframe thead th {\n",
       "        text-align: right;\n",
       "    }\n",
       "</style>\n",
       "<table border=\"1\" class=\"dataframe\">\n",
       "  <thead>\n",
       "    <tr style=\"text-align: right;\">\n",
       "      <th></th>\n",
       "      <th>CountryName</th>\n",
       "      <th>CountryCode</th>\n",
       "      <th>IndicatorName</th>\n",
       "      <th>IndicatorCode</th>\n",
       "      <th>Year</th>\n",
       "      <th>Value</th>\n",
       "    </tr>\n",
       "  </thead>\n",
       "  <tbody>\n",
       "    <tr>\n",
       "      <th>0</th>\n",
       "      <td>0</td>\n",
       "      <td>0</td>\n",
       "      <td>40</td>\n",
       "      <td>1181</td>\n",
       "      <td>1960</td>\n",
       "      <td>1.335609e+02</td>\n",
       "    </tr>\n",
       "    <tr>\n",
       "      <th>1</th>\n",
       "      <td>0</td>\n",
       "      <td>0</td>\n",
       "      <td>44</td>\n",
       "      <td>1204</td>\n",
       "      <td>1960</td>\n",
       "      <td>8.779760e+01</td>\n",
       "    </tr>\n",
       "    <tr>\n",
       "      <th>2</th>\n",
       "      <td>0</td>\n",
       "      <td>0</td>\n",
       "      <td>45</td>\n",
       "      <td>1205</td>\n",
       "      <td>1960</td>\n",
       "      <td>6.634579e+00</td>\n",
       "    </tr>\n",
       "    <tr>\n",
       "      <th>3</th>\n",
       "      <td>0</td>\n",
       "      <td>0</td>\n",
       "      <td>46</td>\n",
       "      <td>1206</td>\n",
       "      <td>1960</td>\n",
       "      <td>8.102333e+01</td>\n",
       "    </tr>\n",
       "    <tr>\n",
       "      <th>4</th>\n",
       "      <td>0</td>\n",
       "      <td>0</td>\n",
       "      <td>86</td>\n",
       "      <td>636</td>\n",
       "      <td>1960</td>\n",
       "      <td>3.000000e+06</td>\n",
       "    </tr>\n",
       "  </tbody>\n",
       "</table>\n",
       "</div>"
      ],
      "text/plain": [
       "   CountryName  CountryCode  IndicatorName  IndicatorCode  Year         Value\n",
       "0            0            0             40           1181  1960  1.335609e+02\n",
       "1            0            0             44           1204  1960  8.779760e+01\n",
       "2            0            0             45           1205  1960  6.634579e+00\n",
       "3            0            0             46           1206  1960  8.102333e+01\n",
       "4            0            0             86            636  1960  3.000000e+06"
      ]
     },
     "execution_count": 84,
     "metadata": {},
     "output_type": "execute_result"
    }
   ],
   "source": [
    "data.head()"
   ]
  },
  {
   "cell_type": "code",
   "execution_count": 85,
   "id": "dd0463a3",
   "metadata": {},
   "outputs": [
    {
     "name": "stdout",
     "output_type": "stream",
     "text": [
      "<class 'pandas.core.frame.DataFrame'>\n",
      "Int64Index: 117472 entries, 0 to 5655835\n",
      "Data columns (total 6 columns):\n",
      " #   Column         Non-Null Count   Dtype  \n",
      "---  ------         --------------   -----  \n",
      " 0   CountryName    117472 non-null  int32  \n",
      " 1   CountryCode    117472 non-null  int32  \n",
      " 2   IndicatorName  117472 non-null  int32  \n",
      " 3   IndicatorCode  117472 non-null  int32  \n",
      " 4   Year           117472 non-null  int64  \n",
      " 5   Value          117472 non-null  float64\n",
      "dtypes: float64(1), int32(4), int64(1)\n",
      "memory usage: 4.5 MB\n"
     ]
    }
   ],
   "source": [
    "data.info()"
   ]
  },
  {
   "cell_type": "code",
   "execution_count": 86,
   "id": "d2185c32",
   "metadata": {},
   "outputs": [
    {
     "data": {
      "text/html": [
       "<div>\n",
       "<style scoped>\n",
       "    .dataframe tbody tr th:only-of-type {\n",
       "        vertical-align: middle;\n",
       "    }\n",
       "\n",
       "    .dataframe tbody tr th {\n",
       "        vertical-align: top;\n",
       "    }\n",
       "\n",
       "    .dataframe thead th {\n",
       "        text-align: right;\n",
       "    }\n",
       "</style>\n",
       "<table border=\"1\" class=\"dataframe\">\n",
       "  <thead>\n",
       "    <tr style=\"text-align: right;\">\n",
       "      <th></th>\n",
       "      <th>CountryName</th>\n",
       "      <th>CountryCode</th>\n",
       "      <th>IndicatorName</th>\n",
       "      <th>Year</th>\n",
       "    </tr>\n",
       "  </thead>\n",
       "  <tbody>\n",
       "    <tr>\n",
       "      <th>0</th>\n",
       "      <td>0</td>\n",
       "      <td>0</td>\n",
       "      <td>40</td>\n",
       "      <td>1960</td>\n",
       "    </tr>\n",
       "    <tr>\n",
       "      <th>1</th>\n",
       "      <td>0</td>\n",
       "      <td>0</td>\n",
       "      <td>44</td>\n",
       "      <td>1960</td>\n",
       "    </tr>\n",
       "    <tr>\n",
       "      <th>2</th>\n",
       "      <td>0</td>\n",
       "      <td>0</td>\n",
       "      <td>45</td>\n",
       "      <td>1960</td>\n",
       "    </tr>\n",
       "    <tr>\n",
       "      <th>3</th>\n",
       "      <td>0</td>\n",
       "      <td>0</td>\n",
       "      <td>46</td>\n",
       "      <td>1960</td>\n",
       "    </tr>\n",
       "    <tr>\n",
       "      <th>4</th>\n",
       "      <td>0</td>\n",
       "      <td>0</td>\n",
       "      <td>86</td>\n",
       "      <td>1960</td>\n",
       "    </tr>\n",
       "  </tbody>\n",
       "</table>\n",
       "</div>"
      ],
      "text/plain": [
       "   CountryName  CountryCode  IndicatorName  Year\n",
       "0            0            0             40  1960\n",
       "1            0            0             44  1960\n",
       "2            0            0             45  1960\n",
       "3            0            0             46  1960\n",
       "4            0            0             86  1960"
      ]
     },
     "execution_count": 86,
     "metadata": {},
     "output_type": "execute_result"
    }
   ],
   "source": [
    "x = data.drop(['Value','IndicatorCode'],axis=1) #independet features\n",
    "x=pd.DataFrame(x)\n",
    "y = data['Value'] #dependent feature\n",
    "y=pd.DataFrame(y)\n",
    "x.head()"
   ]
  },
  {
   "cell_type": "code",
   "execution_count": 87,
   "id": "a3bba54f",
   "metadata": {},
   "outputs": [
    {
     "data": {
      "text/html": [
       "<div>\n",
       "<style scoped>\n",
       "    .dataframe tbody tr th:only-of-type {\n",
       "        vertical-align: middle;\n",
       "    }\n",
       "\n",
       "    .dataframe tbody tr th {\n",
       "        vertical-align: top;\n",
       "    }\n",
       "\n",
       "    .dataframe thead th {\n",
       "        text-align: right;\n",
       "    }\n",
       "</style>\n",
       "<table border=\"1\" class=\"dataframe\">\n",
       "  <thead>\n",
       "    <tr style=\"text-align: right;\">\n",
       "      <th></th>\n",
       "      <th>Value</th>\n",
       "    </tr>\n",
       "  </thead>\n",
       "  <tbody>\n",
       "    <tr>\n",
       "      <th>0</th>\n",
       "      <td>1.335609e+02</td>\n",
       "    </tr>\n",
       "    <tr>\n",
       "      <th>1</th>\n",
       "      <td>8.779760e+01</td>\n",
       "    </tr>\n",
       "    <tr>\n",
       "      <th>2</th>\n",
       "      <td>6.634579e+00</td>\n",
       "    </tr>\n",
       "    <tr>\n",
       "      <th>3</th>\n",
       "      <td>8.102333e+01</td>\n",
       "    </tr>\n",
       "    <tr>\n",
       "      <th>4</th>\n",
       "      <td>3.000000e+06</td>\n",
       "    </tr>\n",
       "  </tbody>\n",
       "</table>\n",
       "</div>"
      ],
      "text/plain": [
       "          Value\n",
       "0  1.335609e+02\n",
       "1  8.779760e+01\n",
       "2  6.634579e+00\n",
       "3  8.102333e+01\n",
       "4  3.000000e+06"
      ]
     },
     "execution_count": 87,
     "metadata": {},
     "output_type": "execute_result"
    }
   ],
   "source": [
    "y.head()"
   ]
  },
  {
   "cell_type": "code",
   "execution_count": 88,
   "id": "3aa0df99",
   "metadata": {},
   "outputs": [
    {
     "data": {
      "text/html": [
       "<div>\n",
       "<style scoped>\n",
       "    .dataframe tbody tr th:only-of-type {\n",
       "        vertical-align: middle;\n",
       "    }\n",
       "\n",
       "    .dataframe tbody tr th {\n",
       "        vertical-align: top;\n",
       "    }\n",
       "\n",
       "    .dataframe thead th {\n",
       "        text-align: right;\n",
       "    }\n",
       "</style>\n",
       "<table border=\"1\" class=\"dataframe\">\n",
       "  <thead>\n",
       "    <tr style=\"text-align: right;\">\n",
       "      <th></th>\n",
       "      <th>CountryName</th>\n",
       "      <th>CountryCode</th>\n",
       "      <th>IndicatorName</th>\n",
       "      <th>IndicatorCode</th>\n",
       "      <th>Year</th>\n",
       "      <th>Value</th>\n",
       "    </tr>\n",
       "  </thead>\n",
       "  <tbody>\n",
       "    <tr>\n",
       "      <th>0</th>\n",
       "      <td>0</td>\n",
       "      <td>0</td>\n",
       "      <td>40</td>\n",
       "      <td>1181</td>\n",
       "      <td>1960</td>\n",
       "      <td>1.335609e+02</td>\n",
       "    </tr>\n",
       "    <tr>\n",
       "      <th>1</th>\n",
       "      <td>0</td>\n",
       "      <td>0</td>\n",
       "      <td>44</td>\n",
       "      <td>1204</td>\n",
       "      <td>1960</td>\n",
       "      <td>8.779760e+01</td>\n",
       "    </tr>\n",
       "    <tr>\n",
       "      <th>2</th>\n",
       "      <td>0</td>\n",
       "      <td>0</td>\n",
       "      <td>45</td>\n",
       "      <td>1205</td>\n",
       "      <td>1960</td>\n",
       "      <td>6.634579e+00</td>\n",
       "    </tr>\n",
       "    <tr>\n",
       "      <th>3</th>\n",
       "      <td>0</td>\n",
       "      <td>0</td>\n",
       "      <td>46</td>\n",
       "      <td>1206</td>\n",
       "      <td>1960</td>\n",
       "      <td>8.102333e+01</td>\n",
       "    </tr>\n",
       "    <tr>\n",
       "      <th>4</th>\n",
       "      <td>0</td>\n",
       "      <td>0</td>\n",
       "      <td>86</td>\n",
       "      <td>636</td>\n",
       "      <td>1960</td>\n",
       "      <td>3.000000e+06</td>\n",
       "    </tr>\n",
       "  </tbody>\n",
       "</table>\n",
       "</div>"
      ],
      "text/plain": [
       "   CountryName  CountryCode  IndicatorName  IndicatorCode  Year         Value\n",
       "0            0            0             40           1181  1960  1.335609e+02\n",
       "1            0            0             44           1204  1960  8.779760e+01\n",
       "2            0            0             45           1205  1960  6.634579e+00\n",
       "3            0            0             46           1206  1960  8.102333e+01\n",
       "4            0            0             86            636  1960  3.000000e+06"
      ]
     },
     "execution_count": 88,
     "metadata": {},
     "output_type": "execute_result"
    }
   ],
   "source": [
    "data.head()"
   ]
  },
  {
   "cell_type": "code",
   "execution_count": 89,
   "id": "aff08336",
   "metadata": {},
   "outputs": [
    {
     "data": {
      "text/plain": [
       "pandas.core.frame.DataFrame"
      ]
     },
     "execution_count": 89,
     "metadata": {},
     "output_type": "execute_result"
    }
   ],
   "source": [
    "type(x)"
   ]
  },
  {
   "cell_type": "code",
   "execution_count": 90,
   "id": "ef944780",
   "metadata": {},
   "outputs": [
    {
     "data": {
      "text/plain": [
       "pandas.core.frame.DataFrame"
      ]
     },
     "execution_count": 90,
     "metadata": {},
     "output_type": "execute_result"
    }
   ],
   "source": [
    "type(y)"
   ]
  },
  {
   "cell_type": "code",
   "execution_count": 91,
   "id": "e49c4276",
   "metadata": {},
   "outputs": [
    {
     "data": {
      "text/plain": [
       "array([0, 1, 2, 3, 4])"
      ]
     },
     "execution_count": 91,
     "metadata": {},
     "output_type": "execute_result"
    }
   ],
   "source": [
    "data['CountryCode'].unique()"
   ]
  },
  {
   "cell_type": "code",
   "execution_count": 92,
   "id": "6baac389",
   "metadata": {},
   "outputs": [
    {
     "data": {
      "text/plain": [
       "(117472, 6)"
      ]
     },
     "execution_count": 92,
     "metadata": {},
     "output_type": "execute_result"
    }
   ],
   "source": [
    "data.shape"
   ]
  },
  {
   "cell_type": "code",
   "execution_count": 93,
   "id": "c3f02f4a",
   "metadata": {},
   "outputs": [
    {
     "data": {
      "text/plain": [
       "array([0, 1, 2, 3, 4])"
      ]
     },
     "execution_count": 93,
     "metadata": {},
     "output_type": "execute_result"
    }
   ],
   "source": [
    "data[\"CountryCode\"].unique()"
   ]
  },
  {
   "cell_type": "code",
   "execution_count": 94,
   "id": "e04e6fbb",
   "metadata": {},
   "outputs": [
    {
     "data": {
      "text/plain": [
       "array([0, 1, 2, 3, 4])"
      ]
     },
     "execution_count": 94,
     "metadata": {},
     "output_type": "execute_result"
    }
   ],
   "source": [
    "data['CountryName'].unique()"
   ]
  },
  {
   "cell_type": "code",
   "execution_count": 95,
   "id": "6e4227c0",
   "metadata": {},
   "outputs": [],
   "source": [
    "x=x.values"
   ]
  },
  {
   "cell_type": "code",
   "execution_count": 96,
   "id": "74341720",
   "metadata": {},
   "outputs": [],
   "source": [
    "y=y.values"
   ]
  },
  {
   "cell_type": "code",
   "execution_count": 97,
   "id": "ec93d66b",
   "metadata": {},
   "outputs": [],
   "source": [
    "x_train,x_test,y_train,y_test=train_test_split(x,y,test_size=0.2,random_state=0)"
   ]
  },
  {
   "cell_type": "markdown",
   "id": "3d2b0644",
   "metadata": {},
   "source": [
    "## BULIDING MODEL\n",
    "\n",
    "### RandomForestRegressor"
   ]
  },
  {
   "cell_type": "code",
   "execution_count": 99,
   "id": "f67acb38",
   "metadata": {},
   "outputs": [],
   "source": [
    "from sklearn.ensemble import RandomForestRegressor"
   ]
  },
  {
   "cell_type": "code",
   "execution_count": 100,
   "id": "02fcdb14",
   "metadata": {},
   "outputs": [
    {
     "name": "stderr",
     "output_type": "stream",
     "text": [
      "C:\\Users\\hp\\AppData\\Local\\Temp/ipykernel_14312/1340635713.py:2: DataConversionWarning: A column-vector y was passed when a 1d array was expected. Please change the shape of y to (n_samples,), for example using ravel().\n",
      "  rand.fit(x_train,y_train)\n"
     ]
    },
    {
     "data": {
      "text/plain": [
       "RandomForestRegressor(n_estimators=10, random_state=52)"
      ]
     },
     "execution_count": 100,
     "metadata": {},
     "output_type": "execute_result"
    }
   ],
   "source": [
    "rand=RandomForestRegressor(n_estimators=10,random_state=52)\n",
    "rand.fit(x_train,y_train)"
   ]
  },
  {
   "cell_type": "code",
   "execution_count": 101,
   "id": "a02e5951",
   "metadata": {},
   "outputs": [
    {
     "data": {
      "text/plain": [
       "array([[   3,    3,  602, 1965],\n",
       "       [   0,    0,  775, 1994],\n",
       "       [   2,    2,  843, 2011],\n",
       "       ...,\n",
       "       [   4,    4,   40, 1987],\n",
       "       [   0,    0,  854, 1971],\n",
       "       [   1,    1,  236, 1990]], dtype=int64)"
      ]
     },
     "execution_count": 101,
     "metadata": {},
     "output_type": "execute_result"
    }
   ],
   "source": [
    "x_test"
   ]
  },
  {
   "cell_type": "code",
   "execution_count": 102,
   "id": "e8bb8d58",
   "metadata": {},
   "outputs": [
    {
     "data": {
      "text/plain": [
       "Counter({0: 17115, 1: 17611, 2: 35721, 3: 22600, 4: 24425})"
      ]
     },
     "execution_count": 102,
     "metadata": {},
     "output_type": "execute_result"
    }
   ],
   "source": [
    "from collections import Counter as c\n",
    "c(data[\"CountryCode\"])"
   ]
  },
  {
   "cell_type": "code",
   "execution_count": 103,
   "id": "61249e91",
   "metadata": {},
   "outputs": [
    {
     "data": {
      "text/plain": [
       "Counter({0: 17115, 1: 17611, 2: 35721, 3: 22600, 4: 24425})"
      ]
     },
     "execution_count": 103,
     "metadata": {},
     "output_type": "execute_result"
    }
   ],
   "source": [
    "c(data[\"CountryName\"])"
   ]
  },
  {
   "cell_type": "code",
   "execution_count": 104,
   "id": "06040d9d",
   "metadata": {},
   "outputs": [
    {
     "name": "stdout",
     "output_type": "stream",
     "text": [
      "[ 1.00908614e+00 -4.48699295e+06  3.37120000e+11 ...  5.29631400e+01\n",
      "  7.60706000e+08  4.17116869e+01]\n"
     ]
    }
   ],
   "source": [
    "ypred=rand.predict(x_test)\n",
    "print(ypred)"
   ]
  },
  {
   "cell_type": "code",
   "execution_count": 105,
   "id": "898a9d3c",
   "metadata": {},
   "outputs": [
    {
     "data": {
      "text/plain": [
       "array([[1.30605650e+00],\n",
       "       [6.98730552e+00],\n",
       "       [2.66711608e-01],\n",
       "       ...,\n",
       "       [5.32790000e+01],\n",
       "       [7.30710000e+08],\n",
       "       [5.11174508e+01]])"
      ]
     },
     "execution_count": 105,
     "metadata": {},
     "output_type": "execute_result"
    }
   ],
   "source": [
    "y_test"
   ]
  },
  {
   "cell_type": "code",
   "execution_count": 106,
   "id": "6576d335",
   "metadata": {},
   "outputs": [
    {
     "data": {
      "text/plain": [
       "0.9738436049922501"
      ]
     },
     "execution_count": 106,
     "metadata": {},
     "output_type": "execute_result"
    }
   ],
   "source": [
    "from sklearn.metrics import r2_score\n",
    "r2_score(y_test,ypred)"
   ]
  },
  {
   "cell_type": "markdown",
   "id": "d6cea376",
   "metadata": {},
   "source": [
    "### Multi linear Regression\n"
   ]
  },
  {
   "cell_type": "code",
   "execution_count": null,
   "id": "9fa9824b",
   "metadata": {},
   "outputs": [],
   "source": [
    "from sklearn.linear_model import LinearRegression"
   ]
  },
  {
   "cell_type": "code",
   "execution_count": 110,
   "id": "b196b5e4",
   "metadata": {},
   "outputs": [
    {
     "data": {
      "text/plain": [
       "LinearRegression()"
      ]
     },
     "execution_count": 110,
     "metadata": {},
     "output_type": "execute_result"
    }
   ],
   "source": [
    "mr = LinearRegression()\n",
    "mr.fit(x_train,y_train)"
   ]
  },
  {
   "cell_type": "code",
   "execution_count": 111,
   "id": "9a2f4c78",
   "metadata": {},
   "outputs": [],
   "source": [
    "y_linpred=mr.predict(x_test)"
   ]
  },
  {
   "cell_type": "code",
   "execution_count": 112,
   "id": "ccbb19d8",
   "metadata": {},
   "outputs": [
    {
     "data": {
      "text/plain": [
       "0.00918262523882607"
      ]
     },
     "execution_count": 112,
     "metadata": {},
     "output_type": "execute_result"
    }
   ],
   "source": [
    "r2_score(y_test,y_linpred)"
   ]
  },
  {
   "cell_type": "code",
   "execution_count": 113,
   "id": "da9a1a4f",
   "metadata": {},
   "outputs": [
    {
     "data": {
      "text/html": [
       "<div>\n",
       "<style scoped>\n",
       "    .dataframe tbody tr th:only-of-type {\n",
       "        vertical-align: middle;\n",
       "    }\n",
       "\n",
       "    .dataframe tbody tr th {\n",
       "        vertical-align: top;\n",
       "    }\n",
       "\n",
       "    .dataframe thead th {\n",
       "        text-align: right;\n",
       "    }\n",
       "</style>\n",
       "<table border=\"1\" class=\"dataframe\">\n",
       "  <thead>\n",
       "    <tr style=\"text-align: right;\">\n",
       "      <th></th>\n",
       "      <th>CountryName</th>\n",
       "      <th>CountryCode</th>\n",
       "      <th>IndicatorName</th>\n",
       "      <th>IndicatorCode</th>\n",
       "      <th>Year</th>\n",
       "      <th>Value</th>\n",
       "    </tr>\n",
       "  </thead>\n",
       "  <tbody>\n",
       "    <tr>\n",
       "      <th>0</th>\n",
       "      <td>0</td>\n",
       "      <td>0</td>\n",
       "      <td>40</td>\n",
       "      <td>1181</td>\n",
       "      <td>1960</td>\n",
       "      <td>1.335609e+02</td>\n",
       "    </tr>\n",
       "    <tr>\n",
       "      <th>1</th>\n",
       "      <td>0</td>\n",
       "      <td>0</td>\n",
       "      <td>44</td>\n",
       "      <td>1204</td>\n",
       "      <td>1960</td>\n",
       "      <td>8.779760e+01</td>\n",
       "    </tr>\n",
       "    <tr>\n",
       "      <th>2</th>\n",
       "      <td>0</td>\n",
       "      <td>0</td>\n",
       "      <td>45</td>\n",
       "      <td>1205</td>\n",
       "      <td>1960</td>\n",
       "      <td>6.634579e+00</td>\n",
       "    </tr>\n",
       "    <tr>\n",
       "      <th>3</th>\n",
       "      <td>0</td>\n",
       "      <td>0</td>\n",
       "      <td>46</td>\n",
       "      <td>1206</td>\n",
       "      <td>1960</td>\n",
       "      <td>8.102333e+01</td>\n",
       "    </tr>\n",
       "    <tr>\n",
       "      <th>4</th>\n",
       "      <td>0</td>\n",
       "      <td>0</td>\n",
       "      <td>86</td>\n",
       "      <td>636</td>\n",
       "      <td>1960</td>\n",
       "      <td>3.000000e+06</td>\n",
       "    </tr>\n",
       "  </tbody>\n",
       "</table>\n",
       "</div>"
      ],
      "text/plain": [
       "   CountryName  CountryCode  IndicatorName  IndicatorCode  Year         Value\n",
       "0            0            0             40           1181  1960  1.335609e+02\n",
       "1            0            0             44           1204  1960  8.779760e+01\n",
       "2            0            0             45           1205  1960  6.634579e+00\n",
       "3            0            0             46           1206  1960  8.102333e+01\n",
       "4            0            0             86            636  1960  3.000000e+06"
      ]
     },
     "execution_count": 113,
     "metadata": {},
     "output_type": "execute_result"
    }
   ],
   "source": [
    "data.head()"
   ]
  },
  {
   "cell_type": "code",
   "execution_count": 114,
   "id": "a9f0c679",
   "metadata": {},
   "outputs": [],
   "source": [
    "import pickle\n",
    "pickle.dump(rand,open(\"co2.pickle\",\"wb\"))"
   ]
  },
  {
   "cell_type": "markdown",
   "id": "8ccac60c",
   "metadata": {},
   "source": [
    "### DecisionTreeRegressor"
   ]
  },
  {
   "cell_type": "code",
   "execution_count": 116,
   "id": "ac82fc6d",
   "metadata": {},
   "outputs": [],
   "source": [
    "from sklearn.tree import DecisionTreeRegressor"
   ]
  },
  {
   "cell_type": "code",
   "execution_count": 117,
   "id": "99a14d4f",
   "metadata": {},
   "outputs": [],
   "source": [
    "dt=DecisionTreeRegressor(random_state=0)"
   ]
  },
  {
   "cell_type": "code",
   "execution_count": 118,
   "id": "54e917c2",
   "metadata": {},
   "outputs": [
    {
     "data": {
      "text/plain": [
       "DecisionTreeRegressor(random_state=0)"
      ]
     },
     "execution_count": 118,
     "metadata": {},
     "output_type": "execute_result"
    }
   ],
   "source": [
    "dt.fit(x_train,y_train)"
   ]
  },
  {
   "cell_type": "code",
   "execution_count": 119,
   "id": "9ac083cf",
   "metadata": {},
   "outputs": [],
   "source": [
    "y_dtpred=dt.predict(x_test)"
   ]
  },
  {
   "cell_type": "code",
   "execution_count": 120,
   "id": "a171fc12",
   "metadata": {},
   "outputs": [
    {
     "data": {
      "text/plain": [
       "0.9894087744610102"
      ]
     },
     "execution_count": 120,
     "metadata": {},
     "output_type": "execute_result"
    }
   ],
   "source": [
    "r2_score(y_test,y_dtpred)"
   ]
  },
  {
   "cell_type": "code",
   "execution_count": 121,
   "id": "57dc754a",
   "metadata": {},
   "outputs": [],
   "source": [
    "import pickle\n",
    "pickle.dump(dt,open(\"co2.pickle\",\"wb\"))"
   ]
  }
 ],
 "metadata": {
  "kernelspec": {
   "display_name": "Python 3 (ipykernel)",
   "language": "python",
   "name": "python3"
  },
  "language_info": {
   "codemirror_mode": {
    "name": "ipython",
    "version": 3
   },
   "file_extension": ".py",
   "mimetype": "text/x-python",
   "name": "python",
   "nbconvert_exporter": "python",
   "pygments_lexer": "ipython3",
   "version": "3.9.7"
  }
 },
 "nbformat": 4,
 "nbformat_minor": 5
}
